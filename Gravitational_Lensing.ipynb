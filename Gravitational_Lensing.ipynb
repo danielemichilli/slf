{
 "cells": [
  {
   "cell_type": "markdown",
   "id": "0758a1c2-8c46-4a92-a5c3-8bce4a29cb4b",
   "metadata": {},
   "source": [
    "For the paper:\n",
    "- Use https://arxiv.org/abs/1706.06103 for scattering\n",
    "- Use term \"optical depth\" instead of lensing fraction, check that out\n",
    "- Update parameters with https://arxiv.org/pdf/2208.00819.pdf\n",
    "- Scattering in lens: \n",
    "    - https://arxiv.org/pdf/1706.06103.pdf\n",
    "    - https://iopscience.iop.org/article/10.1088/0004-637X/776/2/125/pdf\n",
    "- Compare rates to https://arxiv.org/pdf/2206.14310.pdf\n",
    "\n",
    "\n",
    "TODO\n",
    "- Update parameters with Clancy model\n",
    "- Use \"rate interpretation\" of alpha (https://arxiv.org/pdf/2101.08005.pdfhttps://arxiv.org/pdf/2101.08005.pdf)\n",
    "- Add other telescopes\n",
    "- Add uncertainties\n",
    "- Add magnification factor\n",
    "- Add scattering horizon\n",
    "- Same number of FRBs for lensed simulations\n",
    "- Revise total rate for multi-band searches\n",
    "- Try FoV at middle of the band"
   ]
  },
  {
   "cell_type": "code",
   "execution_count": 1,
   "id": "5d048da6-4c25-4841-a3c0-de5f34062c8a",
   "metadata": {
    "tags": []
   },
   "outputs": [],
   "source": [
    "import warnings\n",
    "warnings.filterwarnings(\"error\")"
   ]
  },
  {
   "cell_type": "code",
   "execution_count": 2,
   "id": "298f16f0-20dd-4a42-bc9f-31535364c37e",
   "metadata": {
    "tags": []
   },
   "outputs": [],
   "source": [
    "import sys\n",
    "sys.path.append(\"/arc/home/michilli/.local/lib/python3.8/site-packages/\")"
   ]
  },
  {
   "cell_type": "code",
   "execution_count": null,
   "id": "9cb3521d-26ce-4f80-a2ad-5d0864a222cf",
   "metadata": {
    "tags": []
   },
   "outputs": [],
   "source": []
  },
  {
   "cell_type": "code",
   "execution_count": 3,
   "id": "c7ff1cac",
   "metadata": {
    "tags": []
   },
   "outputs": [],
   "source": [
    "# Python 3.8.16\n",
    "import os\n",
    "import pickle\n",
    "import datetime\n",
    "import itertools\n",
    "\n",
    "# Numpy 1.24.2\n",
    "import numpy as np\n",
    "from numpy.random import default_rng\n",
    "# matplotlib 3.7.1\n",
    "import matplotlib.pyplot as plt\n",
    "# astropy 5.2.1\n",
    "from astropy import units as u\n",
    "from astropy.coordinates import Distance\n",
    "from astropy import constants as const\n",
    "from astropy.cosmology import Planck18 as cosmo\n",
    "# scipy 1.9.3\n",
    "from scipy.special import j1\n",
    "from scipy import optimize\n",
    "from scipy.stats import truncnorm\n",
    "from scipy.ndimage import gaussian_filter as gf\n",
    "from scipy.interpolate import CubicSpline as spline\n",
    "from scipy import integrate\n",
    "# mpmath 1.3.0\n",
    "from mpmath import gammainc\n",
    "\n",
    "\n",
    "\n",
    "# Classes and functions\n",
    "\n",
    "class Telescope:\n",
    "    \"\"\"\n",
    "    Telescope parameters\n",
    "    \"\"\"\n",
    "    parameters = {\n",
    "        'dummy': {  # test parameters\n",
    "            'Srec': 15 * u.Jy,\n",
    "            'v0': 800 * u.MHz,\n",
    "            'v1': 1600 * u.MHz,\n",
    "            'D': 50 * u.m,\n",
    "            'bands': [\n",
    "                [800 * u.MHz, 1200 * u.MHz],\n",
    "                [1200 * u.MHz, 1600 * u.MHz],\n",
    "            ]\n",
    "        },\n",
    "        'chime': {  # from https://ui.adsabs.harvard.edu/abs/2022ApJS..261...29C/abstract\n",
    "            # from https://ui.adsabs.harvard.edu/abs/2017ApJ...844..140C/abstract\n",
    "            'Srec': 50 / 1.38 * u.Jy,\n",
    "            'gain': 1.38 * u.K / u.Jy,\n",
    "            'v0': 400 * u.MHz,\n",
    "            'v1': 800 * u.MHz,            \n",
    "            'Dx': 20 * u.m,\n",
    "            'Dy': 0.87 * u.m,  # Emprirical value to have a beam of ~100 deg\n",
    "        },\n",
    "        'utmost': {  # from https://arxiv.org/pdf/1708.09619.pdf\n",
    "            'Srec': 115 * np.sqrt(2) * u.Jy,  # The sqrt(2) correction is for the single polarization\n",
    "            'gain': 0.5 * u.K / u.Jy,\n",
    "            'v0': 836 * u.MHz,\n",
    "            'v1': 850 * u.MHz,            \n",
    "            'Dx': 11.6 * u.m,\n",
    "            'Dy': 0.88 * (835 * u.MHz).to(u.m, equivalencies=u.spectral()) / (4.25 * u.deg).to(u.rad).value,  # Value to have a FWHP=4.25deg\n",
    "        },\n",
    "        'chord': {  # from https://ui.adsabs.harvard.edu/abs/2019clrp.2020...28V/abstract\n",
    "            'Srec': 9 * u.Jy,\n",
    "            'gain': 30 * u.K / 9 / u.Jy,\n",
    "            'v0': 300 * u.MHz,\n",
    "            'v1': 1500 * u.MHz,\n",
    "            'D': 6 * u.m,\n",
    "            'bands': [\n",
    "                [300 * u.MHz, 700 * u.MHz],\n",
    "                [700 * u.MHz, 1100 * u.MHz],\n",
    "                [1100 * u.MHz, 1500 * u.MHz],\n",
    "            ]\n",
    "        },\n",
    "        'dsa2000': {  # from https://ui.adsabs.harvard.edu/abs/2019BAAS...51g.255H/abstract\n",
    "            'Srec': 2.5 * u.Jy,\n",
    "            'gain': 25 * u.K / 2.5 / u.Jy,\n",
    "            'v0': 700 * u.MHz,\n",
    "            'v1': 2000 * u.MHz,\n",
    "            'D': 5 * u.m,\n",
    "            'bands': [\n",
    "                [700 * u.MHz, 1100 * u.MHz],\n",
    "                [1100 * u.MHz, 1500 * u.MHz],\n",
    "                [1500 * u.MHz, 2000 * u.MHz],\n",
    "            ]\n",
    "        },\n",
    "        'aperitif': {  # from https://www.aanda.org/articles/aa/full_html/2022/02/aa41739-21/aa41739-21.html\n",
    "            'Srec': 560 * u.Jy,\n",
    "            'gain': 70 / 560 * u.K / u.Jy,\n",
    "            'v0': (1370 - 300/2) * u.MHz,\n",
    "            'v1': (1370 + 300/2) * u.MHz,            \n",
    "            'D': 25 * u.m,\n",
    "        },\n",
    "        'fast': {  # from https://ui.adsabs.harvard.edu/abs/2016RaSc...51.1060L/abstract\n",
    "            'Srec': 20 * u.K / (18 * u.K / u.Jy),\n",
    "            'gain': 18 * u.K / u.Jy,\n",
    "            'v0': 1220 * u.MHz,\n",
    "            'v1': 1520 * u.MHz,            \n",
    "            'D': 300 * u.m,\n",
    "        },\n",
    "        'askap': {  # from https://ui.adsabs.harvard.edu/abs/2016PASA...33...42M/abstract\n",
    "            'Srec': 2000 * u.Jy,\n",
    "            'gain': 115 * u.K / 4000 / u.Jy,\n",
    "            'v0': (1320 - 336/2) * u.MHz,\n",
    "            'v1': (1320 + 336/2) * u.MHz,            \n",
    "            'D': 12 * u.m,\n",
    "        },\n",
    "        'parkes': {  # from https://arxiv.org/pdf/astro-ph/0106522.pdf\n",
    "            'Srec': 21 / 0.7 * u.Jy,\n",
    "            'gain': 0.7 * u.K / u.Jy,\n",
    "            'v0': (1374 - 288/2) * u.MHz,\n",
    "            'v1': (1374 + 288/2) * u.MHz,            \n",
    "            'D': 64 * u.m,\n",
    "        },\n",
    "    }\n",
    "    \n",
    "    def __init__(self, name='chord'):\n",
    "        self.name = name\n",
    "        self.parameters = Telescope.parameters\n",
    "        try:\n",
    "            _ = self.parameters[name]\n",
    "        except KeyError:\n",
    "            raise NotImplemented(\"Telescope unknown.\")\n",
    "        \n",
    "    def get_parameters(self, name = None):\n",
    "        if name is None: name = self.name\n",
    "        return self.parameters[name]\n",
    "    \n",
    "    def bandwidth(self, name = None):\n",
    "        if name is None: name = self.name\n",
    "        return self.parameters[name]['v1'] - self.parameters[name]['v0']\n",
    "    \n",
    "    def sefd(self, name = None, freq = None, uncertain = False):\n",
    "        if name is None: name = self.name\n",
    "        if freq is None:\n",
    "            freq = (\n",
    "                self.parameters[name]['v0'] + \n",
    "                self.parameters[name]['v1']\n",
    "            ) / 2\n",
    "        sefd = (\n",
    "            self.parameters[name]['Srec'] + \n",
    "            34 * u.K * (freq / 408 / u.MHz)**-2.6 / \n",
    "            self.parameters[name]['gain']\n",
    "        )\n",
    "        if uncertain:\n",
    "            # Add an error of 20%\n",
    "            sefd = rng.normal(\n",
    "                loc=sefd.to(u.Jy).value,\n",
    "                scale=sefd.to(u.Jy).value * 0.2\n",
    "            ) * u.Jy\n",
    "        return sefd\n",
    "    \n",
    "    def v0(self, name = None):\n",
    "        if name is None: name = self.name\n",
    "        return self.parameters[name]['v0']\n",
    "    \n",
    "    def v1(self, name = None):\n",
    "        if name is None: name = self.name\n",
    "        return self.parameters[name]['v1']\n",
    "    \n",
    "    def frequency_bands(self, name = None):\n",
    "        if name is None: name = self.name\n",
    "        try:\n",
    "            return self.parameters[name]['bands']\n",
    "        except KeyError:\n",
    "            return [[\n",
    "                self.parameters[name]['v0'],\n",
    "                self.parameters[name]['v1']\n",
    "            ]]\n",
    "    \n",
    "    def get_parameter(self, parameter, name = None):\n",
    "        if name is None: name = self.name\n",
    "        return self.parameters[name][parameter]\n",
    "\n",
    "    \n",
    "class FRB_Population:\n",
    "    \"\"\"\n",
    "    Parameters of the FRB population.\n",
    "    \"\"\"\n",
    "    parameters = {\n",
    "        'shin': {  # From https://ui.adsabs.harvard.edu/abs/2022arXiv220714316S/abstract\n",
    "            'Echar': [2.38e41, +5.35e41, -1.64e41] * u.erg,  # Characteristic energy cut-of\n",
    "            'alpha_spect': [-1.39, +0.86, -1.19],  # Spectral index\n",
    "            'alpha_rate': 0,  # Rate index\n",
    "            'gamma': [-1.3, +0.7, -0.4],  # Differential power-law index\n",
    "            'Epivot': 1e39 * u.erg,  # Pivot energy\n",
    "            'frb_emission_rate_z0_Epivot': [7.3e4, +8.8e4, -3.8e4] / u.Gpc**3/u.year,  # FRB rate at z=0 above Epivot\n",
    "            'n_sfr': [0.96, +0.81, -0.67],  # Index of star-formation rate\n",
    "        },\n",
    "        'shin_rate_interpretation': {  # From https://ui.adsabs.harvard.edu/abs/2022arXiv220714316S/abstract\n",
    "            'Echar': [1.95e41, +3.75e41, -1.28e41] * u.erg,  # Characteristic energy cut-of\n",
    "            'alpha_spect': 0,  # Spectral index\n",
    "            'alpha_rate': [-1.10, +0.67, -0.99],  # Spectral index\n",
    "            'gamma': [-1.3, +0.8, -0.5],  # Differential power-law index\n",
    "            'Epivot': 1e39 * u.erg,  # Pivot energy\n",
    "            'frb_emission_rate_z0_Epivot': [6.8e4, +8.3e4, -3.6e4] / u.Gpc**3/u.year,  # FRB rate at z=0 above Epivot\n",
    "            'n_sfr': [1.72, +1.48, -1.10],  # Index of star-formation rate\n",
    "        },\n",
    "        'james2023': {  # From https://arxiv.org/pdf/2208.00819.pdf\n",
    "            'Echar': [1.82e41, +1.57e41, -7.23e40]  * u.erg,  # Characteristic energy cut-of\n",
    "            'alpha_spect': 0,  # Spectral index\n",
    "            'alpha_rate': [-0.99, +0.99, -1.01],  # Spectral index\n",
    "            'gamma': [-0.95-1, +0.18, -0.15],  # Differential power-law index\n",
    "            'n_sfr': [1.13, +0.49, -0.41],  # Index of star-formation rate\n",
    "            'Epivot': 1e30 * u.erg,  # Pivot energy\n",
    "            'frb_emission_rate_z0_Epivot': (10**1.96 / u.Mpc**3/u.day).to(1/u.Gpc**3/u.yr)\n",
    "        },\n",
    "    }\n",
    "    \n",
    "    def __init__(self, name='shin'):\n",
    "        self.model = name\n",
    "        self.parameters = FRB_Population.parameters\n",
    "        try:\n",
    "            _ = self.parameters[self.model]\n",
    "        except KeyError:\n",
    "            raise NotImplemented(\"Telescope unknown.\")\n",
    "            \n",
    "    def get_uncert_params(self, model = None):\n",
    "        if model is None: model = self.model\n",
    "        parameters = dict(self.parameters[model])\n",
    "        ii = 0\n",
    "        for key,value in parameters.items():\n",
    "            try:\n",
    "                size = len(value)\n",
    "                ii += 1\n",
    "            except TypeError:\n",
    "                # No uncertianty for single values\n",
    "                continue\n",
    "        return ii\n",
    "                \n",
    "\n",
    "\n",
    "    \n",
    "def get_lensed_fraction(\n",
    "    zmin,\n",
    "    zmax,\n",
    "    frbs_evolve_with_luminosity = True,\n",
    "):\n",
    "    \"\"\" Fraction of lensed galaxies as a function of redshift from Collett 2015.\n",
    "    \"\"\"\n",
    "    # Ensures that there are ~1000 galaxies per step on average\n",
    "    z = np.linspace(zmin, zmax, lensed_galaxies_z.size//1000+1)\n",
    "    z_mean = (z[1:] + z[:-1]) / 2\n",
    "    # Unlensed population of galaxies used in Collett 2018 simulations\n",
    "    z_org = np.loadtxt('lsst_source_catalog.txt', usecols=2, delimiter=',')\n",
    "    \n",
    "    # Lensed and total galaxies per redshift bin\n",
    "    Pz_sim, _ = np.histogram(lensed_galaxies_z, bins=z)\n",
    "    Pz_org, _ = np.histogram(z_org, bins=z)\n",
    "\n",
    "    # Select bins containing enough galaxies\n",
    "    idx = (Pz_sim > 10) & (Pz_org > 10)\n",
    "    Pz_sim = Pz_sim[idx]\n",
    "    Pz_org = Pz_org[idx]\n",
    "    z_mean = z_mean[idx]\n",
    "        \n",
    "    if frbs_evolve_with_luminosity:\n",
    "        # Luminosity of unlensed population of galaxies used in Collett 2018 simulations\n",
    "        M_org = np.loadtxt('lsst_source_catalog.txt', usecols=7, delimiter=',') * u.M_bol\n",
    "        L_org = M_org.to(u.L_bol) * 10 * 360**2 / np.pi  # The population covers 0.1 square deg\n",
    "        # Total luminosity of unlensed galaxy population per redshift step\n",
    "        PL_org, _ = np.histogram(\n",
    "            z_org, \n",
    "            bins=z, \n",
    "            weights=L_org\n",
    "        )\n",
    "        PL_org = PL_org[idx]\n",
    "        # Luminosity of lensed galaxies used from Collett 2018 simulations\n",
    "        L_sim = lensed_galaxies_Mv.to(u.L_sun)\n",
    "        # Total luminosity of lensed galaxy population per redshift step\n",
    "        PL_sim, _ = np.histogram(\n",
    "            lensed_galaxies_z, \n",
    "            bins=z, \n",
    "            weights=L_sim\n",
    "        )\n",
    "        PL_sim = PL_sim[idx]\n",
    "        # Fraction of luminosity of lensed galaxies per redshift step\n",
    "        lensed_fraction = PL_sim / PL_org\n",
    "\n",
    "    else:\n",
    "        Pz_org = Pz_org * 10 * 360**2 / np.pi  # The population covers 0.1 square deg\n",
    "        # Fraction of lensed galaxies per redshift step\n",
    "        lensed_fraction = Pz_sim / Pz_org\n",
    "        \n",
    "    # Smooth the output\n",
    "    lensed_fraction = gf(lensed_fraction, 6)\n",
    "    # Interpolate with a spline\n",
    "    cs = spline(z_mean, lensed_fraction, extrapolate=False)\n",
    "    \n",
    "    return cs, z_mean.min(), z_mean.max()\n",
    "\n",
    "\n",
    "def get_distribution_redshift(\n",
    "    number_of_simulated_frbs,\n",
    "    z_min,\n",
    "    z_max,\n",
    "    alpha_rate,\n",
    "    frb_emission_rate_z0_Epivot,\n",
    "    n_sfr\n",
    "):\n",
    "    \"\"\"Redshift distribution for a population of FRBs not evolving with redshift.\n",
    "    \"\"\"\n",
    "    # PDF of z distribution\n",
    "    # Calculate the integrated normalization\n",
    "    sfr = lambda z: (1 + z)**2.7 / (2.9**5.6 + (1 + z)**5.6)\n",
    "    z_pdf = lambda z: (\n",
    "        frb_emission_rate_z0_Epivot * \n",
    "        cosmo.differential_comoving_volume(z)*u.sr / \n",
    "        (1 + z)**(1-alpha_rate) * (sfr(z) / sfr(0))**n_sfr\n",
    "    ).to(1/u.yr).value\n",
    "    frb_emission_rate = integrate.quad(z_pdf, z_min, z_max)[0]\n",
    "    # Normalized distribution\n",
    "    z_pdf_norm = lambda z: z_pdf(z) / frb_emission_rate\n",
    "\n",
    "    # Find maximum of distribution with a spline and its derivative\n",
    "    # Mock data\n",
    "    z = np.linspace(z_min, z_max, 1000)\n",
    "    P_z = z_pdf_norm(z)\n",
    "    # Spline interpolation\n",
    "    cs = spline(z, P_z)\n",
    "    # Redshift of null derivatives\n",
    "    roots = cs.derivative().roots()\n",
    "    # Location of the maximum of the curve\n",
    "    curve_max = z[P_z.argmax()]\n",
    "    # Redshift of the null derivative closest to the location of the maximum\n",
    "    x_max = roots[np.argmin(np.abs(roots - curve_max))]\n",
    "    # Maximum of the distribution plus 1% to account for granularity\n",
    "    y_max = z_pdf_norm(x_max)\n",
    "    y_max = y_max + 0.01 * y_max\n",
    "\n",
    "    # Rejection sampling the distribution\n",
    "    z_dist = np.zeros(number_of_simulated_frbs) + np.nan\n",
    "    # Loop until no nan are present\n",
    "    while np.isnan(z_dist).any():\n",
    "        # Random values in a box around the function\n",
    "        x = rng.uniform(low=z_min, high=z_max, size=number_of_simulated_frbs)\n",
    "        y = rng.uniform(low=0, high=y_max, size=number_of_simulated_frbs)\n",
    "        # Resize the arrays to get the right number of bins\n",
    "        nan_size = z_dist[np.isnan(z_dist)].size\n",
    "        x = x[y < z_pdf_norm(x)][:nan_size]\n",
    "        first_nan = np.argmax(z_dist)\n",
    "        z_dist[first_nan:first_nan+x.size] = x\n",
    "    return z_dist, z_min, z_max, frb_emission_rate / u.yr\n",
    "\n",
    "\n",
    "def get_distribution_dist(\n",
    "    number_of_simulated_frbs,\n",
    "    alpha_spect,\n",
    "    alpha_rate,\n",
    "    frb_emission_rate_z0_Epivot,\n",
    "    n_sfr,\n",
    "    simulate_lensed_frbs = True,\n",
    "    z_min = None,\n",
    "    z_max = None,\n",
    "    lensed_fraction = None,\n",
    "    frbs_evolve_with_luminosity = True,\n",
    "):\n",
    "    \"\"\"Distribution of the distance factor.\n",
    "    \"\"\"\n",
    "    if z_max is None:\n",
    "        z_max = lensed_galaxies_z.max()\n",
    "    if z_min is None:\n",
    "        z_min = lensed_galaxies_z.min()\n",
    "        \n",
    "    # Fraction of lensed galaxies cataloged by Euclid vs redshift\n",
    "    if simulate_lensed_frbs:\n",
    "        lensed_fraction_interp, z_min, z_max = get_lensed_fraction(\n",
    "            z_min,\n",
    "            z_max,\n",
    "            frbs_evolve_with_luminosity = frbs_evolve_with_luminosity,\n",
    "        )\n",
    "    \n",
    "    # Redshift distribution of FRBs in the Universe\n",
    "    z_dist, z_min, z_max, frb_emission_rate = get_distribution_redshift(\n",
    "        number_of_simulated_frbs,\n",
    "        z_min,\n",
    "        z_max,\n",
    "        alpha_rate,\n",
    "        frb_emission_rate_z0_Epivot,\n",
    "        n_sfr\n",
    "    )\n",
    "    \n",
    "    # Only simulate lensed FRBs\n",
    "    if simulate_lensed_frbs:\n",
    "        P_z = lensed_fraction_interp(z_dist)\n",
    "        P_random = rng.uniform(size=P_z.size)\n",
    "        z_dist = z_dist[P_random <= P_z]\n",
    "    \n",
    "    # Distance factor\n",
    "    Dl = cosmo.luminosity_distance(z_dist)\n",
    "    dist_factor = (4 * np.pi * Dl**2) / (1 + z_dist)**(2+alpha_spect)\n",
    "    \n",
    "    return dist_factor, z_min, z_max, frb_emission_rate, z_dist\n",
    "\n",
    "\n",
    "def get_bandwidth(\n",
    "    number_of_simulated_frbs,\n",
    "    bw_telescope,\n",
    "    bw_min = 50 * u.MHz,\n",
    "    loc = 400 * u.MHz,  # MHz\n",
    "    scale = 400 / 2 * u.MHz,  # MHz\n",
    "):\n",
    "    \"\"\"Assume that the bandwidth of FRBs is a normal distribution based on CHIME detections.\"\"\"\n",
    "    # Bandwidth distribution from a truncated normal distribution\n",
    "    bw_clip = (bw_min - loc) / scale\n",
    "    bw = truncnorm.rvs(\n",
    "        bw_clip, \n",
    "        np.inf, \n",
    "        loc=loc, \n",
    "        scale=scale,\n",
    "        size=number_of_simulated_frbs,\n",
    "        random_state=rng\n",
    "    ) * u.MHz\n",
    "    return bw\n",
    "\n",
    "def get_energy_minimum(\n",
    "    bw,\n",
    "    sefd,\n",
    "    frb_bw,\n",
    "    w,\n",
    "    tau,\n",
    "    dist_factor,\n",
    "    frb_w_correction,\n",
    "    frb_bw_correction,\n",
    "):\n",
    "    \"\"\"\n",
    "    Minimum FRB energy normalized to 1 GHz required to detect a burst at \n",
    "    redshift z with a signal-to-noise ratio SNr and time resolution w, \n",
    "    where rfi_band is lost due to interference.\n",
    "    \"\"\"\n",
    "    return (\n",
    "        SNr_min * np.sqrt((w + tau) / bw / 2) / frb_w_correction / frb_bw_correction * \n",
    "        sefd / np.sqrt(1 - rfi_band) * dist_factor * frb_bw\n",
    "    ).min().to(u.erg)\n",
    "\n",
    "\n",
    "def get_distribution_E(\n",
    "    number_of_simulated_frbs,\n",
    "    Emin,\n",
    "    Echar,\n",
    "    gamma,\n",
    "):\n",
    "    \"\"\"Rejection sample a Schechter function describing the FRB energy distribution.\"\"\"\n",
    "    # Normalized Schechter distribution\n",
    "    schechter_pdf = lambda E: (E / Echar)**gamma * np.exp(-E / Echar)\n",
    "    # norm = float(gammainc(gamma+1, (Emin/Echar).to(u.dimensionless_unscaled).value)) * Echar\n",
    "    norm = Emin * schechter_pdf(Emin)\n",
    "    schechter_pdf_norm = lambda E: schechter_pdf(E) / norm\n",
    "    # Rejection sampling the target Schechter distribution\n",
    "    dist = np.zeros(number_of_simulated_frbs) * u.erg + np.nan\n",
    "    # Loop until no nan are present\n",
    "    while np.isnan(dist).any():\n",
    "        nan_size = dist[np.isnan(dist)].size\n",
    "        # Random variable from a proposal Pareto distribution\n",
    "        if gamma <= -1:\n",
    "            # The Pareto distribution is defined for the parameter a >= 0\n",
    "            a = -gamma-1\n",
    "            # Clip to avoid overflows\n",
    "            x = (\n",
    "                np.clip(\n",
    "                    rng.pareto(a, size=number_of_simulated_frbs),\n",
    "                    1e-200,\n",
    "                    1e200\n",
    "                ) + 1\n",
    "            ) * Emin\n",
    "        else:\n",
    "            # Otherwise, use powerlaw distribution = 1 / (1 + Pareto)\n",
    "            a = gamma+1\n",
    "            x = (\n",
    "                Emin / \n",
    "                np.clip(\n",
    "                    rng.power(a, size=number_of_simulated_frbs),\n",
    "                    1e-200,\n",
    "                    1e200\n",
    "                )\n",
    "            )\n",
    "        # PDF of proposal distribution at the random variable's values\n",
    "        y_prop = (x/Emin)**gamma / Emin\n",
    "        # Random sampling of the proposal distribution's PDF\n",
    "        y_samp = rng.uniform(low=0, high=y_prop, size=number_of_simulated_frbs) / u.erg\n",
    "        # Reject random variable's values where target distribution is larger than the sampling values\n",
    "        x = x[y_samp < schechter_pdf_norm(x)][:nan_size]\n",
    "        # Resize the arrays to get the right number of bins\n",
    "        first_nan = np.argmax(dist)\n",
    "        dist[first_nan:first_nan+x.size] = x\n",
    "    return dist\n",
    "\n",
    "\n",
    "def get_beam_response(\n",
    "    number_of_simulated_frbs,\n",
    "    telescope,\n",
    "    freq_min,\n",
    "    min_frb_band = 50 * u.MHz,\n",
    "    efficiency = 0.7\n",
    "):\n",
    "    # Minimum band to detect >50 MHz of a burst\n",
    "    wavelength = (freq_min + min_frb_band).to(u.meter, equivalencies=u.spectral())\n",
    "    # From \"Tools of Radio Astronomy, by T.L. Wilson, K. Rohlfs, S. Huttemeister\"\n",
    "    try:\n",
    "        # Circular aperture\n",
    "        diameter = telescope.get_parameter('D')\n",
    "        # Half beam width between the first nulls\n",
    "        hwfn = (2.439 * u.rad * wavelength / diameter / 2).to(u.rad)\n",
    "        # Random angles\n",
    "        angle = rng.uniform(\n",
    "            low=0,\n",
    "            high=hwfn.to(u.rad).value**2,\n",
    "            size=number_of_simulated_frbs\n",
    "        )**0.5 * u.rad\n",
    "        # Normalized power\n",
    "        x = np.pi * np.sin(angle) * diameter / wavelength * np.sqrt(efficiency)\n",
    "        power = (2 * j1(x) / x)**2\n",
    "        # Simulated sky fraction\n",
    "        sky_fraction = (hwfn**2 / 4 / u.steradian).value\n",
    "\n",
    "    except KeyError:\n",
    "        # Rectangular aperture\n",
    "        size_x = telescope.get_parameter('Dx')\n",
    "        size_y = telescope.get_parameter('Dy')\n",
    "        # Half beam width between the first nulls\n",
    "        hwfn_x = np.arcsin((wavelength / size_x).to(u.dimensionless_unscaled))\n",
    "        hwfn_y = np.arcsin((wavelength / size_y).to(u.dimensionless_unscaled))\n",
    "        # Random angles\n",
    "        angle_x = rng.uniform(\n",
    "            low=0, \n",
    "            high=hwfn_x.to(u.rad).value, \n",
    "            size=number_of_simulated_frbs\n",
    "        ) * u.rad\n",
    "        angle_y = rng.uniform(\n",
    "            low=0, \n",
    "            high=hwfn_y.to(u.rad).value,\n",
    "            size=number_of_simulated_frbs\n",
    "        ) * u.rad\n",
    "        # Normalized power\n",
    "        power = (\n",
    "            (\n",
    "                np.sinc(np.sin(angle_x) * size_x / wavelength * u.rad) * \n",
    "                np.sinc(np.sin(angle_y) * size_y / wavelength * u.rad)\n",
    "            )**2\n",
    "        )\n",
    "        # Simulated sky fraction\n",
    "        sky_fraction = (hwfn_x * hwfn_y / 4 / np.pi / u.steradian).value\n",
    "\n",
    "    return sky_fraction, power\n",
    "\n",
    "\n",
    "def get_max_detected_redshift(\n",
    "    snr,\n",
    "    E_nu,\n",
    "    bw,\n",
    "    sefd,\n",
    "    w,\n",
    "    tau,\n",
    "    w_correction,\n",
    "    bw_correction,\n",
    "    alpha_spect,\n",
    "):\n",
    "    \"\"\"\n",
    "    Maximum redshift at which an FRB of energy E would be detected\n",
    "    by a telescope of sensitivity sefd\n",
    "    \"\"\"\n",
    "    # CHECK THIS EQ\n",
    "    dist_factor_Gpc2 = (\n",
    "        E_nu / np.sqrt((w + tau) / bw / 2) * \n",
    "        w_correction * bw_correction / sefd * np.sqrt(1 - rfi_band)\n",
    "    ).to(u.Gpc**2).max().value\n",
    "    \n",
    "    z_max_func = lambda z: (\n",
    "        4 * np.pi * cosmo.luminosity_distance(z).to(u.Gpc).value**2 / dist_factor_Gpc2 - (1 + z)**(2+alpha_spect)\n",
    "    )\n",
    "    z_max = optimize.root(z_max_func, 1).x[0]\n",
    "    return z_max\n",
    "    \n",
    "\n",
    "def get_snr(\n",
    "    frb_E_nu,\n",
    "    frb_dist_fact,\n",
    "    bw_telescope,\n",
    "    frb_w, \n",
    "    frb_tau,\n",
    "    frb_w_correction,\n",
    "    frb_bw_correction,\n",
    "    beam_response, \n",
    "    sefd, \n",
    "    rfi_band\n",
    "):\n",
    "    return (    \n",
    "        frb_E_nu / frb_dist_fact *\n",
    "        np.sqrt((2 * bw_telescope) / (frb_w + frb_tau)) * \n",
    "        frb_w_correction * frb_bw_correction *\n",
    "        beam_response / sefd *\n",
    "        np.sqrt(1 - rfi_band)\n",
    "    ).to(u.dimensionless_unscaled)\n",
    "\n",
    "\n",
    "def convert_to_rate(\n",
    "    number_of_simulated_frbs,\n",
    "    detected_frbs,\n",
    "    Emin,\n",
    "    frb_emission_rate_Epivot,\n",
    "    sky_fraction,\n",
    "    Echar,\n",
    "    gamma,\n",
    "    Epivot\n",
    "):\n",
    "    \"\"\"Convert the number of simulated FRBs to a rate.\n",
    "    \"\"\"\n",
    "    # FRB emission rate at z=0 scaled to a minimum energy Emin\n",
    "    frb_emission_rate = (\n",
    "        frb_emission_rate_Epivot * \n",
    "        float(gammainc(gamma + 1, (Emin / Echar).value)) / \n",
    "        float(gammainc(gamma + 1, (Epivot / Echar).value))\n",
    "    )\n",
    "    # Duration of the simulation in the real world\n",
    "    duration_sim = number_of_simulated_frbs / frb_emission_rate\n",
    "    # All-sky FRB detection rate\n",
    "    frb_detected_allsky = detected_frbs / duration_sim\n",
    "    # FRB rate detected by the telescope\n",
    "    frb_detection_rate = frb_detected_allsky * sky_fraction\n",
    "    return frb_detection_rate\n",
    "\n",
    "\n",
    "def get_detection_rate(\n",
    "    number_of_simulated_frbs,\n",
    "    frb_population,\n",
    "    telescope,\n",
    "    freq_low,\n",
    "    freq_high,\n",
    "    frbs_evolve_with_luminosity = True,\n",
    "    simulate_lensed_frbs = True,\n",
    "    uncertain=False\n",
    "):\n",
    "    \"\"\"Rate of FRB detections.\n",
    "    \"\"\"\n",
    "    # Properties of the FRB population\n",
    "    frb_properties = frb_population.get_parameters(uncertain=uncertain)\n",
    "    # Properties of the telescope\n",
    "    freq_mean = (freq_low + freq_high) / 2\n",
    "    bw_telescope = freq_high - freq_low\n",
    "    sefd = telescope.sefd(freq=freq_low, uncertain=uncertain)\n",
    "    \n",
    "    # FRB widths\n",
    "    # From https://ui.adsabs.harvard.edu/abs/2021ApJS..257...59C/abstract\n",
    "    sigma = 0.97\n",
    "    scale = 1.0 * u.ms\n",
    "    frb_w = rng.lognormal(\n",
    "        sigma = sigma, \n",
    "        size = number_of_simulated_frbs\n",
    "    ) * scale\n",
    "    \n",
    "    # FRB scattering\n",
    "    # From https://ui.adsabs.harvard.edu/abs/2021ApJS..257...59C/abstract\n",
    "    sigma = 1.72\n",
    "    scale = 2.02 * u.ms\n",
    "    frb_tau = rng.lognormal(\n",
    "        sigma = sigma, \n",
    "        size = number_of_simulated_frbs\n",
    "    ) * scale\n",
    "    # Rescale to central frequency\n",
    "    frb_tau = frb_tau * (freq_mean / 600 / u.MHz)**-4\n",
    "    # Include extragalactic scattering\n",
    "\n",
    "    # FRB time correction\n",
    "    frb_w_correction = np.sqrt(frb_w / w_telescope).clip(max=1)\n",
    "    \n",
    "    # FRB bandwidth corrections\n",
    "    frb_bw = get_bandwidth(number_of_simulated_frbs, bw_telescope)\n",
    "    frb_bw_correction = np.sqrt(frb_bw / bw_telescope).clip(max=1)\n",
    "    \n",
    "    # FRB redshifts\n",
    "    if simulate_lensed_frbs:\n",
    "        z_min = None\n",
    "        z_max = None\n",
    "    else:\n",
    "        z_min = 0\n",
    "        z_max = 10\n",
    "    (\n",
    "        frb_dist_fact,\n",
    "        z_min,\n",
    "        z_max,\n",
    "        frb_emission_rate,\n",
    "        frb_z_dist\n",
    "    ) = get_distribution_dist(\n",
    "        number_of_simulated_frbs,\n",
    "        frb_properties['alpha_spect'],\n",
    "        frb_properties['alpha_rate'],\n",
    "        frb_properties['frb_emission_rate_z0_Epivot'],\n",
    "        frb_properties['n_sfr'],\n",
    "        z_min = z_min,\n",
    "        z_max = z_max,\n",
    "        simulate_lensed_frbs = simulate_lensed_frbs,\n",
    "        frbs_evolve_with_luminosity = frbs_evolve_with_luminosity,\n",
    "    )\n",
    "    \n",
    "    # FRB energies\n",
    "    # Minimum energy that can be detected from current sample\n",
    "    Emin = get_energy_minimum(\n",
    "        bw_telescope,\n",
    "        sefd,\n",
    "        frb_bw,\n",
    "        frb_w,\n",
    "        frb_tau,\n",
    "        frb_dist_fact,\n",
    "        frb_w_correction,\n",
    "        frb_bw_correction,\n",
    "    )\n",
    "    \n",
    "    # Energy distribution\n",
    "    frb_E = get_distribution_E(\n",
    "        number_of_simulated_frbs,\n",
    "        Emin,\n",
    "        frb_properties['Echar'],\n",
    "        frb_properties['gamma'],\n",
    "    )\n",
    "    # Energy spectral density distribution\n",
    "    frb_E_nu = frb_E / frb_bw #/ u.GHz\n",
    "\n",
    "    # Beam response\n",
    "    sky_fraction, beam_response = get_beam_response(\n",
    "        number_of_simulated_frbs,\n",
    "        telescope,\n",
    "        freq_low\n",
    "    )\n",
    "    \n",
    "    # FRB S/N values\n",
    "    frb_snr = get_snr(\n",
    "        frb_E_nu,\n",
    "        frb_dist_fact,\n",
    "        bw_telescope,\n",
    "        frb_w, \n",
    "        frb_tau,\n",
    "        frb_w_correction,\n",
    "        frb_bw_correction,\n",
    "        beam_response, \n",
    "        sefd, \n",
    "        rfi_band\n",
    "    )\n",
    "    \n",
    "    # Number of detections\n",
    "    idx_detected_frbs = frb_snr > SNr_min\n",
    "    detected_frbs = frb_snr[idx_detected_frbs].size * observing_time\n",
    "    \n",
    "    # Convert to a physical detection rate\n",
    "    frb_detection_rate = convert_to_rate(\n",
    "        number_of_simulated_frbs,\n",
    "        detected_frbs,\n",
    "        Emin,\n",
    "        frb_emission_rate,\n",
    "        sky_fraction,\n",
    "        frb_properties['Echar'],\n",
    "        frb_properties['gamma'],\n",
    "        frb_properties['Epivot'],\n",
    "    )\n",
    "\n",
    "    # Completeness of redshift range\n",
    "    #z_max_detected = get_max_detected_redshift(\n",
    "    #    frb_snr[idx_detected_frbs],\n",
    "    #    frb_E_nu[idx_detected_frbs],\n",
    "    #    bw_telescope,\n",
    "    #    sefd,\n",
    "    #    frb_w[idx_detected_frbs],\n",
    "    #    frb_tau[idx_detected_frbs],\n",
    "    #    frb_w_correction[idx_detected_frbs],\n",
    "    #    frb_bw_correction[idx_detected_frbs],\n",
    "    #    frb_properties['alpha_spect']\n",
    "    #)\n",
    "    #if z_max < z_max_detected:\n",
    "    #    print(f\"Maximum redshift detected: {z_max_detected:.1f}\")\n",
    "    #    print(f\"Maximum redshift simulated: {z_max:.1f}\")\n",
    "    #    raise RuntimeWarning(\"Galaxy sample not deep enough!\")\n",
    "    \n",
    "    return frb_detection_rate\n",
    "    \n",
    "\n",
    "def run_simulation(\n",
    "    number_of_simulated_frbs,\n",
    "    telescope_name = 'dummy',\n",
    "    simulate_lensed_frbs = True,\n",
    "    verbose = True,\n",
    "    model = 'shin',\n",
    "    uncertain = False,\n",
    "    frbs_evolve_with_luminosity = False\n",
    "):\n",
    "    \"\"\" Simulate how many strongly lensed fast radio bursts (FRBs) are detected by a facility in one year.\n",
    "\n",
    "    Parameters\n",
    "    ----------\n",
    "    telescope_name : str = 'chord'\n",
    "        Telescope to simulate. Currently, 'chime', 'chord', and 'dsa2000' are supported.\n",
    "    simulate_lensed_frbs : bool\n",
    "        Simulate only lensed FRBs or the whole population.\n",
    "\n",
    "    Returns\n",
    "    -------\n",
    "    float\n",
    "        Rate per year.\n",
    "\n",
    "    \"\"\"\n",
    "    if verbose:\n",
    "        print(f'Using the FRB population model \"{model}\"')\n",
    "        print(f'Starting the simulation for {telescope_name}')\n",
    "        print(f'{number_of_simulated_frbs} bursts will be simulated.')\n",
    "    \n",
    "    # Telescope parameters\n",
    "    telescope = Telescope(name=telescope_name)\n",
    "    # FRB properties\n",
    "    frb_population = FRB_Population(name=model)\n",
    "    \n",
    "    # Search single frequency bands\n",
    "    # Assumes that FRBs are intrinsically narrowband\n",
    "    search_bands = telescope.frequency_bands()\n",
    "    frb_detection_rate = 0 / u.yr\n",
    "    for freq_low, freq_high in search_bands:\n",
    "        frb_detection_rate += get_detection_rate(\n",
    "            number_of_simulated_frbs,\n",
    "            frb_population,\n",
    "            telescope,\n",
    "            freq_low,\n",
    "            freq_high,\n",
    "            simulate_lensed_frbs = simulate_lensed_frbs,\n",
    "            frbs_evolve_with_luminosity = frbs_evolve_with_luminosity\n",
    "        )\n",
    "    if verbose:\n",
    "        print(f'The detection rate is {frb_detection_rate.to(1/u.year).value:.1f} FRBs per year,')\n",
    "        print(f'or 1 FRB detected every {1/(frb_detection_rate).to(1/u.year).value:.2f} years.')\n",
    "        \n",
    "    if uncertain:\n",
    "        uncert_size = frb_population.get_uncert_params(model=model) + 1  # 1 for the SEFD\n",
    "        uncert_realizations = list(itertools.product([-1,1], repeat=uncert_size))\n",
    "        for realization in uncert_realizations:\n",
    "            for freq_low, freq_high in search_bands:\n",
    "                frb_detection_rate += get_detection_rate(\n",
    "                    int(number_of_simulated_frbs / len(uncert_realizations)),\n",
    "                    frb_population,\n",
    "                    telescope,\n",
    "                    freq_low,\n",
    "                    freq_high,\n",
    "                    simulate_lensed_frbs = simulate_lensed_frbs,\n",
    "                    frbs_evolve_with_luminosity = frbs_evolve_with_luminosity\n",
    "                )\n",
    "        return frb_detection_rate, uncertainty\n",
    "    else:\n",
    "        return frb_detection_rate\n",
    "\n",
    "\n",
    "# Global values\n",
    "\n",
    "# Redshift and magnitude distributions of lensed galaxies detected by Euclid\n",
    "# From https://ui.adsabs.harvard.edu/abs/2015ApJ...811...20C/abstract\n",
    "lensed_galaxies_z = np.loadtxt('lenses_Euclid.txt', usecols=1, skiprows=1)  # Redshift distribution\n",
    "lensed_galaxies_Mv = np.loadtxt('lenses_Euclid.txt', usecols=15, skiprows=1) * u.M_bol # Magnitude distribution\n",
    "\n",
    "# global parameters of the simulation\n",
    "seed = 2911167007  # Seed of random processes\n",
    "rng = default_rng(seed)  # Random generator; seed fixed for reproducibility\n",
    "zlim = None  # Limit on maximum redshift defined as [z_min, z_max]\n",
    "\n",
    "# Assumed observational prameters\n",
    "observing_time = 0.8  # Fraction of observing time\n",
    "SNr_min = 8  # Minimum detectable S/N\n",
    "rfi_band = 0.3  # Fraction of band affected by RFI\n",
    "w_telescope = 1 * u.ms"
   ]
  },
  {
   "cell_type": "code",
   "execution_count": 4,
   "id": "a6e5efce-7248-4cb5-853f-af123de68e42",
   "metadata": {
    "tags": []
   },
   "outputs": [
    {
     "name": "stdout",
     "output_type": "stream",
     "text": [
      "Using the FRB population model \"james2023\"\n",
      "Starting the simulation for chime\n",
      "10000 bursts will be simulated.\n"
     ]
    },
    {
     "ename": "AttributeError",
     "evalue": "'FRB_Population' object has no attribute 'get_parameters'",
     "output_type": "error",
     "traceback": [
      "\u001b[0;31m---------------------------------------------------------------------------\u001b[0m",
      "\u001b[0;31mAttributeError\u001b[0m                            Traceback (most recent call last)",
      "Cell \u001b[0;32mIn[4], line 3\u001b[0m\n\u001b[1;32m      1\u001b[0m \u001b[38;5;66;03m# Run the simulation\u001b[39;00m\n\u001b[1;32m      2\u001b[0m observing_time \u001b[38;5;241m=\u001b[39m \u001b[38;5;241m1\u001b[39m  \u001b[38;5;66;03m# Fraction of observing time\u001b[39;00m\n\u001b[0;32m----> 3\u001b[0m frb_detection_rate \u001b[38;5;241m=\u001b[39m \u001b[43mrun_simulation\u001b[49m\u001b[43m(\u001b[49m\n\u001b[1;32m      4\u001b[0m \u001b[43m    \u001b[49m\u001b[38;5;28;43mint\u001b[39;49m\u001b[43m(\u001b[49m\u001b[38;5;241;43m1e4\u001b[39;49m\u001b[43m)\u001b[49m\u001b[43m,\u001b[49m\n\u001b[1;32m      5\u001b[0m \u001b[43m    \u001b[49m\u001b[43mtelescope_name\u001b[49m\u001b[38;5;241;43m=\u001b[39;49m\u001b[38;5;124;43m'\u001b[39;49m\u001b[38;5;124;43mchime\u001b[39;49m\u001b[38;5;124;43m'\u001b[39;49m\u001b[43m,\u001b[49m\n\u001b[1;32m      6\u001b[0m \u001b[43m    \u001b[49m\u001b[43msimulate_lensed_frbs\u001b[49m\u001b[43m \u001b[49m\u001b[38;5;241;43m=\u001b[39;49m\u001b[43m \u001b[49m\u001b[38;5;28;43;01mFalse\u001b[39;49;00m\u001b[43m,\u001b[49m\n\u001b[1;32m      7\u001b[0m \u001b[43m    \u001b[49m\u001b[43mmodel\u001b[49m\u001b[43m \u001b[49m\u001b[38;5;241;43m=\u001b[39;49m\u001b[43m \u001b[49m\u001b[38;5;124;43m'\u001b[39;49m\u001b[38;5;124;43mjames2023\u001b[39;49m\u001b[38;5;124;43m'\u001b[39;49m\u001b[43m,\u001b[49m\n\u001b[1;32m      8\u001b[0m \u001b[43m    \u001b[49m\u001b[43muncertain\u001b[49m\u001b[43m \u001b[49m\u001b[38;5;241;43m=\u001b[39;49m\u001b[43m \u001b[49m\u001b[38;5;28;43;01mFalse\u001b[39;49;00m\u001b[43m,\u001b[49m\n\u001b[1;32m      9\u001b[0m \u001b[43m    \u001b[49m\u001b[43mfrbs_evolve_with_luminosity\u001b[49m\u001b[43m \u001b[49m\u001b[38;5;241;43m=\u001b[39;49m\u001b[43m \u001b[49m\u001b[38;5;28;43;01mTrue\u001b[39;49;00m\n\u001b[1;32m     10\u001b[0m \u001b[43m)\u001b[49m\n",
      "Cell \u001b[0;32mIn[3], line 814\u001b[0m, in \u001b[0;36mrun_simulation\u001b[0;34m(number_of_simulated_frbs, telescope_name, simulate_lensed_frbs, verbose, model, uncertain, frbs_evolve_with_luminosity)\u001b[0m\n\u001b[1;32m    812\u001b[0m frb_detection_rate \u001b[38;5;241m=\u001b[39m \u001b[38;5;241m0\u001b[39m \u001b[38;5;241m/\u001b[39m u\u001b[38;5;241m.\u001b[39myr\n\u001b[1;32m    813\u001b[0m \u001b[38;5;28;01mfor\u001b[39;00m freq_low, freq_high \u001b[38;5;129;01min\u001b[39;00m search_bands:\n\u001b[0;32m--> 814\u001b[0m     frb_detection_rate \u001b[38;5;241m+\u001b[39m\u001b[38;5;241m=\u001b[39m \u001b[43mget_detection_rate\u001b[49m\u001b[43m(\u001b[49m\n\u001b[1;32m    815\u001b[0m \u001b[43m        \u001b[49m\u001b[43mnumber_of_simulated_frbs\u001b[49m\u001b[43m,\u001b[49m\n\u001b[1;32m    816\u001b[0m \u001b[43m        \u001b[49m\u001b[43mfrb_population\u001b[49m\u001b[43m,\u001b[49m\n\u001b[1;32m    817\u001b[0m \u001b[43m        \u001b[49m\u001b[43mtelescope\u001b[49m\u001b[43m,\u001b[49m\n\u001b[1;32m    818\u001b[0m \u001b[43m        \u001b[49m\u001b[43mfreq_low\u001b[49m\u001b[43m,\u001b[49m\n\u001b[1;32m    819\u001b[0m \u001b[43m        \u001b[49m\u001b[43mfreq_high\u001b[49m\u001b[43m,\u001b[49m\n\u001b[1;32m    820\u001b[0m \u001b[43m        \u001b[49m\u001b[43msimulate_lensed_frbs\u001b[49m\u001b[43m \u001b[49m\u001b[38;5;241;43m=\u001b[39;49m\u001b[43m \u001b[49m\u001b[43msimulate_lensed_frbs\u001b[49m\u001b[43m,\u001b[49m\n\u001b[1;32m    821\u001b[0m \u001b[43m        \u001b[49m\u001b[43mfrbs_evolve_with_luminosity\u001b[49m\u001b[43m \u001b[49m\u001b[38;5;241;43m=\u001b[39;49m\u001b[43m \u001b[49m\u001b[43mfrbs_evolve_with_luminosity\u001b[49m\n\u001b[1;32m    822\u001b[0m \u001b[43m    \u001b[49m\u001b[43m)\u001b[49m\n\u001b[1;32m    823\u001b[0m \u001b[38;5;28;01mif\u001b[39;00m verbose:\n\u001b[1;32m    824\u001b[0m     \u001b[38;5;28mprint\u001b[39m(\u001b[38;5;124mf\u001b[39m\u001b[38;5;124m'\u001b[39m\u001b[38;5;124mThe detection rate is \u001b[39m\u001b[38;5;132;01m{\u001b[39;00mfrb_detection_rate\u001b[38;5;241m.\u001b[39mto(\u001b[38;5;241m1\u001b[39m\u001b[38;5;241m/\u001b[39mu\u001b[38;5;241m.\u001b[39myear)\u001b[38;5;241m.\u001b[39mvalue\u001b[38;5;132;01m:\u001b[39;00m\u001b[38;5;124m.1f\u001b[39m\u001b[38;5;132;01m}\u001b[39;00m\u001b[38;5;124m FRBs per year,\u001b[39m\u001b[38;5;124m'\u001b[39m)\n",
      "Cell \u001b[0;32mIn[3], line 636\u001b[0m, in \u001b[0;36mget_detection_rate\u001b[0;34m(number_of_simulated_frbs, frb_population, telescope, freq_low, freq_high, frbs_evolve_with_luminosity, simulate_lensed_frbs, uncertain)\u001b[0m\n\u001b[1;32m    633\u001b[0m \u001b[38;5;250m\u001b[39m\u001b[38;5;124;03m\"\"\"Rate of FRB detections.\u001b[39;00m\n\u001b[1;32m    634\u001b[0m \u001b[38;5;124;03m\"\"\"\u001b[39;00m\n\u001b[1;32m    635\u001b[0m \u001b[38;5;66;03m# Properties of the FRB population\u001b[39;00m\n\u001b[0;32m--> 636\u001b[0m frb_properties \u001b[38;5;241m=\u001b[39m \u001b[43mfrb_population\u001b[49m\u001b[38;5;241;43m.\u001b[39;49m\u001b[43mget_parameters\u001b[49m(uncertain\u001b[38;5;241m=\u001b[39muncertain)\n\u001b[1;32m    637\u001b[0m \u001b[38;5;66;03m# Properties of the telescope\u001b[39;00m\n\u001b[1;32m    638\u001b[0m freq_mean \u001b[38;5;241m=\u001b[39m (freq_low \u001b[38;5;241m+\u001b[39m freq_high) \u001b[38;5;241m/\u001b[39m \u001b[38;5;241m2\u001b[39m\n",
      "\u001b[0;31mAttributeError\u001b[0m: 'FRB_Population' object has no attribute 'get_parameters'"
     ]
    }
   ],
   "source": [
    "# Run the simulation\n",
    "observing_time = 1  # Fraction of observing time\n",
    "frb_detection_rate = run_simulation(\n",
    "    int(1e4),\n",
    "    telescope_name='chime',\n",
    "    simulate_lensed_frbs = False,\n",
    "    model = 'james2023',\n",
    "    uncertain = False,\n",
    "    frbs_evolve_with_luminosity = True\n",
    ")"
   ]
  },
  {
   "cell_type": "code",
   "execution_count": null,
   "id": "fd9091d9-81f6-4cc8-b617-c32a501f2912",
   "metadata": {},
   "outputs": [],
   "source": []
  },
  {
   "cell_type": "code",
   "execution_count": null,
   "id": "bb3fff28-9f5c-4e9a-8a33-ad723e2ee8c8",
   "metadata": {},
   "outputs": [],
   "source": []
  },
  {
   "cell_type": "code",
   "execution_count": null,
   "id": "1f861082-a31a-4e37-9c4e-5cf298ff3aa5",
   "metadata": {},
   "outputs": [],
   "source": []
  },
  {
   "cell_type": "code",
   "execution_count": 571,
   "id": "705ed25f-9833-45b5-8c0c-0b3a7b6536ac",
   "metadata": {
    "tags": []
   },
   "outputs": [],
   "source": [
    "class FRB_Population:\n",
    "    \"\"\"\n",
    "    Parameters of the FRB population.\n",
    "    \"\"\"\n",
    "    all_parameters = {\n",
    "        'shin': {  # From https://ui.adsabs.harvard.edu/abs/2022arXiv220714316S/abstract\n",
    "            'Echar': [2.38e41, +5.35e41, -1.64e41] * u.erg,  # Characteristic energy cut-of\n",
    "            'alpha_spect': [-1.39, +0.86, -1.19],  # Spectral index\n",
    "            'alpha_rate': 0,  # Rate index\n",
    "            'gamma': [-1.3, +0.7, -0.4],  # Differential power-law index\n",
    "            'Epivot': 1e39 * u.erg,  # Pivot energy\n",
    "            'frb_emission_rate_z0_Epivot': [7.3e4, +8.8e4, -3.8e4] / u.Gpc**3/u.year,  # FRB rate at z=0 above Epivot\n",
    "            'n_sfr': [0.96, +0.81, -0.67],  # Index of star-formation rate\n",
    "        },\n",
    "        'shin_rate_interpretation': {  # From https://ui.adsabs.harvard.edu/abs/2022arXiv220714316S/abstract\n",
    "            'Echar': [1.95e41, +3.75e41, -1.28e41] * u.erg,  # Characteristic energy cut-of\n",
    "            'alpha_spect': 0,  # Spectral index\n",
    "            'alpha_rate': [-1.10, +0.67, -0.99],  # Spectral index\n",
    "            'gamma': [-1.3, +0.8, -0.5],  # Differential power-law index\n",
    "            'Epivot': 1e39 * u.erg,  # Pivot energy\n",
    "            'frb_emission_rate_z0_Epivot': [6.8e4, +8.3e4, -3.6e4] / u.Gpc**3/u.year,  # FRB rate at z=0 above Epivot\n",
    "            'n_sfr': [1.72, +1.48, -1.10],  # Index of star-formation rate\n",
    "        },\n",
    "        'james2023': {  # From https://arxiv.org/pdf/2208.00819.pdf\n",
    "            'Echar': [1.82e41, +1.57e41, -7.23e40]  * u.erg,  # Characteristic energy cut-of\n",
    "            'alpha_spect': 0,  # Spectral index\n",
    "            'alpha_rate': [-0.99, +0.99, -1.01],  # Spectral index\n",
    "            'gamma': [-0.95-1, +0.18, -0.15],  # Differential power-law index\n",
    "            'n_sfr': [1.13, +0.49, -0.41],  # Index of star-formation rate\n",
    "            'Epivot': 1e30 * u.erg,  # Pivot energy\n",
    "            'frb_emission_rate_z0_Epivot': [6.8e4, +8.3e4, -3.6e4] / u.Gpc**3/u.year # (10**1.96/u.Mpc**3/u.yr).to(1/u.Gpc**3/u.yr)\n",
    "        },\n",
    "    }\n",
    "    \n",
    "    def __init__(self, name='shin'):\n",
    "        self.model = name\n",
    "        try:\n",
    "            self.parameters = FRB_Population.all_parameters[self.model]\n",
    "        except KeyError:\n",
    "            raise NotImplemented(\"Model unknown.\")\n",
    "        self.set_parameters(self)\n",
    "            \n",
    "    def get_uncert_params(self):\n",
    "        ii = 0\n",
    "        for key,value in self.parameters.items():\n",
    "            try:\n",
    "                size = len(value)\n",
    "                ii += 1\n",
    "            except TypeError:\n",
    "                # No uncertianty for single values\n",
    "                continue\n",
    "        return ii\n",
    "    \n",
    "    def set_parameters(self, uncertain = False):\n",
    "        for key,value in self.parameters.items():\n",
    "            try:\n",
    "                self.parameters[key] = value[0]\n",
    "            except TypeError:\n",
    "                continue\n",
    "        return self.parameters\n",
    "    \n",
    "     "
   ]
  },
  {
   "cell_type": "code",
   "execution_count": 572,
   "id": "96c043ef-0dfc-43be-87a8-7bd2fd96072a",
   "metadata": {
    "tags": []
   },
   "outputs": [],
   "source": [
    "a = FRB_Population()"
   ]
  },
  {
   "cell_type": "code",
   "execution_count": 575,
   "id": "4f9d5a31-39cb-4dfb-a8d8-6f7a86cf2d8f",
   "metadata": {
    "tags": []
   },
   "outputs": [
    {
     "data": {
      "text/plain": [
       "{'Echar': <Quantity 2.38e+41 erg>,\n",
       " 'alpha_spect': -1.39,\n",
       " 'alpha_rate': 0,\n",
       " 'gamma': -1.3,\n",
       " 'Epivot': <Quantity 1.e+39 erg>,\n",
       " 'frb_emission_rate_z0_Epivot': <Quantity 73000. 1 / (Gpc3 yr)>,\n",
       " 'n_sfr': 0.96}"
      ]
     },
     "execution_count": 575,
     "metadata": {},
     "output_type": "execute_result"
    }
   ],
   "source": [
    "a.parameters"
   ]
  },
  {
   "cell_type": "code",
   "execution_count": 576,
   "id": "83d8024b-5556-427e-9c2e-d4791b534252",
   "metadata": {
    "tags": []
   },
   "outputs": [
    {
     "data": {
      "text/plain": [
       "{'Echar': <Quantity 2.38e+41 erg>,\n",
       " 'alpha_spect': -1.39,\n",
       " 'alpha_rate': 0,\n",
       " 'gamma': -1.3,\n",
       " 'Epivot': <Quantity 1.e+39 erg>,\n",
       " 'frb_emission_rate_z0_Epivot': <Quantity 73000. 1 / (Gpc3 yr)>,\n",
       " 'n_sfr': 0.96}"
      ]
     },
     "execution_count": 576,
     "metadata": {},
     "output_type": "execute_result"
    }
   ],
   "source": [
    "a.set_parameters()"
   ]
  },
  {
   "cell_type": "code",
   "execution_count": 578,
   "id": "066e204c-53df-4ad2-a850-3e6d2711f70c",
   "metadata": {
    "tags": []
   },
   "outputs": [
    {
     "data": {
      "text/plain": [
       "{'Echar': <Quantity 2.38e+41 erg>,\n",
       " 'alpha_spect': -1.39,\n",
       " 'alpha_rate': 0,\n",
       " 'gamma': -1.3,\n",
       " 'Epivot': <Quantity 1.e+39 erg>,\n",
       " 'frb_emission_rate_z0_Epivot': <Quantity 73000. 1 / (Gpc3 yr)>,\n",
       " 'n_sfr': 0.96}"
      ]
     },
     "execution_count": 578,
     "metadata": {},
     "output_type": "execute_result"
    }
   ],
   "source": [
    "a.parameters"
   ]
  },
  {
   "cell_type": "code",
   "execution_count": 562,
   "id": "38da539d-7e70-4258-add7-7db36109107e",
   "metadata": {
    "tags": []
   },
   "outputs": [
    {
     "data": {
      "text/plain": [
       "{'shin': {'Echar': <Quantity 2.38e+41 erg>,\n",
       "  'alpha_spect': -1.39,\n",
       "  'alpha_rate': 0,\n",
       "  'gamma': -1.3,\n",
       "  'Epivot': <Quantity 1.e+39 erg>,\n",
       "  'frb_emission_rate_z0_Epivot': <Quantity 73000. 1 / (Gpc3 yr)>,\n",
       "  'n_sfr': 0.96},\n",
       " 'shin_rate_interpretation': {'Echar': <Quantity [ 1.95e+41,  3.75e+41, -1.28e+41] erg>,\n",
       "  'alpha_spect': 0,\n",
       "  'alpha_rate': [-1.1, 0.67, -0.99],\n",
       "  'gamma': [-1.3, 0.8, -0.5],\n",
       "  'Epivot': <Quantity 1.e+39 erg>,\n",
       "  'frb_emission_rate_z0_Epivot': <Quantity [ 68000.,  83000., -36000.] 1 / (Gpc3 yr)>,\n",
       "  'n_sfr': [1.72, 1.48, -1.1]},\n",
       " 'james2023': {'Echar': <Quantity [ 1.82e+41,  1.57e+41, -7.23e+40] erg>,\n",
       "  'alpha_spect': 0,\n",
       "  'alpha_rate': [-0.99, 0.99, -1.01],\n",
       "  'gamma': [-1.95, 0.18, -0.15],\n",
       "  'n_sfr': [1.13, 0.49, -0.41],\n",
       "  'Epivot': <Quantity 1.e+30 erg>,\n",
       "  'frb_emission_rate_z0_Epivot': <Quantity [ 68000.,  83000., -36000.] 1 / (Gpc3 yr)>}}"
      ]
     },
     "execution_count": 562,
     "metadata": {},
     "output_type": "execute_result"
    }
   ],
   "source": [
    "a.all_parameters"
   ]
  },
  {
   "cell_type": "code",
   "execution_count": null,
   "id": "fd3bfbe4-3877-489c-ba08-3b14f89d5cc2",
   "metadata": {},
   "outputs": [],
   "source": []
  },
  {
   "cell_type": "code",
   "execution_count": null,
   "id": "33fa4285-06db-4aaf-911e-85ea3d46f541",
   "metadata": {},
   "outputs": [],
   "source": []
  },
  {
   "cell_type": "code",
   "execution_count": null,
   "id": "52195871-2d30-4ed4-9f9e-842b04d76646",
   "metadata": {},
   "outputs": [],
   "source": []
  },
  {
   "cell_type": "code",
   "execution_count": 498,
   "id": "0ecd9355-8438-47bf-ab19-c2d50466904f",
   "metadata": {
    "tags": []
   },
   "outputs": [
    {
     "data": {
      "text/plain": [
       "64"
      ]
     },
     "execution_count": 498,
     "metadata": {},
     "output_type": "execute_result"
    }
   ],
   "source": [
    "len(list(itertools.product([-1,1], repeat=6)))"
   ]
  },
  {
   "cell_type": "code",
   "execution_count": 518,
   "id": "d219b9a1-b216-4c80-9e5d-f6641eed8bda",
   "metadata": {
    "tags": []
   },
   "outputs": [],
   "source": [
    "a = list(itertools.product([-1,1], repeat=6))"
   ]
  },
  {
   "cell_type": "code",
   "execution_count": 522,
   "id": "1024f39e-ebf9-4e7a-a3b4-96ea6526f562",
   "metadata": {
    "tags": []
   },
   "outputs": [
    {
     "data": {
      "text/plain": [
       "5"
      ]
     },
     "execution_count": 522,
     "metadata": {},
     "output_type": "execute_result"
    }
   ],
   "source": [
    "len(a[0][:-1])"
   ]
  },
  {
   "cell_type": "code",
   "execution_count": null,
   "id": "3a2ed284-d83a-4d71-9097-819b2c93eba8",
   "metadata": {},
   "outputs": [],
   "source": []
  },
  {
   "cell_type": "code",
   "execution_count": 463,
   "id": "d582c514-a92c-450c-b646-615c5aceeb95",
   "metadata": {
    "tags": []
   },
   "outputs": [
    {
     "data": {
      "text/plain": [
       "0.14539335680000004"
      ]
     },
     "execution_count": 463,
     "metadata": {},
     "output_type": "execute_result"
    }
   ],
   "source": [
    "0.68**5 "
   ]
  },
  {
   "cell_type": "code",
   "execution_count": 466,
   "id": "82ab857a-75e4-4a6b-b84e-129f5d7f9b85",
   "metadata": {
    "tags": []
   },
   "outputs": [
    {
     "data": {
      "text/plain": [
       "(0.2795084971874737, 0.2804890887919724)"
      ]
     },
     "execution_count": 466,
     "metadata": {},
     "output_type": "execute_result"
    }
   ],
   "source": [
    "s = 10\n",
    "err_s = 1\n",
    "t = 4\n",
    "err_t = 0.2\n",
    "np.sqrt(err_s**2/t**2+err_t**2*s**2/t**4), np.std([(s+err_s)/(t+err_t), (s-err_s)/(t+err_t), (s+err_s)/(t-err_t), (s-err_s)/(t-err_t)])"
   ]
  },
  {
   "cell_type": "code",
   "execution_count": 471,
   "id": "c94627a8-dc6d-428b-8b22-54c6ee5d9026",
   "metadata": {
    "tags": []
   },
   "outputs": [],
   "source": [
    "a = 10\n",
    "err_a = 1\n",
    "b = 4\n",
    "err_b = 0.2"
   ]
  },
  {
   "cell_type": "code",
   "execution_count": 473,
   "id": "5bcb3274-4137-45d2-a12a-c2369078fade",
   "metadata": {
    "tags": []
   },
   "outputs": [
    {
     "data": {
      "text/plain": [
       "(1.019803902718557, 1.0198039027185568)"
      ]
     },
     "execution_count": 473,
     "metadata": {},
     "output_type": "execute_result"
    }
   ],
   "source": [
    "np.sqrt(err_a**2+err_b**2), np.std([a+err_a+b+err_b, a-err_a+b+err_b, a+err_a+b-err_b, a-err_a+b-err_b])"
   ]
  },
  {
   "cell_type": "code",
   "execution_count": 515,
   "id": "8b3bea9a-ae22-4ab2-ad87-fcde034bf7c1",
   "metadata": {
    "tags": []
   },
   "outputs": [],
   "source": [
    "l = 10\n",
    "err_l = 1\n",
    "x = 4\n",
    "err_x = 0.2\n",
    "a = 5"
   ]
  },
  {
   "cell_type": "code",
   "execution_count": 516,
   "id": "d74e3676-cfe3-4f44-bdcc-ea698c04b783",
   "metadata": {
    "tags": []
   },
   "outputs": [
    {
     "data": {
      "text/plain": [
       "(2106.6451387440925, 2159.5054446593404)"
      ]
     },
     "execution_count": 516,
     "metadata": {},
     "output_type": "execute_result"
    }
   ],
   "source": [
    "np.sqrt(err_l**2*a**(2*x)+err_x**2*(l*a**x*np.log(a))**2), np.std([(l+err_l)*a**(x+err_x), (l-err_l)*a**(x+err_x), (l+err_l)*a**(x-err_x), (l-err_l)*a**(x-err_x)])"
   ]
  },
  {
   "cell_type": "code",
   "execution_count": null,
   "id": "26156d29-6a25-4d8c-abc8-f7dd880c6d21",
   "metadata": {
    "tags": []
   },
   "outputs": [],
   "source": []
  },
  {
   "cell_type": "code",
   "execution_count": null,
   "id": "b934f754-079a-49cb-9662-9aeeffc1697c",
   "metadata": {},
   "outputs": [],
   "source": []
  },
  {
   "cell_type": "code",
   "execution_count": null,
   "id": "51698bea-f6f3-4d6d-9681-6f4413821409",
   "metadata": {},
   "outputs": [],
   "source": []
  },
  {
   "cell_type": "code",
   "execution_count": 419,
   "id": "b537afdc-5966-41b8-9d53-1cd04a6ce7e0",
   "metadata": {
    "tags": []
   },
   "outputs": [],
   "source": [
    "# Plot of measured vs simulated rate for different telescopes\n",
    "\n",
    "# Measured detection rates\n",
    "telescope_rates = {}\n",
    "\n",
    "#CHIME (https://arxiv.org/pdf/2106.04352.pdf)\n",
    "n_frbs = 536\n",
    "obs_time = 214.8 * 24 * u.hour\n",
    "rate = (n_frbs / obs_time).to(1/u.yr)\n",
    "err = (np.sqrt(n_frbs) / obs_time).to(1/u.yr)\n",
    "telescope_rates['CHIME'] = [rate, err]\n",
    "\n",
    "#FAST (https://iopscience.iop.org/article/10.3847/2041-8213/abe7f0)\n",
    "n_frbs = 4\n",
    "obs_time = (1667 + 9) * u.hour\n",
    "rate = (n_frbs / obs_time).to(1/u.yr) / 9  # 9 to correct for multi-beam receiver\n",
    "err = (np.sqrt(n_frbs) / obs_time).to(1/u.yr) / 9\n",
    "telescope_rates['FAST'] = [rate, err]\n",
    "\n",
    "# ASKAP (https://www.nature.com/articles/s41586-018-0588-y)\n",
    "n_frbs = 20\n",
    "obs_time = 32_840 * u.hour\n",
    "rate = (n_frbs / obs_time).to(1/u.yr)\n",
    "err = (np.sqrt(n_frbs) / obs_time).to(1/u.yr)\n",
    "telescope_rates['ASKAP'] = [rate, err]\n",
    "\n",
    "# Aperitif (https://arxiv.org/pdf/2205.12362.pdf)\n",
    "n_frbs = 5\n",
    "obs_time = 800 * u.hour\n",
    "rate = (n_frbs / obs_time).to(1/u.yr) / 40  # 40 to correct for compound beams\n",
    "err = (np.sqrt(n_frbs) / obs_time).to(1/u.yr) / 40\n",
    "telescope_rates['Aperitif'] = [rate, err]\n",
    "\n",
    "# UTMOST (https://ui.adsabs.harvard.edu/abs/2019MNRAS.488.2989F/abstract)\n",
    "n_frbs = 6\n",
    "obs_time = (344 * u.day).to(u.hour)\n",
    "rate = (n_frbs / obs_time).to(1/u.yr)\n",
    "err = (np.sqrt(n_frbs) / obs_time).to(1/u.yr)\n",
    "telescope_rates['UTMOST'] = [rate, err]\n",
    "\n",
    "# Parkes (https://arxiv.org/pdf/1511.07746.pdf)\n",
    "n_frbs = 9\n",
    "obs_time = (33_500 * 270 * u.s).to(u.hour)\n",
    "rate = (n_frbs / obs_time).to(1/u.yr) / 13  # 13 to correct for multi-beam receiver\n",
    "err = (np.sqrt(n_frbs) / obs_time).to(1/u.yr) / 13\n",
    "telescope_rates['Parkes'] = [rate, err]\n",
    "\n",
    "telescope_list = sorted(telescope_rates.keys(), key=lambda v: v.upper())"
   ]
  },
  {
   "cell_type": "code",
   "execution_count": 420,
   "id": "997a257c-77b8-4d02-871c-f6a6dcfdcd3b",
   "metadata": {
    "tags": []
   },
   "outputs": [],
   "source": [
    "rng = default_rng(seed)  # Random generator; seed fixed for reproducibility\n",
    "number_of_simulated_frbs = int(1e4)  # Elements in the simulation\n",
    "observing_time = 1  # Fraction of observing time\n",
    "\n",
    "shin_values = []\n",
    "shin_uncert = []\n",
    "for t in telescope_list:\n",
    "    telescope = t.lower()\n",
    "    # Shin model\n",
    "    shin_values.append(\n",
    "        run_simulation(\n",
    "            number_of_simulated_frbs,\n",
    "            telescope_name = telescope,\n",
    "            simulate_lensed_frbs = False,\n",
    "            model = 'shin',\n",
    "            uncertain = False,\n",
    "            verbose = False,\n",
    "        ).to(1/u.yr).value\n",
    "    )\n",
    "    shin_uncert.append(\n",
    "        np.std(\n",
    "            [\n",
    "                run_simulation(\n",
    "                    number_of_simulated_frbs // 100,\n",
    "                    telescope_name = telescope,\n",
    "                    simulate_lensed_frbs = False,\n",
    "                    model = 'shin',\n",
    "                    uncertain = True,\n",
    "                    verbose = False\n",
    "                ).to(1/u.yr).value for n in range(100)\n",
    "            ]\n",
    "        )\n",
    "    )\n",
    "\n",
    "shin_values_r = []\n",
    "shin_uncert_r = []\n",
    "for t in telescope_list:\n",
    "    telescope = t.lower()\n",
    "    # Shin model\n",
    "    shin_values_r.append(\n",
    "        run_simulation(\n",
    "            number_of_simulated_frbs,\n",
    "            telescope_name = telescope,\n",
    "            simulate_lensed_frbs = False,\n",
    "            model = 'shin_rate_interpretation',\n",
    "            uncertain = False,\n",
    "            verbose = False,\n",
    "        ).to(1/u.yr).value\n",
    "    )\n",
    "    shin_uncert_r.append(\n",
    "        np.std(\n",
    "            [\n",
    "                run_simulation(\n",
    "                    number_of_simulated_frbs // 100,\n",
    "                    telescope_name = telescope,\n",
    "                    simulate_lensed_frbs = False,\n",
    "                    model = 'shin_rate_interpretation',\n",
    "                    uncertain = True,\n",
    "                    verbose = False\n",
    "                ).to(1/u.yr).value for n in range(100)\n",
    "            ]\n",
    "        )\n",
    "    )\n",
    "    \n",
    "james_values = []\n",
    "james_uncert = []\n",
    "for t in telescope_list:\n",
    "    telescope = t.lower()\n",
    "    # james model\n",
    "    james_values.append(\n",
    "        run_simulation(\n",
    "            number_of_simulated_frbs,\n",
    "            telescope_name = telescope,\n",
    "            simulate_lensed_frbs = False,\n",
    "            model = 'james2023',\n",
    "            uncertain = False,\n",
    "            verbose = False,\n",
    "        ).to(1/u.yr).value\n",
    "    )\n",
    "    james_uncert.append(\n",
    "        np.std(\n",
    "            [\n",
    "                run_simulation(\n",
    "                    number_of_simulated_frbs // 100,\n",
    "                    telescope_name = telescope,\n",
    "                    simulate_lensed_frbs = False,\n",
    "                    model = 'james2023',\n",
    "                    uncertain = True,\n",
    "                    verbose = False\n",
    "                ).to(1/u.yr).value for n in range(100)\n",
    "            ]\n",
    "        )\n",
    "    )"
   ]
  },
  {
   "cell_type": "code",
   "execution_count": 429,
   "id": "1110a9d0-fcd2-41b1-a268-caff52b5bd01",
   "metadata": {
    "tags": []
   },
   "outputs": [],
   "source": [
    "james_values = []\n",
    "james_uncert = []\n",
    "for t in telescope_list:\n",
    "    telescope = t.lower()\n",
    "    # james model\n",
    "    james_values.append(\n",
    "        run_simulation(\n",
    "            number_of_simulated_frbs,\n",
    "            telescope_name = telescope,\n",
    "            simulate_lensed_frbs = False,\n",
    "            model = 'james2023',\n",
    "            uncertain = False,\n",
    "            verbose = False,\n",
    "        ).to(1/u.yr).value\n",
    "    )\n",
    "    james_uncert.append(\n",
    "        np.std(\n",
    "            [\n",
    "                run_simulation(\n",
    "                    number_of_simulated_frbs // 100,\n",
    "                    telescope_name = telescope,\n",
    "                    simulate_lensed_frbs = False,\n",
    "                    model = 'james2023',\n",
    "                    uncertain = True,\n",
    "                    verbose = False\n",
    "                ).to(1/u.yr).value for n in range(100)\n",
    "            ]\n",
    "        )\n",
    "    )"
   ]
  },
  {
   "cell_type": "code",
   "execution_count": 581,
   "id": "d6fc8d7d-b5c0-4d6b-bee6-e996bf45f95d",
   "metadata": {
    "tags": []
   },
   "outputs": [
    {
     "data": {
      "text/plain": [
       "Text(0, 0.5, 'Rate (1/yr)')"
      ]
     },
     "execution_count": 581,
     "metadata": {},
     "output_type": "execute_result"
    },
    {
     "data": {
      "image/png": "[encoded data removed]",
      "text/plain": [
       "<Figure size 640x480 with 1 Axes>"
      ]
     },
     "metadata": {},
     "output_type": "display_data"
    }
   ],
   "source": [
    "from matplotlib.patches import Rectangle\n",
    "\n",
    "fig, ax = plt.subplots()\n",
    "\n",
    "x = np.arange(len(telescope_list))\n",
    "#ax.errorbar(x-0.1, shin_values, yerr=shin_uncert, fmt='k+', label='Shin+ 2023', zorder=5)\n",
    "#ax.errorbar(x, shin_values_r, yerr=shin_uncert_r, fmt='r+', label='(rate interpretation)', zorder=5)\n",
    "#ax.errorbar(x+0.1, james_values, yerr=james_uncert, fmt='g+', label='James+ 2023', zorder=5)\n",
    "\n",
    "ax.plot(x-0.1, shin_values, 'k+', label='Shin+ 2023', zorder=5)\n",
    "ax.plot(x, shin_values_r, 'r+', label='(rate interpretation)', zorder=5)\n",
    "ax.plot(x+0.1, james_values, 'g+', label='James+ 2023', zorder=5)\n",
    "\n",
    "\n",
    "for telescope, xi in zip(telescope_list, x):\n",
    "    rate = telescope_rates[telescope]\n",
    "    rect = Rectangle(\n",
    "        (xi - 0.45, (rate[0] - rate[1]).to(1/u.yr).value),\n",
    "        0.9,\n",
    "        rate[1].to(1/u.yr).value * 2,\n",
    "        alpha=0.3,\n",
    "        color='k',\n",
    "        ec=None\n",
    "    )\n",
    "    ax.add_patch(rect)\n",
    "\n",
    "ax.legend()\n",
    "ax.set_yscale('log')\n",
    "ax.set_xlim(x.min()-0.5, x.max()+0.5)\n",
    "ax.set_ylim(0.7, 1100)\n",
    "ax.set_xticks(x)\n",
    "ax.set_xticklabels(telescope_list, rotation='vertical')\n",
    "ax.set_ylabel(\"Rate (1/yr)\")"
   ]
  },
  {
   "cell_type": "code",
   "execution_count": null,
   "id": "39bbf761-461e-4a33-8c3f-4c10be709e91",
   "metadata": {},
   "outputs": [],
   "source": []
  },
  {
   "cell_type": "code",
   "execution_count": null,
   "id": "c9ae0a2a-3438-40d7-b138-a6c7bdc3f3f7",
   "metadata": {},
   "outputs": [],
   "source": []
  },
  {
   "cell_type": "code",
   "execution_count": null,
   "id": "d55c3316-69b4-4110-ba2e-5e837bcaaedb",
   "metadata": {},
   "outputs": [],
   "source": []
  },
  {
   "cell_type": "code",
   "execution_count": null,
   "id": "cf3dc107-29c2-4043-8195-415ebdcb14be",
   "metadata": {},
   "outputs": [],
   "source": []
  },
  {
   "cell_type": "code",
   "execution_count": null,
   "id": "ff656efe-9840-4e1a-890a-b62c22cd0a5e",
   "metadata": {},
   "outputs": [],
   "source": []
  },
  {
   "cell_type": "code",
   "execution_count": null,
   "id": "fc435785-efab-4413-bec0-4cc9cfb741e9",
   "metadata": {},
   "outputs": [],
   "source": []
  },
  {
   "cell_type": "code",
   "execution_count": 327,
   "id": "1b88e79f-a637-487e-a33c-a1231ec302c6",
   "metadata": {
    "tags": []
   },
   "outputs": [
    {
     "data": {
      "text/latex": [
       "$9.1201084 \\times 10^{10} \\; \\mathrm{\\frac{1}{yr\\,Gpc^{3}}}$"
      ],
      "text/plain": [
       "<Quantity 9.12010839e+10 1 / (Gpc3 yr)>"
      ]
     },
     "execution_count": 327,
     "metadata": {},
     "output_type": "execute_result"
    }
   ],
   "source": [
    "(10**1.96/u.Mpc**3/u.yr).to(1/u.Gpc**3/u.yr)"
   ]
  },
  {
   "cell_type": "code",
   "execution_count": 343,
   "id": "d49f4f8a-295c-4735-9a87-7b93546d8fcc",
   "metadata": {
    "tags": []
   },
   "outputs": [
    {
     "data": {
      "text/latex": [
       "$10140.482 \\; \\mathrm{\\frac{1}{yr\\,Gpc^{3}}}$"
      ],
      "text/plain": [
       "<Quantity 10140.48186066 1 / (Gpc3 yr)>"
      ]
     },
     "execution_count": 343,
     "metadata": {},
     "output_type": "execute_result"
    }
   ],
   "source": [
    "gamma = -0.95+0.18\n",
    "Echar = 10**41.26\n",
    "(10**1.96/u.Mpc**3/u.yr).to(1/u.Gpc**3/u.yr) * (\n",
    "    float(gammainc(gamma, (1e39*u.erg / Echar).value)) / \n",
    "    float(gammainc(gamma, (1e30*u.erg / Echar).value))\n",
    ")"
   ]
  },
  {
   "cell_type": "code",
   "execution_count": 8,
   "id": "f075f1cc-4e02-4578-9b12-69907ab3892e",
   "metadata": {
    "tags": []
   },
   "outputs": [
    {
     "data": {
      "text/plain": [
       "0.2897268536490609"
      ]
     },
     "execution_count": 8,
     "metadata": {},
     "output_type": "execute_result"
    }
   ],
   "source": [
    "(\n",
    "    float(gammainc(gamma + 1, (1e39*u.erg / Echar).value)) / \n",
    "    float(gammainc(gamma + 1, (1e30*u.erg / Echar).value))\n",
    ")"
   ]
  },
  {
   "cell_type": "code",
   "execution_count": 344,
   "id": "b35a30d9-b592-4b7f-bf1a-460b06d1ea21",
   "metadata": {
    "tags": []
   },
   "outputs": [
    {
     "data": {
      "text/plain": [
       "90000.0"
      ]
     },
     "execution_count": 344,
     "metadata": {},
     "output_type": "execute_result"
    }
   ],
   "source": [
    "9e4"
   ]
  },
  {
   "cell_type": "code",
   "execution_count": null,
   "id": "c7ff45dc-f9d3-4cc4-9ee6-99052e88b0c0",
   "metadata": {},
   "outputs": [],
   "source": []
  },
  {
   "cell_type": "code",
   "execution_count": null,
   "id": "a66a96d8-775a-4a04-a880-87a990724609",
   "metadata": {
    "tags": []
   },
   "outputs": [],
   "source": []
  },
  {
   "cell_type": "code",
   "execution_count": null,
   "id": "83a56f90-19a4-4023-baf8-de8308002c91",
   "metadata": {
    "tags": []
   },
   "outputs": [],
   "source": []
  },
  {
   "cell_type": "code",
   "execution_count": null,
   "id": "fa056eb5-7642-469f-aed1-3e6d8155e579",
   "metadata": {
    "tags": []
   },
   "outputs": [],
   "source": []
  },
  {
   "cell_type": "code",
   "execution_count": null,
   "id": "3173ed2a-2ab4-434a-b4d6-81c641a6eb79",
   "metadata": {},
   "outputs": [],
   "source": []
  },
  {
   "cell_type": "code",
   "execution_count": null,
   "id": "5b34b3e2-6923-4360-81d2-2f9664dc532f",
   "metadata": {},
   "outputs": [],
   "source": []
  },
  {
   "cell_type": "code",
   "execution_count": null,
   "id": "c70ed2e1",
   "metadata": {},
   "outputs": [],
   "source": [
    "# Follow-up\n",
    "from astropy.coordinates import AltAz, EarthLocation, SkyCoord\n",
    "from astropy.time import Time"
   ]
  },
  {
   "cell_type": "code",
   "execution_count": 4,
   "id": "a7c6ce6f",
   "metadata": {},
   "outputs": [],
   "source": [
    "source_low_dec = SkyCoord(ra=0*u.deg, dec=-10*u.deg)\n",
    "source_mid_dec = SkyCoord(ra=0*u.deg, dec=45*u.deg)\n",
    "source_high_dec = SkyCoord(ra=0*u.deg, dec=89*u.deg)"
   ]
  },
  {
   "cell_type": "code",
   "execution_count": 5,
   "id": "4fc7c46e",
   "metadata": {},
   "outputs": [],
   "source": [
    "gbt = EarthLocation.of_site('GBT')\n",
    "gmrt = EarthLocation.of_site('GMRT')\n",
    "eff = EarthLocation.of_site('Effelsberg')"
   ]
  },
  {
   "cell_type": "code",
   "execution_count": 26,
   "id": "be5f2a98",
   "metadata": {},
   "outputs": [
    {
     "name": "stdout",
     "output_type": "stream",
     "text": [
      "90.0% of time the source can be observed\n"
     ]
    },
    {
     "data": {
      "image/png": "[encoded data removed]",
      "text/plain": [
       "<Figure size 640x480 with 1 Axes>"
      ]
     },
     "metadata": {},
     "output_type": "display_data"
    }
   ],
   "source": [
    "# Low dec\n",
    "ha = np.linspace(-12, 12, 100)\n",
    "t = ha*u.hour + Time('2012-7-13 00:00:00')\n",
    "y_t = np.zeros_like(ha) + np.nan\n",
    "\n",
    "# GBT\n",
    "alt_gbt = source_low_dec.transform_to(AltAz(obstime=t, location=gbt)).alt\n",
    "idx = alt_gbt > 0\n",
    "x = ha.copy()\n",
    "x[~idx] = np.nan\n",
    "y = alt_gbt.value.copy()\n",
    "y[~idx] = np.nan\n",
    "plt.plot(x, y, 'b-', label='GBT')\n",
    "y_t[idx] = 0\n",
    "\n",
    "# GMRT\n",
    "alt_gmrt = source_low_dec.transform_to(AltAz(obstime=t, location=gmrt)).alt\n",
    "idx = alt_gmrt > 0\n",
    "x = ha.copy()\n",
    "x[~idx] = np.nan\n",
    "y = alt_gmrt.value.copy()\n",
    "y[~idx] = np.nan\n",
    "plt.plot(x, y, 'r-', label='GMRT')\n",
    "y_t[idx] = 0\n",
    "\n",
    "# Effelsberg\n",
    "alt_eff = source_low_dec.transform_to(AltAz(obstime=t, location=eff)).alt\n",
    "idx = alt_eff > 0\n",
    "x = ha.copy()\n",
    "x[~idx] = np.nan\n",
    "y = alt_eff.value.copy()\n",
    "y[~idx] = np.nan\n",
    "plt.plot(x, y, 'g-', label='Effelsberg')\n",
    "y_t[idx] = 0\n",
    "\n",
    "plt.plot(ha, y_t, \"k-\")\n",
    "plt.legend()\n",
    "plt.title('Dec = -10 deg')\n",
    "\n",
    "print(f'{y_t[~np.isnan(y_t)].size / y_t.size * 100:.1f}% of time the source can be observed')"
   ]
  },
  {
   "cell_type": "code",
   "execution_count": 27,
   "id": "cc707d24",
   "metadata": {},
   "outputs": [
    {
     "name": "stdout",
     "output_type": "stream",
     "text": [
      "100.0% of time the source can be observed\n"
     ]
    },
    {
     "data": {
      "image/png": "[encoded data removed]",
      "text/plain": [
       "<Figure size 640x480 with 1 Axes>"
      ]
     },
     "metadata": {},
     "output_type": "display_data"
    }
   ],
   "source": [
    "# Mid dec\n",
    "ha = np.linspace(-12, 12, 100)\n",
    "t = ha*u.hour + Time('2012-7-13 00:00:00')\n",
    "y_t = np.zeros_like(ha) + np.nan\n",
    "\n",
    "# GBT\n",
    "alt_gbt = source_mid_dec.transform_to(AltAz(obstime=t, location=gbt)).alt\n",
    "idx = alt_gbt > 0\n",
    "x = ha.copy()\n",
    "x[~idx] = np.nan\n",
    "y = alt_gbt.value.copy()\n",
    "y[~idx] = np.nan\n",
    "plt.plot(x, y, 'b-', label='GBT')\n",
    "y_t[idx] = 0\n",
    "\n",
    "# GMRT\n",
    "alt_gmrt = source_mid_dec.transform_to(AltAz(obstime=t, location=gmrt)).alt\n",
    "idx = alt_gmrt > 0\n",
    "x = ha.copy()\n",
    "x[~idx] = np.nan\n",
    "y = alt_gmrt.value.copy()\n",
    "y[~idx] = np.nan\n",
    "plt.plot(x, y, 'r-', label='GMRT')\n",
    "y_t[idx] = 0\n",
    "\n",
    "# Effelsberg\n",
    "alt_eff = source_mid_dec.transform_to(AltAz(obstime=t, location=eff)).alt\n",
    "idx = alt_eff > 0\n",
    "x = ha.copy()\n",
    "x[~idx] = np.nan\n",
    "y = alt_eff.value.copy()\n",
    "y[~idx] = np.nan\n",
    "plt.plot(x, y, 'g-', label='Effelsberg')\n",
    "y_t[idx] = 0\n",
    "\n",
    "plt.plot(ha, y_t, \"k-\")\n",
    "plt.legend()\n",
    "plt.title('Dec = 45 deg')\n",
    "\n",
    "print(f'{y_t[~np.isnan(y_t)].size / y_t.size * 100:.1f}% of time the source can be observed')"
   ]
  },
  {
   "cell_type": "code",
   "execution_count": 28,
   "id": "f23544bf",
   "metadata": {},
   "outputs": [
    {
     "name": "stdout",
     "output_type": "stream",
     "text": [
      "100.0% of time the source can be observed\n"
     ]
    },
    {
     "data": {
      "image/png": "[encoded data removed]",
      "text/plain": [
       "<Figure size 640x480 with 1 Axes>"
      ]
     },
     "metadata": {},
     "output_type": "display_data"
    }
   ],
   "source": [
    "# High dec\n",
    "ha = np.linspace(-12, 12, 100)\n",
    "t = ha*u.hour + Time('2012-7-13 00:00:00')\n",
    "y_t = np.zeros_like(ha) + np.nan\n",
    "\n",
    "# GBT\n",
    "alt_gbt = source_high_dec.transform_to(AltAz(obstime=t, location=gbt)).alt\n",
    "idx = alt_gbt > 0\n",
    "x = ha.copy()\n",
    "x[~idx] = np.nan\n",
    "y = alt_gbt.value.copy()\n",
    "y[~idx] = np.nan\n",
    "plt.plot(x, y, 'b-', label='GBT')\n",
    "y_t[idx] = 0\n",
    "\n",
    "# GMRT\n",
    "alt_gmrt = source_high_dec.transform_to(AltAz(obstime=t, location=gmrt)).alt\n",
    "idx = alt_gmrt > 0\n",
    "x = ha.copy()\n",
    "x[~idx] = np.nan\n",
    "y = alt_gmrt.value.copy()\n",
    "y[~idx] = np.nan\n",
    "plt.plot(x, y, 'r-', label='GMRT')\n",
    "y_t[idx] = 0\n",
    "\n",
    "# Effelsberg\n",
    "alt_eff = source_high_dec.transform_to(AltAz(obstime=t, location=eff)).alt\n",
    "idx = alt_eff > 0\n",
    "x = ha.copy()\n",
    "x[~idx] = np.nan\n",
    "y = alt_eff.value.copy()\n",
    "y[~idx] = np.nan\n",
    "plt.plot(x, y, 'g-', label='Effelsberg')\n",
    "y_t[idx] = 0\n",
    "\n",
    "plt.plot(ha, y_t, \"k-\")\n",
    "plt.legend()\n",
    "plt.title('Dec = 89 deg')\n",
    "\n",
    "print(f'{y_t[~np.isnan(y_t)].size / y_t.size * 100:.1f}% of time the source can be observed')"
   ]
  },
  {
   "cell_type": "code",
   "execution_count": null,
   "id": "a126f7ea",
   "metadata": {},
   "outputs": [],
   "source": []
  },
  {
   "cell_type": "code",
   "execution_count": null,
   "id": "d9fc2dd7",
   "metadata": {},
   "outputs": [],
   "source": []
  },
  {
   "cell_type": "code",
   "execution_count": null,
   "id": "f5df9157",
   "metadata": {},
   "outputs": [],
   "source": []
  },
  {
   "cell_type": "code",
   "execution_count": 1125,
   "id": "e41b31b6",
   "metadata": {},
   "outputs": [
    {
     "data": {
      "text/plain": [
       "<matplotlib.legend.Legend at 0x7efc277a3cd0>"
      ]
     },
     "execution_count": 1125,
     "metadata": {},
     "output_type": "execute_result"
    },
    {
     "data": {
      "image/png": "[encoded data removed]",
      "text/plain": [
       "<Figure size 640x480 with 1 Axes>"
      ]
     },
     "metadata": {},
     "output_type": "display_data"
    }
   ],
   "source": [
    "# FRB radial distribution within host galaxies\n",
    "\n",
    "#https://arxiv.org/pdf/2009.10747.pdf\n",
    "#https://arxiv.org/pdf/2302.14782.pdf\n",
    "#https://arxiv.org/pdf/2108.01282.pdf\n",
    "#https://arxiv.org/pdf/2301.01000.pdf\n",
    "\n",
    "# i-band and r-band\n",
    "offset = np.array([0.6, 5.5, 3.4, 1.2, 2.0, 27, 6.6, 11, 3.2, 1.9, 11, 3.0, 9.87, 3.80, 10.8, 5.7, 5.9, 2.3])\n",
    "reff = np.array([0.7, 3.6, 2.7, 7.2, 4.4, 3.3, 2.8, 2.1, 2.9, 3.9, 5.5, 1.6, 2.67, 6.64, 5.80, 1.78, 7.58, 2.7])\n",
    "\n",
    "r = np.sort(offset / reff)\n",
    "F = np.arange(r.size)/r.size\n",
    "\n",
    "from scipy import stats\n",
    "y_hist, bins = np.histogram(r, bins=np.arange(10))\n",
    "x_hist = bins[:-1]\n",
    "plt.step(x_hist, y_hist/y_hist.max(), color='k')\n",
    "\n",
    "\n",
    "x = np.linspace(x_hist.min(), x_hist.max(), 100)\n",
    "y = np.exp(-x)\n",
    "#y = y / y.max() * 7\n",
    "plt.plot(x, y, 'r-', label='exp(dR)')\n",
    "plt.xlabel('dR = offset / Reff')\n",
    "plt.ylabel('N (normalized)')\n",
    "plt.legend()"
   ]
  },
  {
   "cell_type": "code",
   "execution_count": null,
   "id": "2e8b7341",
   "metadata": {},
   "outputs": [],
   "source": []
  },
  {
   "cell_type": "code",
   "execution_count": null,
   "id": "a49fa502",
   "metadata": {},
   "outputs": [],
   "source": []
  },
  {
   "cell_type": "code",
   "execution_count": null,
   "id": "056f7a6e",
   "metadata": {},
   "outputs": [],
   "source": []
  },
  {
   "cell_type": "code",
   "execution_count": null,
   "id": "b8997d9a-9e11-406a-978c-0c5c6b61dcec",
   "metadata": {},
   "outputs": [],
   "source": []
  },
  {
   "cell_type": "code",
   "execution_count": null,
   "id": "ad318887-8102-41fd-88e2-2af151b679f9",
   "metadata": {},
   "outputs": [],
   "source": [
    "# OLD FUNCTIONS\n",
    "\n",
    "class FRB_Population:\n",
    "    \"\"\"\n",
    "    Parameters of the FRB population.\n",
    "    \"\"\"\n",
    "    parameters = {\n",
    "        'shin': {  # From https://ui.adsabs.harvard.edu/abs/2022arXiv220714316S/abstract\n",
    "            'Echar': [2.38e41, +5.35e41, -1.64e41, 0] * u.erg,  # Characteristic energy cut-of\n",
    "            'alpha_spect': [-1.39, +0.86, -1.19],  # Spectral index\n",
    "            'alpha_rate': 0,  # Rate index\n",
    "            'gamma': [-1.3, +0.7, -0.4],  # Differential power-law index\n",
    "            'Epivot': 1e39 * u.erg,  # Pivot energy\n",
    "            'frb_emission_rate_z0_Epivot': [7.3e4, +8.8e4, -3.8e4, 0] / u.Gpc**3/u.year,  # FRB rate at z=0 above Epivot\n",
    "            'n_sfr': [0.96, +0.81, -0.67],  # Index of star-formation rate\n",
    "        },\n",
    "        'shin_rate_interpretation': {  # From https://ui.adsabs.harvard.edu/abs/2022arXiv220714316S/abstract\n",
    "            'Echar': [1.95e41, +3.75e41, -1.28e41, 0] * u.erg,  # Characteristic energy cut-of\n",
    "            'alpha_spect': 0,  # Spectral index\n",
    "            'alpha_rate': [-1.10, +0.67, -0.99],  # Spectral index\n",
    "            'gamma': [-1.3, +0.8, -0.5],  # Differential power-law index\n",
    "            'Epivot': 1e39 * u.erg,  # Pivot energy\n",
    "            'frb_emission_rate_z0_Epivot': [6.8e4, +8.3e4, -3.6e4, 0] / u.Gpc**3/u.year,  # FRB rate at z=0 above Epivot\n",
    "            'n_sfr': [1.72, +1.48, -1.10],  # Index of star-formation rate\n",
    "        },\n",
    "        'james2023': {  # From https://arxiv.org/pdf/2208.00819.pdf\n",
    "            'Echar': [1.82e41, +1.57e41, -7.23e40, 0]  * u.erg,  # Characteristic energy cut-of\n",
    "            'alpha_spect': 0,  # Spectral index\n",
    "            'alpha_rate': [-0.99, +0.99, -1.01],  # Spectral index\n",
    "            'gamma': [-0.95-1, +0.18, -0.15],  # Differential power-law index\n",
    "            'n_sfr': [1.13, +0.49, -0.41],  # Index of star-formation rate\n",
    "            'Epivot': 1e30 * u.erg,  # Pivot energy\n",
    "            'frb_emission_rate_z0_Epivot': [6.8e4, +8.3e4, -3.6e4, 0] / u.Gpc**3/u.year # (10**1.96/u.Mpc**3/u.yr).to(1/u.Gpc**3/u.yr)\n",
    "        },\n",
    "    }\n",
    "    \n",
    "    def __init__(self, name='shin'):\n",
    "        self.model = name\n",
    "        self.parameters = FRB_Population.parameters\n",
    "        try:\n",
    "            _ = self.parameters[self.model]\n",
    "        except KeyError:\n",
    "            raise NotImplemented(\"Telescope unknown.\")\n",
    "            \n",
    "    def get_uncert_params(self, model = None):\n",
    "        if model is None: model = self.model\n",
    "        parameters = dict(self.parameters[model])\n",
    "        ii = 0\n",
    "        for key,value in parameters.items():\n",
    "            try:\n",
    "                size = len(value)\n",
    "                ii += 1\n",
    "            except TypeError:\n",
    "                # No uncertianty for single values\n",
    "                continue\n",
    "        return ii\n",
    "                \n",
    "    def get_parameters(self, model = None, uncertain = False):\n",
    "        if model is None: model = self.model\n",
    "        parameters = dict(self.parameters[model])\n",
    "        for key,value in parameters.items():\n",
    "            try:\n",
    "                size = len(value)\n",
    "            except TypeError:\n",
    "                # No uncertianty for single values\n",
    "                continue\n",
    "            if not uncertain:\n",
    "                # If no uncertainty is needed, return the value\n",
    "                parameters[key] = value[0]\n",
    "                continue\n",
    "            # If the uncertainty is 2-sided, randomly choose one\n",
    "            err = value[rng.choice([1,2])]\n",
    "            # Gaussian error\n",
    "            sign = err // abs(err)\n",
    "            if (size < 4) or (sign > 0):\n",
    "                try:\n",
    "                    random_err = rng.normal(scale = abs(err.value)) * err.unit\n",
    "                except AttributeError:\n",
    "                    # If the value has no units\n",
    "                    random_err = rng.normal(scale = abs(err))\n",
    "            else:\n",
    "                # Quantities defined only above a threshold, e.g. Energy>0\n",
    "                try:\n",
    "                    random_err = truncnorm.rvs(\n",
    "                        (-value[0] + value[3]) / abs(err.value),\n",
    "                        (value[0] - value[3]) / abs(err.value),\n",
    "                        scale=abs(err.value),\n",
    "                        random_state=rng\n",
    "                    ) * err.unit\n",
    "                except AttributeError:\n",
    "                    # If the value has no units\n",
    "                    random_err = truncnorm.rvs(\n",
    "                        (-value[0] + value[3]) / abs(err),\n",
    "                        (value[0] - value[3]) / abs(err),\n",
    "                        scale=abs(err),\n",
    "                        random_state=rng\n",
    "                    )\n",
    "            parameters[key] = value[0] + np.abs(random_err) * sign\n",
    "        return parameters\n"
   ]
  },
  {
   "cell_type": "code",
   "execution_count": null,
   "id": "c5d5799a-4243-4102-bdd0-fe6c8b1ffaf0",
   "metadata": {},
   "outputs": [],
   "source": []
  },
  {
   "cell_type": "code",
   "execution_count": null,
   "id": "abf1bd32-a535-4c2a-906b-ed26e9bb8979",
   "metadata": {},
   "outputs": [],
   "source": []
  },
  {
   "cell_type": "code",
   "execution_count": null,
   "id": "67778e4d-252b-420d-ac66-3e50d5ea3d83",
   "metadata": {},
   "outputs": [],
   "source": []
  },
  {
   "cell_type": "code",
   "execution_count": null,
   "id": "e7883683-8e0b-4e57-b0ab-3ec6e6ad8c83",
   "metadata": {},
   "outputs": [],
   "source": []
  },
  {
   "cell_type": "code",
   "execution_count": 207,
   "id": "570ae4ba-ac57-4f46-b4fd-24f2d90c17ca",
   "metadata": {
    "tags": []
   },
   "outputs": [],
   "source": []
  },
  {
   "cell_type": "code",
   "execution_count": 208,
   "id": "b73928c8-f6d2-49f2-b500-21ab030748e9",
   "metadata": {
    "tags": []
   },
   "outputs": [
    {
     "data": {
      "text/plain": [
       "(<Quantity 3.41157474e+09 solMass>, <Quantity 8.78159517e+11 solMass>)"
      ]
     },
     "execution_count": 208,
     "metadata": {},
     "output_type": "execute_result"
    }
   ],
   "source": [
    "m.min(), m.max()"
   ]
  },
  {
   "cell_type": "code",
   "execution_count": null,
   "id": "4acffae1-bf36-4ac1-a15c-236dab2bc939",
   "metadata": {
    "tags": []
   },
   "outputs": [],
   "source": []
  },
  {
   "cell_type": "code",
   "execution_count": null,
   "id": "d0df8bb0-9f9b-41c5-b23d-803a23dd37fd",
   "metadata": {},
   "outputs": [],
   "source": []
  },
  {
   "cell_type": "code",
   "execution_count": 1,
   "id": "2a9593bf-744c-41de-a7f6-0c61d16b7ed9",
   "metadata": {
    "tags": []
   },
   "outputs": [],
   "source": [
    "# Create galaxy csv\n",
    "import pandas as pd\n",
    "import numpy as np\n",
    "from numpy.random import default_rng\n",
    "\n",
    "seed = 2911167007  # Seed of random processes\n",
    "rng = default_rng(seed)  # Random generator; seed fixed for reproducibility\n",
    "\n",
    "# Tom's simulations\n",
    "euclid_sim = pd.read_csv('lenses_Euclid.txt', delim_whitespace=True)\n",
    "\n",
    "# Ana's simulations\n",
    "dfs = list()\n",
    "for ii in np.arange(0.01, 1, 0.01):\n",
    "    jj = round(ii, 2)\n",
    "    tab = pd.read_csv(f\"SIE/positions_mu_t_q={jj}.csv\", index_col=0)\n",
    "    tab[\"q\"] = jj\n",
    "    dfs.append(tab)\n",
    "magnification_sim = pd.concat(dfs, ignore_index=True)\n",
    "\n",
    "# Distance between the lens and the fast radio burst\n",
    "dist_lens_host = np.sqrt(euclid_sim['x_s_unlensed']**2 + euclid_sim['y_s_unlensed']**2)\n",
    "dist_host_frb = rng.exponential(1) * euclid_sim['halflightradius_s(arcsec)']\n",
    "dist_lens_frb = dist_lens_host + dist_host_frb * np.cos(rng.uniform(low=0, high=2*np.pi))\n",
    "\n",
    "# Clip ellipticity to match Ana's simulations\n",
    "euclid_sim['q_l'] = np.clip(euclid_sim['q_l'], 0.01, 0.99)\n",
    "\n",
    "# For each source galaxy, select the backround source closest to the FRB position\n",
    "rand_index = []\n",
    "for q, d in zip(euclid_sim['q_l'], dist_lens_frb):\n",
    "    rand_index.append(\n",
    "        (\n",
    "            magnification_sim['weights'][np.isclose(magnification_sim['q'], q)] - d\n",
    "        ).abs().idxmin()\n",
    "    )\n",
    "    \n",
    "# Table with all images for each host galaxy\n",
    "total_table = pd.concat([euclid_sim, magnification_sim.iloc[rand_index].reset_index()], axis=1)"
   ]
  },
  {
   "cell_type": "code",
   "execution_count": 3,
   "id": "0db78e1e-bb6a-49c9-9061-471b00e776ce",
   "metadata": {
    "tags": []
   },
   "outputs": [
    {
     "data": {
      "text/plain": [
       "z_l                               0.960000\n",
       "z_s                               3.600000\n",
       "R_Ein(arcsec)                     0.460000\n",
       "sigma(km/s)                     173.350000\n",
       "q_l                               0.670000\n",
       "halflightradius_l(arcsec)         0.360000\n",
       "mag_l_VIS                        23.610000\n",
       "x_s_unlensed                      0.170000\n",
       "y_s_unlensed                      0.180000\n",
       "q_s                               0.700000\n",
       "pa_s(degrees)                   138.100000\n",
       "halflightradius_s(arcsec)         0.130000\n",
       "mag_s_VIS                        24.740000\n",
       "averagemagnification              3.650000\n",
       "SNRofSource                      46.250000\n",
       "M_absolute_source_r             -21.330000\n",
       "index                        283340.000000\n",
       "RA                                0.278043\n",
       "DEC                              -0.601967\n",
       "N_images                          2.000000\n",
       "mu_tot                            2.645720\n",
       "tmax                             38.677139\n",
       "im1_RA                            0.540745\n",
       "im1_DEC                          -1.612673\n",
       "mu_1                              1.981069\n",
       "t1                                0.000000\n",
       "im2_RA                           -0.207403\n",
       "im2_DEC                           0.295806\n",
       "mu_2                              0.664651\n",
       "t2                               38.677139\n",
       "im3_RA                            0.000000\n",
       "im3_DEC                           0.000000\n",
       "mu_3                              0.000000\n",
       "t3                                0.000000\n",
       "im4_RA                            0.000000\n",
       "im4_DEC                           0.000000\n",
       "mu_4                              0.000000\n",
       "t4                                0.000000\n",
       "weights                           0.663078\n",
       "q                                 0.670000\n",
       "Name: 11, dtype: float64"
      ]
     },
     "execution_count": 3,
     "metadata": {},
     "output_type": "execute_result"
    }
   ],
   "source": [
    "total_table.iloc[11]"
   ]
  },
  {
   "cell_type": "code",
   "execution_count": null,
   "id": "d2621d03-c8d6-4f49-a570-b75838db6180",
   "metadata": {},
   "outputs": [],
   "source": []
  },
  {
   "cell_type": "code",
   "execution_count": 5,
   "id": "8e8a45dd-2f38-425c-b3de-2338017414b5",
   "metadata": {
    "tags": []
   },
   "outputs": [],
   "source": [
    "# https://www.imprs-astro.mpg.de/sites/default/files/lyskova.pdf\n",
    "\n",
    "from astropy import units as u\n",
    "from astropy.coordinates import Distance\n",
    "from astropy import constants as const\n",
    "from astropy.cosmology import Planck18 as cosmo\n",
    "\n",
    "m = (\n",
    "    1.6 * \n",
    "    (np.array(euclid_sim['sigma(km/s)'])*u.km/u.s)**2 *\n",
    "    (np.array(euclid_sim['halflightradius_l(arcsec)'])*u.arcsec).to(u.rad).value *\n",
    "    cosmo.angular_diameter_distance(np.array(euclid_sim['z_l'])) / \n",
    "    const.G\n",
    ").to(u.M_sun)"
   ]
  },
  {
   "cell_type": "code",
   "execution_count": null,
   "id": "220e0366-cc27-4345-91b4-654668446812",
   "metadata": {},
   "outputs": [],
   "source": []
  },
  {
   "cell_type": "code",
   "execution_count": null,
   "id": "62ddd1ee-c145-425a-b81d-41583641f2f1",
   "metadata": {},
   "outputs": [],
   "source": []
  },
  {
   "cell_type": "code",
   "execution_count": 6,
   "id": "2b1702c3-916b-4784-b2ac-658ef6366e65",
   "metadata": {
    "tags": []
   },
   "outputs": [],
   "source": [
    "a = pd.DataFrame()\n",
    "a['impact_parameter'] = dist_lens_frb / euclid_sim['halflightradius_l(arcsec)']\n",
    "a['lens_mass'] = m.value\n",
    "a['sigma(km/s)'] = euclid_sim['sigma(km/s)']\n",
    "a['halflightradius_l(arcsec)'] = euclid_sim['halflightradius_l(arcsec)']"
   ]
  },
  {
   "cell_type": "code",
   "execution_count": 9,
   "id": "33b14d27-95ac-4439-9c7e-205c6a752a28",
   "metadata": {
    "tags": []
   },
   "outputs": [],
   "source": [
    "a.to_csv('b_mass.csv', sep=' ', index=False)"
   ]
  },
  {
   "cell_type": "code",
   "execution_count": 14,
   "id": "cc24a058-09ea-4e40-a3f0-a7dbcd4ede59",
   "metadata": {},
   "outputs": [
    {
     "data": {
      "text/plain": [
       "11.32378210982464"
      ]
     },
     "execution_count": 14,
     "metadata": {},
     "output_type": "execute_result"
    }
   ],
   "source": [
    "a['impact_parameter'].max()"
   ]
  },
  {
   "cell_type": "code",
   "execution_count": null,
   "id": "ec48fb22-5942-41b5-873e-93d3f34402c9",
   "metadata": {},
   "outputs": [],
   "source": []
  },
  {
   "cell_type": "code",
   "execution_count": null,
   "id": "08c9fbd6-376a-4537-9cbe-c1ff745f62ef",
   "metadata": {
    "tags": []
   },
   "outputs": [],
   "source": []
  },
  {
   "cell_type": "code",
   "execution_count": null,
   "id": "b1709661-7a77-452b-8f4e-30b1e6fb4526",
   "metadata": {},
   "outputs": [],
   "source": []
  },
  {
   "cell_type": "code",
   "execution_count": 18,
   "id": "1facda99-b5fa-4d1a-a927-272c703fd737",
   "metadata": {
    "tags": []
   },
   "outputs": [],
   "source": [
    "# Clip ellipticity to match Ana's simulations\n",
    "euclid_sim['q_l'] = np.clip(euclid_sim['q_l'], 0.01, 0.99)"
   ]
  },
  {
   "cell_type": "code",
   "execution_count": 19,
   "id": "7aa711b0-ae24-47b7-a996-59adb7eafe5f",
   "metadata": {
    "tags": []
   },
   "outputs": [],
   "source": [
    "# Distance between the lens and the fast radio burst\n",
    "dist_lens_host = np.sqrt(euclid_sim['x_s_unlensed']**2 + euclid_sim['y_s_unlensed']**2)\n",
    "dist_host_frb = rng.exponential(1) * euclid_sim['halflightradius_s(arcsec)']\n",
    "dist_lens_frb = dist_lens_host + dist_host_frb * np.cos(rng.uniform(low=0, high=2*np.pi))"
   ]
  },
  {
   "cell_type": "code",
   "execution_count": 20,
   "id": "96d828f7-8248-49a4-8a5d-eba7d6b87c14",
   "metadata": {
    "tags": []
   },
   "outputs": [],
   "source": [
    "dist_lens_frb_Er = dist_lens_frb / euclid_sim['R_Ein(arcsec)']"
   ]
  },
  {
   "cell_type": "code",
   "execution_count": null,
   "id": "8ad4743d-72ed-4e98-b06b-67556c2f91ea",
   "metadata": {
    "tags": []
   },
   "outputs": [],
   "source": []
  },
  {
   "cell_type": "code",
   "execution_count": 1,
   "id": "16a0b353-ccea-4ee8-b6b3-c08834f29a34",
   "metadata": {
    "tags": []
   },
   "outputs": [
    {
     "ename": "NameError",
     "evalue": "name 'dist_lens_host' is not defined",
     "output_type": "error",
     "traceback": [
      "\u001b[0;31m---------------------------------------------------------------------------\u001b[0m",
      "\u001b[0;31mNameError\u001b[0m                                 Traceback (most recent call last)",
      "Cell \u001b[0;32mIn[1], line 1\u001b[0m\n\u001b[0;32m----> 1\u001b[0m \u001b[43mdist_lens_host\u001b[49m\n",
      "\u001b[0;31mNameError\u001b[0m: name 'dist_lens_host' is not defined"
     ]
    }
   ],
   "source": [
    "dist_lens_host"
   ]
  },
  {
   "cell_type": "code",
   "execution_count": null,
   "id": "08e2c676-cb23-4307-8881-89aa9afc1e64",
   "metadata": {},
   "outputs": [],
   "source": []
  },
  {
   "cell_type": "code",
   "execution_count": 27,
   "id": "4cc6cda2-5435-42c9-9dde-239987c8ad3b",
   "metadata": {
    "tags": []
   },
   "outputs": [],
   "source": [
    "tom_sim = euclid_sim.iloc[0]\n",
    "ana_sim = magnification_sim"
   ]
  },
  {
   "cell_type": "code",
   "execution_count": 28,
   "id": "e988224f-448a-4c31-bd33-19e5d748a739",
   "metadata": {
    "tags": []
   },
   "outputs": [],
   "source": [
    "frb_host_dist = rng.exponential(1) * tom_sim['halflightradius_s(arcsec)'] * u.arcsec\n",
    "frb_host_angle = rng.uniform(low=0, high=2*np.pi) * u.rad\n",
    "frb_host_x = frb_host_dist * np.cos(frb_host_angle)\n",
    "frb_host_y = frb_host_dist * np.sin(frb_host_angle)\n",
    "frb_lens_x = frb_host_x + tom_sim['x_s_unlensed'] * u.arcsec\n",
    "frb_lens_y = frb_host_y + tom_sim['y_s_unlensed'] * u.arcsec"
   ]
  },
  {
   "cell_type": "code",
   "execution_count": 29,
   "id": "c0d80b39-879a-43f1-9c30-375a3647524e",
   "metadata": {
    "tags": []
   },
   "outputs": [],
   "source": [
    "frb_lens_x_Er = frb_lens_x / tom_sim['R_Ein(arcsec)'] / u.arcsec\n",
    "frb_lens_y_Er = frb_lens_y / tom_sim['R_Ein(arcsec)'] / u.arcsec"
   ]
  },
  {
   "cell_type": "code",
   "execution_count": 34,
   "id": "762291ab-a5de-40b9-a3c9-35aa6e75ce11",
   "metadata": {
    "tags": []
   },
   "outputs": [],
   "source": [
    "ana_sample = ana_sim[np.isclose(ana_sim['q'], tom_sim['q_l'])]\n",
    "dist = np.sqrt((ana_sample['RA'] - frb_lens_x_Er)**2 + (ana_sample['DEC'] - frb_lens_y_Er)**2)\n",
    "images = ana_sample.iloc[dist.argmin()]"
   ]
  },
  {
   "cell_type": "code",
   "execution_count": 39,
   "id": "57dcf865-ba45-4980-84af-1ced67066f95",
   "metadata": {
    "tags": []
   },
   "outputs": [],
   "source": [
    "position_RA = images['im1_RA'] * tom_sim['R_Ein(arcsec)'] * u.arcsec\n",
    "position_DEC = images['im1_DEC'] * tom_sim['R_Ein(arcsec)'] * u.arcsec"
   ]
  },
  {
   "cell_type": "code",
   "execution_count": 40,
   "id": "1c332e6b-57b4-434a-b01a-ed7a0d6662bd",
   "metadata": {
    "tags": []
   },
   "outputs": [
    {
     "data": {
      "text/plain": [
       "RA          -0.463644\n",
       "DEC         -0.240981\n",
       "N_images     2.000000\n",
       "mu_tot       3.899615\n",
       "tmax        29.046042\n",
       "im1_RA      -1.309879\n",
       "im1_DEC     -0.760587\n",
       "mu_1         3.058855\n",
       "t1           0.000000\n",
       "im2_RA       0.424406\n",
       "im2_DEC      0.198681\n",
       "mu_2         0.840759\n",
       "t2          29.046042\n",
       "im3_RA       0.000000\n",
       "im3_DEC      0.000000\n",
       "mu_3         0.000000\n",
       "t3           0.000000\n",
       "im4_RA       0.000000\n",
       "im4_DEC      0.000000\n",
       "mu_4         0.000000\n",
       "t4           0.000000\n",
       "weights      0.522529\n",
       "q            0.920000\n",
       "Name: 408612, dtype: float64"
      ]
     },
     "execution_count": 40,
     "metadata": {},
     "output_type": "execute_result"
    }
   ],
   "source": [
    "images['t1'] * (tom_sim['R_Ein(arcsec)'] * u.arcsec)**2"
   ]
  },
  {
   "cell_type": "code",
   "execution_count": null,
   "id": "e57b2bba-36a6-4b9a-958b-c596cdea1ffe",
   "metadata": {},
   "outputs": [],
   "source": []
  },
  {
   "cell_type": "code",
   "execution_count": 11,
   "id": "f40b8b22-4181-4fb3-9e54-16a1a6e4dc13",
   "metadata": {
    "tags": []
   },
   "outputs": [
    {
     "data": {
      "text/html": [
       "<div>\n",
       "<style scoped>\n",
       "    .dataframe tbody tr th:only-of-type {\n",
       "        vertical-align: middle;\n",
       "    }\n",
       "\n",
       "    .dataframe tbody tr th {\n",
       "        vertical-align: top;\n",
       "    }\n",
       "\n",
       "    .dataframe thead th {\n",
       "        text-align: right;\n",
       "    }\n",
       "</style>\n",
       "<table border=\"1\" class=\"dataframe\">\n",
       "  <thead>\n",
       "    <tr style=\"text-align: right;\">\n",
       "      <th></th>\n",
       "      <th>z_l</th>\n",
       "      <th>z_s</th>\n",
       "      <th>R_Ein(arcsec)</th>\n",
       "      <th>sigma(km/s)</th>\n",
       "      <th>q_l</th>\n",
       "      <th>halflightradius_l(arcsec)</th>\n",
       "      <th>mag_l_VIS</th>\n",
       "      <th>x_s_unlensed</th>\n",
       "      <th>y_s_unlensed</th>\n",
       "      <th>q_s</th>\n",
       "      <th>pa_s(degrees)</th>\n",
       "      <th>halflightradius_s(arcsec)</th>\n",
       "      <th>mag_s_VIS</th>\n",
       "      <th>averagemagnification</th>\n",
       "      <th>SNRofSource</th>\n",
       "      <th>M_absolute_source_r</th>\n",
       "    </tr>\n",
       "  </thead>\n",
       "  <tbody>\n",
       "    <tr>\n",
       "      <th>0</th>\n",
       "      <td>0.44</td>\n",
       "      <td>1.07</td>\n",
       "      <td>1.30</td>\n",
       "      <td>295.82</td>\n",
       "      <td>0.92</td>\n",
       "      <td>0.76</td>\n",
       "      <td>17.86</td>\n",
       "      <td>-0.40</td>\n",
       "      <td>-0.01</td>\n",
       "      <td>0.67</td>\n",
       "      <td>177.36</td>\n",
       "      <td>0.21</td>\n",
       "      <td>24.96</td>\n",
       "      <td>7.81</td>\n",
       "      <td>30.28</td>\n",
       "      <td>-20.06</td>\n",
       "    </tr>\n",
       "    <tr>\n",
       "      <th>1</th>\n",
       "      <td>1.07</td>\n",
       "      <td>2.00</td>\n",
       "      <td>0.45</td>\n",
       "      <td>217.65</td>\n",
       "      <td>0.83</td>\n",
       "      <td>0.38</td>\n",
       "      <td>23.47</td>\n",
       "      <td>-0.03</td>\n",
       "      <td>0.10</td>\n",
       "      <td>0.58</td>\n",
       "      <td>20.77</td>\n",
       "      <td>0.24</td>\n",
       "      <td>25.50</td>\n",
       "      <td>5.05</td>\n",
       "      <td>25.76</td>\n",
       "      <td>-21.17</td>\n",
       "    </tr>\n",
       "    <tr>\n",
       "      <th>2</th>\n",
       "      <td>0.46</td>\n",
       "      <td>2.38</td>\n",
       "      <td>0.51</td>\n",
       "      <td>160.18</td>\n",
       "      <td>0.75</td>\n",
       "      <td>0.44</td>\n",
       "      <td>20.76</td>\n",
       "      <td>0.10</td>\n",
       "      <td>0.07</td>\n",
       "      <td>0.48</td>\n",
       "      <td>5.44</td>\n",
       "      <td>0.15</td>\n",
       "      <td>25.97</td>\n",
       "      <td>7.49</td>\n",
       "      <td>23.09</td>\n",
       "      <td>-21.12</td>\n",
       "    </tr>\n",
       "    <tr>\n",
       "      <th>3</th>\n",
       "      <td>0.74</td>\n",
       "      <td>1.10</td>\n",
       "      <td>1.05</td>\n",
       "      <td>374.43</td>\n",
       "      <td>0.66</td>\n",
       "      <td>1.02</td>\n",
       "      <td>18.61</td>\n",
       "      <td>0.26</td>\n",
       "      <td>0.60</td>\n",
       "      <td>0.80</td>\n",
       "      <td>46.51</td>\n",
       "      <td>0.70</td>\n",
       "      <td>23.32</td>\n",
       "      <td>3.34</td>\n",
       "      <td>36.79</td>\n",
       "      <td>-22.22</td>\n",
       "    </tr>\n",
       "    <tr>\n",
       "      <th>4</th>\n",
       "      <td>1.04</td>\n",
       "      <td>2.26</td>\n",
       "      <td>0.67</td>\n",
       "      <td>244.34</td>\n",
       "      <td>0.42</td>\n",
       "      <td>0.88</td>\n",
       "      <td>22.80</td>\n",
       "      <td>0.03</td>\n",
       "      <td>-0.64</td>\n",
       "      <td>0.69</td>\n",
       "      <td>68.63</td>\n",
       "      <td>0.13</td>\n",
       "      <td>25.43</td>\n",
       "      <td>4.14</td>\n",
       "      <td>34.38</td>\n",
       "      <td>-21.45</td>\n",
       "    </tr>\n",
       "    <tr>\n",
       "      <th>...</th>\n",
       "      <td>...</td>\n",
       "      <td>...</td>\n",
       "      <td>...</td>\n",
       "      <td>...</td>\n",
       "      <td>...</td>\n",
       "      <td>...</td>\n",
       "      <td>...</td>\n",
       "      <td>...</td>\n",
       "      <td>...</td>\n",
       "      <td>...</td>\n",
       "      <td>...</td>\n",
       "      <td>...</td>\n",
       "      <td>...</td>\n",
       "      <td>...</td>\n",
       "      <td>...</td>\n",
       "      <td>...</td>\n",
       "    </tr>\n",
       "    <tr>\n",
       "      <th>169585</th>\n",
       "      <td>0.81</td>\n",
       "      <td>1.85</td>\n",
       "      <td>0.67</td>\n",
       "      <td>231.66</td>\n",
       "      <td>0.70</td>\n",
       "      <td>0.49</td>\n",
       "      <td>21.65</td>\n",
       "      <td>-0.01</td>\n",
       "      <td>0.12</td>\n",
       "      <td>0.67</td>\n",
       "      <td>142.40</td>\n",
       "      <td>0.34</td>\n",
       "      <td>25.21</td>\n",
       "      <td>5.70</td>\n",
       "      <td>26.52</td>\n",
       "      <td>-21.48</td>\n",
       "    </tr>\n",
       "    <tr>\n",
       "      <th>169586</th>\n",
       "      <td>0.17</td>\n",
       "      <td>1.18</td>\n",
       "      <td>0.85</td>\n",
       "      <td>191.20</td>\n",
       "      <td>0.64</td>\n",
       "      <td>1.07</td>\n",
       "      <td>17.29</td>\n",
       "      <td>0.11</td>\n",
       "      <td>0.42</td>\n",
       "      <td>0.86</td>\n",
       "      <td>20.61</td>\n",
       "      <td>0.03</td>\n",
       "      <td>26.25</td>\n",
       "      <td>7.86</td>\n",
       "      <td>23.47</td>\n",
       "      <td>-18.93</td>\n",
       "    </tr>\n",
       "    <tr>\n",
       "      <th>169587</th>\n",
       "      <td>0.82</td>\n",
       "      <td>2.23</td>\n",
       "      <td>0.61</td>\n",
       "      <td>209.02</td>\n",
       "      <td>0.62</td>\n",
       "      <td>0.36</td>\n",
       "      <td>22.01</td>\n",
       "      <td>0.08</td>\n",
       "      <td>0.14</td>\n",
       "      <td>0.91</td>\n",
       "      <td>128.08</td>\n",
       "      <td>0.07</td>\n",
       "      <td>26.37</td>\n",
       "      <td>7.69</td>\n",
       "      <td>24.70</td>\n",
       "      <td>-20.44</td>\n",
       "    </tr>\n",
       "    <tr>\n",
       "      <th>169588</th>\n",
       "      <td>1.50</td>\n",
       "      <td>2.50</td>\n",
       "      <td>0.41</td>\n",
       "      <td>239.13</td>\n",
       "      <td>0.79</td>\n",
       "      <td>0.49</td>\n",
       "      <td>25.34</td>\n",
       "      <td>0.16</td>\n",
       "      <td>-0.03</td>\n",
       "      <td>0.47</td>\n",
       "      <td>105.12</td>\n",
       "      <td>0.13</td>\n",
       "      <td>25.22</td>\n",
       "      <td>4.50</td>\n",
       "      <td>38.71</td>\n",
       "      <td>-21.95</td>\n",
       "    </tr>\n",
       "    <tr>\n",
       "      <th>169589</th>\n",
       "      <td>0.56</td>\n",
       "      <td>2.44</td>\n",
       "      <td>0.57</td>\n",
       "      <td>175.98</td>\n",
       "      <td>0.87</td>\n",
       "      <td>0.48</td>\n",
       "      <td>21.15</td>\n",
       "      <td>-0.22</td>\n",
       "      <td>0.17</td>\n",
       "      <td>0.70</td>\n",
       "      <td>101.03</td>\n",
       "      <td>0.31</td>\n",
       "      <td>24.31</td>\n",
       "      <td>3.90</td>\n",
       "      <td>39.44</td>\n",
       "      <td>-21.09</td>\n",
       "    </tr>\n",
       "  </tbody>\n",
       "</table>\n",
       "<p>169590 rows × 16 columns</p>\n",
       "</div>"
      ],
      "text/plain": [
       "         z_l   z_s  R_Ein(arcsec)  sigma(km/s)   q_l   \n",
       "0       0.44  1.07           1.30       295.82  0.92  \\\n",
       "1       1.07  2.00           0.45       217.65  0.83   \n",
       "2       0.46  2.38           0.51       160.18  0.75   \n",
       "3       0.74  1.10           1.05       374.43  0.66   \n",
       "4       1.04  2.26           0.67       244.34  0.42   \n",
       "...      ...   ...            ...          ...   ...   \n",
       "169585  0.81  1.85           0.67       231.66  0.70   \n",
       "169586  0.17  1.18           0.85       191.20  0.64   \n",
       "169587  0.82  2.23           0.61       209.02  0.62   \n",
       "169588  1.50  2.50           0.41       239.13  0.79   \n",
       "169589  0.56  2.44           0.57       175.98  0.87   \n",
       "\n",
       "        halflightradius_l(arcsec)  mag_l_VIS  x_s_unlensed  y_s_unlensed   \n",
       "0                            0.76      17.86         -0.40         -0.01  \\\n",
       "1                            0.38      23.47         -0.03          0.10   \n",
       "2                            0.44      20.76          0.10          0.07   \n",
       "3                            1.02      18.61          0.26          0.60   \n",
       "4                            0.88      22.80          0.03         -0.64   \n",
       "...                           ...        ...           ...           ...   \n",
       "169585                       0.49      21.65         -0.01          0.12   \n",
       "169586                       1.07      17.29          0.11          0.42   \n",
       "169587                       0.36      22.01          0.08          0.14   \n",
       "169588                       0.49      25.34          0.16         -0.03   \n",
       "169589                       0.48      21.15         -0.22          0.17   \n",
       "\n",
       "         q_s  pa_s(degrees)  halflightradius_s(arcsec)  mag_s_VIS   \n",
       "0       0.67         177.36                       0.21      24.96  \\\n",
       "1       0.58          20.77                       0.24      25.50   \n",
       "2       0.48           5.44                       0.15      25.97   \n",
       "3       0.80          46.51                       0.70      23.32   \n",
       "4       0.69          68.63                       0.13      25.43   \n",
       "...      ...            ...                        ...        ...   \n",
       "169585  0.67         142.40                       0.34      25.21   \n",
       "169586  0.86          20.61                       0.03      26.25   \n",
       "169587  0.91         128.08                       0.07      26.37   \n",
       "169588  0.47         105.12                       0.13      25.22   \n",
       "169589  0.70         101.03                       0.31      24.31   \n",
       "\n",
       "        averagemagnification  SNRofSource  M_absolute_source_r  \n",
       "0                       7.81        30.28               -20.06  \n",
       "1                       5.05        25.76               -21.17  \n",
       "2                       7.49        23.09               -21.12  \n",
       "3                       3.34        36.79               -22.22  \n",
       "4                       4.14        34.38               -21.45  \n",
       "...                      ...          ...                  ...  \n",
       "169585                  5.70        26.52               -21.48  \n",
       "169586                  7.86        23.47               -18.93  \n",
       "169587                  7.69        24.70               -20.44  \n",
       "169588                  4.50        38.71               -21.95  \n",
       "169589                  3.90        39.44               -21.09  \n",
       "\n",
       "[169590 rows x 16 columns]"
      ]
     },
     "execution_count": 11,
     "metadata": {},
     "output_type": "execute_result"
    }
   ],
   "source": [
    "euclid_sim"
   ]
  },
  {
   "cell_type": "code",
   "execution_count": 7,
   "id": "7d00871d-abd3-4e43-9de9-3704f02f7311",
   "metadata": {
    "tags": []
   },
   "outputs": [],
   "source": [
    "import pandas as pd"
   ]
  },
  {
   "cell_type": "code",
   "execution_count": 8,
   "id": "d6e03410-fa70-4247-ba84-3cd2637202ec",
   "metadata": {
    "tags": []
   },
   "outputs": [],
   "source": [
    "euclid_sim = pd.read_csv('lenses_Euclid.txt', delim_whitespace=True)"
   ]
  },
  {
   "cell_type": "code",
   "execution_count": 9,
   "id": "20fb1675-65d8-45f0-91f7-11cea1047201",
   "metadata": {
    "tags": []
   },
   "outputs": [],
   "source": [
    "dist_lens_host = np.sqrt(euclid_sim['x_s_unlensed']**2 + euclid_sim['y_s_unlensed']**2)"
   ]
  },
  {
   "cell_type": "code",
   "execution_count": 15,
   "id": "8db741e8-9a9b-4c0a-9ed0-7096d2f2035a",
   "metadata": {
    "tags": []
   },
   "outputs": [
    {
     "data": {
      "text/latex": [
       "$[2.3455303,~0.87198583,~0.73381534,~\\dots,~1.2557369,~1.4133967,~1.8528671] \\; \\mathrm{kpc}$"
      ],
      "text/plain": [
       "<Quantity [2.34553033, 0.87198583, 0.73381534, ..., 1.2557369 , 1.41339675,\n",
       "           1.85286709] kpc>"
      ]
     },
     "execution_count": 15,
     "metadata": {},
     "output_type": "execute_result"
    }
   ],
   "source": [
    "(\n",
    "    (np.array(dist_lens_host) * u.arcsec).to(u.rad) * \n",
    "    cosmo.angular_diameter_distance(np.array(euclid_sim['z_l']))\n",
    ").to(u.kpc, equivalencies=u.dimensionless_angles())"
   ]
  }
 ],
 "metadata": {
  "kernelspec": {
   "display_name": "Python 3 (ipykernel)",
   "language": "python",
   "name": "python3"
  },
  "language_info": {
   "codemirror_mode": {
    "name": "ipython",
    "version": 3
   },
   "file_extension": ".py",
   "mimetype": "text/x-python",
   "name": "python",
   "nbconvert_exporter": "python",
   "pygments_lexer": "ipython3",
   "version": "3.8.16"
  }
 },
 "nbformat": 4,
 "nbformat_minor": 5
}
