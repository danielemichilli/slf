{
 "cells": [
  {
   "cell_type": "markdown",
   "id": "0758a1c2-8c46-4a92-a5c3-8bce4a29cb4b",
   "metadata": {},
   "source": [
    "For the paper:\n",
    "- Use https://arxiv.org/abs/1706.06103 for scattering\n",
    "- Use term \"optical depth\" instead of lensing fraction, check that out\n",
    "- Update parameters with https://arxiv.org/pdf/2208.00819.pdf\n",
    "- Scattering in lens: \n",
    "    - https://arxiv.org/pdf/1706.06103.pdf\n",
    "    - https://iopscience.iop.org/article/10.1088/0004-637X/776/2/125/pdf\n",
    "- Compare rates to https://arxiv.org/pdf/2206.14310.pdf\n",
    "\n",
    "\n",
    "TODO\n",
    "- Update parameters with Clancy model\n",
    "- Use \"rate interpretation\" of alpha (https://arxiv.org/pdf/2101.08005.pdfhttps://arxiv.org/pdf/2101.08005.pdf)\n",
    "- Add other telescopes\n",
    "- Add uncertainties\n",
    "- Add magnification factor\n",
    "- Add scattering horizon\n",
    "- Same number of FRBs for lensed simulations\n",
    "- Revise total rate for multi-band searches\n",
    "- Try FoV at middle of the band"
   ]
  },
  {
   "cell_type": "code",
   "execution_count": 1,
   "id": "5d048da6-4c25-4841-a3c0-de5f34062c8a",
   "metadata": {
    "tags": []
   },
   "outputs": [],
   "source": [
    "import warnings\n",
    "warnings.filterwarnings(\"error\")"
   ]
  },
  {
   "cell_type": "code",
   "execution_count": 1,
   "id": "298f16f0-20dd-4a42-bc9f-31535364c37e",
   "metadata": {
    "tags": []
   },
   "outputs": [],
   "source": [
    "import sys\n",
    "sys.path.insert(0, \"/arc/home/michilli/.local/lib/python3.8/site-packages/\")\n",
    "sys.path.append(\"/arc/home/michilli/CHIMEFRB-Cat1-Energy-Dist-Distrs/\")"
   ]
  },
  {
   "cell_type": "code",
   "execution_count": null,
   "id": "e3df8e42-e6ed-4b28-920a-9a2bd8313ae2",
   "metadata": {},
   "outputs": [],
   "source": []
  },
  {
   "cell_type": "code",
   "execution_count": 2,
   "id": "c7ff1cac",
   "metadata": {
    "tags": []
   },
   "outputs": [],
   "source": [
    "# Python 3.8.16\n",
    "import os\n",
    "import pickle\n",
    "import datetime\n",
    "import itertools\n",
    "\n",
    "# Numpy 1.24.2\n",
    "import numpy as np\n",
    "from numpy.random import default_rng\n",
    "# matplotlib 3.7.1\n",
    "import matplotlib.pyplot as plt\n",
    "# astropy 5.2.1\n",
    "from astropy import units as u\n",
    "from astropy.coordinates import Distance\n",
    "from astropy import constants as const\n",
    "from astropy.cosmology import Planck18 as cosmo\n",
    "# scipy 1.9.3\n",
    "from scipy.special import j1\n",
    "from scipy import optimize\n",
    "from scipy.stats import truncnorm\n",
    "from scipy.ndimage import gaussian_filter as gf\n",
    "from scipy.interpolate import CubicSpline as spline\n",
    "from scipy import integrate\n",
    "# mpmath 1.3.0\n",
    "from mpmath import gammainc\n",
    "\n",
    "\n",
    "\n",
    "# Classes and functions\n",
    "\n",
    "class Telescope:\n",
    "    \"\"\"\n",
    "    Telescope parameters\n",
    "    \"\"\"\n",
    "    parameters = {\n",
    "        'dummy': {  # test parameters\n",
    "            'Srec': 15 * u.Jy,\n",
    "            'v0': 800 * u.MHz,\n",
    "            'v1': 1600 * u.MHz,\n",
    "            'D': 50 * u.m,\n",
    "            'bands': [\n",
    "                [800 * u.MHz, 1200 * u.MHz],\n",
    "                [1200 * u.MHz, 1600 * u.MHz],\n",
    "            ]\n",
    "        },\n",
    "        'chime': {  # from https://ui.adsabs.harvard.edu/abs/2022ApJS..261...29C/abstract\n",
    "            # from https://ui.adsabs.harvard.edu/abs/2017ApJ...844..140C/abstract\n",
    "            'Srec': 50 / 1.38 * u.Jy,\n",
    "            'gain': 1.38 * u.K / u.Jy,\n",
    "            'v0': 400 * u.MHz,\n",
    "            'v1': 800 * u.MHz,            \n",
    "            'Dx': 20 * u.m,\n",
    "            'Dy': 0.87 * u.m,  # Emprirical value to have a beam of ~100 deg\n",
    "        },\n",
    "        'utmost': {  # from https://arxiv.org/pdf/1708.09619.pdf\n",
    "            'Srec': 115 * np.sqrt(2) * u.Jy,  # The sqrt(2) correction is for the single polarization\n",
    "            'gain': 0.5 * u.K / u.Jy,\n",
    "            'v0': 836 * u.MHz,\n",
    "            'v1': 850 * u.MHz,            \n",
    "            'Dx': 11.6 * u.m,\n",
    "            'Dy': 0.88 * (835 * u.MHz).to(u.m, equivalencies=u.spectral()) / (4.25 * u.deg).to(u.rad).value,  # Value to have a FWHP=4.25deg\n",
    "        },\n",
    "        'chord': {  # from https://ui.adsabs.harvard.edu/abs/2019clrp.2020...28V/abstract\n",
    "            'Srec': 9 * u.Jy,\n",
    "            'gain': 30 * u.K / 9 / u.Jy,\n",
    "            'v0': 300 * u.MHz,\n",
    "            'v1': 1500 * u.MHz,\n",
    "            'D': 6 * u.m,\n",
    "            'bands': [\n",
    "                [300 * u.MHz, 700 * u.MHz],\n",
    "                [700 * u.MHz, 1100 * u.MHz],\n",
    "                [1100 * u.MHz, 1500 * u.MHz],\n",
    "            ]\n",
    "        },\n",
    "        'dsa2000': {  # from https://ui.adsabs.harvard.edu/abs/2019BAAS...51g.255H/abstract\n",
    "            'Srec': 2.5 * u.Jy,\n",
    "            'gain': 25 * u.K / 2.5 / u.Jy,\n",
    "            'v0': 700 * u.MHz,\n",
    "            'v1': 2000 * u.MHz,\n",
    "            'D': 5 * u.m,\n",
    "            'bands': [\n",
    "                [700 * u.MHz, 1100 * u.MHz],\n",
    "                [1100 * u.MHz, 1500 * u.MHz],\n",
    "                [1500 * u.MHz, 2000 * u.MHz],\n",
    "            ]\n",
    "        },\n",
    "        'aperitif': {  # from https://www.aanda.org/articles/aa/full_html/2022/02/aa41739-21/aa41739-21.html\n",
    "            'Srec': 560 * u.Jy,\n",
    "            'gain': 70 / 560 * u.K / u.Jy,\n",
    "            'v0': (1370 - 300/2) * u.MHz,\n",
    "            'v1': (1370 + 300/2) * u.MHz,            \n",
    "            'D': 25 * u.m,\n",
    "        },\n",
    "        'fast': {  # from https://ui.adsabs.harvard.edu/abs/2016RaSc...51.1060L/abstract\n",
    "            'Srec': 20 * u.K / (18 * u.K / u.Jy),\n",
    "            'gain': 18 * u.K / u.Jy,\n",
    "            'v0': 1220 * u.MHz,\n",
    "            'v1': 1520 * u.MHz,            \n",
    "            'D': 300 * u.m,\n",
    "        },\n",
    "        'askap': {  # from https://ui.adsabs.harvard.edu/abs/2016PASA...33...42M/abstract\n",
    "            'Srec': 2000 * u.Jy,\n",
    "            'gain': 115 * u.K / 4000 / u.Jy,\n",
    "            'v0': (1320 - 336/2) * u.MHz,\n",
    "            'v1': (1320 + 336/2) * u.MHz,            \n",
    "            'D': 12 * u.m,\n",
    "        },\n",
    "        'parkes': {  # from https://arxiv.org/pdf/astro-ph/0106522.pdf\n",
    "            'Srec': 21 / 0.7 * u.Jy,\n",
    "            'gain': 0.7 * u.K / u.Jy,\n",
    "            'v0': (1374 - 288/2) * u.MHz,\n",
    "            'v1': (1374 + 288/2) * u.MHz,            \n",
    "            'D': 64 * u.m,\n",
    "        },\n",
    "    }\n",
    "    \n",
    "    def __init__(self, name='chord'):\n",
    "        self.name = name\n",
    "        self.parameters = Telescope.parameters\n",
    "        try:\n",
    "            _ = self.parameters[name]\n",
    "        except KeyError:\n",
    "            raise NotImplemented(\"Telescope unknown.\")\n",
    "        \n",
    "    def get_parameters(self, name = None):\n",
    "        if name is None: name = self.name\n",
    "        return self.parameters[name]\n",
    "    \n",
    "    def bandwidth(self, name = None):\n",
    "        if name is None: name = self.name\n",
    "        return self.parameters[name]['v1'] - self.parameters[name]['v0']\n",
    "    \n",
    "    def sefd(self, name = None, freq = None, uncertain = False):\n",
    "        if name is None: name = self.name\n",
    "        if freq is None:\n",
    "            freq = (\n",
    "                self.parameters[name]['v0'] + \n",
    "                self.parameters[name]['v1']\n",
    "            ) / 2\n",
    "        sefd = (\n",
    "            self.parameters[name]['Srec'] + \n",
    "            34 * u.K * (freq / 408 / u.MHz)**-2.6 / \n",
    "            self.parameters[name]['gain']\n",
    "        )\n",
    "        if uncertain:\n",
    "            # Add an error of 20%\n",
    "            sefd = rng.normal(\n",
    "                loc=sefd.to(u.Jy).value,\n",
    "                scale=sefd.to(u.Jy).value * 0.2\n",
    "            ) * u.Jy\n",
    "        return sefd\n",
    "    \n",
    "    def v0(self, name = None):\n",
    "        if name is None: name = self.name\n",
    "        return self.parameters[name]['v0']\n",
    "    \n",
    "    def v1(self, name = None):\n",
    "        if name is None: name = self.name\n",
    "        return self.parameters[name]['v1']\n",
    "    \n",
    "    def frequency_bands(self, name = None):\n",
    "        if name is None: name = self.name\n",
    "        try:\n",
    "            return self.parameters[name]['bands']\n",
    "        except KeyError:\n",
    "            return [[\n",
    "                self.parameters[name]['v0'],\n",
    "                self.parameters[name]['v1']\n",
    "            ]]\n",
    "    \n",
    "    def get_parameter(self, parameter, name = None):\n",
    "        if name is None: name = self.name\n",
    "        return self.parameters[name][parameter]\n",
    "\n",
    "    \n",
    "class FRB_Population:\n",
    "    \"\"\"\n",
    "    Parameters of the FRB population.\n",
    "    \"\"\"\n",
    "    parameters = {\n",
    "        'shin': {  # From https://ui.adsabs.harvard.edu/abs/2022arXiv220714316S/abstract\n",
    "            'Echar': 2.38e41 * u.erg,  # Characteristic energy cut-of\n",
    "            'alpha_spect': -1.39,  # Spectral index\n",
    "            'alpha_rate': 0,  # Rate index\n",
    "            'gamma': -1.3,  # Differential power-law index\n",
    "            'Epivot': 1e39 * u.erg,  # Pivot energy\n",
    "            'frb_emission_rate_z0_Epivot': 7.3e4 / u.Gpc**3 / u.year,  # FRB rate at z=0 above Epivot\n",
    "            'n_sfr': 0.96,  # Index of star-formation rate\n",
    "        },\n",
    "        'shin_rate_interpretation': {  # From https://ui.adsabs.harvard.edu/abs/2022arXiv220714316S/abstract\n",
    "            'Echar': 1.95e41 * u.erg,  # Characteristic energy cut-of\n",
    "            'alpha_spect': 0,  # Spectral index\n",
    "            'alpha_rate': -1.10,  # Spectral index\n",
    "            'gamma': -1.3,  # Differential power-law index\n",
    "            'Epivot': 1e39 * u.erg,  # Pivot energy\n",
    "            'frb_emission_rate_z0_Epivot': 6.8e4 / u.Gpc**3 / u.year,  # FRB rate at z=0 above Epivot\n",
    "            'n_sfr': 1.72,  # Index of star-formation rate\n",
    "        },\n",
    "        'james2023': {  # From https://arxiv.org/pdf/2208.00819.pdf\n",
    "            'Echar': 10**41.26 * u.erg,  # Characteristic energy cut-of\n",
    "            'alpha_spect': 0,  # Spectral index\n",
    "            'alpha_rate': -0.99,  # Spectral index\n",
    "            'gamma': -0.95-1,  # Differential power-law index\n",
    "            'n_sfr': 1.13,  # Index of star-formation rate\n",
    "            'Epivot': 1e30 * u.erg,  # Pivot energy\n",
    "            'frb_emission_rate_z0_Epivot': (10**1.96/u.Mpc**3/u.day).to(1/u.Gpc**3/u.yr)\n",
    "        },\n",
    "    }\n",
    "    \n",
    "    def __init__(self, name='shin'):\n",
    "        self.model = name\n",
    "        self.parameters = FRB_Population.parameters\n",
    "        try:\n",
    "            _ = self.parameters[self.model]\n",
    "        except KeyError:\n",
    "            raise NotImplemented(\"Telescope unknown.\")\n",
    "        \n",
    "    def get_parameters(self, model = None, uncertain = False):\n",
    "        if model is None: \n",
    "            model = self.model\n",
    "        parameters = dict(self.parameters[model])\n",
    "        \n",
    "        if uncertain:\n",
    "            # Choose a random value in the parameter distributions\n",
    "            if model != 'shin':\n",
    "                raise NotImplementedError(\"Uncertainties currently available only for model 'shin'\")\n",
    "\n",
    "            if model == 'shin':\n",
    "                parameters['frb_emission_rate_z0_Epivot'] = rng.choice(np.exp(samples_shin[:, 0])) / u.Gpc**3 / u.year\n",
    "                parameters['gamma'] = rng.choice(samples_shin[:, 1])\n",
    "                parameters['Echar'] = rng.choice(np.exp(samples_shin[:, 2])) * u.erg\n",
    "                parameters['n_sfr'] = rng.choice(samples_shin[:, 3])\n",
    "                parameters['alpha_spect'] = rng.choice(samples_shin[:, 4])\n",
    "        return parameters\n",
    "    \n",
    "    \n",
    "def get_lensed_fraction(\n",
    "    zmin,\n",
    "    zmax,\n",
    "    frbs_evolve_with_luminosity = True,\n",
    "):\n",
    "    \"\"\" Fraction of lensed galaxies as a function of redshift from Collett 2015.\n",
    "    \"\"\"\n",
    "    # Ensures that there are ~1000 galaxies per step on average\n",
    "    z = np.linspace(zmin, zmax, lensed_galaxies_z.size//1000+1)\n",
    "    z_mean = (z[1:] + z[:-1]) / 2\n",
    "    # Unlensed population of galaxies used in Collett 2018 simulations\n",
    "    z_org = np.loadtxt('lsst_source_catalog.txt', usecols=2, delimiter=',')\n",
    "    \n",
    "    # Lensed and total galaxies per redshift bin\n",
    "    Pz_sim, _ = np.histogram(lensed_galaxies_z, bins=z)\n",
    "    Pz_org, _ = np.histogram(z_org, bins=z)\n",
    "\n",
    "    # Select bins containing enough galaxies\n",
    "    idx = (Pz_sim > 10) & (Pz_org > 10)\n",
    "    Pz_sim = Pz_sim[idx]\n",
    "    Pz_org = Pz_org[idx]\n",
    "    z_mean = z_mean[idx]\n",
    "    \n",
    "    if frbs_evolve_with_luminosity:\n",
    "        # Luminosity of unlensed population of galaxies used in Collett 2018 simulations\n",
    "        M_org = np.loadtxt('lsst_source_catalog.txt', usecols=7, delimiter=',') * u.M_bol\n",
    "        L_org = M_org.to(u.L_bol) * 10 * 360**2 / np.pi  # The population covers 0.1 square deg\n",
    "        # Total luminosity of unlensed galaxy population per redshift step\n",
    "        PL_org, _ = np.histogram(\n",
    "            z_org, \n",
    "            bins=z, \n",
    "            weights=L_org\n",
    "        )\n",
    "        PL_org = PL_org[idx]\n",
    "        # Luminosity of lensed galaxies used from Collett 2018 simulations\n",
    "        L_sim = lensed_galaxies_Mv.to(u.L_sun)\n",
    "        # Total luminosity of lensed galaxy population per redshift step\n",
    "        PL_sim, _ = np.histogram(\n",
    "            lensed_galaxies_z, \n",
    "            bins=z, \n",
    "            weights=L_sim\n",
    "        )\n",
    "        PL_sim = PL_sim[idx]\n",
    "        # Fraction of luminosity of lensed galaxies per redshift step\n",
    "        lensed_fraction = PL_sim / PL_org\n",
    "\n",
    "    else:\n",
    "        Pz_org = Pz_org * 10 * 360**2 / np.pi  # The population covers 0.1 square deg\n",
    "        # Fraction of lensed galaxies per redshift step\n",
    "        lensed_fraction = Pz_sim / Pz_org\n",
    "        \n",
    "    # Smooth the output\n",
    "    lensed_fraction = gf(lensed_fraction, 6)\n",
    "    # Interpolate with a spline\n",
    "    cs = spline(z_mean, lensed_fraction, extrapolate=False)\n",
    "    \n",
    "    return cs, z_mean.min(), z_mean.max()\n",
    "\n",
    "\n",
    "def set_distribution_redshift(\n",
    "    z_min,\n",
    "    z_max,\n",
    "    alpha_rate,\n",
    "    frb_emission_rate_z0_Epivot,\n",
    "    n_sfr\n",
    "):\n",
    "    \"\"\"Set the parameters to sample a redshift distribution of a non-evolving population of FRBs.\n",
    "    \"\"\"\n",
    "    # PDF of z distribution\n",
    "    # Calculate the integrated normalization\n",
    "    sfr = lambda z: (1 + z)**2.7 / (2.9**5.6 + (1 + z)**5.6)\n",
    "    z_pdf = lambda z: (\n",
    "        frb_emission_rate_z0_Epivot * \n",
    "        cosmo.differential_comoving_volume(z)*u.sr / \n",
    "        (1 + z)**(1-alpha_rate) * (sfr(z) / sfr(0))**n_sfr\n",
    "    ).to(1/u.yr).value\n",
    "    frb_emission_rate = integrate.quad(z_pdf, z_min, z_max)[0]\n",
    "    # Normalized distribution\n",
    "    z_pdf_norm = lambda z: z_pdf(z) / frb_emission_rate\n",
    "\n",
    "    # Find maximum of distribution with a spline and its derivative\n",
    "    # Mock data\n",
    "    z = np.linspace(z_min, z_max, 1000)\n",
    "    P_z = z_pdf_norm(z)\n",
    "    # Spline interpolation\n",
    "    cs = spline(z, P_z)\n",
    "    # Redshift of null derivatives\n",
    "    roots = cs.derivative().roots()\n",
    "    # Location of the maximum of the curve\n",
    "    curve_max = z[P_z.argmax()]\n",
    "    # Redshift of the null derivative closest to the location of the maximum\n",
    "    x_max = roots[np.argmin(np.abs(roots - curve_max))]\n",
    "    # Maximum of the distribution plus 1% to account for granularity\n",
    "    y_max = z_pdf_norm(x_max)\n",
    "    y_max = y_max + 0.01 * y_max\n",
    "    return y_max, z_pdf_norm, frb_emission_rate / u.yr\n",
    "\n",
    "    \n",
    "def sample_distribution_redshift(\n",
    "    number_of_simulated_frbs,\n",
    "    z_min,\n",
    "    z_max,\n",
    "    y_max,\n",
    "    z_pdf_norm,\n",
    "):\n",
    "    \"\"\"Sample a redshift distribution of FRBs.\n",
    "    \"\"\"\n",
    "    # Rejection sampling the distribution\n",
    "    z_dist = np.zeros(number_of_simulated_frbs) + np.nan\n",
    "    # Loop until no nan are present\n",
    "    while np.isnan(z_dist).any():\n",
    "        # Random values in a box around the function\n",
    "        x = rng.uniform(low=z_min, high=z_max, size=number_of_simulated_frbs)\n",
    "        y = rng.uniform(low=0, high=y_max, size=number_of_simulated_frbs)\n",
    "        # Resize the arrays to get the right number of bins\n",
    "        nan_size = z_dist[np.isnan(z_dist)].size\n",
    "        x = x[y < z_pdf_norm(x)][:nan_size]\n",
    "        first_nan = np.argmax(z_dist)\n",
    "        z_dist[first_nan:first_nan+x.size] = x\n",
    "    return z_dist\n",
    "\n",
    "\n",
    "def get_distribution_dist(\n",
    "    number_of_simulated_frbs,\n",
    "    alpha_spect,\n",
    "    alpha_rate,\n",
    "    frb_emission_rate_z0_Epivot,\n",
    "    n_sfr,\n",
    "    simulate_lensed_frbs = True,\n",
    "    z_min = None,\n",
    "    z_max = None,\n",
    "    lensed_fraction = None,\n",
    "    frbs_evolve_with_luminosity = True,\n",
    "):\n",
    "    \"\"\"Distribution of the distance factor.\n",
    "    \"\"\"\n",
    "    if z_max is None:\n",
    "        z_max = lensed_galaxies_z.max()\n",
    "    if z_min is None:\n",
    "        z_min = lensed_galaxies_z.min()\n",
    "        \n",
    "    # Fraction of lensed galaxies cataloged by Euclid vs redshift\n",
    "    if simulate_lensed_frbs:\n",
    "        lensed_fraction_interp, z_min, z_max = get_lensed_fraction(\n",
    "            z_min,\n",
    "            z_max,\n",
    "            frbs_evolve_with_luminosity = frbs_evolve_with_luminosity,\n",
    "        )\n",
    "    \n",
    "    # Redshift distribution of FRBs in the Universe\n",
    "    y_max, z_pdf_norm, frb_emission_rate = set_distribution_redshift(\n",
    "        z_min,\n",
    "        z_max,\n",
    "        alpha_rate,\n",
    "        frb_emission_rate_z0_Epivot,\n",
    "        n_sfr\n",
    "    )\n",
    "    if not simulate_lensed_frbs:\n",
    "        z_dist = sample_distribution_redshift(\n",
    "            number_of_simulated_frbs,\n",
    "            z_min,\n",
    "            z_max,\n",
    "            y_max,\n",
    "            z_pdf_norm,\n",
    "        )\n",
    "    else:\n",
    "        # Only simulate lensed FRBs\n",
    "        z_dist = np.zeros(number_of_simulated_frbs) + np.nan\n",
    "        # Maximum fraction of lensed galaxies per redshift\n",
    "        lensed_fraction_max = lensed_fraction_interp(lensed_fraction_interp.derivative().roots().max())\n",
    "        # Loop until no nan are present\n",
    "        while np.isnan(z_dist).any():\n",
    "            # Redshift distribution of FRBs in lensed galaxies\n",
    "            z_dist_i = sample_distribution_redshift(\n",
    "                number_of_simulated_frbs,\n",
    "                z_min,\n",
    "                z_max,\n",
    "                y_max,\n",
    "                z_pdf_norm,\n",
    "            )\n",
    "            # Random values from sample distribution\n",
    "            y = rng.uniform(low=0, high=lensed_fraction_max, size=number_of_simulated_frbs)\n",
    "            # Resize the arrays to get the right number of bins\n",
    "            nan_size = z_dist[np.isnan(z_dist)].size\n",
    "            z_dist_i = z_dist_i[y < lensed_fraction_interp(z_dist_i)][:nan_size]\n",
    "            first_nan = np.argmax(z_dist)\n",
    "            z_dist[first_nan:first_nan+z_dist_i.size] = z_dist_i\n",
    "        # The FRB emission rate is rescaled to the maximum value used for the random sample distribution,\n",
    "        # which does not goes up to 1 to save computation time\n",
    "        frb_emission_rate *= lensed_fraction_max\n",
    "    \n",
    "    # Distance factor\n",
    "    Dl = cosmo.luminosity_distance(z_dist)\n",
    "    dist_factor = (4 * np.pi * Dl**2) / (1 + z_dist)**(2+alpha_spect)\n",
    "    \n",
    "    return dist_factor, z_min, z_max, frb_emission_rate, z_dist\n",
    "\n",
    "\n",
    "def get_bandwidth(\n",
    "    number_of_simulated_frbs,\n",
    "    bw_telescope,\n",
    "    bw_min = 50 * u.MHz,\n",
    "    loc = 400 * u.MHz,  # MHz\n",
    "    scale = 400 / 2 * u.MHz,  # MHz\n",
    "):\n",
    "    \"\"\"Assume that the bandwidth of FRBs is a normal distribution based on CHIME detections.\"\"\"\n",
    "    # Bandwidth distribution from a truncated normal distribution\n",
    "    bw_clip = (bw_min - loc) / scale\n",
    "    bw = truncnorm.rvs(\n",
    "        bw_clip, \n",
    "        np.inf, \n",
    "        loc=loc, \n",
    "        scale=scale,\n",
    "        size=number_of_simulated_frbs,\n",
    "        random_state=rng\n",
    "    ) * u.MHz\n",
    "    return bw\n",
    "\n",
    "\n",
    "def get_energy_minimum(\n",
    "    bw,\n",
    "    sefd,\n",
    "    frb_bw,\n",
    "    w,\n",
    "    tau,\n",
    "    dist_factor,\n",
    "    frb_w_correction,\n",
    "    frb_bw_correction,\n",
    "):\n",
    "    \"\"\"\n",
    "    Minimum FRB energy normalized to 1 GHz required to detect a burst at \n",
    "    redshift z with a signal-to-noise ratio SNr and time resolution w, \n",
    "    where rfi_band is lost due to interference.\n",
    "    \"\"\"\n",
    "    return (\n",
    "        SNr_min * np.sqrt((w + tau) / bw / 2) / frb_w_correction / frb_bw_correction * \n",
    "        sefd / np.sqrt(1 - rfi_band) * dist_factor * frb_bw\n",
    "    ).min().to(u.erg)\n",
    "\n",
    "\n",
    "def get_distribution_E(\n",
    "    number_of_simulated_frbs,\n",
    "    Emin,\n",
    "    Echar,\n",
    "    gamma,\n",
    "):\n",
    "    \"\"\"Rejection sample a Schechter function describing the FRB energy distribution.\"\"\"\n",
    "    # Normalized Schechter distribution\n",
    "    schechter_pdf = lambda E: (E / Echar)**gamma * np.exp(-E / Echar)\n",
    "    # norm = float(gammainc(gamma+1, (Emin/Echar).to(u.dimensionless_unscaled).value)) * Echar\n",
    "    norm = Emin * schechter_pdf(Emin)\n",
    "    schechter_pdf_norm = lambda E: schechter_pdf(E) / norm\n",
    "    # Rejection sampling the target Schechter distribution\n",
    "    dist = np.zeros(number_of_simulated_frbs) * u.erg + np.nan\n",
    "    # Loop until no nan are present\n",
    "    while np.isnan(dist).any():\n",
    "        nan_size = dist[np.isnan(dist)].size\n",
    "        # Random variable from a proposal Pareto distribution\n",
    "        if gamma <= -1:\n",
    "            # The Pareto distribution is defined for the parameter a >= 0\n",
    "            a = -gamma-1\n",
    "            # Clip to avoid overflows\n",
    "            x = (\n",
    "                np.clip(\n",
    "                    rng.pareto(a, size=number_of_simulated_frbs),\n",
    "                    1e-200,\n",
    "                    1e200\n",
    "                ) + 1\n",
    "            ) * Emin\n",
    "        else:\n",
    "            # Otherwise, use powerlaw distribution = 1 / (1 + Pareto)\n",
    "            a = gamma+1\n",
    "            x = (\n",
    "                Emin / \n",
    "                np.clip(\n",
    "                    rng.power(a, size=number_of_simulated_frbs),\n",
    "                    1e-200,\n",
    "                    1e200\n",
    "                )\n",
    "            )\n",
    "        # PDF of proposal distribution at the random variable's values\n",
    "        y_prop = (x/Emin)**gamma / Emin\n",
    "        # Random sampling of the proposal distribution's PDF\n",
    "        y_samp = rng.uniform(low=0, high=y_prop, size=number_of_simulated_frbs) / u.erg\n",
    "        # Reject random variable's values where target distribution is larger than the sampling values\n",
    "        x = x[y_samp < schechter_pdf_norm(x)][:nan_size]\n",
    "        # Resize the arrays to get the right number of bins\n",
    "        first_nan = np.argmax(dist)\n",
    "        dist[first_nan:first_nan+x.size] = x\n",
    "    return dist\n",
    "\n",
    "\n",
    "def get_beam_response(\n",
    "    number_of_simulated_frbs,\n",
    "    telescope,\n",
    "    freq_min,\n",
    "    min_frb_band = 50 * u.MHz,\n",
    "    efficiency = 0.7\n",
    "):\n",
    "    # Minimum band to detect >50 MHz of a burst\n",
    "    wavelength = (freq_min + min_frb_band).to(u.meter, equivalencies=u.spectral())\n",
    "    # From \"Tools of Radio Astronomy, by T.L. Wilson, K. Rohlfs, S. Huttemeister\"\n",
    "    try:\n",
    "        # Circular aperture\n",
    "        diameter = telescope.get_parameter('D')\n",
    "        # Half beam width between the first nulls\n",
    "        hwfn = (2.439 * u.rad * wavelength / diameter / 2).to(u.rad)\n",
    "        # Random angles\n",
    "        angle = rng.uniform(\n",
    "            low=0,\n",
    "            high=hwfn.to(u.rad).value**2,\n",
    "            size=number_of_simulated_frbs\n",
    "        )**0.5 * u.rad\n",
    "        # Normalized power\n",
    "        x = np.pi * np.sin(angle) * diameter / wavelength * np.sqrt(efficiency)\n",
    "        power = (2 * j1(x) / x)**2\n",
    "        # Simulated sky fraction\n",
    "        sky_fraction = (hwfn**2 / 4 / u.steradian).value\n",
    "\n",
    "    except KeyError:\n",
    "        # Rectangular aperture\n",
    "        size_x = telescope.get_parameter('Dx')\n",
    "        size_y = telescope.get_parameter('Dy')\n",
    "        # Half beam width between the first nulls\n",
    "        hwfn_x = np.arcsin((wavelength / size_x).to(u.dimensionless_unscaled))\n",
    "        hwfn_y = np.arcsin((wavelength / size_y).to(u.dimensionless_unscaled))\n",
    "        # Random angles\n",
    "        angle_x = rng.uniform(\n",
    "            low=0, \n",
    "            high=hwfn_x.to(u.rad).value, \n",
    "            size=number_of_simulated_frbs\n",
    "        ) * u.rad\n",
    "        angle_y = rng.uniform(\n",
    "            low=0, \n",
    "            high=hwfn_y.to(u.rad).value,\n",
    "            size=number_of_simulated_frbs\n",
    "        ) * u.rad\n",
    "        # Normalized power\n",
    "        power = (\n",
    "            (\n",
    "                np.sinc(np.sin(angle_x) * size_x / wavelength * u.rad) * \n",
    "                np.sinc(np.sin(angle_y) * size_y / wavelength * u.rad)\n",
    "            )**2\n",
    "        )\n",
    "        # Simulated sky fraction\n",
    "        sky_fraction = (hwfn_x * hwfn_y / 4 / np.pi / u.steradian).value\n",
    "\n",
    "    return sky_fraction, power\n",
    "\n",
    "\n",
    "def get_max_detected_redshift(\n",
    "    snr,\n",
    "    E_nu,\n",
    "    bw,\n",
    "    sefd,\n",
    "    w,\n",
    "    tau,\n",
    "    w_correction,\n",
    "    bw_correction,\n",
    "    alpha_spect,\n",
    "):\n",
    "    \"\"\"\n",
    "    Maximum redshift at which an FRB of energy E would be detected\n",
    "    by a telescope of sensitivity sefd\n",
    "    \"\"\"\n",
    "    # CHECK THIS EQ\n",
    "    dist_factor_Gpc2 = (\n",
    "        E_nu / np.sqrt((w + tau) / bw / 2) * \n",
    "        w_correction * bw_correction / sefd * np.sqrt(1 - rfi_band)\n",
    "    ).to(u.Gpc**2).max().value\n",
    "    \n",
    "    z_max_func = lambda z: (\n",
    "        4 * np.pi * cosmo.luminosity_distance(z).to(u.Gpc).value**2 / dist_factor_Gpc2 - (1 + z)**(2+alpha_spect)\n",
    "    )\n",
    "    z_max = optimize.root(z_max_func, 1).x[0]\n",
    "    return z_max\n",
    "    \n",
    "\n",
    "def get_snr(\n",
    "    frb_E_nu,\n",
    "    frb_dist_fact,\n",
    "    bw_telescope,\n",
    "    frb_w, \n",
    "    frb_tau,\n",
    "    frb_w_correction,\n",
    "    frb_bw_correction,\n",
    "    beam_response, \n",
    "    sefd, \n",
    "    rfi_band\n",
    "):\n",
    "    return (    \n",
    "        frb_E_nu / frb_dist_fact *\n",
    "        np.sqrt((2 * bw_telescope) / (frb_w + frb_tau)) * \n",
    "        frb_w_correction * frb_bw_correction *\n",
    "        beam_response / sefd *\n",
    "        np.sqrt(1 - rfi_band)\n",
    "    ).to(u.dimensionless_unscaled)\n",
    "\n",
    "\n",
    "def convert_to_rate(\n",
    "    number_of_simulated_frbs,\n",
    "    detected_frbs,\n",
    "    Emin,\n",
    "    frb_emission_rate_Epivot,\n",
    "    sky_fraction,\n",
    "    Echar,\n",
    "    gamma,\n",
    "    Epivot\n",
    "):\n",
    "    \"\"\"Convert the number of simulated FRBs to a rate.\n",
    "    \"\"\"\n",
    "    # FRB emission rate at z=0 scaled to a minimum energy Emin\n",
    "    frb_emission_rate = (\n",
    "        frb_emission_rate_Epivot * \n",
    "        float(gammainc(gamma + 1, (Emin / Echar).value)) / \n",
    "        float(gammainc(gamma + 1, (Epivot / Echar).value))\n",
    "    )\n",
    "    # Duration of the simulation in the real world\n",
    "    duration_sim = number_of_simulated_frbs / frb_emission_rate\n",
    "    # All-sky FRB detection rate\n",
    "    frb_detected_allsky = detected_frbs / duration_sim\n",
    "    # FRB rate detected by the telescope\n",
    "    frb_detection_rate = frb_detected_allsky * sky_fraction\n",
    "    return frb_detection_rate\n",
    "\n",
    "\n",
    "def get_detection_rate(\n",
    "    number_of_simulated_frbs,\n",
    "    frb_population,\n",
    "    telescope,\n",
    "    freq_low,\n",
    "    freq_high,\n",
    "    frbs_evolve_with_luminosity = True,\n",
    "    simulate_lensed_frbs = True,\n",
    "    uncertain=False\n",
    "):\n",
    "    \"\"\"Rate of FRB detections.\n",
    "    \"\"\"\n",
    "    # Properties of the FRB population\n",
    "    frb_properties = frb_population.get_parameters(uncertain = uncertain)\n",
    "    # Properties of the telescope\n",
    "    freq_mean = (freq_low + freq_high) / 2\n",
    "    bw_telescope = freq_high - freq_low\n",
    "    sefd = telescope.sefd(freq=freq_low, uncertain=uncertain)\n",
    "    \n",
    "    # FRB widths\n",
    "    # From https://ui.adsabs.harvard.edu/abs/2021ApJS..257...59C/abstract\n",
    "    sigma = 0.97\n",
    "    scale = 1.0 * u.ms\n",
    "    frb_w = rng.lognormal(\n",
    "        sigma = sigma, \n",
    "        size = number_of_simulated_frbs\n",
    "    ) * scale\n",
    "    \n",
    "    # FRB scattering\n",
    "    # From https://ui.adsabs.harvard.edu/abs/2021ApJS..257...59C/abstract\n",
    "    sigma = 1.72\n",
    "    scale = 2.02 * u.ms\n",
    "    frb_tau = rng.lognormal(\n",
    "        sigma = sigma, \n",
    "        size = number_of_simulated_frbs\n",
    "    ) * scale\n",
    "    # Rescale to central frequency\n",
    "    frb_tau = frb_tau * (freq_mean / 600 / u.MHz)**-4\n",
    "    # Include extragalactic scattering\n",
    "\n",
    "    # FRB time correction\n",
    "    frb_w_correction = np.sqrt(frb_w / w_telescope).clip(max=1)\n",
    "    \n",
    "    # FRB bandwidth corrections\n",
    "    frb_bw = get_bandwidth(number_of_simulated_frbs, bw_telescope)\n",
    "    frb_bw_correction = np.sqrt(frb_bw / bw_telescope).clip(max=1)\n",
    "    \n",
    "    # FRB redshifts\n",
    "    if simulate_lensed_frbs:\n",
    "        z_min = None\n",
    "        z_max = None\n",
    "    else:\n",
    "        z_min = 0\n",
    "        z_max = 10\n",
    "    (\n",
    "        frb_dist_fact,\n",
    "        z_min,\n",
    "        z_max,\n",
    "        frb_emission_rate,\n",
    "        frb_z_dist\n",
    "    ) = get_distribution_dist(\n",
    "        number_of_simulated_frbs,\n",
    "        frb_properties['alpha_spect'],\n",
    "        frb_properties['alpha_rate'],\n",
    "        frb_properties['frb_emission_rate_z0_Epivot'],\n",
    "        frb_properties['n_sfr'],\n",
    "        z_min = z_min,\n",
    "        z_max = z_max,\n",
    "        simulate_lensed_frbs = simulate_lensed_frbs,\n",
    "        frbs_evolve_with_luminosity = frbs_evolve_with_luminosity,\n",
    "    )\n",
    "    \n",
    "    # FRB energies\n",
    "    # Minimum energy that can be detected from current sample\n",
    "    Emin = get_energy_minimum(\n",
    "        bw_telescope,\n",
    "        sefd,\n",
    "        frb_bw,\n",
    "        frb_w,\n",
    "        frb_tau,\n",
    "        frb_dist_fact,\n",
    "        frb_w_correction,\n",
    "        frb_bw_correction,\n",
    "    )\n",
    "    \n",
    "    # Energy distribution\n",
    "    frb_E = get_distribution_E(\n",
    "        number_of_simulated_frbs,\n",
    "        Emin,\n",
    "        frb_properties['Echar'],\n",
    "        frb_properties['gamma'],\n",
    "    )\n",
    "    # Energy spectral density distribution\n",
    "    frb_E_nu = frb_E / frb_bw #/ u.GHz\n",
    "\n",
    "    # Beam response\n",
    "    sky_fraction, beam_response = get_beam_response(\n",
    "        number_of_simulated_frbs,\n",
    "        telescope,\n",
    "        freq_low\n",
    "    )\n",
    "    \n",
    "    # FRB S/N values\n",
    "    frb_snr = get_snr(\n",
    "        frb_E_nu,\n",
    "        frb_dist_fact,\n",
    "        bw_telescope,\n",
    "        frb_w, \n",
    "        frb_tau,\n",
    "        frb_w_correction,\n",
    "        frb_bw_correction,\n",
    "        beam_response, \n",
    "        sefd, \n",
    "        rfi_band\n",
    "    )\n",
    "    \n",
    "    # Number of detections\n",
    "    idx_detected_frbs = frb_snr > SNr_min\n",
    "    detected_frbs = frb_snr[idx_detected_frbs].size * observing_time\n",
    "    \n",
    "    # Convert to a physical detection rate\n",
    "    frb_detection_rate = convert_to_rate(\n",
    "        number_of_simulated_frbs,\n",
    "        detected_frbs,\n",
    "        Emin,\n",
    "        frb_emission_rate,\n",
    "        sky_fraction,\n",
    "        frb_properties['Echar'],\n",
    "        frb_properties['gamma'],\n",
    "        frb_properties['Epivot'],\n",
    "    )\n",
    "\n",
    "    # Completeness of redshift range\n",
    "    #z_max_detected = get_max_detected_redshift(\n",
    "    #    frb_snr[idx_detected_frbs],\n",
    "    #    frb_E_nu[idx_detected_frbs],\n",
    "    #    bw_telescope,\n",
    "    #    sefd,\n",
    "    #    frb_w[idx_detected_frbs],\n",
    "    #    frb_tau[idx_detected_frbs],\n",
    "    #    frb_w_correction[idx_detected_frbs],\n",
    "    #    frb_bw_correction[idx_detected_frbs],\n",
    "    #    frb_properties['alpha_spect']\n",
    "    #)\n",
    "    #if z_max < z_max_detected:\n",
    "    #    print(f\"Maximum redshift detected: {z_max_detected:.1f}\")\n",
    "    #    print(f\"Maximum redshift simulated: {z_max:.1f}\")\n",
    "    #    raise RuntimeWarning(\"Galaxy sample not deep enough!\")\n",
    "    \n",
    "    return frb_detection_rate\n",
    "    \n",
    "\n",
    "def run_simulation(\n",
    "    number_of_simulated_frbs,\n",
    "    telescope_name = 'dummy',\n",
    "    simulate_lensed_frbs = True,\n",
    "    verbose = True,\n",
    "    model = 'shin',\n",
    "    uncertain = False,\n",
    "    frbs_evolve_with_luminosity = False\n",
    "):\n",
    "    \"\"\" Simulate how many strongly lensed fast radio bursts (FRBs) are detected by a facility in one year.\n",
    "\n",
    "    Parameters\n",
    "    ----------\n",
    "    telescope_name : str = 'chord'\n",
    "        Telescope to simulate. Currently, 'chime', 'chord', and 'dsa2000' are supported.\n",
    "    simulate_lensed_frbs : bool\n",
    "        Simulate only lensed FRBs or the whole population.\n",
    "\n",
    "    Returns\n",
    "    -------\n",
    "    float\n",
    "        Rate per year.\n",
    "\n",
    "    \"\"\"\n",
    "    if verbose:\n",
    "        print(f'Using the FRB population model \"{model}\"')\n",
    "        print(f'Starting the simulation for {telescope_name}')\n",
    "        print(f'{number_of_simulated_frbs:,} bursts will be simulated.')\n",
    "    \n",
    "    # Telescope parameters\n",
    "    telescope = Telescope(name=telescope_name)\n",
    "    # FRB properties\n",
    "    frb_population = FRB_Population(name=model)\n",
    "    \n",
    "    # Search single frequency bands\n",
    "    # Assumes that FRBs are intrinsically narrowband\n",
    "    search_bands = telescope.frequency_bands()\n",
    "    frb_detection_rate = 0 / u.yr\n",
    "    for freq_low, freq_high in search_bands:\n",
    "        frb_detection_rate += get_detection_rate(\n",
    "            number_of_simulated_frbs,\n",
    "            frb_population,\n",
    "            telescope,\n",
    "            freq_low,\n",
    "            freq_high,\n",
    "            simulate_lensed_frbs = simulate_lensed_frbs,\n",
    "            frbs_evolve_with_luminosity = frbs_evolve_with_luminosity,\n",
    "            uncertain = uncertain\n",
    "        )\n",
    "    if verbose:\n",
    "        print(f'The detection rate is {frb_detection_rate.to(1/u.year).value:.1f} FRBs per year,')\n",
    "        print(f'or 1 FRB detected every {1/(frb_detection_rate).to(1/u.year).value:.2f} years.')\n",
    "    return frb_detection_rate\n",
    "\n",
    "\n",
    "# Global values\n",
    "\n",
    "# Redshift and magnitude distributions of lensed galaxies detected by Euclid\n",
    "# From https://ui.adsabs.harvard.edu/abs/2015ApJ...811...20C/abstract\n",
    "lensed_galaxies_z = np.loadtxt('lenses_Euclid.txt', usecols=1, skiprows=1)  # Redshift distribution\n",
    "lensed_galaxies_Mv = np.loadtxt('lenses_Euclid.txt', usecols=15, skiprows=1) * u.M_bol # Magnitude distribution\n",
    "\n",
    "# Full samples from Shin+23 \n",
    "rate_corr_factor = 0.8165\n",
    "with open('emcee_sampler_output.p', \"rb\") as input_file:\n",
    "    sampler = pickle.load(input_file)\n",
    "samples_shin = sampler.get_chain(flat=True, thin=20)\n",
    "samples_shin[:,0] += np.log(rate_corr_factor)\n",
    "                \n",
    "# global parameters of the simulation\n",
    "seed = 2911167007  # Seed of random processes\n",
    "rng = default_rng(seed)  # Random generator; seed fixed for reproducibility\n",
    "zlim = None  # Limit on maximum redshift defined as [z_min, z_max]\n",
    "\n",
    "# Assumed observational prameters\n",
    "observing_time = 0.8  # Fraction of observing time\n",
    "SNr_min = 8  # Minimum detectable S/N\n",
    "rfi_band = 0.3  # Fraction of band affected by RFI\n",
    "w_telescope = 1 * u.ms\n",
    "\n",
    "# Set simulation size\n",
    "simulation_goal = 'debug'\n",
    "if simulation_goal == 'debug':\n",
    "    # Takes ~9 seconds\n",
    "    number_of_simulated_frbs = int(1e5)\n",
    "elif simulation_goal == 'test':\n",
    "    # Takes ~1.5 minutes\n",
    "    number_of_simulated_frbs = int(1e6)\n",
    "elif simulation_goal == 'publication':\n",
    "    # Takes ~2.5 hours\n",
    "    number_of_simulated_frbs = int(1e8)\n",
    "else:\n",
    "    raise NotImplemented(\"Set number_of_simulated_frbs manually\")"
   ]
  },
  {
   "cell_type": "code",
   "execution_count": 3,
   "id": "3c0c65aa-007e-47b4-a4c1-53dda7d09808",
   "metadata": {
    "tags": []
   },
   "outputs": [],
   "source": [
    "pass"
   ]
  },
  {
   "cell_type": "code",
   "execution_count": 6,
   "id": "a6e5efce-7248-4cb5-853f-af123de68e42",
   "metadata": {
    "tags": []
   },
   "outputs": [
    {
     "name": "stdout",
     "output_type": "stream",
     "text": [
      "Using the FRB population model \"shin\"\n",
      "Starting the simulation for dsa2000\n",
      "100000 bursts will be simulated.\n",
      "The detection rate is 83.9 FRBs per year,\n",
      "or 1 FRB detected every 0.01 years.\n"
     ]
    }
   ],
   "source": [
    "# Run the simulation\n",
    "observing_time = 1  # Fraction of observing time\n",
    "frb_detection_rate = run_simulation(\n",
    "    number_of_simulated_frbs,\n",
    "    telescope_name='chime',\n",
    "    simulate_lensed_frbs = True,\n",
    "    model = 'shin',\n",
    "    uncertain = False,\n",
    "    frbs_evolve_with_luminosity = True\n",
    ")"
   ]
  },
  {
   "cell_type": "code",
   "execution_count": null,
   "id": "3ea23d4f-5d60-4a78-8a62-ea9056fb6487",
   "metadata": {},
   "outputs": [],
   "source": [
    "chime: 1.7\n",
    "chord: 37.7\n",
    "dsa  : 83.9"
   ]
  },
  {
   "cell_type": "code",
   "execution_count": null,
   "id": "85e62b68-a573-46d7-84f0-85217b76af4d",
   "metadata": {},
   "outputs": [],
   "source": []
  },
  {
   "cell_type": "code",
   "execution_count": null,
   "id": "50a01203-c93f-4069-9b25-45269e925130",
   "metadata": {},
   "outputs": [],
   "source": []
  },
  {
   "cell_type": "code",
   "execution_count": 327,
   "id": "2895e67e-342e-4873-ba2c-6d4acda43813",
   "metadata": {
    "tags": []
   },
   "outputs": [],
   "source": [
    "def get_lensed_fraction(\n",
    "    zmin,\n",
    "    zmax,\n",
    "    frbs_evolve_with_luminosity = True,\n",
    "):\n",
    "    \"\"\" Fraction of lensed galaxies as a function of redshift from Collett 2015.\n",
    "    \"\"\"\n",
    "    # Ensures that there are ~1000 galaxies per step on average\n",
    "    z = np.linspace(zmin, zmax, lensed_galaxies_z.size//1000+1)\n",
    "    z_mean = (z[1:] + z[:-1]) / 2\n",
    "    # Unlensed population of galaxies used in Collett 2018 simulations\n",
    "    z_org = np.loadtxt('lsst_source_catalog.txt', usecols=2, delimiter=',')\n",
    "    \n",
    "    # Lensed and total galaxies per redshift bin\n",
    "    Pz_sim, _ = np.histogram(lensed_galaxies_z, bins=z)\n",
    "    Pz_org, _ = np.histogram(z_org, bins=z)\n",
    "\n",
    "    # Select bins containing enough galaxies\n",
    "    idx = (Pz_sim > 10) & (Pz_org > 10)\n",
    "    Pz_sim = Pz_sim[idx]\n",
    "    Pz_org = Pz_org[idx]\n",
    "    z_mean = z_mean[idx]\n",
    "    \n",
    "    if frbs_evolve_with_luminosity:\n",
    "        # Luminosity of unlensed population of galaxies used in Collett 2018 simulations\n",
    "        M_org = np.loadtxt('lsst_source_catalog.txt', usecols=7, delimiter=',') * u.M_bol\n",
    "        L_org = M_org.to(u.L_bol) * 10 * 360**2 / np.pi  # The population covers 0.1 square deg\n",
    "        # Total luminosity of unlensed galaxy population per redshift step\n",
    "        PL_org, _ = np.histogram(\n",
    "            z_org, \n",
    "            bins=z, \n",
    "            weights=L_org\n",
    "        )\n",
    "        PL_org = PL_org[idx]\n",
    "        # Luminosity of lensed galaxies used from Collett 2018 simulations\n",
    "        L_sim = lensed_galaxies_Mv.to(u.L_sun)\n",
    "        # Total luminosity of lensed galaxy population per redshift step\n",
    "        PL_sim, _ = np.histogram(\n",
    "            lensed_galaxies_z, \n",
    "            bins=z, \n",
    "            weights=L_sim\n",
    "        )\n",
    "        PL_sim = PL_sim[idx]\n",
    "        # Fraction of luminosity of lensed galaxies per redshift step\n",
    "        lensed_fraction = PL_sim / PL_org\n",
    "\n",
    "    else:\n",
    "        Pz_org = Pz_org * 10 * 360**2 / np.pi  # The population covers 0.1 square deg\n",
    "        # Fraction of lensed galaxies per redshift step\n",
    "        lensed_fraction = Pz_sim / Pz_org\n",
    "        \n",
    "    # Smooth the output\n",
    "    lensed_fraction = gf(lensed_fraction, 6)\n",
    "    # Interpolate with a spline\n",
    "    cs = spline(z_mean, lensed_fraction, extrapolate=False)\n",
    "    \n",
    "    return cs, z_mean.min(), z_mean.max()"
   ]
  },
  {
   "cell_type": "code",
   "execution_count": null,
   "id": "2be48280-ba56-4ade-98a7-3dcc03b54c78",
   "metadata": {},
   "outputs": [],
   "source": []
  },
  {
   "cell_type": "code",
   "execution_count": 323,
   "id": "a2a7e4af-044b-45fe-9099-a12510380622",
   "metadata": {
    "tags": []
   },
   "outputs": [],
   "source": [
    "z_max = lensed_galaxies_z.max()\n",
    "z_min = lensed_galaxies_z.min()"
   ]
  },
  {
   "cell_type": "code",
   "execution_count": 285,
   "id": "74616a2a-f906-45a2-bb7a-3322d34bc4cb",
   "metadata": {
    "tags": []
   },
   "outputs": [
    {
     "name": "stdout",
     "output_type": "stream",
     "text": [
      "Average fraction of lensed galaxies per unit redshift: 0.19%\n"
     ]
    },
    {
     "data": {
      "image/png": "[encoded data removed]",
      "text/plain": [
       "<Figure size 640x480 with 1 Axes>"
      ]
     },
     "metadata": {},
     "output_type": "display_data"
    }
   ],
   "source": [
    "z = np.linspace(z_min, z_max, 1000)\n",
    "lensed_fraction_interp, z_min, z_max = get_lensed_fraction(\n",
    "    z_min,\n",
    "    z_max,\n",
    ")\n",
    "Pz = lensed_fraction_interp(z)\n",
    "\n",
    "plt.plot(z, Pz, 'k-')\n",
    "plt.ticklabel_format(axis='y', style='scientific', scilimits=(0,0), useOffset=False)\n",
    "plt.xlabel('Redshift')\n",
    "plt.ylabel('Fraction of lensed galaxies')\n",
    "plt.title('Lensed galaxies detected by Euclid')\n",
    "\n",
    "print(f\"Average fraction of lensed galaxies per unit redshift: {integrate.simpson(Pz, z) / (z_max - z_min) * 100:.2f}%\")"
   ]
  },
  {
   "cell_type": "code",
   "execution_count": 325,
   "id": "7029d2cd-c7af-43cb-8a46-ea41b94d2635",
   "metadata": {
    "tags": []
   },
   "outputs": [
    {
     "name": "stdout",
     "output_type": "stream",
     "text": [
      "Average fraction of lensed galaxies per unit redshift: 0.17%\n"
     ]
    },
    {
     "data": {
      "image/png": "[encoded data removed]",
      "text/plain": [
       "<Figure size 640x480 with 1 Axes>"
      ]
     },
     "metadata": {},
     "output_type": "display_data"
    }
   ],
   "source": [
    "z = np.linspace(z_min, 4.5, 1000)\n",
    "lensed_fraction_interp, z_min, z_max = get_lensed_fraction(\n",
    "    z_min,\n",
    "    z_max,\n",
    ")\n",
    "Pz = lensed_fraction_interp(z)\n",
    "\n",
    "plt.plot(z, Pz, 'k-')\n",
    "plt.ticklabel_format(axis='y', style='scientific', scilimits=(0,0), useOffset=False)\n",
    "plt.xlabel('Redshift')\n",
    "plt.ylabel('Fraction of lensed galaxies')\n",
    "plt.title('Lensed galaxies detected by Euclid')\n",
    "\n",
    "print(f\"Average fraction of lensed galaxies per unit redshift: {integrate.simpson(Pz, z) / (z_max - z_min) * 100:.2f}%\")"
   ]
  },
  {
   "cell_type": "code",
   "execution_count": 326,
   "id": "ee7af21b-4049-4c89-809c-185dafc9b70b",
   "metadata": {
    "tags": []
   },
   "outputs": [
    {
     "name": "stdout",
     "output_type": "stream",
     "text": [
      "Average fraction of lensed galaxies per unit redshift: nan%\n"
     ]
    },
    {
     "data": {
      "image/png": "[encoded data removed]",
      "text/plain": [
       "<Figure size 640x480 with 1 Axes>"
      ]
     },
     "metadata": {},
     "output_type": "display_data"
    }
   ],
   "source": [
    "z = np.linspace(z_min, 4.5, 1000)\n",
    "lensed_fraction_interp, z_min, z_max = get_lensed_fraction(\n",
    "    z_min,\n",
    "    z_max,\n",
    "    frbs_evolve_with_luminosity=False\n",
    ")\n",
    "Pz = lensed_fraction_interp(z)\n",
    "\n",
    "plt.plot(z, Pz, 'k-')\n",
    "plt.ticklabel_format(axis='y', style='scientific', scilimits=(0,0), useOffset=False)\n",
    "plt.xlabel('Redshift')\n",
    "plt.ylabel('Fraction of lensed galaxies')\n",
    "plt.title('Lensed galaxies detected by Euclid')\n",
    "\n",
    "print(f\"Average fraction of lensed galaxies per unit redshift: {integrate.simpson(Pz, z) / (z_max - z_min) * 100:.2f}%\")"
   ]
  },
  {
   "cell_type": "code",
   "execution_count": 328,
   "id": "354fb0e8-e7b2-48af-a406-71ae442c76ae",
   "metadata": {
    "tags": []
   },
   "outputs": [
    {
     "name": "stdout",
     "output_type": "stream",
     "text": [
      "Average fraction of lensed galaxies per unit redshift: nan%\n"
     ]
    },
    {
     "data": {
      "image/png": "[encoded data removed]",
      "text/plain": [
       "<Figure size 640x480 with 1 Axes>"
      ]
     },
     "metadata": {},
     "output_type": "display_data"
    }
   ],
   "source": [
    "z = np.linspace(z_min, 4.5, 1000)\n",
    "lensed_fraction_interp, z_min, z_max = get_lensed_fraction(\n",
    "    z_min,\n",
    "    z_max,\n",
    "    frbs_evolve_with_luminosity=False\n",
    ")\n",
    "Pz = lensed_fraction_interp(z)\n",
    "\n",
    "plt.plot(z, Pz, 'k-')\n",
    "plt.ticklabel_format(axis='y', style='scientific', scilimits=(0,0), useOffset=False)\n",
    "plt.xlabel('Redshift')\n",
    "plt.ylabel('Fraction of lensed galaxies')\n",
    "plt.title('Lensed galaxies detected by Euclid')\n",
    "\n",
    "print(f\"Average fraction of lensed galaxies per unit redshift: {integrate.simpson(Pz, z) / (z_max - z_min) * 100:.2f}%\")"
   ]
  },
  {
   "cell_type": "code",
   "execution_count": null,
   "id": "0a8ab6d7-e8b2-4bf3-ba3a-2857701aecc4",
   "metadata": {},
   "outputs": [],
   "source": []
  },
  {
   "cell_type": "code",
   "execution_count": null,
   "id": "f003214c-e8ae-41c9-9b41-c5563d8dea13",
   "metadata": {},
   "outputs": [],
   "source": []
  },
  {
   "cell_type": "code",
   "execution_count": null,
   "id": "f4f67b48-ba6e-4f24-b609-03fb94eacb30",
   "metadata": {},
   "outputs": [],
   "source": []
  },
  {
   "cell_type": "code",
   "execution_count": null,
   "id": "716648d8-a4a7-46ce-bb43-d3ee9e42bdda",
   "metadata": {},
   "outputs": [],
   "source": []
  },
  {
   "cell_type": "code",
   "execution_count": 286,
   "id": "780b931f-c2e3-40fb-b89a-14a602507482",
   "metadata": {},
   "outputs": [],
   "source": [
    "    z_dist, z_min, z_max, frb_emission_rate = get_distribution_redshift(\n",
    "        100_000,\n",
    "        z_min,\n",
    "        z_max,\n",
    "        0,\n",
    "        7.3e4 / u.Gpc**3 / u.year,\n",
    "        0.96\n",
    "    )"
   ]
  },
  {
   "cell_type": "code",
   "execution_count": 297,
   "id": "65509e3d-74d5-462e-8a24-56442b8f7420",
   "metadata": {},
   "outputs": [
    {
     "data": {
      "text/plain": [
       "<matplotlib.patches.StepPatch at 0x7f126f584b80>"
      ]
     },
     "execution_count": 297,
     "metadata": {},
     "output_type": "execute_result"
    },
    {
     "data": {
      "image/png": "[encoded data removed]",
      "text/plain": [
       "<Figure size 640x480 with 1 Axes>"
      ]
     },
     "metadata": {},
     "output_type": "display_data"
    }
   ],
   "source": [
    "y, x_b = np.histogram(z_dist, bins=101)\n",
    "x = (x_b[1:]+x_b[:-1]) / 2\n",
    "plt.stairs(y, x_b)"
   ]
  },
  {
   "cell_type": "code",
   "execution_count": 298,
   "id": "989e51b6-a4f2-434d-98cd-5a8a998c999e",
   "metadata": {},
   "outputs": [
    {
     "data": {
      "text/plain": [
       "<matplotlib.patches.StepPatch at 0x7f126f573ee0>"
      ]
     },
     "execution_count": 298,
     "metadata": {},
     "output_type": "execute_result"
    },
    {
     "data": {
      "image/png": "[encoded data removed]",
      "text/plain": [
       "<Figure size 640x480 with 1 Axes>"
      ]
     },
     "metadata": {},
     "output_type": "display_data"
    }
   ],
   "source": [
    "y_sc = y * lensed_fraction_interp(x)\n",
    "plt.stairs(y_sc, x_b)"
   ]
  },
  {
   "cell_type": "code",
   "execution_count": 299,
   "id": "1d549c74-f264-477a-b5e5-a3c2528117f0",
   "metadata": {},
   "outputs": [],
   "source": [
    "rand = rng.uniform(0, lensed_fraction_interp(z_max), z_dist.size)\n",
    "z_cut = z_dist[lensed_fraction_interp(z_dist) > rand]"
   ]
  },
  {
   "cell_type": "code",
   "execution_count": 302,
   "id": "d5805dce-58a6-468c-bca6-684a67df532f",
   "metadata": {},
   "outputs": [
    {
     "data": {
      "text/plain": [
       "<matplotlib.patches.StepPatch at 0x7f126f3ca190>"
      ]
     },
     "execution_count": 302,
     "metadata": {},
     "output_type": "execute_result"
    },
    {
     "data": {
      "image/png": "[encoded data removed]",
      "text/plain": [
       "<Figure size 640x480 with 1 Axes>"
      ]
     },
     "metadata": {},
     "output_type": "display_data"
    }
   ],
   "source": [
    "aa,bb = np.histogram(z_cut, bins=100, density=True)\n",
    "plt.stairs(aa,bb)"
   ]
  },
  {
   "cell_type": "code",
   "execution_count": null,
   "id": "2fe9d316-3a3e-4754-89e7-0552d0f35092",
   "metadata": {},
   "outputs": [
    {
     "ename": "ValueError",
     "evalue": "could not broadcast input array from shape (4364,) into shape (101,)",
     "output_type": "error",
     "traceback": [
      "\u001b[0;31m---------------------------------------------------------------------------\u001b[0m",
      "\u001b[0;31mValueError\u001b[0m                                Traceback (most recent call last)",
      "Cell \u001b[0;32mIn[248], line 64\u001b[0m\n\u001b[1;32m     62\u001b[0m z_dist_i \u001b[38;5;241m=\u001b[39m z_dist_i[y \u001b[38;5;241m<\u001b[39m lensed_fraction_interp(z_dist_i)][:nan_size]\n\u001b[1;32m     63\u001b[0m first_nan \u001b[38;5;241m=\u001b[39m np\u001b[38;5;241m.\u001b[39margmax(z_dist)\n\u001b[0;32m---> 64\u001b[0m \u001b[43mz_dist\u001b[49m\u001b[43m[\u001b[49m\u001b[43mfirst_nan\u001b[49m\u001b[43m:\u001b[49m\u001b[43mfirst_nan\u001b[49m\u001b[38;5;241;43m+\u001b[39;49m\u001b[43mx\u001b[49m\u001b[38;5;241;43m.\u001b[39;49m\u001b[43msize\u001b[49m\u001b[43m]\u001b[49m \u001b[38;5;241m=\u001b[39m z_dist_i\n",
      "\u001b[0;31mValueError\u001b[0m: could not broadcast input array from shape (4364,) into shape (101,)"
     ]
    }
   ],
   "source": [
    "    number_of_simulated_frbs = int(1e4)\n",
    "    alpha_spect=-1.39\n",
    "    alpha_rate=0\n",
    "    frb_emission_rate_z0_Epivot = 7.3e4 / u.Gpc**3 / u.year\n",
    "    n_sfr=0.96\n",
    "    simulate_lensed_frbs = True\n",
    "    z_min = None\n",
    "    z_max = None\n",
    "    lensed_fraction = None\n",
    "    frbs_evolve_with_luminosity = True\n",
    "\n",
    "    \"\"\"Distribution of the distance factor.\n",
    "    \"\"\"\n",
    "    if z_max is None:\n",
    "        z_max = lensed_galaxies_z.max()\n",
    "    if z_min is None:\n",
    "        z_min = lensed_galaxies_z.min()\n",
    "        \n",
    "    # Fraction of lensed galaxies cataloged by Euclid vs redshift\n",
    "    if simulate_lensed_frbs:\n",
    "        lensed_fraction_interp, z_min, z_max = get_lensed_fraction(\n",
    "            z_min,\n",
    "            z_max,\n",
    "            frbs_evolve_with_luminosity = frbs_evolve_with_luminosity,\n",
    "        )\n",
    "    \n",
    "    # Redshift distribution of FRBs in the Universe\n",
    "    y_max, z_pdf_norm, frb_emission_rate = set_distribution_redshift(\n",
    "        z_min,\n",
    "        z_max,\n",
    "        alpha_rate,\n",
    "        frb_emission_rate_z0_Epivot,\n",
    "        n_sfr\n",
    "    )\n",
    "    if not simulate_lensed_frbs:\n",
    "        z_dist = sample_distribution_redshift(\n",
    "            number_of_simulated_frbs,\n",
    "            z_min,\n",
    "            z_max,\n",
    "            y_max,\n",
    "            z_pdf_norm,\n",
    "        )\n",
    "    else:\n",
    "        # Only simulate lensed FRBs\n",
    "        z_dist = np.zeros(number_of_simulated_frbs) + np.nan\n",
    "        # Maximum fraction of lensed galaxies per redshift\n",
    "        lensed_fraction_max = lensed_fraction_interp(lensed_fraction_interp.derivative().roots().max())\n",
    "        # Loop until no nan are present\n",
    "        while np.isnan(z_dist).any():\n",
    "            # Redshift distribution of FRBs in lensed galaxies\n",
    "            z_dist_i = sample_distribution_redshift(\n",
    "                number_of_simulated_frbs,\n",
    "                z_min,\n",
    "                z_max,\n",
    "                y_max,\n",
    "                z_pdf_norm,\n",
    "            )\n",
    "            # Random values from sample distribution\n",
    "            y = rng.uniform(low=0, high=lensed_fraction_max, size=number_of_simulated_frbs)\n",
    "            # Resize the arrays to get the right number of bins\n",
    "            nan_size = z_dist[np.isnan(z_dist)].size\n",
    "            z_dist_i = z_dist_i[y < lensed_fraction_interp(z_dist_i)][:nan_size]\n",
    "            first_nan = np.argmax(z_dist)\n",
    "            z_dist[first_nan:first_nan+x.size] = z_dist_i"
   ]
  },
  {
   "cell_type": "code",
   "execution_count": null,
   "id": "28eb48b3-2b43-4837-937e-31efb09799e6",
   "metadata": {},
   "outputs": [
    {
     "data": {
      "text/plain": [
       "10000"
      ]
     },
     "execution_count": 250,
     "metadata": {},
     "output_type": "execute_result"
    }
   ],
   "source": [
    "z_dist.size"
   ]
  },
  {
   "cell_type": "code",
   "execution_count": 320,
   "id": "907628d2-f00f-492c-9746-f930493e9746",
   "metadata": {
    "tags": []
   },
   "outputs": [],
   "source": [
    "    number_of_simulated_frbs = int(1e4)\n",
    "    alpha_spect=-1.39\n",
    "    alpha_rate=0\n",
    "    frb_emission_rate_z0_Epivot = 7.3e4 / u.Gpc**3 / u.year\n",
    "    n_sfr=0.96\n",
    "    simulate_lensed_frbs = True\n",
    "    z_min = None\n",
    "    z_max = None\n",
    "    lensed_fraction = None\n",
    "    frbs_evolve_with_luminosity = True\n",
    "    \n",
    "    \"\"\"Distribution of the distance factor.\n",
    "    \"\"\"\n",
    "    if z_max is None:\n",
    "        z_max = lensed_galaxies_z.max()\n",
    "    if z_min is None:\n",
    "        z_min = lensed_galaxies_z.min()\n",
    "        \n",
    "    # Fraction of lensed galaxies cataloged by Euclid vs redshift\n",
    "    if simulate_lensed_frbs:\n",
    "        lensed_fraction_interp, z_min, z_max = get_lensed_fraction(\n",
    "            z_min,\n",
    "            z_max,\n",
    "            frbs_evolve_with_luminosity = frbs_evolve_with_luminosity,\n",
    "        )\n",
    "    \n",
    "    # Redshift distribution of FRBs in the Universe\n",
    "    y_max, z_pdf_norm, frb_emission_rate = set_distribution_redshift(\n",
    "        z_min,\n",
    "        z_max,\n",
    "        alpha_rate,\n",
    "        frb_emission_rate_z0_Epivot,\n",
    "        n_sfr\n",
    "    )\n",
    "    if not simulate_lensed_frbs:\n",
    "        z_dist = sample_distribution_redshift(\n",
    "            number_of_simulated_frbs,\n",
    "            z_min,\n",
    "            z_max,\n",
    "            y_max,\n",
    "            z_pdf_norm,\n",
    "        )\n",
    "    else:\n",
    "        # Only simulate lensed FRBs\n",
    "        z_dist = np.zeros(number_of_simulated_frbs) + np.nan\n",
    "        # Maximum fraction of lensed galaxies per redshift\n",
    "        lensed_fraction_max = lensed_fraction_interp(lensed_fraction_interp.derivative().roots().max())\n",
    "        # Loop until no nan are present\n",
    "        while np.isnan(z_dist).any():\n",
    "            # Redshift distribution of FRBs in lensed galaxies\n",
    "            z_dist_i = sample_distribution_redshift(\n",
    "                number_of_simulated_frbs,\n",
    "                z_min,\n",
    "                z_max,\n",
    "                y_max,\n",
    "                z_pdf_norm,\n",
    "            )\n",
    "            # Random values from sample distribution\n",
    "            y = rng.uniform(low=0, high=lensed_fraction_max, size=number_of_simulated_frbs)\n",
    "            # Resize the arrays to get the right number of bins\n",
    "            nan_size = z_dist[np.isnan(z_dist)].size\n",
    "            z_dist_i = z_dist_i[y < lensed_fraction_interp(z_dist_i)][:nan_size]\n",
    "            first_nan = np.argmax(z_dist)\n",
    "            z_dist[first_nan:first_nan+z_dist_i.size] = z_dist_i"
   ]
  },
  {
   "cell_type": "code",
   "execution_count": 321,
   "id": "922b177f-16fc-4379-bb96-0a6c5d44c5f3",
   "metadata": {
    "tags": []
   },
   "outputs": [
    {
     "data": {
      "text/plain": [
       "<matplotlib.patches.StepPatch at 0x7f126ef97d90>"
      ]
     },
     "execution_count": 321,
     "metadata": {},
     "output_type": "execute_result"
    },
    {
     "data": {
      "image/png": "[encoded data removed]",
      "text/plain": [
       "<Figure size 640x480 with 1 Axes>"
      ]
     },
     "metadata": {},
     "output_type": "display_data"
    }
   ],
   "source": [
    "a, b = np.histogram(z_dist, bins=100, density=True)\n",
    "plt.stairs(a,b,color='r')\n",
    "plt.stairs(aa,bb,color='k')\n",
    "plt.stairs(y_sc/7.5, x_b)"
   ]
  },
  {
   "cell_type": "code",
   "execution_count": 310,
   "id": "1c1e0729-bda1-4847-a690-1dbc01eb98e5",
   "metadata": {
    "tags": []
   },
   "outputs": [],
   "source": [
    "z_dist, z_min, z_max, frb_emission_rate = get_distribution_redshift(\n",
    "    100_000,\n",
    "    z_min,\n",
    "    z_max,\n",
    "    0,\n",
    "    7.3e4 / u.Gpc**3 / u.year,\n",
    "    0.96\n",
    ")\n",
    "rand = rng.uniform(0, lensed_fraction_interp(z_max), z_dist.size)\n",
    "z_cut = z_dist[lensed_fraction_interp(z_dist) > rand]\n",
    "aa,bb = np.histogram(z_cut, bins=100, density=True)"
   ]
  },
  {
   "cell_type": "code",
   "execution_count": 313,
   "id": "1640a6b4-0fad-4faf-b28e-69677ad37fe1",
   "metadata": {
    "tags": []
   },
   "outputs": [],
   "source": [
    "z_dist_i = z_dist\n",
    "\n",
    "lensed_fraction_max = lensed_fraction_interp(lensed_fraction_interp.derivative().roots().max())\n",
    "y = rng.uniform(low=0, high=lensed_fraction_max, size=100_000)\n",
    "z_dist_i = z_dist_i[y < lensed_fraction_interp(z_dist_i)]\n",
    "a,b = np.histogram(z_dist_i, bins=100, density=True)"
   ]
  },
  {
   "cell_type": "code",
   "execution_count": 314,
   "id": "180a52ae-6bc0-42b7-a4cd-ecb35562b1f0",
   "metadata": {
    "tags": []
   },
   "outputs": [
    {
     "data": {
      "text/plain": [
       "<matplotlib.patches.StepPatch at 0x7f126eb64d30>"
      ]
     },
     "execution_count": 314,
     "metadata": {},
     "output_type": "execute_result"
    },
    {
     "data": {
      "image/png": "[encoded data removed]",
      "text/plain": [
       "<Figure size 640x480 with 1 Axes>"
      ]
     },
     "metadata": {},
     "output_type": "display_data"
    }
   ],
   "source": [
    "plt.stairs(a,b,color='r')\n",
    "plt.stairs(aa,bb,color='k')"
   ]
  },
  {
   "cell_type": "code",
   "execution_count": null,
   "id": "19ddea10-7d2b-477e-9740-113db588603d",
   "metadata": {},
   "outputs": [],
   "source": []
  },
  {
   "cell_type": "code",
   "execution_count": null,
   "id": "1b5c0746-2986-414a-bdbe-28cd6c24f3be",
   "metadata": {},
   "outputs": [],
   "source": []
  },
  {
   "cell_type": "code",
   "execution_count": 315,
   "id": "e31aa592-a8da-4cee-a035-608faf22774d",
   "metadata": {
    "tags": []
   },
   "outputs": [],
   "source": [
    "y_max, z_pdf_norm, frb_emission_rate = set_distribution_redshift(\n",
    "    z_min,\n",
    "    z_max,\n",
    "    alpha_rate,\n",
    "    frb_emission_rate_z0_Epivot,\n",
    "    n_sfr\n",
    ")\n",
    "\n",
    "# Redshift distribution of FRBs in lensed galaxies\n",
    "z_dist_i = sample_distribution_redshift(\n",
    "    number_of_simulated_frbs,\n",
    "    z_min,\n",
    "    z_max,\n",
    "    y_max,\n",
    "    z_pdf_norm,\n",
    ")\n",
    "\n",
    "lensed_fraction_max = lensed_fraction_interp(lensed_fraction_interp.derivative().roots().max())\n",
    "y = rng.uniform(low=0, high=lensed_fraction_max, size=number_of_simulated_frbs)\n",
    "z_dist_i = z_dist_i[y < lensed_fraction_interp(z_dist_i)][:nan_size]"
   ]
  },
  {
   "cell_type": "code",
   "execution_count": null,
   "id": "e0d08a8f-6330-47b0-b430-fc16297b7ce5",
   "metadata": {},
   "outputs": [],
   "source": []
  },
  {
   "cell_type": "code",
   "execution_count": null,
   "id": "bbff80a2-58a0-46e4-873d-949cba72c98e",
   "metadata": {},
   "outputs": [],
   "source": []
  },
  {
   "cell_type": "code",
   "execution_count": null,
   "id": "09a7af72-4bf9-445b-af5a-3f95e664b6a0",
   "metadata": {},
   "outputs": [],
   "source": []
  },
  {
   "cell_type": "code",
   "execution_count": null,
   "id": "c236a411-5406-4c4a-856f-ef74cd573150",
   "metadata": {},
   "outputs": [],
   "source": []
  },
  {
   "cell_type": "code",
   "execution_count": 9,
   "id": "cb50bc31-a617-4182-81c4-022876dbb5b0",
   "metadata": {
    "tags": []
   },
   "outputs": [
    {
     "name": "stdout",
     "output_type": "stream",
     "text": [
      "Completed 0%\n",
      "Completed 10%\n",
      "Completed 20%\n",
      "Completed 30%\n",
      "Completed 40%\n",
      "Completed 50%\n",
      "Completed 60%\n",
      "Completed 70%\n",
      "Completed 80%\n",
      "Completed 90%\n"
     ]
    }
   ],
   "source": [
    "# Uncertainties\n",
    "rates = np.zeros(100) / u.yr\n",
    "for jj in range(rates.size):\n",
    "    if jj%10 == 0: print(f\"Completed {jj * 100 // rates.size}%\")\n",
    "    rates[jj] = frb_detection_rate = run_simulation(\n",
    "        int(1e3),\n",
    "        telescope_name='chime',\n",
    "        simulate_lensed_frbs = False,\n",
    "        model = 'shin',\n",
    "        uncertain = True,\n",
    "        frbs_evolve_with_luminosity = True,\n",
    "        verbose = False\n",
    "    )"
   ]
  },
  {
   "cell_type": "code",
   "execution_count": 10,
   "id": "10bc6b4d-f189-4cc2-8400-8457b46cbc77",
   "metadata": {
    "tags": []
   },
   "outputs": [
    {
     "data": {
      "text/latex": [
       "$0 \\; \\mathrm{\\frac{1}{yr}}$"
      ],
      "text/plain": [
       "<Quantity 0. 1 / yr>"
      ]
     },
     "execution_count": 10,
     "metadata": {},
     "output_type": "execute_result"
    }
   ],
   "source": [
    "rates.min()"
   ]
  },
  {
   "cell_type": "code",
   "execution_count": 13,
   "id": "74aecc58-fbd3-4eab-bc62-bb1c23f499b1",
   "metadata": {
    "tags": []
   },
   "outputs": [
    {
     "data": {
      "text/plain": [
       "(<Quantity 317.59112173 1 / yr>,\n",
       " <Quantity 46.55231809 1 / yr>,\n",
       " <Quantity 1326.71033453 1 / yr>,\n",
       " <Quantity 1280.15801644 1 / yr>)"
      ]
     },
     "execution_count": 13,
     "metadata": {},
     "output_type": "execute_result"
    }
   ],
   "source": [
    "np.median(rates), np.percentile(rates, 16), np.percentile(rates, 84), np.percentile(rates, 84) - np.percentile(rates, 16)"
   ]
  },
  {
   "cell_type": "code",
   "execution_count": 14,
   "id": "4eda7f3e-888d-450e-aa1b-2fb8873ff75f",
   "metadata": {
    "tags": []
   },
   "outputs": [],
   "source": [
    "rates_valid = rates[rates>0]"
   ]
  },
  {
   "cell_type": "code",
   "execution_count": 16,
   "id": "7746b48f-6634-4c5f-bf0e-11dcbf5da089",
   "metadata": {
    "tags": []
   },
   "outputs": [
    {
     "data": {
      "text/plain": [
       "(<Quantity 339.63045098 1 / yr>,\n",
       " <Quantity 55.59209428 1 / yr>,\n",
       " <Quantity 1339.31783126 1 / yr>,\n",
       " <Quantity 1283.72573698 1 / yr>)"
      ]
     },
     "execution_count": 16,
     "metadata": {},
     "output_type": "execute_result"
    }
   ],
   "source": [
    "np.median(rates_valid), np.percentile(rates_valid, 16), np.percentile(rates_valid, 84), np.percentile(rates_valid, 84) - np.percentile(rates_valid, 16)"
   ]
  },
  {
   "cell_type": "code",
   "execution_count": null,
   "id": "4e94cde5-7db5-428a-b635-cefbdc7832a2",
   "metadata": {},
   "outputs": [],
   "source": []
  },
  {
   "cell_type": "code",
   "execution_count": null,
   "id": "1b3bed3a-542e-47ba-8492-f41fa4780a98",
   "metadata": {},
   "outputs": [],
   "source": []
  },
  {
   "cell_type": "code",
   "execution_count": 25,
   "id": "b03bf897-e1a8-49f2-af29-d7ecee7a7cfa",
   "metadata": {
    "tags": []
   },
   "outputs": [
    {
     "name": "stdout",
     "output_type": "stream",
     "text": [
      "1.01 s ± 229 ms per loop (mean ± std. dev. of 7 runs, 1 loop each)\n"
     ]
    }
   ],
   "source": [
    "# Get processing time\n",
    "%%timeit \n",
    "frb_detection_rate = run_simulation(\n",
    "    int(1e4),\n",
    "    telescope_name='chime',\n",
    "    simulate_lensed_frbs = False,\n",
    "    model = 'shin',\n",
    "    uncertain = True,\n",
    "    frbs_evolve_with_luminosity = True,\n",
    "    verbose=False\n",
    ")"
   ]
  },
  {
   "cell_type": "code",
   "execution_count": 28,
   "id": "5be1cb0f-0834-4ca2-ba68-888ec8a73c5f",
   "metadata": {
    "tags": []
   },
   "outputs": [],
   "source": [
    "t = [0.19, 1.01, 8.84, ] * u.s\n",
    "n = [1e3,   1e4,  1e5,  ]"
   ]
  },
  {
   "cell_type": "code",
   "execution_count": 49,
   "id": "3836cd64-5260-4ebd-9967-ddd73e2848ab",
   "metadata": {
    "tags": []
   },
   "outputs": [
    {
     "data": {
      "text/plain": [
       "14.56228956228956"
      ]
     },
     "execution_count": 49,
     "metadata": {},
     "output_type": "execute_result"
    }
   ],
   "source": [
    "1e5 * (8.84 - 0.19) / (1e5 - 1e3) * 100 / 60"
   ]
  },
  {
   "cell_type": "code",
   "execution_count": null,
   "id": "fd9091d9-81f6-4cc8-b617-c32a501f2912",
   "metadata": {},
   "outputs": [],
   "source": []
  },
  {
   "cell_type": "code",
   "execution_count": 7,
   "id": "19c9962a-6c04-42d1-bc73-679c11f152c0",
   "metadata": {
    "tags": []
   },
   "outputs": [],
   "source": []
  },
  {
   "cell_type": "code",
   "execution_count": null,
   "id": "817e2de1-acf1-4f1f-9e57-10affb8e7cf4",
   "metadata": {
    "tags": []
   },
   "outputs": [],
   "source": []
  },
  {
   "cell_type": "code",
   "execution_count": 123,
   "id": "b537afdc-5966-41b8-9d53-1cd04a6ce7e0",
   "metadata": {
    "tags": []
   },
   "outputs": [],
   "source": [
    "# Plot of measured vs simulated rate for different telescopes\n",
    "\n",
    "# Measured detection rates\n",
    "telescope_rates = {}\n",
    "\n",
    "#CHIME (https://arxiv.org/pdf/2106.04352.pdf)\n",
    "n_frbs = 536\n",
    "obs_time = 214.8 * 24 * u.hour\n",
    "rate = (n_frbs / obs_time).to(1/u.yr)\n",
    "err = (np.sqrt(n_frbs) / obs_time).to(1/u.yr)\n",
    "telescope_rates['CHIME'] = [rate, err]\n",
    "\n",
    "#FAST (https://iopscience.iop.org/article/10.3847/2041-8213/abe7f0)\n",
    "n_frbs = 4\n",
    "obs_time = (1667 + 9) * u.hour\n",
    "rate = (n_frbs / obs_time).to(1/u.yr) / 9  # 9 to correct for multi-beam receiver\n",
    "err = (np.sqrt(n_frbs) / obs_time).to(1/u.yr) / 9\n",
    "telescope_rates['FAST'] = [rate, err]\n",
    "\n",
    "# ASKAP (https://www.nature.com/articles/s41586-018-0588-y)\n",
    "n_frbs = 20\n",
    "obs_time = 32_840 * u.hour\n",
    "rate = (n_frbs / obs_time).to(1/u.yr)\n",
    "err = (np.sqrt(n_frbs) / obs_time).to(1/u.yr)\n",
    "telescope_rates['ASKAP'] = [rate, err]\n",
    "\n",
    "# Aperitif (https://arxiv.org/pdf/2205.12362.pdf)\n",
    "n_frbs = 5\n",
    "obs_time = 800 * u.hour\n",
    "rate = (n_frbs / obs_time).to(1/u.yr) / 40  # 40 to correct for compound beams\n",
    "err = (np.sqrt(n_frbs) / obs_time).to(1/u.yr) / 40\n",
    "telescope_rates['Aperitif'] = [rate, err]\n",
    "\n",
    "# UTMOST (https://ui.adsabs.harvard.edu/abs/2019MNRAS.488.2989F/abstract)\n",
    "n_frbs = 6\n",
    "obs_time = (344 * u.day).to(u.hour)\n",
    "rate = (n_frbs / obs_time).to(1/u.yr)\n",
    "err = (np.sqrt(n_frbs) / obs_time).to(1/u.yr)\n",
    "telescope_rates['UTMOST'] = [rate, err]\n",
    "\n",
    "# Parkes (https://arxiv.org/pdf/1511.07746.pdf)\n",
    "n_frbs = 9\n",
    "obs_time = (33_500 * 270 * u.s).to(u.hour)\n",
    "rate = (n_frbs / obs_time).to(1/u.yr) / 13  # 13 to correct for multi-beam receiver\n",
    "err = (np.sqrt(n_frbs) / obs_time).to(1/u.yr) / 13\n",
    "telescope_rates['Parkes'] = [rate, err]\n",
    "\n",
    "# CHORD (https://ui.adsabs.harvard.edu/abs/2019clrp.2020...28V/abstract)\n",
    "telescope_rates['CHORD'] = [25.5 * 365 / u.yr, 7 * 365 / u.yr]\n",
    "\n",
    "# DSA2000 (https://ui.adsabs.harvard.edu/abs/2019BAAS...51g.255H/abstract)\n",
    "telescope_rates['DSA2000'] = [1e4 / u.yr, 5e3 / u.yr]\n",
    "\n",
    "telescope_list = sorted(telescope_rates.keys(), key=lambda v: v.upper())"
   ]
  },
  {
   "cell_type": "code",
   "execution_count": 161,
   "id": "997a257c-77b8-4d02-871c-f6a6dcfdcd3b",
   "metadata": {
    "tags": []
   },
   "outputs": [
    {
     "name": "stdout",
     "output_type": "stream",
     "text": [
      "Aperitif\n",
      "ASKAP\n",
      "CHIME\n",
      "CHORD\n",
      "DSA2000\n",
      "FAST\n",
      "Parkes\n",
      "UTMOST\n"
     ]
    }
   ],
   "source": [
    "rng = default_rng(seed)  # Random generator; seed fixed for reproducibility\n",
    "number_of_simulated_frbs = int(1e5)  # Elements in the simulation\n",
    "observing_time = 1  # Fraction of observing time\n",
    "\n",
    "shin_values = []\n",
    "shin_uncert_up = []\n",
    "shin_uncert_down = []\n",
    "med = []\n",
    "for t in telescope_list:\n",
    "    print(t)\n",
    "    telescope = t.lower()\n",
    "    # Shin model\n",
    "    value = run_simulation(\n",
    "            number_of_simulated_frbs,\n",
    "            telescope_name = telescope,\n",
    "            simulate_lensed_frbs = False,\n",
    "            model = 'shin',\n",
    "            uncertain = False,\n",
    "            verbose = False,\n",
    "        ).to(1/u.yr).value\n",
    "    uncert = np.array([\n",
    "        run_simulation(\n",
    "            number_of_simulated_frbs // 100,\n",
    "            telescope_name = telescope,\n",
    "            simulate_lensed_frbs = False,\n",
    "            model = 'shin',\n",
    "            uncertain = True,\n",
    "            verbose = False\n",
    "        ).to(1/u.yr).value for n in range(100)\n",
    "    ])\n",
    "    shin_values.append(value)\n",
    "    shin_uncert_down.append(np.percentile(uncert[uncert>0], 16))\n",
    "    shin_uncert_up.append(np.percentile(uncert[uncert>0], 84))\n",
    "    med.append(np.median(uncert[uncert>0]))\n",
    "    \n",
    "shin_values = np.array(shin_values) / u.yr\n",
    "shin_uncert_down = np.array(shin_uncert_down) / u.yr\n",
    "shin_uncert_up = np.array(shin_uncert_up) / u.yr"
   ]
  },
  {
   "cell_type": "code",
   "execution_count": 171,
   "id": "d6fc8d7d-b5c0-4d6b-bee6-e996bf45f95d",
   "metadata": {
    "tags": []
   },
   "outputs": [
    {
     "data": {
      "text/plain": [
       "Text(0, 0.5, 'Rate (1/yr)')"
      ]
     },
     "execution_count": 171,
     "metadata": {},
     "output_type": "execute_result"
    },
    {
     "data": {
      "image/png": "[encoded data removed]",
      "text/plain": [
       "<Figure size 640x480 with 1 Axes>"
      ]
     },
     "metadata": {},
     "output_type": "display_data"
    }
   ],
   "source": [
    "from matplotlib.patches import Rectangle\n",
    "\n",
    "fig, ax = plt.subplots()\n",
    "\n",
    "x = np.arange(len(telescope_list))\n",
    "ax.errorbar(\n",
    "    x,\n",
    "    shin_values,\n",
    "    yerr=(shin_values-shin_uncert_down, shin_uncert_up-shin_values),\n",
    "    fmt='k+',\n",
    "    label='Shin+ 2023',\n",
    "    zorder=5\n",
    ")\n",
    "#ax.errorbar(x, shin_values_r, yerr=shin_uncert_r, fmt='r+', label='(rate interpretation)', zorder=5)\n",
    "#ax.errorbar(x+0.1, james_values, yerr=james_uncert, fmt='g+', label='James+ 2023', zorder=5)\n",
    "\n",
    "#ax.plot(x-0.1, shin_values, 'k+', label='Shin+ 2023', zorder=5)\n",
    "#ax.plot(x, shin_values_r, 'r+', label='(rate interpretation)', zorder=5)\n",
    "#ax.plot(x+0.1, james_values, 'g+', label='James+ 2023', zorder=5)\n",
    "#ax.plot(x, med, 'r+', zorder=6)\n",
    "\n",
    "\n",
    "for telescope, xi in zip(telescope_list, x):\n",
    "    rate = telescope_rates[telescope]\n",
    "    if telescope.lower() in ['chord', 'dsa2000']:\n",
    "        rect = Rectangle(\n",
    "            (xi - 0.45, (rate[0] - rate[1]).to(1/u.yr).value),\n",
    "            0.9,\n",
    "            rate[1].to(1/u.yr).value * 2,\n",
    "            alpha=0.3,\n",
    "            color='k',\n",
    "            fc='none',\n",
    "            hatch = hatch,\n",
    "            ls = '--',\n",
    "            lw = 1.5\n",
    "        )\n",
    "    else:\n",
    "        rect = Rectangle(\n",
    "            (xi - 0.45, (rate[0] - rate[1]).to(1/u.yr).value),\n",
    "            0.9,\n",
    "            rate[1].to(1/u.yr).value * 2,\n",
    "            alpha=0.3,\n",
    "            color='k',\n",
    "            ec='none',\n",
    "            hatch = hatch\n",
    "        )\n",
    "    ax.add_patch(rect)\n",
    "\n",
    "#ax.legend()\n",
    "ax.set_yscale('log')\n",
    "ax.set_xlim(x.min()-0.5, x.max()+0.5)\n",
    "ax.set_ylim(0.3, 100_000)\n",
    "ax.set_xticks(x)\n",
    "ax.set_xticklabels(telescope_list, rotation='vertical')\n",
    "ax.set_ylabel(\"Rate (1/yr)\")"
   ]
  },
  {
   "cell_type": "code",
   "execution_count": null,
   "id": "d55c3316-69b4-4110-ba2e-5e837bcaaedb",
   "metadata": {},
   "outputs": [],
   "source": []
  },
  {
   "cell_type": "code",
   "execution_count": null,
   "id": "5d001174-6d40-48c2-a35e-edd3594cb35c",
   "metadata": {},
   "outputs": [],
   "source": []
  },
  {
   "cell_type": "code",
   "execution_count": 135,
   "id": "2030539d-6eca-46af-bfdb-b3edc85906ab",
   "metadata": {
    "tags": []
   },
   "outputs": [],
   "source": [
    "    uncert = np.array([\n",
    "        run_simulation(\n",
    "            int(1e3),\n",
    "            telescope_name = 'chime',\n",
    "            simulate_lensed_frbs = False,\n",
    "            model = 'shin',\n",
    "            uncertain = True,\n",
    "            verbose = False\n",
    "        ).to(1/u.yr).value for n in range(100)\n",
    "    ])"
   ]
  },
  {
   "cell_type": "code",
   "execution_count": 138,
   "id": "3229a7bb-6cc4-400e-8af2-f2ae23953ab6",
   "metadata": {
    "tags": []
   },
   "outputs": [],
   "source": [
    "a = uncert[uncert>0]"
   ]
  },
  {
   "cell_type": "code",
   "execution_count": 142,
   "id": "431b1477-6622-46fa-a6f3-e1b0d68f3830",
   "metadata": {
    "tags": []
   },
   "outputs": [],
   "source": [
    "v = np.median(a)\n",
    "err_d = np.percentile(uncert, 16)\n",
    "err_u = np.percentile(uncert, 84)"
   ]
  },
  {
   "cell_type": "code",
   "execution_count": 144,
   "id": "55cc0fee-e874-4261-afea-bd6b7fd436dd",
   "metadata": {
    "tags": []
   },
   "outputs": [
    {
     "data": {
      "text/plain": [
       "<matplotlib.lines.Line2D at 0x7f1274228520>"
      ]
     },
     "execution_count": 144,
     "metadata": {},
     "output_type": "execute_result"
    },
    {
     "data": {
      "image/png": "[encoded data removed]",
      "text/plain": [
       "<Figure size 640x480 with 1 Axes>"
      ]
     },
     "metadata": {},
     "output_type": "display_data"
    }
   ],
   "source": [
    "_ = plt.hist(a)\n",
    "\n",
    "plt.axvline(v, color='r')\n",
    "plt.axvline(err_d, color='r')\n",
    "plt.axvline(err_u, color='r')"
   ]
  },
  {
   "cell_type": "code",
   "execution_count": 150,
   "id": "3d9940f3-4c56-431b-906a-36a634d6f5bc",
   "metadata": {
    "tags": []
   },
   "outputs": [],
   "source": [
    "d = v-err_d\n",
    "u = v+err_u"
   ]
  },
  {
   "cell_type": "code",
   "execution_count": 151,
   "id": "cfe5d3f3-6797-40f7-88b1-d55f9db0148e",
   "metadata": {
    "tags": []
   },
   "outputs": [
    {
     "data": {
      "text/plain": [
       "<matplotlib.lines.Line2D at 0x7f1273b10dc0>"
      ]
     },
     "execution_count": 151,
     "metadata": {},
     "output_type": "execute_result"
    },
    {
     "data": {
      "image/png": "[encoded data removed]",
      "text/plain": [
       "<Figure size 640x480 with 1 Axes>"
      ]
     },
     "metadata": {},
     "output_type": "display_data"
    }
   ],
   "source": [
    "_ = plt.hist(np.log10(a))\n",
    "plt.axvline(np.log10(v), color='r')\n",
    "plt.axvline(np.log10(v-d), color='r')\n",
    "plt.axvline(np.log10(u-v), color='r')"
   ]
  },
  {
   "cell_type": "code",
   "execution_count": null,
   "id": "8f169784-6bd2-498d-9d3d-84eecec5e2fb",
   "metadata": {},
   "outputs": [],
   "source": []
  },
  {
   "cell_type": "code",
   "execution_count": null,
   "id": "616ffd35-d40a-4349-bd78-33f1b1bed2ec",
   "metadata": {},
   "outputs": [],
   "source": []
  },
  {
   "cell_type": "code",
   "execution_count": null,
   "id": "ae07e8b7-23de-4898-b6c9-7a9b639945e3",
   "metadata": {},
   "outputs": [],
   "source": []
  },
  {
   "cell_type": "code",
   "execution_count": 44,
   "id": "242e2c4d-9189-42a2-96e7-367508755317",
   "metadata": {
    "tags": []
   },
   "outputs": [],
   "source": [
    "rng = default_rng(seed)  # Random generator; seed fixed for reproducibility\n",
    "number_of_simulated_frbs = int(1e5)  # Elements in the simulation\n",
    "observing_time = 1  # Fraction of observing time\n",
    "\n",
    "shin_values = []\n",
    "shin_uncert_up = []\n",
    "shin_uncert_down = []\n",
    "t = 'Aperitif'\n",
    "\n",
    "telescope = t.lower()\n",
    "# Shin model\n",
    "value = (\n",
    "    run_simulation(\n",
    "        number_of_simulated_frbs,\n",
    "        telescope_name = telescope,\n",
    "        simulate_lensed_frbs = False,\n",
    "        model = 'shin',\n",
    "        uncertain = False,\n",
    "        verbose = False,\n",
    "    ).to(1/u.yr).value\n",
    ")\n",
    "uncert = np.array([\n",
    "    run_simulation(\n",
    "        number_of_simulated_frbs // 100,\n",
    "        telescope_name = telescope,\n",
    "        simulate_lensed_frbs = False,\n",
    "        model = 'shin',\n",
    "        uncertain = True,\n",
    "        verbose = False\n",
    "    ).to(1/u.yr).value for n in range(100)\n",
    "])"
   ]
  },
  {
   "cell_type": "code",
   "execution_count": 39,
   "id": "6675f2a7-7387-4643-816e-176527d1fd6d",
   "metadata": {
    "tags": []
   },
   "outputs": [
    {
     "data": {
      "text/plain": [
       "(0.6799533248269528, 1.8112346117264617)"
      ]
     },
     "execution_count": 39,
     "metadata": {},
     "output_type": "execute_result"
    }
   ],
   "source": [
    "value, np.median(uncert)"
   ]
  },
  {
   "cell_type": "code",
   "execution_count": 37,
   "id": "53c86b8d-4faf-4bc4-9112-4ff1a2434f3b",
   "metadata": {
    "tags": []
   },
   "outputs": [
    {
     "data": {
      "text/plain": [
       "(0.14678159507329985, 18.43477844199884)"
      ]
     },
     "execution_count": 37,
     "metadata": {},
     "output_type": "execute_result"
    }
   ],
   "source": [
    "np.percentile(uncert, 16), np.percentile(uncert, 84)"
   ]
  },
  {
   "cell_type": "code",
   "execution_count": 40,
   "id": "cf3dc107-29c2-4043-8195-415ebdcb14be",
   "metadata": {
    "tags": []
   },
   "outputs": [
    {
     "data": {
      "text/plain": [
       "['Aperitif', 'ASKAP', 'CHIME', 'FAST', 'Parkes', 'UTMOST']"
      ]
     },
     "execution_count": 40,
     "metadata": {},
     "output_type": "execute_result"
    }
   ],
   "source": [
    "telescope_list"
   ]
  },
  {
   "cell_type": "code",
   "execution_count": null,
   "id": "ff656efe-9840-4e1a-890a-b62c22cd0a5e",
   "metadata": {},
   "outputs": [],
   "source": []
  },
  {
   "cell_type": "code",
   "execution_count": null,
   "id": "fc435785-efab-4413-bec0-4cc9cfb741e9",
   "metadata": {},
   "outputs": [],
   "source": []
  },
  {
   "cell_type": "code",
   "execution_count": 327,
   "id": "1b88e79f-a637-487e-a33c-a1231ec302c6",
   "metadata": {
    "tags": []
   },
   "outputs": [
    {
     "data": {
      "text/latex": [
       "$9.1201084 \\times 10^{10} \\; \\mathrm{\\frac{1}{yr\\,Gpc^{3}}}$"
      ],
      "text/plain": [
       "<Quantity 9.12010839e+10 1 / (Gpc3 yr)>"
      ]
     },
     "execution_count": 327,
     "metadata": {},
     "output_type": "execute_result"
    }
   ],
   "source": [
    "(10**1.96/u.Mpc**3/u.yr).to(1/u.Gpc**3/u.yr)"
   ]
  },
  {
   "cell_type": "code",
   "execution_count": 343,
   "id": "d49f4f8a-295c-4735-9a87-7b93546d8fcc",
   "metadata": {
    "tags": []
   },
   "outputs": [
    {
     "data": {
      "text/latex": [
       "$10140.482 \\; \\mathrm{\\frac{1}{yr\\,Gpc^{3}}}$"
      ],
      "text/plain": [
       "<Quantity 10140.48186066 1 / (Gpc3 yr)>"
      ]
     },
     "execution_count": 343,
     "metadata": {},
     "output_type": "execute_result"
    }
   ],
   "source": [
    "gamma = -0.95+0.18\n",
    "Echar = 10**41.26\n",
    "(10**1.96/u.Mpc**3/u.yr).to(1/u.Gpc**3/u.yr) * (\n",
    "    float(gammainc(gamma, (1e39*u.erg / Echar).value)) / \n",
    "    float(gammainc(gamma, (1e30*u.erg / Echar).value))\n",
    ")"
   ]
  },
  {
   "cell_type": "code",
   "execution_count": 8,
   "id": "f075f1cc-4e02-4578-9b12-69907ab3892e",
   "metadata": {
    "tags": []
   },
   "outputs": [
    {
     "data": {
      "text/plain": [
       "0.2897268536490609"
      ]
     },
     "execution_count": 8,
     "metadata": {},
     "output_type": "execute_result"
    }
   ],
   "source": [
    "(\n",
    "    float(gammainc(gamma + 1, (1e39*u.erg / Echar).value)) / \n",
    "    float(gammainc(gamma + 1, (1e30*u.erg / Echar).value))\n",
    ")"
   ]
  },
  {
   "cell_type": "code",
   "execution_count": 344,
   "id": "b35a30d9-b592-4b7f-bf1a-460b06d1ea21",
   "metadata": {
    "tags": []
   },
   "outputs": [
    {
     "data": {
      "text/plain": [
       "90000.0"
      ]
     },
     "execution_count": 344,
     "metadata": {},
     "output_type": "execute_result"
    }
   ],
   "source": [
    "9e4"
   ]
  },
  {
   "cell_type": "code",
   "execution_count": null,
   "id": "c7ff45dc-f9d3-4cc4-9ee6-99052e88b0c0",
   "metadata": {},
   "outputs": [],
   "source": []
  },
  {
   "cell_type": "code",
   "execution_count": null,
   "id": "a66a96d8-775a-4a04-a880-87a990724609",
   "metadata": {
    "tags": []
   },
   "outputs": [],
   "source": []
  },
  {
   "cell_type": "code",
   "execution_count": null,
   "id": "83a56f90-19a4-4023-baf8-de8308002c91",
   "metadata": {
    "tags": []
   },
   "outputs": [],
   "source": []
  },
  {
   "cell_type": "code",
   "execution_count": null,
   "id": "fa056eb5-7642-469f-aed1-3e6d8155e579",
   "metadata": {
    "tags": []
   },
   "outputs": [],
   "source": []
  },
  {
   "cell_type": "code",
   "execution_count": null,
   "id": "3173ed2a-2ab4-434a-b4d6-81c641a6eb79",
   "metadata": {},
   "outputs": [],
   "source": []
  },
  {
   "cell_type": "code",
   "execution_count": null,
   "id": "5b34b3e2-6923-4360-81d2-2f9664dc532f",
   "metadata": {},
   "outputs": [],
   "source": []
  },
  {
   "cell_type": "code",
   "execution_count": null,
   "id": "c70ed2e1",
   "metadata": {},
   "outputs": [],
   "source": [
    "# Follow-up\n",
    "from astropy.coordinates import AltAz, EarthLocation, SkyCoord\n",
    "from astropy.time import Time"
   ]
  },
  {
   "cell_type": "code",
   "execution_count": 4,
   "id": "a7c6ce6f",
   "metadata": {},
   "outputs": [],
   "source": [
    "source_low_dec = SkyCoord(ra=0*u.deg, dec=-10*u.deg)\n",
    "source_mid_dec = SkyCoord(ra=0*u.deg, dec=45*u.deg)\n",
    "source_high_dec = SkyCoord(ra=0*u.deg, dec=89*u.deg)"
   ]
  },
  {
   "cell_type": "code",
   "execution_count": 5,
   "id": "4fc7c46e",
   "metadata": {},
   "outputs": [],
   "source": [
    "gbt = EarthLocation.of_site('GBT')\n",
    "gmrt = EarthLocation.of_site('GMRT')\n",
    "eff = EarthLocation.of_site('Effelsberg')"
   ]
  },
  {
   "cell_type": "code",
   "execution_count": 26,
   "id": "be5f2a98",
   "metadata": {},
   "outputs": [
    {
     "name": "stdout",
     "output_type": "stream",
     "text": [
      "90.0% of time the source can be observed\n"
     ]
    },
    {
     "data": {
      "image/png": "[encoded data removed]",
      "text/plain": [
       "<Figure size 640x480 with 1 Axes>"
      ]
     },
     "metadata": {},
     "output_type": "display_data"
    }
   ],
   "source": [
    "# Low dec\n",
    "ha = np.linspace(-12, 12, 100)\n",
    "t = ha*u.hour + Time('2012-7-13 00:00:00')\n",
    "y_t = np.zeros_like(ha) + np.nan\n",
    "\n",
    "# GBT\n",
    "alt_gbt = source_low_dec.transform_to(AltAz(obstime=t, location=gbt)).alt\n",
    "idx = alt_gbt > 0\n",
    "x = ha.copy()\n",
    "x[~idx] = np.nan\n",
    "y = alt_gbt.value.copy()\n",
    "y[~idx] = np.nan\n",
    "plt.plot(x, y, 'b-', label='GBT')\n",
    "y_t[idx] = 0\n",
    "\n",
    "# GMRT\n",
    "alt_gmrt = source_low_dec.transform_to(AltAz(obstime=t, location=gmrt)).alt\n",
    "idx = alt_gmrt > 0\n",
    "x = ha.copy()\n",
    "x[~idx] = np.nan\n",
    "y = alt_gmrt.value.copy()\n",
    "y[~idx] = np.nan\n",
    "plt.plot(x, y, 'r-', label='GMRT')\n",
    "y_t[idx] = 0\n",
    "\n",
    "# Effelsberg\n",
    "alt_eff = source_low_dec.transform_to(AltAz(obstime=t, location=eff)).alt\n",
    "idx = alt_eff > 0\n",
    "x = ha.copy()\n",
    "x[~idx] = np.nan\n",
    "y = alt_eff.value.copy()\n",
    "y[~idx] = np.nan\n",
    "plt.plot(x, y, 'g-', label='Effelsberg')\n",
    "y_t[idx] = 0\n",
    "\n",
    "plt.plot(ha, y_t, \"k-\")\n",
    "plt.legend()\n",
    "plt.title('Dec = -10 deg')\n",
    "\n",
    "print(f'{y_t[~np.isnan(y_t)].size / y_t.size * 100:.1f}% of time the source can be observed')"
   ]
  },
  {
   "cell_type": "code",
   "execution_count": 27,
   "id": "cc707d24",
   "metadata": {},
   "outputs": [
    {
     "name": "stdout",
     "output_type": "stream",
     "text": [
      "100.0% of time the source can be observed\n"
     ]
    },
    {
     "data": {
      "image/png": "[encoded data removed]",
      "text/plain": [
       "<Figure size 640x480 with 1 Axes>"
      ]
     },
     "metadata": {},
     "output_type": "display_data"
    }
   ],
   "source": [
    "# Mid dec\n",
    "ha = np.linspace(-12, 12, 100)\n",
    "t = ha*u.hour + Time('2012-7-13 00:00:00')\n",
    "y_t = np.zeros_like(ha) + np.nan\n",
    "\n",
    "# GBT\n",
    "alt_gbt = source_mid_dec.transform_to(AltAz(obstime=t, location=gbt)).alt\n",
    "idx = alt_gbt > 0\n",
    "x = ha.copy()\n",
    "x[~idx] = np.nan\n",
    "y = alt_gbt.value.copy()\n",
    "y[~idx] = np.nan\n",
    "plt.plot(x, y, 'b-', label='GBT')\n",
    "y_t[idx] = 0\n",
    "\n",
    "# GMRT\n",
    "alt_gmrt = source_mid_dec.transform_to(AltAz(obstime=t, location=gmrt)).alt\n",
    "idx = alt_gmrt > 0\n",
    "x = ha.copy()\n",
    "x[~idx] = np.nan\n",
    "y = alt_gmrt.value.copy()\n",
    "y[~idx] = np.nan\n",
    "plt.plot(x, y, 'r-', label='GMRT')\n",
    "y_t[idx] = 0\n",
    "\n",
    "# Effelsberg\n",
    "alt_eff = source_mid_dec.transform_to(AltAz(obstime=t, location=eff)).alt\n",
    "idx = alt_eff > 0\n",
    "x = ha.copy()\n",
    "x[~idx] = np.nan\n",
    "y = alt_eff.value.copy()\n",
    "y[~idx] = np.nan\n",
    "plt.plot(x, y, 'g-', label='Effelsberg')\n",
    "y_t[idx] = 0\n",
    "\n",
    "plt.plot(ha, y_t, \"k-\")\n",
    "plt.legend()\n",
    "plt.title('Dec = 45 deg')\n",
    "\n",
    "print(f'{y_t[~np.isnan(y_t)].size / y_t.size * 100:.1f}% of time the source can be observed')"
   ]
  },
  {
   "cell_type": "code",
   "execution_count": 28,
   "id": "f23544bf",
   "metadata": {},
   "outputs": [
    {
     "name": "stdout",
     "output_type": "stream",
     "text": [
      "100.0% of time the source can be observed\n"
     ]
    },
    {
     "data": {
      "image/png": "[encoded data removed]",
      "text/plain": [
       "<Figure size 640x480 with 1 Axes>"
      ]
     },
     "metadata": {},
     "output_type": "display_data"
    }
   ],
   "source": [
    "# High dec\n",
    "ha = np.linspace(-12, 12, 100)\n",
    "t = ha*u.hour + Time('2012-7-13 00:00:00')\n",
    "y_t = np.zeros_like(ha) + np.nan\n",
    "\n",
    "# GBT\n",
    "alt_gbt = source_high_dec.transform_to(AltAz(obstime=t, location=gbt)).alt\n",
    "idx = alt_gbt > 0\n",
    "x = ha.copy()\n",
    "x[~idx] = np.nan\n",
    "y = alt_gbt.value.copy()\n",
    "y[~idx] = np.nan\n",
    "plt.plot(x, y, 'b-', label='GBT')\n",
    "y_t[idx] = 0\n",
    "\n",
    "# GMRT\n",
    "alt_gmrt = source_high_dec.transform_to(AltAz(obstime=t, location=gmrt)).alt\n",
    "idx = alt_gmrt > 0\n",
    "x = ha.copy()\n",
    "x[~idx] = np.nan\n",
    "y = alt_gmrt.value.copy()\n",
    "y[~idx] = np.nan\n",
    "plt.plot(x, y, 'r-', label='GMRT')\n",
    "y_t[idx] = 0\n",
    "\n",
    "# Effelsberg\n",
    "alt_eff = source_high_dec.transform_to(AltAz(obstime=t, location=eff)).alt\n",
    "idx = alt_eff > 0\n",
    "x = ha.copy()\n",
    "x[~idx] = np.nan\n",
    "y = alt_eff.value.copy()\n",
    "y[~idx] = np.nan\n",
    "plt.plot(x, y, 'g-', label='Effelsberg')\n",
    "y_t[idx] = 0\n",
    "\n",
    "plt.plot(ha, y_t, \"k-\")\n",
    "plt.legend()\n",
    "plt.title('Dec = 89 deg')\n",
    "\n",
    "print(f'{y_t[~np.isnan(y_t)].size / y_t.size * 100:.1f}% of time the source can be observed')"
   ]
  },
  {
   "cell_type": "code",
   "execution_count": null,
   "id": "a126f7ea",
   "metadata": {},
   "outputs": [],
   "source": []
  },
  {
   "cell_type": "code",
   "execution_count": null,
   "id": "d9fc2dd7",
   "metadata": {},
   "outputs": [],
   "source": []
  },
  {
   "cell_type": "code",
   "execution_count": null,
   "id": "f5df9157",
   "metadata": {},
   "outputs": [],
   "source": []
  },
  {
   "cell_type": "code",
   "execution_count": 1125,
   "id": "e41b31b6",
   "metadata": {},
   "outputs": [
    {
     "data": {
      "text/plain": [
       "<matplotlib.legend.Legend at 0x7efc277a3cd0>"
      ]
     },
     "execution_count": 1125,
     "metadata": {},
     "output_type": "execute_result"
    },
    {
     "data": {
      "image/png": "[encoded data removed]",
      "text/plain": [
       "<Figure size 640x480 with 1 Axes>"
      ]
     },
     "metadata": {},
     "output_type": "display_data"
    }
   ],
   "source": [
    "# FRB radial distribution within host galaxies\n",
    "\n",
    "#https://arxiv.org/pdf/2009.10747.pdf\n",
    "#https://arxiv.org/pdf/2302.14782.pdf\n",
    "#https://arxiv.org/pdf/2108.01282.pdf\n",
    "#https://arxiv.org/pdf/2301.01000.pdf\n",
    "\n",
    "# i-band and r-band\n",
    "offset = np.array([0.6, 5.5, 3.4, 1.2, 2.0, 27, 6.6, 11, 3.2, 1.9, 11, 3.0, 9.87, 3.80, 10.8, 5.7, 5.9, 2.3])\n",
    "reff = np.array([0.7, 3.6, 2.7, 7.2, 4.4, 3.3, 2.8, 2.1, 2.9, 3.9, 5.5, 1.6, 2.67, 6.64, 5.80, 1.78, 7.58, 2.7])\n",
    "\n",
    "r = np.sort(offset / reff)\n",
    "F = np.arange(r.size)/r.size\n",
    "\n",
    "from scipy import stats\n",
    "y_hist, bins = np.histogram(r, bins=np.arange(10))\n",
    "x_hist = bins[:-1]\n",
    "plt.step(x_hist, y_hist/y_hist.max(), color='k')\n",
    "\n",
    "\n",
    "x = np.linspace(x_hist.min(), x_hist.max(), 100)\n",
    "y = np.exp(-x)\n",
    "#y = y / y.max() * 7\n",
    "plt.plot(x, y, 'r-', label='exp(dR)')\n",
    "plt.xlabel('dR = offset / Reff')\n",
    "plt.ylabel('N (normalized)')\n",
    "plt.legend()"
   ]
  },
  {
   "cell_type": "code",
   "execution_count": null,
   "id": "a49fa502",
   "metadata": {},
   "outputs": [],
   "source": []
  },
  {
   "cell_type": "code",
   "execution_count": 348,
   "id": "2e8b7341",
   "metadata": {
    "tags": []
   },
   "outputs": [
    {
     "data": {
      "text/plain": [
       "<matplotlib.patches.StepPatch at 0x7f127297be20>"
      ]
     },
     "execution_count": 348,
     "metadata": {},
     "output_type": "execute_result"
    },
    {
     "data": {
      "image/png": "[encoded data removed]",
      "text/plain": [
       "<Figure size 640x480 with 1 Axes>"
      ]
     },
     "metadata": {},
     "output_type": "display_data"
    }
   ],
   "source": [
    "# Host luminosity distribution\n",
    "mag = np.array([-16.20, -19.46, -20.81, -20.40, -19.85, -22.06, -21.22, -19.01, -19.92, -22.13, -18.05, -18.80, -21.38, -20.18, -18.26, -21.49]) * u.M_bol\n",
    "y_hist, bins = np.histogram(mag.to(u.L_sun).value, bins=10, density=True)\n",
    "plt.stairs(y_hist, bins, color='k')\n",
    "\n",
    "M_org = np.loadtxt('lsst_source_catalog.txt', usecols=7, delimiter=',') * u.M_bol\n",
    "z_org = np.loadtxt('lsst_source_catalog.txt', usecols=2, delimiter=',')\n",
    "M_org = M_org[z_org<1]\n",
    "y_hist_org, bins = np.histogram(M_org.to(u.L_sun).value, bins=bins, density=True)\n",
    "plt.stairs(y_hist_org, bins, color='r')"
   ]
  },
  {
   "cell_type": "code",
   "execution_count": 355,
   "id": "645d666c-c705-4893-9419-18a41857a673",
   "metadata": {
    "tags": []
   },
   "outputs": [
    {
     "data": {
      "text/plain": [
       "([], [])"
      ]
     },
     "execution_count": 355,
     "metadata": {},
     "output_type": "execute_result"
    },
    {
     "data": {
      "image/png": "[encoded data removed]",
      "text/plain": [
       "<Figure size 640x480 with 1 Axes>"
      ]
     },
     "metadata": {},
     "output_type": "display_data"
    }
   ],
   "source": [
    "plt.stairs(y_hist / y_hist_org, bins, color='k')\n",
    "plt.xlabel('Luminosity (Lsun)')\n",
    "plt.ylabel('FRB hosts / Galaxies in the simulation (z < 1)')\n",
    "plt.yticks([])"
   ]
  },
  {
   "cell_type": "code",
   "execution_count": null,
   "id": "056f7a6e",
   "metadata": {
    "tags": []
   },
   "outputs": [],
   "source": []
  },
  {
   "cell_type": "code",
   "execution_count": null,
   "id": "26d68e0e-f314-4248-af5e-3e7584f71883",
   "metadata": {
    "tags": []
   },
   "outputs": [],
   "source": []
  },
  {
   "cell_type": "code",
   "execution_count": null,
   "id": "b661662d-3e67-4542-b399-f0d337f06a69",
   "metadata": {},
   "outputs": [],
   "source": []
  },
  {
   "cell_type": "code",
   "execution_count": null,
   "id": "b8997d9a-9e11-406a-978c-0c5c6b61dcec",
   "metadata": {},
   "outputs": [],
   "source": []
  },
  {
   "cell_type": "code",
   "execution_count": 18,
   "id": "c5d5799a-4243-4102-bdd0-fe6c8b1ffaf0",
   "metadata": {
    "tags": []
   },
   "outputs": [
    {
     "ename": "NameError",
     "evalue": "name 'corner' is not defined",
     "output_type": "error",
     "traceback": [
      "\u001b[0;31m---------------------------------------------------------------------------\u001b[0m",
      "\u001b[0;31mNameError\u001b[0m                                 Traceback (most recent call last)",
      "Cell \u001b[0;32mIn[18], line 13\u001b[0m\n\u001b[1;32m      9\u001b[0m samples[:,\u001b[38;5;241m6\u001b[39m] \u001b[38;5;241m=\u001b[39m samples[:,\u001b[38;5;241m6\u001b[39m]\u001b[38;5;241m*\u001b[39mnp\u001b[38;5;241m.\u001b[39mlog10(np\u001b[38;5;241m.\u001b[39me)\n\u001b[1;32m     12\u001b[0m \u001b[38;5;66;03m# making corner plot\u001b[39;00m\n\u001b[0;32m---> 13\u001b[0m fig \u001b[38;5;241m=\u001b[39m \u001b[43mcorner\u001b[49m\u001b[38;5;241m.\u001b[39mcorner(\n\u001b[1;32m     14\u001b[0m     samples\n\u001b[1;32m     15\u001b[0m )\n",
      "\u001b[0;31mNameError\u001b[0m: name 'corner' is not defined"
     ]
    }
   ],
   "source": [
    "# Shin+23 Fig.1\n",
    "\n",
    "with open('emcee_sampler_output.p', \"rb\") as input_file:\n",
    "    sampler = pickle.load(input_file)\n",
    "samples = sampler.get_chain(flat=True, thin=20)\n",
    "samples[:,0] = (samples[:,0]+np.log(rate_corr_factor))*np.log10(np.e)\n",
    "samples[:,2] = samples[:,2]*np.log10(np.e)\n",
    "samples[:,5] = samples[:,5]*np.log10(np.e)\n",
    "samples[:,6] = samples[:,6]*np.log10(np.e)\n",
    "\n",
    "\n",
    "# making corner plot\n",
    "fig = corner.corner(\n",
    "    samples\n",
    ")"
   ]
  },
  {
   "cell_type": "code",
   "execution_count": null,
   "id": "abf1bd32-a535-4c2a-906b-ed26e9bb8979",
   "metadata": {},
   "outputs": [],
   "source": []
  },
  {
   "cell_type": "code",
   "execution_count": null,
   "id": "67778e4d-252b-420d-ac66-3e50d5ea3d83",
   "metadata": {},
   "outputs": [],
   "source": []
  },
  {
   "cell_type": "code",
   "execution_count": null,
   "id": "e7883683-8e0b-4e57-b0ab-3ec6e6ad8c83",
   "metadata": {},
   "outputs": [],
   "source": []
  },
  {
   "cell_type": "code",
   "execution_count": 207,
   "id": "570ae4ba-ac57-4f46-b4fd-24f2d90c17ca",
   "metadata": {
    "tags": []
   },
   "outputs": [],
   "source": []
  },
  {
   "cell_type": "code",
   "execution_count": 208,
   "id": "b73928c8-f6d2-49f2-b500-21ab030748e9",
   "metadata": {
    "tags": []
   },
   "outputs": [
    {
     "data": {
      "text/plain": [
       "(<Quantity 3.41157474e+09 solMass>, <Quantity 8.78159517e+11 solMass>)"
      ]
     },
     "execution_count": 208,
     "metadata": {},
     "output_type": "execute_result"
    }
   ],
   "source": [
    "m.min(), m.max()"
   ]
  },
  {
   "cell_type": "code",
   "execution_count": null,
   "id": "4acffae1-bf36-4ac1-a15c-236dab2bc939",
   "metadata": {
    "tags": []
   },
   "outputs": [],
   "source": []
  },
  {
   "cell_type": "code",
   "execution_count": null,
   "id": "d0df8bb0-9f9b-41c5-b23d-803a23dd37fd",
   "metadata": {
    "tags": []
   },
   "outputs": [],
   "source": []
  },
  {
   "cell_type": "code",
   "execution_count": 1,
   "id": "2a9593bf-744c-41de-a7f6-0c61d16b7ed9",
   "metadata": {
    "tags": []
   },
   "outputs": [],
   "source": [
    "# Create galaxy csv\n",
    "import pandas as pd\n",
    "import numpy as np\n",
    "from numpy.random import default_rng\n",
    "\n",
    "seed = 2911167007  # Seed of random processes\n",
    "rng = default_rng(seed)  # Random generator; seed fixed for reproducibility\n",
    "\n",
    "# Tom's simulations\n",
    "euclid_sim = pd.read_csv('lenses_Euclid.txt', delim_whitespace=True)\n",
    "\n",
    "# Ana's simulations\n",
    "dfs = list()\n",
    "for ii in np.arange(0.01, 1, 0.01):\n",
    "    jj = round(ii, 2)\n",
    "    tab = pd.read_csv(f\"SIE/positions_mu_t_q={jj}.csv\", index_col=0)\n",
    "    tab[\"q\"] = jj\n",
    "    dfs.append(tab)\n",
    "magnification_sim = pd.concat(dfs, ignore_index=True)\n",
    "\n",
    "# Distance between the lens and the fast radio burst\n",
    "dist_lens_host = np.sqrt(euclid_sim['x_s_unlensed']**2 + euclid_sim['y_s_unlensed']**2)\n",
    "dist_host_frb = rng.exponential(1) * euclid_sim['halflightradius_s(arcsec)']\n",
    "dist_lens_frb = dist_lens_host + dist_host_frb * np.cos(rng.uniform(low=0, high=2*np.pi))\n",
    "\n",
    "# Clip ellipticity to match Ana's simulations\n",
    "euclid_sim['q_l'] = np.clip(euclid_sim['q_l'], 0.01, 0.99)\n",
    "\n",
    "# For each source galaxy, select the backround source closest to the FRB position\n",
    "rand_index = []\n",
    "for q, d in zip(euclid_sim['q_l'], dist_lens_frb):\n",
    "    rand_index.append(\n",
    "        (\n",
    "            magnification_sim['weights'][np.isclose(magnification_sim['q'], q)] - d\n",
    "        ).abs().idxmin()\n",
    "    )\n",
    "    \n",
    "# Table with all images for each host galaxy\n",
    "total_table = pd.concat([euclid_sim, magnification_sim.iloc[rand_index].reset_index()], axis=1)"
   ]
  },
  {
   "cell_type": "code",
   "execution_count": 3,
   "id": "0db78e1e-bb6a-49c9-9061-471b00e776ce",
   "metadata": {
    "tags": []
   },
   "outputs": [
    {
     "data": {
      "text/plain": [
       "z_l                               0.960000\n",
       "z_s                               3.600000\n",
       "R_Ein(arcsec)                     0.460000\n",
       "sigma(km/s)                     173.350000\n",
       "q_l                               0.670000\n",
       "halflightradius_l(arcsec)         0.360000\n",
       "mag_l_VIS                        23.610000\n",
       "x_s_unlensed                      0.170000\n",
       "y_s_unlensed                      0.180000\n",
       "q_s                               0.700000\n",
       "pa_s(degrees)                   138.100000\n",
       "halflightradius_s(arcsec)         0.130000\n",
       "mag_s_VIS                        24.740000\n",
       "averagemagnification              3.650000\n",
       "SNRofSource                      46.250000\n",
       "M_absolute_source_r             -21.330000\n",
       "index                        283340.000000\n",
       "RA                                0.278043\n",
       "DEC                              -0.601967\n",
       "N_images                          2.000000\n",
       "mu_tot                            2.645720\n",
       "tmax                             38.677139\n",
       "im1_RA                            0.540745\n",
       "im1_DEC                          -1.612673\n",
       "mu_1                              1.981069\n",
       "t1                                0.000000\n",
       "im2_RA                           -0.207403\n",
       "im2_DEC                           0.295806\n",
       "mu_2                              0.664651\n",
       "t2                               38.677139\n",
       "im3_RA                            0.000000\n",
       "im3_DEC                           0.000000\n",
       "mu_3                              0.000000\n",
       "t3                                0.000000\n",
       "im4_RA                            0.000000\n",
       "im4_DEC                           0.000000\n",
       "mu_4                              0.000000\n",
       "t4                                0.000000\n",
       "weights                           0.663078\n",
       "q                                 0.670000\n",
       "Name: 11, dtype: float64"
      ]
     },
     "execution_count": 3,
     "metadata": {},
     "output_type": "execute_result"
    }
   ],
   "source": [
    "total_table.iloc[11]"
   ]
  },
  {
   "cell_type": "code",
   "execution_count": null,
   "id": "d2621d03-c8d6-4f49-a570-b75838db6180",
   "metadata": {},
   "outputs": [],
   "source": []
  },
  {
   "cell_type": "code",
   "execution_count": 5,
   "id": "8e8a45dd-2f38-425c-b3de-2338017414b5",
   "metadata": {
    "tags": []
   },
   "outputs": [],
   "source": [
    "# https://www.imprs-astro.mpg.de/sites/default/files/lyskova.pdf\n",
    "\n",
    "from astropy import units as u\n",
    "from astropy.coordinates import Distance\n",
    "from astropy import constants as const\n",
    "from astropy.cosmology import Planck18 as cosmo\n",
    "\n",
    "m = (\n",
    "    1.6 * \n",
    "    (np.array(euclid_sim['sigma(km/s)'])*u.km/u.s)**2 *\n",
    "    (np.array(euclid_sim['halflightradius_l(arcsec)'])*u.arcsec).to(u.rad).value *\n",
    "    cosmo.angular_diameter_distance(np.array(euclid_sim['z_l'])) / \n",
    "    const.G\n",
    ").to(u.M_sun)"
   ]
  },
  {
   "cell_type": "code",
   "execution_count": null,
   "id": "220e0366-cc27-4345-91b4-654668446812",
   "metadata": {},
   "outputs": [],
   "source": []
  },
  {
   "cell_type": "code",
   "execution_count": null,
   "id": "62ddd1ee-c145-425a-b81d-41583641f2f1",
   "metadata": {},
   "outputs": [],
   "source": []
  },
  {
   "cell_type": "code",
   "execution_count": 6,
   "id": "2b1702c3-916b-4784-b2ac-658ef6366e65",
   "metadata": {
    "tags": []
   },
   "outputs": [],
   "source": [
    "a = pd.DataFrame()\n",
    "a['impact_parameter'] = dist_lens_frb / euclid_sim['halflightradius_l(arcsec)']\n",
    "a['lens_mass'] = m.value\n",
    "a['sigma(km/s)'] = euclid_sim['sigma(km/s)']\n",
    "a['halflightradius_l(arcsec)'] = euclid_sim['halflightradius_l(arcsec)']"
   ]
  },
  {
   "cell_type": "code",
   "execution_count": 9,
   "id": "33b14d27-95ac-4439-9c7e-205c6a752a28",
   "metadata": {
    "tags": []
   },
   "outputs": [],
   "source": [
    "a.to_csv('b_mass.csv', sep=' ', index=False)"
   ]
  },
  {
   "cell_type": "code",
   "execution_count": 14,
   "id": "cc24a058-09ea-4e40-a3f0-a7dbcd4ede59",
   "metadata": {},
   "outputs": [
    {
     "data": {
      "text/plain": [
       "11.32378210982464"
      ]
     },
     "execution_count": 14,
     "metadata": {},
     "output_type": "execute_result"
    }
   ],
   "source": [
    "a['impact_parameter'].max()"
   ]
  },
  {
   "cell_type": "code",
   "execution_count": null,
   "id": "ec48fb22-5942-41b5-873e-93d3f34402c9",
   "metadata": {},
   "outputs": [],
   "source": []
  },
  {
   "cell_type": "code",
   "execution_count": null,
   "id": "08c9fbd6-376a-4537-9cbe-c1ff745f62ef",
   "metadata": {
    "tags": []
   },
   "outputs": [],
   "source": []
  },
  {
   "cell_type": "code",
   "execution_count": null,
   "id": "b1709661-7a77-452b-8f4e-30b1e6fb4526",
   "metadata": {},
   "outputs": [],
   "source": []
  },
  {
   "cell_type": "code",
   "execution_count": 18,
   "id": "1facda99-b5fa-4d1a-a927-272c703fd737",
   "metadata": {
    "tags": []
   },
   "outputs": [],
   "source": [
    "# Clip ellipticity to match Ana's simulations\n",
    "euclid_sim['q_l'] = np.clip(euclid_sim['q_l'], 0.01, 0.99)"
   ]
  },
  {
   "cell_type": "code",
   "execution_count": 19,
   "id": "7aa711b0-ae24-47b7-a996-59adb7eafe5f",
   "metadata": {
    "tags": []
   },
   "outputs": [],
   "source": [
    "# Distance between the lens and the fast radio burst\n",
    "dist_lens_host = np.sqrt(euclid_sim['x_s_unlensed']**2 + euclid_sim['y_s_unlensed']**2)\n",
    "dist_host_frb = rng.exponential(1) * euclid_sim['halflightradius_s(arcsec)']\n",
    "dist_lens_frb = dist_lens_host + dist_host_frb * np.cos(rng.uniform(low=0, high=2*np.pi))"
   ]
  },
  {
   "cell_type": "code",
   "execution_count": 20,
   "id": "96d828f7-8248-49a4-8a5d-eba7d6b87c14",
   "metadata": {
    "tags": []
   },
   "outputs": [],
   "source": [
    "dist_lens_frb_Er = dist_lens_frb / euclid_sim['R_Ein(arcsec)']"
   ]
  },
  {
   "cell_type": "code",
   "execution_count": null,
   "id": "8ad4743d-72ed-4e98-b06b-67556c2f91ea",
   "metadata": {
    "tags": []
   },
   "outputs": [],
   "source": []
  },
  {
   "cell_type": "code",
   "execution_count": 1,
   "id": "16a0b353-ccea-4ee8-b6b3-c08834f29a34",
   "metadata": {
    "tags": []
   },
   "outputs": [
    {
     "ename": "NameError",
     "evalue": "name 'dist_lens_host' is not defined",
     "output_type": "error",
     "traceback": [
      "\u001b[0;31m---------------------------------------------------------------------------\u001b[0m",
      "\u001b[0;31mNameError\u001b[0m                                 Traceback (most recent call last)",
      "Cell \u001b[0;32mIn[1], line 1\u001b[0m\n\u001b[0;32m----> 1\u001b[0m \u001b[43mdist_lens_host\u001b[49m\n",
      "\u001b[0;31mNameError\u001b[0m: name 'dist_lens_host' is not defined"
     ]
    }
   ],
   "source": [
    "dist_lens_host"
   ]
  },
  {
   "cell_type": "code",
   "execution_count": null,
   "id": "08e2c676-cb23-4307-8881-89aa9afc1e64",
   "metadata": {},
   "outputs": [],
   "source": []
  },
  {
   "cell_type": "code",
   "execution_count": 27,
   "id": "4cc6cda2-5435-42c9-9dde-239987c8ad3b",
   "metadata": {
    "tags": []
   },
   "outputs": [],
   "source": []
  },
  {
   "cell_type": "code",
   "execution_count": 28,
   "id": "e988224f-448a-4c31-bd33-19e5d748a739",
   "metadata": {
    "tags": []
   },
   "outputs": [],
   "source": [
    "tom_sim = euclid_sim.iloc[0]\n",
    "ana_sim = magnification_sim\n",
    "\n",
    "frb_host_dist = rng.exponential(1) * tom_sim['halflightradius_s(arcsec)'] * u.arcsec\n",
    "frb_host_angle = rng.uniform(low=0, high=2*np.pi) * u.rad\n",
    "frb_host_x = frb_host_dist * np.cos(frb_host_angle)\n",
    "frb_host_y = frb_host_dist * np.sin(frb_host_angle)\n",
    "frb_lens_x = frb_host_x + tom_sim['x_s_unlensed'] * u.arcsec\n",
    "frb_lens_y = frb_host_y + tom_sim['y_s_unlensed'] * u.arcsec\n",
    "\n",
    "frb_lens_x_Er = frb_lens_x / tom_sim['R_Ein(arcsec)'] / u.arcsec\n",
    "frb_lens_y_Er = frb_lens_y / tom_sim['R_Ein(arcsec)'] / u.arcsec\n",
    "\n",
    "ana_sample = ana_sim[np.isclose(ana_sim['q'], tom_sim['q_l'])]\n",
    "dist = np.sqrt((ana_sample['RA'] - frb_lens_x_Er)**2 + (ana_sample['DEC'] - frb_lens_y_Er)**2)\n",
    "images = ana_sample.iloc[dist.argmin()]\n",
    "\n",
    "position_RA = images['im1_RA'] * tom_sim['R_Ein(arcsec)'] * u.arcsec\n",
    "position_DEC = images['im1_DEC'] * tom_sim['R_Ein(arcsec)'] * u.arcsec"
   ]
  },
  {
   "cell_type": "code",
   "execution_count": 29,
   "id": "c0d80b39-879a-43f1-9c30-375a3647524e",
   "metadata": {
    "tags": []
   },
   "outputs": [],
   "source": []
  },
  {
   "cell_type": "code",
   "execution_count": 34,
   "id": "762291ab-a5de-40b9-a3c9-35aa6e75ce11",
   "metadata": {
    "tags": []
   },
   "outputs": [],
   "source": []
  },
  {
   "cell_type": "code",
   "execution_count": 39,
   "id": "57dcf865-ba45-4980-84af-1ced67066f95",
   "metadata": {
    "tags": []
   },
   "outputs": [],
   "source": []
  },
  {
   "cell_type": "code",
   "execution_count": null,
   "id": "e57b2bba-36a6-4b9a-958b-c596cdea1ffe",
   "metadata": {},
   "outputs": [],
   "source": []
  },
  {
   "cell_type": "code",
   "execution_count": null,
   "id": "7d00871d-abd3-4e43-9de9-3704f02f7311",
   "metadata": {
    "tags": []
   },
   "outputs": [],
   "source": [
    "import pandas as pd"
   ]
  },
  {
   "cell_type": "code",
   "execution_count": 8,
   "id": "d6e03410-fa70-4247-ba84-3cd2637202ec",
   "metadata": {
    "tags": []
   },
   "outputs": [],
   "source": [
    "euclid_sim = pd.read_csv('lenses_Euclid.txt', delim_whitespace=True)"
   ]
  },
  {
   "cell_type": "code",
   "execution_count": 9,
   "id": "20fb1675-65d8-45f0-91f7-11cea1047201",
   "metadata": {
    "tags": []
   },
   "outputs": [],
   "source": [
    "dist_lens_host = np.sqrt(euclid_sim['x_s_unlensed']**2 + euclid_sim['y_s_unlensed']**2)"
   ]
  },
  {
   "cell_type": "code",
   "execution_count": 15,
   "id": "8db741e8-9a9b-4c0a-9ed0-7096d2f2035a",
   "metadata": {
    "tags": []
   },
   "outputs": [
    {
     "data": {
      "text/latex": [
       "$[2.3455303,~0.87198583,~0.73381534,~\\dots,~1.2557369,~1.4133967,~1.8528671] \\; \\mathrm{kpc}$"
      ],
      "text/plain": [
       "<Quantity [2.34553033, 0.87198583, 0.73381534, ..., 1.2557369 , 1.41339675,\n",
       "           1.85286709] kpc>"
      ]
     },
     "execution_count": 15,
     "metadata": {},
     "output_type": "execute_result"
    }
   ],
   "source": [
    "(\n",
    "    (np.array(dist_lens_host) * u.arcsec).to(u.rad) * \n",
    "    cosmo.angular_diameter_distance(np.array(euclid_sim['z_l']))\n",
    ").to(u.kpc, equivalencies=u.dimensionless_angles())"
   ]
  },
  {
   "cell_type": "code",
   "execution_count": null,
   "id": "5baeceb1-ebe0-4fe9-8775-21d4c5aa24db",
   "metadata": {},
   "outputs": [],
   "source": []
  },
  {
   "cell_type": "code",
   "execution_count": null,
   "id": "27c0cacd-ea37-4d21-b6a6-1172c56a3dc8",
   "metadata": {},
   "outputs": [],
   "source": []
  },
  {
   "cell_type": "code",
   "execution_count": null,
   "id": "1e2b1488-de5a-44a0-8e4d-31ec13f69c92",
   "metadata": {
    "tags": []
   },
   "outputs": [],
   "source": []
  },
  {
   "cell_type": "code",
   "execution_count": null,
   "id": "ba97905d-1ce8-4ac3-a3da-5e4397aa508c",
   "metadata": {
    "tags": []
   },
   "outputs": [],
   "source": []
  },
  {
   "cell_type": "code",
   "execution_count": 3,
   "id": "4f0a4c05-f78d-4ab8-b69c-5d7cf58ce073",
   "metadata": {
    "tags": []
   },
   "outputs": [],
   "source": [
    "# Create galaxy csv\n",
    "import pandas as pd\n",
    "import numpy as np\n",
    "from numpy.random import default_rng\n",
    "\n",
    "seed = 2911167007  # Seed of random processes\n",
    "rng = default_rng(seed)  # Random generator; seed fixed for reproducibility\n",
    "\n",
    "# Tom's simulations\n",
    "euclid_sim = pd.read_csv(\n",
    "    'lenses_Euclid.txt',\n",
    "    delim_whitespace=True,\n",
    "    usecols = [\n",
    "        'z_l', 'z_s', 'R_Ein(arcsec)', 'sigma(km/s)', 'q_l',\n",
    "        'halflightradius_l(arcsec)', 'x_s_unlensed', 'y_s_unlensed', \n",
    "        'halflightradius_s(arcsec)', 'M_absolute_source_r'\n",
    "    ]\n",
    ")\n",
    "euclid_sim['q_l'] = np.clip(euclid_sim['q_l'], 0.01, 0.99)\n",
    "\n",
    "# Ana's simulations\n",
    "dfs = list()\n",
    "for jj in euclid_sim['q_l'].unique():\n",
    "    tab = pd.read_csv(\n",
    "        f\"SIE/positions_mu_t_q={jj}.csv\",\n",
    "        index_col=0,\n",
    "        usecols=[\n",
    "            'RA', 'DEC', 'N_images', 'im1_RA', 'im1_DEC', 'mu_1',\n",
    "            't1', 'im2_RA', 'im2_DEC', 'mu_2', 't2', 'im3_RA', 'im3_DEC',\n",
    "            'mu_3', 't3', 'im4_RA', 'im4_DEC', 'mu_4', 't4', 'weights'\n",
    "        ]\n",
    "    )\n",
    "    tab[\"q\"] = jj\n",
    "    dfs.append(tab)\n",
    "magnification_sim = pd.concat(dfs, ignore_index=True)"
   ]
  },
  {
   "cell_type": "code",
   "execution_count": null,
   "id": "d43230d2-d771-4c65-b93f-a12dbe946038",
   "metadata": {
    "tags": []
   },
   "outputs": [],
   "source": []
  },
  {
   "cell_type": "code",
   "execution_count": 412,
   "id": "28d25f0d-d909-466c-a454-e6e3c0e94333",
   "metadata": {
    "tags": []
   },
   "outputs": [],
   "source": [
    "frb_host_dist = rng.exponential(1) * euclid_sim['halflightradius_s(arcsec)'] * u.arcsec\n",
    "frb_host_angle = rng.uniform(low=0, high=2*np.pi) * u.rad\n",
    "frb_host_x = frb_host_dist * np.cos(frb_host_angle)\n",
    "frb_host_y = frb_host_dist * np.sin(frb_host_angle)\n",
    "frb_lens_x = frb_host_x + euclid_sim['x_s_unlensed'] * u.arcsec\n",
    "frb_lens_y = frb_host_y + euclid_sim['y_s_unlensed'] * u.arcsec\n",
    "frb_lens_x_Er = frb_lens_x / euclid_sim['R_Ein(arcsec)'] / u.arcsec\n",
    "frb_lens_y_Er = frb_lens_y / euclid_sim['R_Ein(arcsec)'] / u.arcsec"
   ]
  },
  {
   "cell_type": "code",
   "execution_count": null,
   "id": "35f0f771-6fc9-45be-b8b2-c9f9a56e3207",
   "metadata": {
    "tags": []
   },
   "outputs": [],
   "source": [
    "merged_table = euclid_sim[['q_l']].merge(magnification_sim[['q']], left_on='q_l', right_on='q', how='left')"
   ]
  },
  {
   "cell_type": "code",
   "execution_count": 1,
   "id": "ff8b2968-1caa-4958-be5a-b009c8788986",
   "metadata": {
    "tags": []
   },
   "outputs": [
    {
     "ename": "NameError",
     "evalue": "name 'merged_table' is not defined",
     "output_type": "error",
     "traceback": [
      "\u001b[0;31m---------------------------------------------------------------------------\u001b[0m",
      "\u001b[0;31mNameError\u001b[0m                                 Traceback (most recent call last)",
      "Cell \u001b[0;32mIn[1], line 1\u001b[0m\n\u001b[0;32m----> 1\u001b[0m \u001b[43mmerged_table\u001b[49m\u001b[38;5;241m.\u001b[39minfo\n",
      "\u001b[0;31mNameError\u001b[0m: name 'merged_table' is not defined"
     ]
    }
   ],
   "source": [
    "merged_table.info"
   ]
  },
  {
   "cell_type": "code",
   "execution_count": 4,
   "id": "4535b59b-5c2c-424c-89f9-d75bb5c618c2",
   "metadata": {
    "tags": []
   },
   "outputs": [
    {
     "data": {
      "text/html": [
       "<div>\n",
       "<style scoped>\n",
       "    .dataframe tbody tr th:only-of-type {\n",
       "        vertical-align: middle;\n",
       "    }\n",
       "\n",
       "    .dataframe tbody tr th {\n",
       "        vertical-align: top;\n",
       "    }\n",
       "\n",
       "    .dataframe thead th {\n",
       "        text-align: right;\n",
       "    }\n",
       "</style>\n",
       "<table border=\"1\" class=\"dataframe\">\n",
       "  <thead>\n",
       "    <tr style=\"text-align: right;\">\n",
       "      <th></th>\n",
       "      <th>DEC</th>\n",
       "      <th>N_images</th>\n",
       "      <th>im1_RA</th>\n",
       "      <th>im1_DEC</th>\n",
       "      <th>mu_1</th>\n",
       "      <th>t1</th>\n",
       "      <th>im2_RA</th>\n",
       "      <th>im2_DEC</th>\n",
       "      <th>mu_2</th>\n",
       "      <th>t2</th>\n",
       "      <th>im3_RA</th>\n",
       "      <th>im3_DEC</th>\n",
       "      <th>mu_3</th>\n",
       "      <th>t3</th>\n",
       "      <th>im4_RA</th>\n",
       "      <th>im4_DEC</th>\n",
       "      <th>mu_4</th>\n",
       "      <th>t4</th>\n",
       "      <th>weights</th>\n",
       "      <th>q</th>\n",
       "    </tr>\n",
       "  </thead>\n",
       "  <tbody>\n",
       "    <tr>\n",
       "      <th>0</th>\n",
       "      <td>0.407586</td>\n",
       "      <td>2</td>\n",
       "      <td>-0.980307</td>\n",
       "      <td>1.201367</td>\n",
       "      <td>2.766235</td>\n",
       "      <td>0</td>\n",
       "      <td>0.318977</td>\n",
       "      <td>-0.319640</td>\n",
       "      <td>0.826130</td>\n",
       "      <td>30.805729</td>\n",
       "      <td>0.000000</td>\n",
       "      <td>0.000000</td>\n",
       "      <td>0.000000</td>\n",
       "      <td>0.000000</td>\n",
       "      <td>0.000000</td>\n",
       "      <td>0.000000</td>\n",
       "      <td>0.000000</td>\n",
       "      <td>0.000000</td>\n",
       "      <td>0.548814</td>\n",
       "      <td>0.92</td>\n",
       "    </tr>\n",
       "    <tr>\n",
       "      <th>1</th>\n",
       "      <td>0.683409</td>\n",
       "      <td>2</td>\n",
       "      <td>-0.475575</td>\n",
       "      <td>1.659552</td>\n",
       "      <td>2.266911</td>\n",
       "      <td>0</td>\n",
       "      <td>0.093587</td>\n",
       "      <td>-0.280438</td>\n",
       "      <td>0.440603</td>\n",
       "      <td>40.501054</td>\n",
       "      <td>0.000000</td>\n",
       "      <td>0.000000</td>\n",
       "      <td>0.000000</td>\n",
       "      <td>0.000000</td>\n",
       "      <td>0.000000</td>\n",
       "      <td>0.000000</td>\n",
       "      <td>0.000000</td>\n",
       "      <td>0.000000</td>\n",
       "      <td>0.715189</td>\n",
       "      <td>0.92</td>\n",
       "    </tr>\n",
       "    <tr>\n",
       "      <th>2</th>\n",
       "      <td>0.251835</td>\n",
       "      <td>2</td>\n",
       "      <td>1.421821</td>\n",
       "      <td>0.719956</td>\n",
       "      <td>2.796366</td>\n",
       "      <td>0</td>\n",
       "      <td>-0.357207</td>\n",
       "      <td>-0.149990</td>\n",
       "      <td>0.604160</td>\n",
       "      <td>33.458033</td>\n",
       "      <td>0.000000</td>\n",
       "      <td>0.000000</td>\n",
       "      <td>0.000000</td>\n",
       "      <td>0.000000</td>\n",
       "      <td>0.000000</td>\n",
       "      <td>0.000000</td>\n",
       "      <td>0.000000</td>\n",
       "      <td>0.000000</td>\n",
       "      <td>0.602763</td>\n",
       "      <td>0.92</td>\n",
       "    </tr>\n",
       "    <tr>\n",
       "      <th>3</th>\n",
       "      <td>0.435678</td>\n",
       "      <td>2</td>\n",
       "      <td>-0.871084</td>\n",
       "      <td>1.280880</td>\n",
       "      <td>2.738381</td>\n",
       "      <td>0</td>\n",
       "      <td>0.292956</td>\n",
       "      <td>-0.352003</td>\n",
       "      <td>0.859463</td>\n",
       "      <td>30.656528</td>\n",
       "      <td>0.000000</td>\n",
       "      <td>0.000000</td>\n",
       "      <td>0.000000</td>\n",
       "      <td>0.000000</td>\n",
       "      <td>0.000000</td>\n",
       "      <td>0.000000</td>\n",
       "      <td>0.000000</td>\n",
       "      <td>0.000000</td>\n",
       "      <td>0.544883</td>\n",
       "      <td>0.92</td>\n",
       "    </tr>\n",
       "    <tr>\n",
       "      <th>4</th>\n",
       "      <td>0.421007</td>\n",
       "      <td>2</td>\n",
       "      <td>0.142354</td>\n",
       "      <td>1.429651</td>\n",
       "      <td>3.013072</td>\n",
       "      <td>0</td>\n",
       "      <td>-0.075278</td>\n",
       "      <td>-0.584497</td>\n",
       "      <td>1.588280</td>\n",
       "      <td>24.036522</td>\n",
       "      <td>0.000000</td>\n",
       "      <td>0.000000</td>\n",
       "      <td>0.000000</td>\n",
       "      <td>0.000000</td>\n",
       "      <td>0.000000</td>\n",
       "      <td>0.000000</td>\n",
       "      <td>0.000000</td>\n",
       "      <td>0.000000</td>\n",
       "      <td>0.423655</td>\n",
       "      <td>0.92</td>\n",
       "    </tr>\n",
       "    <tr>\n",
       "      <th>...</th>\n",
       "      <td>...</td>\n",
       "      <td>...</td>\n",
       "      <td>...</td>\n",
       "      <td>...</td>\n",
       "      <td>...</td>\n",
       "      <td>...</td>\n",
       "      <td>...</td>\n",
       "      <td>...</td>\n",
       "      <td>...</td>\n",
       "      <td>...</td>\n",
       "      <td>...</td>\n",
       "      <td>...</td>\n",
       "      <td>...</td>\n",
       "      <td>...</td>\n",
       "      <td>...</td>\n",
       "      <td>...</td>\n",
       "      <td>...</td>\n",
       "      <td>...</td>\n",
       "      <td>...</td>\n",
       "      <td>...</td>\n",
       "    </tr>\n",
       "    <tr>\n",
       "      <th>371891</th>\n",
       "      <td>-0.690045</td>\n",
       "      <td>2</td>\n",
       "      <td>0.166294</td>\n",
       "      <td>0.294664</td>\n",
       "      <td>1.968006</td>\n",
       "      <td>0</td>\n",
       "      <td>-0.084883</td>\n",
       "      <td>-1.735858</td>\n",
       "      <td>1.347008</td>\n",
       "      <td>-40.683703</td>\n",
       "      <td>0.000000</td>\n",
       "      <td>0.000000</td>\n",
       "      <td>0.000000</td>\n",
       "      <td>0.000000</td>\n",
       "      <td>0.000000</td>\n",
       "      <td>0.000000</td>\n",
       "      <td>0.000000</td>\n",
       "      <td>0.000000</td>\n",
       "      <td>0.692918</td>\n",
       "      <td>0.20</td>\n",
       "    </tr>\n",
       "    <tr>\n",
       "      <th>371892</th>\n",
       "      <td>-0.067996</td>\n",
       "      <td>4</td>\n",
       "      <td>-0.376663</td>\n",
       "      <td>0.945462</td>\n",
       "      <td>1.892207</td>\n",
       "      <td>0</td>\n",
       "      <td>-0.343240</td>\n",
       "      <td>-1.093345</td>\n",
       "      <td>1.689859</td>\n",
       "      <td>-3.884289</td>\n",
       "      <td>-0.829688</td>\n",
       "      <td>0.040802</td>\n",
       "      <td>0.618384</td>\n",
       "      <td>4.840269</td>\n",
       "      <td>0.416202</td>\n",
       "      <td>0.015672</td>\n",
       "      <td>0.233656</td>\n",
       "      <td>12.072476</td>\n",
       "      <td>0.218156</td>\n",
       "      <td>0.20</td>\n",
       "    </tr>\n",
       "    <tr>\n",
       "      <th>371893</th>\n",
       "      <td>0.141783</td>\n",
       "      <td>4</td>\n",
       "      <td>-0.366426</td>\n",
       "      <td>-0.867953</td>\n",
       "      <td>2.055205</td>\n",
       "      <td>0</td>\n",
       "      <td>-0.299710</td>\n",
       "      <td>1.174022</td>\n",
       "      <td>1.614022</td>\n",
       "      <td>-8.127759</td>\n",
       "      <td>-0.801245</td>\n",
       "      <td>-0.085210</td>\n",
       "      <td>0.683038</td>\n",
       "      <td>3.337036</td>\n",
       "      <td>0.429998</td>\n",
       "      <td>-0.034958</td>\n",
       "      <td>0.261959</td>\n",
       "      <td>9.821036</td>\n",
       "      <td>0.235453</td>\n",
       "      <td>0.20</td>\n",
       "    </tr>\n",
       "    <tr>\n",
       "      <th>371894</th>\n",
       "      <td>-0.197111</td>\n",
       "      <td>4</td>\n",
       "      <td>0.022073</td>\n",
       "      <td>0.849085</td>\n",
       "      <td>2.112796</td>\n",
       "      <td>0</td>\n",
       "      <td>0.016318</td>\n",
       "      <td>-1.243420</td>\n",
       "      <td>1.561678</td>\n",
       "      <td>-11.549199</td>\n",
       "      <td>0.617325</td>\n",
       "      <td>0.083029</td>\n",
       "      <td>0.498568</td>\n",
       "      <td>4.668355</td>\n",
       "      <td>-0.596968</td>\n",
       "      <td>0.078963</td>\n",
       "      <td>0.470757</td>\n",
       "      <td>5.023652</td>\n",
       "      <td>0.197388</td>\n",
       "      <td>0.20</td>\n",
       "    </tr>\n",
       "    <tr>\n",
       "      <th>371895</th>\n",
       "      <td>0.059367</td>\n",
       "      <td>4</td>\n",
       "      <td>0.690716</td>\n",
       "      <td>-0.880310</td>\n",
       "      <td>2.007560</td>\n",
       "      <td>0</td>\n",
       "      <td>0.642549</td>\n",
       "      <td>1.032821</td>\n",
       "      <td>1.753458</td>\n",
       "      <td>-3.185794</td>\n",
       "      <td>1.016589</td>\n",
       "      <td>-0.050490</td>\n",
       "      <td>0.881259</td>\n",
       "      <td>3.024492</td>\n",
       "      <td>-0.229836</td>\n",
       "      <td>-0.006831</td>\n",
       "      <td>0.115965</td>\n",
       "      <td>16.788587</td>\n",
       "      <td>0.398687</td>\n",
       "      <td>0.20</td>\n",
       "    </tr>\n",
       "  </tbody>\n",
       "</table>\n",
       "<p>371896 rows × 20 columns</p>\n",
       "</div>"
      ],
      "text/plain": [
       "             DEC  N_images    im1_RA   im1_DEC      mu_1  t1    im2_RA   \n",
       "0       0.407586         2 -0.980307  1.201367  2.766235   0  0.318977  \\\n",
       "1       0.683409         2 -0.475575  1.659552  2.266911   0  0.093587   \n",
       "2       0.251835         2  1.421821  0.719956  2.796366   0 -0.357207   \n",
       "3       0.435678         2 -0.871084  1.280880  2.738381   0  0.292956   \n",
       "4       0.421007         2  0.142354  1.429651  3.013072   0 -0.075278   \n",
       "...          ...       ...       ...       ...       ...  ..       ...   \n",
       "371891 -0.690045         2  0.166294  0.294664  1.968006   0 -0.084883   \n",
       "371892 -0.067996         4 -0.376663  0.945462  1.892207   0 -0.343240   \n",
       "371893  0.141783         4 -0.366426 -0.867953  2.055205   0 -0.299710   \n",
       "371894 -0.197111         4  0.022073  0.849085  2.112796   0  0.016318   \n",
       "371895  0.059367         4  0.690716 -0.880310  2.007560   0  0.642549   \n",
       "\n",
       "         im2_DEC      mu_2         t2    im3_RA   im3_DEC      mu_3        t3   \n",
       "0      -0.319640  0.826130  30.805729  0.000000  0.000000  0.000000  0.000000  \\\n",
       "1      -0.280438  0.440603  40.501054  0.000000  0.000000  0.000000  0.000000   \n",
       "2      -0.149990  0.604160  33.458033  0.000000  0.000000  0.000000  0.000000   \n",
       "3      -0.352003  0.859463  30.656528  0.000000  0.000000  0.000000  0.000000   \n",
       "4      -0.584497  1.588280  24.036522  0.000000  0.000000  0.000000  0.000000   \n",
       "...          ...       ...        ...       ...       ...       ...       ...   \n",
       "371891 -1.735858  1.347008 -40.683703  0.000000  0.000000  0.000000  0.000000   \n",
       "371892 -1.093345  1.689859  -3.884289 -0.829688  0.040802  0.618384  4.840269   \n",
       "371893  1.174022  1.614022  -8.127759 -0.801245 -0.085210  0.683038  3.337036   \n",
       "371894 -1.243420  1.561678 -11.549199  0.617325  0.083029  0.498568  4.668355   \n",
       "371895  1.032821  1.753458  -3.185794  1.016589 -0.050490  0.881259  3.024492   \n",
       "\n",
       "          im4_RA   im4_DEC      mu_4         t4   weights     q  \n",
       "0       0.000000  0.000000  0.000000   0.000000  0.548814  0.92  \n",
       "1       0.000000  0.000000  0.000000   0.000000  0.715189  0.92  \n",
       "2       0.000000  0.000000  0.000000   0.000000  0.602763  0.92  \n",
       "3       0.000000  0.000000  0.000000   0.000000  0.544883  0.92  \n",
       "4       0.000000  0.000000  0.000000   0.000000  0.423655  0.92  \n",
       "...          ...       ...       ...        ...       ...   ...  \n",
       "371891  0.000000  0.000000  0.000000   0.000000  0.692918  0.20  \n",
       "371892  0.416202  0.015672  0.233656  12.072476  0.218156  0.20  \n",
       "371893  0.429998 -0.034958  0.261959   9.821036  0.235453  0.20  \n",
       "371894 -0.596968  0.078963  0.470757   5.023652  0.197388  0.20  \n",
       "371895 -0.229836 -0.006831  0.115965  16.788587  0.398687  0.20  \n",
       "\n",
       "[371896 rows x 20 columns]"
      ]
     },
     "execution_count": 4,
     "metadata": {},
     "output_type": "execute_result"
    }
   ],
   "source": [
    "magnification_sim"
   ]
  },
  {
   "cell_type": "code",
   "execution_count": null,
   "id": "d29fed4f-d8b2-4775-9273-d253ba80c7a1",
   "metadata": {},
   "outputs": [],
   "source": [
    "tom_sim = euclid_sim.iloc[0]\n",
    "ana_sim = magnification_sim\n",
    "\n",
    "frb_host_dist = rng.exponential(1) * tom_sim['halflightradius_s(arcsec)'] * u.arcsec\n",
    "frb_host_angle = rng.uniform(low=0, high=2*np.pi) * u.rad\n",
    "frb_host_x = frb_host_dist * np.cos(frb_host_angle)\n",
    "frb_host_y = frb_host_dist * np.sin(frb_host_angle)\n",
    "frb_lens_x = frb_host_x + tom_sim['x_s_unlensed'] * u.arcsec\n",
    "frb_lens_y = frb_host_y + tom_sim['y_s_unlensed'] * u.arcsec\n",
    "\n",
    "frb_lens_x_Er = frb_lens_x / tom_sim['R_Ein(arcsec)'] / u.arcsec\n",
    "frb_lens_y_Er = frb_lens_y / tom_sim['R_Ein(arcsec)'] / u.arcsec\n",
    "\n",
    "ana_sample = ana_sim[np.isclose(ana_sim['q'], tom_sim['q_l'])]\n",
    "dist = np.sqrt((ana_sample['RA'] - frb_lens_x_Er)**2 + (ana_sample['DEC'] - frb_lens_y_Er)**2)\n",
    "images = ana_sample.iloc[dist.argmin()]\n",
    "\n",
    "position_RA = images['im1_RA'] * tom_sim['R_Ein(arcsec)'] * u.arcsec\n",
    "position_DEC = images['im1_DEC'] * tom_sim['R_Ein(arcsec)'] * u.arcsec"
   ]
  },
  {
   "cell_type": "code",
   "execution_count": null,
   "id": "956eb37f-28d5-4d66-b761-eb15dd2f76ce",
   "metadata": {},
   "outputs": [],
   "source": []
  },
  {
   "cell_type": "code",
   "execution_count": null,
   "id": "9e9889f9-5d0a-4030-af0a-ad2237d69e04",
   "metadata": {},
   "outputs": [],
   "source": []
  },
  {
   "cell_type": "code",
   "execution_count": 391,
   "id": "7804dfb9-1f38-44c4-ace8-3a5cb03a3c9c",
   "metadata": {
    "tags": []
   },
   "outputs": [],
   "source": [
    "a = euclid_sim[['z_l', 'q_l']]\n",
    "a = a[a['q_l'] <= 0.22].iloc[:10]\n",
    "b = magnification_sim[['RA', 'DEC', 'q']]\n",
    "b = b[(b['q'] >= 0.2) & (b['q'] <= 0.22)]"
   ]
  },
  {
   "cell_type": "code",
   "execution_count": 396,
   "id": "9d75d873-8015-4d74-8588-4bbb1c8f74e1",
   "metadata": {
    "tags": []
   },
   "outputs": [
    {
     "data": {
      "text/plain": [
       "((10, 2), (15, 3))"
      ]
     },
     "execution_count": 396,
     "metadata": {},
     "output_type": "execute_result"
    }
   ],
   "source": [
    "a.shape, b.shape"
   ]
  },
  {
   "cell_type": "code",
   "execution_count": null,
   "id": "eeb866aa-bbd8-48aa-ab57-90e0d1cfad5d",
   "metadata": {
    "tags": []
   },
   "outputs": [],
   "source": []
  },
  {
   "cell_type": "code",
   "execution_count": null,
   "id": "5b5c4a65-eff7-4e56-a093-d482d342e96b",
   "metadata": {
    "tags": []
   },
   "outputs": [],
   "source": []
  },
  {
   "cell_type": "code",
   "execution_count": 395,
   "id": "7f12ed9d-f596-4f4f-b598-b95694baaf8b",
   "metadata": {
    "tags": []
   },
   "outputs": [
    {
     "data": {
      "text/html": [
       "<div>\n",
       "<style scoped>\n",
       "    .dataframe tbody tr th:only-of-type {\n",
       "        vertical-align: middle;\n",
       "    }\n",
       "\n",
       "    .dataframe tbody tr th {\n",
       "        vertical-align: top;\n",
       "    }\n",
       "\n",
       "    .dataframe thead th {\n",
       "        text-align: right;\n",
       "    }\n",
       "</style>\n",
       "<table border=\"1\" class=\"dataframe\">\n",
       "  <thead>\n",
       "    <tr style=\"text-align: right;\">\n",
       "      <th></th>\n",
       "      <th>z_l</th>\n",
       "      <th>q_l</th>\n",
       "      <th>RA</th>\n",
       "      <th>DEC</th>\n",
       "      <th>q</th>\n",
       "    </tr>\n",
       "  </thead>\n",
       "  <tbody>\n",
       "    <tr>\n",
       "      <th>0</th>\n",
       "      <td>0.43</td>\n",
       "      <td>0.22</td>\n",
       "      <td>-0.367519</td>\n",
       "      <td>0.407586</td>\n",
       "      <td>0.22</td>\n",
       "    </tr>\n",
       "    <tr>\n",
       "      <th>1</th>\n",
       "      <td>0.43</td>\n",
       "      <td>0.22</td>\n",
       "      <td>-0.210828</td>\n",
       "      <td>0.683409</td>\n",
       "      <td>0.22</td>\n",
       "    </tr>\n",
       "    <tr>\n",
       "      <th>2</th>\n",
       "      <td>0.43</td>\n",
       "      <td>0.22</td>\n",
       "      <td>0.547634</td>\n",
       "      <td>0.251835</td>\n",
       "      <td>0.22</td>\n",
       "    </tr>\n",
       "    <tr>\n",
       "      <th>3</th>\n",
       "      <td>0.43</td>\n",
       "      <td>0.22</td>\n",
       "      <td>-0.327234</td>\n",
       "      <td>0.435678</td>\n",
       "      <td>0.22</td>\n",
       "    </tr>\n",
       "    <tr>\n",
       "      <th>4</th>\n",
       "      <td>0.43</td>\n",
       "      <td>0.22</td>\n",
       "      <td>0.047294</td>\n",
       "      <td>0.421007</td>\n",
       "      <td>0.22</td>\n",
       "    </tr>\n",
       "    <tr>\n",
       "      <th>5</th>\n",
       "      <td>1.04</td>\n",
       "      <td>0.22</td>\n",
       "      <td>-0.367519</td>\n",
       "      <td>0.407586</td>\n",
       "      <td>0.22</td>\n",
       "    </tr>\n",
       "    <tr>\n",
       "      <th>6</th>\n",
       "      <td>1.04</td>\n",
       "      <td>0.22</td>\n",
       "      <td>-0.210828</td>\n",
       "      <td>0.683409</td>\n",
       "      <td>0.22</td>\n",
       "    </tr>\n",
       "    <tr>\n",
       "      <th>7</th>\n",
       "      <td>1.04</td>\n",
       "      <td>0.22</td>\n",
       "      <td>0.547634</td>\n",
       "      <td>0.251835</td>\n",
       "      <td>0.22</td>\n",
       "    </tr>\n",
       "    <tr>\n",
       "      <th>8</th>\n",
       "      <td>1.04</td>\n",
       "      <td>0.22</td>\n",
       "      <td>-0.327234</td>\n",
       "      <td>0.435678</td>\n",
       "      <td>0.22</td>\n",
       "    </tr>\n",
       "    <tr>\n",
       "      <th>9</th>\n",
       "      <td>1.04</td>\n",
       "      <td>0.22</td>\n",
       "      <td>0.047294</td>\n",
       "      <td>0.421007</td>\n",
       "      <td>0.22</td>\n",
       "    </tr>\n",
       "    <tr>\n",
       "      <th>10</th>\n",
       "      <td>0.35</td>\n",
       "      <td>0.22</td>\n",
       "      <td>-0.367519</td>\n",
       "      <td>0.407586</td>\n",
       "      <td>0.22</td>\n",
       "    </tr>\n",
       "    <tr>\n",
       "      <th>11</th>\n",
       "      <td>0.35</td>\n",
       "      <td>0.22</td>\n",
       "      <td>-0.210828</td>\n",
       "      <td>0.683409</td>\n",
       "      <td>0.22</td>\n",
       "    </tr>\n",
       "    <tr>\n",
       "      <th>12</th>\n",
       "      <td>0.35</td>\n",
       "      <td>0.22</td>\n",
       "      <td>0.547634</td>\n",
       "      <td>0.251835</td>\n",
       "      <td>0.22</td>\n",
       "    </tr>\n",
       "    <tr>\n",
       "      <th>13</th>\n",
       "      <td>0.35</td>\n",
       "      <td>0.22</td>\n",
       "      <td>-0.327234</td>\n",
       "      <td>0.435678</td>\n",
       "      <td>0.22</td>\n",
       "    </tr>\n",
       "    <tr>\n",
       "      <th>14</th>\n",
       "      <td>0.35</td>\n",
       "      <td>0.22</td>\n",
       "      <td>0.047294</td>\n",
       "      <td>0.421007</td>\n",
       "      <td>0.22</td>\n",
       "    </tr>\n",
       "    <tr>\n",
       "      <th>15</th>\n",
       "      <td>0.78</td>\n",
       "      <td>0.21</td>\n",
       "      <td>-0.367519</td>\n",
       "      <td>0.407586</td>\n",
       "      <td>0.21</td>\n",
       "    </tr>\n",
       "    <tr>\n",
       "      <th>16</th>\n",
       "      <td>0.78</td>\n",
       "      <td>0.21</td>\n",
       "      <td>-0.210828</td>\n",
       "      <td>0.683409</td>\n",
       "      <td>0.21</td>\n",
       "    </tr>\n",
       "    <tr>\n",
       "      <th>17</th>\n",
       "      <td>0.78</td>\n",
       "      <td>0.21</td>\n",
       "      <td>0.547634</td>\n",
       "      <td>0.251835</td>\n",
       "      <td>0.21</td>\n",
       "    </tr>\n",
       "    <tr>\n",
       "      <th>18</th>\n",
       "      <td>0.78</td>\n",
       "      <td>0.21</td>\n",
       "      <td>-0.327234</td>\n",
       "      <td>0.435678</td>\n",
       "      <td>0.21</td>\n",
       "    </tr>\n",
       "    <tr>\n",
       "      <th>19</th>\n",
       "      <td>0.78</td>\n",
       "      <td>0.21</td>\n",
       "      <td>0.047294</td>\n",
       "      <td>0.421007</td>\n",
       "      <td>0.21</td>\n",
       "    </tr>\n",
       "    <tr>\n",
       "      <th>20</th>\n",
       "      <td>1.35</td>\n",
       "      <td>0.21</td>\n",
       "      <td>-0.367519</td>\n",
       "      <td>0.407586</td>\n",
       "      <td>0.21</td>\n",
       "    </tr>\n",
       "    <tr>\n",
       "      <th>21</th>\n",
       "      <td>1.35</td>\n",
       "      <td>0.21</td>\n",
       "      <td>-0.210828</td>\n",
       "      <td>0.683409</td>\n",
       "      <td>0.21</td>\n",
       "    </tr>\n",
       "    <tr>\n",
       "      <th>22</th>\n",
       "      <td>1.35</td>\n",
       "      <td>0.21</td>\n",
       "      <td>0.547634</td>\n",
       "      <td>0.251835</td>\n",
       "      <td>0.21</td>\n",
       "    </tr>\n",
       "    <tr>\n",
       "      <th>23</th>\n",
       "      <td>1.35</td>\n",
       "      <td>0.21</td>\n",
       "      <td>-0.327234</td>\n",
       "      <td>0.435678</td>\n",
       "      <td>0.21</td>\n",
       "    </tr>\n",
       "    <tr>\n",
       "      <th>24</th>\n",
       "      <td>1.35</td>\n",
       "      <td>0.21</td>\n",
       "      <td>0.047294</td>\n",
       "      <td>0.421007</td>\n",
       "      <td>0.21</td>\n",
       "    </tr>\n",
       "    <tr>\n",
       "      <th>25</th>\n",
       "      <td>0.43</td>\n",
       "      <td>0.22</td>\n",
       "      <td>-0.367519</td>\n",
       "      <td>0.407586</td>\n",
       "      <td>0.22</td>\n",
       "    </tr>\n",
       "    <tr>\n",
       "      <th>26</th>\n",
       "      <td>0.43</td>\n",
       "      <td>0.22</td>\n",
       "      <td>-0.210828</td>\n",
       "      <td>0.683409</td>\n",
       "      <td>0.22</td>\n",
       "    </tr>\n",
       "    <tr>\n",
       "      <th>27</th>\n",
       "      <td>0.43</td>\n",
       "      <td>0.22</td>\n",
       "      <td>0.547634</td>\n",
       "      <td>0.251835</td>\n",
       "      <td>0.22</td>\n",
       "    </tr>\n",
       "    <tr>\n",
       "      <th>28</th>\n",
       "      <td>0.43</td>\n",
       "      <td>0.22</td>\n",
       "      <td>-0.327234</td>\n",
       "      <td>0.435678</td>\n",
       "      <td>0.22</td>\n",
       "    </tr>\n",
       "    <tr>\n",
       "      <th>29</th>\n",
       "      <td>0.43</td>\n",
       "      <td>0.22</td>\n",
       "      <td>0.047294</td>\n",
       "      <td>0.421007</td>\n",
       "      <td>0.22</td>\n",
       "    </tr>\n",
       "    <tr>\n",
       "      <th>30</th>\n",
       "      <td>1.12</td>\n",
       "      <td>0.22</td>\n",
       "      <td>-0.367519</td>\n",
       "      <td>0.407586</td>\n",
       "      <td>0.22</td>\n",
       "    </tr>\n",
       "    <tr>\n",
       "      <th>31</th>\n",
       "      <td>1.12</td>\n",
       "      <td>0.22</td>\n",
       "      <td>-0.210828</td>\n",
       "      <td>0.683409</td>\n",
       "      <td>0.22</td>\n",
       "    </tr>\n",
       "    <tr>\n",
       "      <th>32</th>\n",
       "      <td>1.12</td>\n",
       "      <td>0.22</td>\n",
       "      <td>0.547634</td>\n",
       "      <td>0.251835</td>\n",
       "      <td>0.22</td>\n",
       "    </tr>\n",
       "    <tr>\n",
       "      <th>33</th>\n",
       "      <td>1.12</td>\n",
       "      <td>0.22</td>\n",
       "      <td>-0.327234</td>\n",
       "      <td>0.435678</td>\n",
       "      <td>0.22</td>\n",
       "    </tr>\n",
       "    <tr>\n",
       "      <th>34</th>\n",
       "      <td>1.12</td>\n",
       "      <td>0.22</td>\n",
       "      <td>0.047294</td>\n",
       "      <td>0.421007</td>\n",
       "      <td>0.22</td>\n",
       "    </tr>\n",
       "    <tr>\n",
       "      <th>35</th>\n",
       "      <td>0.51</td>\n",
       "      <td>0.22</td>\n",
       "      <td>-0.367519</td>\n",
       "      <td>0.407586</td>\n",
       "      <td>0.22</td>\n",
       "    </tr>\n",
       "    <tr>\n",
       "      <th>36</th>\n",
       "      <td>0.51</td>\n",
       "      <td>0.22</td>\n",
       "      <td>-0.210828</td>\n",
       "      <td>0.683409</td>\n",
       "      <td>0.22</td>\n",
       "    </tr>\n",
       "    <tr>\n",
       "      <th>37</th>\n",
       "      <td>0.51</td>\n",
       "      <td>0.22</td>\n",
       "      <td>0.547634</td>\n",
       "      <td>0.251835</td>\n",
       "      <td>0.22</td>\n",
       "    </tr>\n",
       "    <tr>\n",
       "      <th>38</th>\n",
       "      <td>0.51</td>\n",
       "      <td>0.22</td>\n",
       "      <td>-0.327234</td>\n",
       "      <td>0.435678</td>\n",
       "      <td>0.22</td>\n",
       "    </tr>\n",
       "    <tr>\n",
       "      <th>39</th>\n",
       "      <td>0.51</td>\n",
       "      <td>0.22</td>\n",
       "      <td>0.047294</td>\n",
       "      <td>0.421007</td>\n",
       "      <td>0.22</td>\n",
       "    </tr>\n",
       "    <tr>\n",
       "      <th>40</th>\n",
       "      <td>0.73</td>\n",
       "      <td>0.21</td>\n",
       "      <td>-0.367519</td>\n",
       "      <td>0.407586</td>\n",
       "      <td>0.21</td>\n",
       "    </tr>\n",
       "    <tr>\n",
       "      <th>41</th>\n",
       "      <td>0.73</td>\n",
       "      <td>0.21</td>\n",
       "      <td>-0.210828</td>\n",
       "      <td>0.683409</td>\n",
       "      <td>0.21</td>\n",
       "    </tr>\n",
       "    <tr>\n",
       "      <th>42</th>\n",
       "      <td>0.73</td>\n",
       "      <td>0.21</td>\n",
       "      <td>0.547634</td>\n",
       "      <td>0.251835</td>\n",
       "      <td>0.21</td>\n",
       "    </tr>\n",
       "    <tr>\n",
       "      <th>43</th>\n",
       "      <td>0.73</td>\n",
       "      <td>0.21</td>\n",
       "      <td>-0.327234</td>\n",
       "      <td>0.435678</td>\n",
       "      <td>0.21</td>\n",
       "    </tr>\n",
       "    <tr>\n",
       "      <th>44</th>\n",
       "      <td>0.73</td>\n",
       "      <td>0.21</td>\n",
       "      <td>0.047294</td>\n",
       "      <td>0.421007</td>\n",
       "      <td>0.21</td>\n",
       "    </tr>\n",
       "    <tr>\n",
       "      <th>45</th>\n",
       "      <td>1.10</td>\n",
       "      <td>0.22</td>\n",
       "      <td>-0.367519</td>\n",
       "      <td>0.407586</td>\n",
       "      <td>0.22</td>\n",
       "    </tr>\n",
       "    <tr>\n",
       "      <th>46</th>\n",
       "      <td>1.10</td>\n",
       "      <td>0.22</td>\n",
       "      <td>-0.210828</td>\n",
       "      <td>0.683409</td>\n",
       "      <td>0.22</td>\n",
       "    </tr>\n",
       "    <tr>\n",
       "      <th>47</th>\n",
       "      <td>1.10</td>\n",
       "      <td>0.22</td>\n",
       "      <td>0.547634</td>\n",
       "      <td>0.251835</td>\n",
       "      <td>0.22</td>\n",
       "    </tr>\n",
       "    <tr>\n",
       "      <th>48</th>\n",
       "      <td>1.10</td>\n",
       "      <td>0.22</td>\n",
       "      <td>-0.327234</td>\n",
       "      <td>0.435678</td>\n",
       "      <td>0.22</td>\n",
       "    </tr>\n",
       "    <tr>\n",
       "      <th>49</th>\n",
       "      <td>1.10</td>\n",
       "      <td>0.22</td>\n",
       "      <td>0.047294</td>\n",
       "      <td>0.421007</td>\n",
       "      <td>0.22</td>\n",
       "    </tr>\n",
       "  </tbody>\n",
       "</table>\n",
       "</div>"
      ],
      "text/plain": [
       "     z_l   q_l        RA       DEC     q\n",
       "0   0.43  0.22 -0.367519  0.407586  0.22\n",
       "1   0.43  0.22 -0.210828  0.683409  0.22\n",
       "2   0.43  0.22  0.547634  0.251835  0.22\n",
       "3   0.43  0.22 -0.327234  0.435678  0.22\n",
       "4   0.43  0.22  0.047294  0.421007  0.22\n",
       "5   1.04  0.22 -0.367519  0.407586  0.22\n",
       "6   1.04  0.22 -0.210828  0.683409  0.22\n",
       "7   1.04  0.22  0.547634  0.251835  0.22\n",
       "8   1.04  0.22 -0.327234  0.435678  0.22\n",
       "9   1.04  0.22  0.047294  0.421007  0.22\n",
       "10  0.35  0.22 -0.367519  0.407586  0.22\n",
       "11  0.35  0.22 -0.210828  0.683409  0.22\n",
       "12  0.35  0.22  0.547634  0.251835  0.22\n",
       "13  0.35  0.22 -0.327234  0.435678  0.22\n",
       "14  0.35  0.22  0.047294  0.421007  0.22\n",
       "15  0.78  0.21 -0.367519  0.407586  0.21\n",
       "16  0.78  0.21 -0.210828  0.683409  0.21\n",
       "17  0.78  0.21  0.547634  0.251835  0.21\n",
       "18  0.78  0.21 -0.327234  0.435678  0.21\n",
       "19  0.78  0.21  0.047294  0.421007  0.21\n",
       "20  1.35  0.21 -0.367519  0.407586  0.21\n",
       "21  1.35  0.21 -0.210828  0.683409  0.21\n",
       "22  1.35  0.21  0.547634  0.251835  0.21\n",
       "23  1.35  0.21 -0.327234  0.435678  0.21\n",
       "24  1.35  0.21  0.047294  0.421007  0.21\n",
       "25  0.43  0.22 -0.367519  0.407586  0.22\n",
       "26  0.43  0.22 -0.210828  0.683409  0.22\n",
       "27  0.43  0.22  0.547634  0.251835  0.22\n",
       "28  0.43  0.22 -0.327234  0.435678  0.22\n",
       "29  0.43  0.22  0.047294  0.421007  0.22\n",
       "30  1.12  0.22 -0.367519  0.407586  0.22\n",
       "31  1.12  0.22 -0.210828  0.683409  0.22\n",
       "32  1.12  0.22  0.547634  0.251835  0.22\n",
       "33  1.12  0.22 -0.327234  0.435678  0.22\n",
       "34  1.12  0.22  0.047294  0.421007  0.22\n",
       "35  0.51  0.22 -0.367519  0.407586  0.22\n",
       "36  0.51  0.22 -0.210828  0.683409  0.22\n",
       "37  0.51  0.22  0.547634  0.251835  0.22\n",
       "38  0.51  0.22 -0.327234  0.435678  0.22\n",
       "39  0.51  0.22  0.047294  0.421007  0.22\n",
       "40  0.73  0.21 -0.367519  0.407586  0.21\n",
       "41  0.73  0.21 -0.210828  0.683409  0.21\n",
       "42  0.73  0.21  0.547634  0.251835  0.21\n",
       "43  0.73  0.21 -0.327234  0.435678  0.21\n",
       "44  0.73  0.21  0.047294  0.421007  0.21\n",
       "45  1.10  0.22 -0.367519  0.407586  0.22\n",
       "46  1.10  0.22 -0.210828  0.683409  0.22\n",
       "47  1.10  0.22  0.547634  0.251835  0.22\n",
       "48  1.10  0.22 -0.327234  0.435678  0.22\n",
       "49  1.10  0.22  0.047294  0.421007  0.22"
      ]
     },
     "execution_count": 395,
     "metadata": {},
     "output_type": "execute_result"
    }
   ],
   "source": [
    "a.merge(b, left_on='q_l', right_on='q', how='left')"
   ]
  },
  {
   "cell_type": "code",
   "execution_count": null,
   "id": "81617465-5c48-4a07-8e23-6d55ca419302",
   "metadata": {},
   "outputs": [],
   "source": []
  },
  {
   "cell_type": "code",
   "execution_count": 377,
   "id": "632f7668-49b7-46b2-a293-a88ae3b0a86c",
   "metadata": {
    "tags": []
   },
   "outputs": [],
   "source": [
    "df1 = pd.DataFrame({'lkey': ['foo', 'bar', 'baz', 'foo'],\n",
    "                    'value': [1, 2, 3, 5]})\n",
    "df2 = pd.DataFrame({'rkey': ['foo', 'bar', 'baz', 'foo'],\n",
    "                    'value': [5, 6, 7, 8]})"
   ]
  },
  {
   "cell_type": "code",
   "execution_count": null,
   "id": "ab42bf6d-fdca-4648-8b1d-1cd027485c77",
   "metadata": {},
   "outputs": [],
   "source": []
  }
 ],
 "metadata": {
  "kernelspec": {
   "display_name": "Python 3 (ipykernel)",
   "language": "python",
   "name": "python3"
  },
  "language_info": {
   "codemirror_mode": {
    "name": "ipython",
    "version": 3
   },
   "file_extension": ".py",
   "mimetype": "text/x-python",
   "name": "python",
   "nbconvert_exporter": "python",
   "pygments_lexer": "ipython3",
   "version": "3.8.16"
  }
 },
 "nbformat": 4,
 "nbformat_minor": 5
}
