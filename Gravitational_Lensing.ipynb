{
 "cells": [
  {
   "cell_type": "code",
   "execution_count": 149,
   "id": "298f16f0-20dd-4a42-bc9f-31535364c37e",
   "metadata": {
    "tags": []
   },
   "outputs": [],
   "source": [
    "import sys\n",
    "sys.path.insert(0, \"/arc/home/michilli/.local/lib/python3.8/site-packages/\")\n",
    "sys.path.append(\"/arc/home/michilli/CHIMEFRB-Cat1-Energy-Dist-Distrs/\")"
   ]
  },
  {
   "cell_type": "code",
   "execution_count": null,
   "id": "65301163-4f7a-4591-8d84-bdfa6a3ed58d",
   "metadata": {},
   "outputs": [],
   "source": []
  },
  {
   "cell_type": "markdown",
   "id": "e0905626-ae44-4481-9587-8f193bd40d93",
   "metadata": {
    "jp-MarkdownHeadingCollapsed": true,
    "tags": []
   },
   "source": [
    "# Imports"
   ]
  },
  {
   "cell_type": "code",
   "execution_count": 2,
   "id": "763a5120-049d-400e-8946-98b15551444d",
   "metadata": {
    "tags": []
   },
   "outputs": [],
   "source": [
    "# Python 3.8.19\n",
    "import os\n",
    "import pickle\n",
    "import datetime\n",
    "import itertools\n",
    "\n",
    "# Numpy 1.24.4\n",
    "import numpy as np\n",
    "from numpy.random import default_rng\n",
    "# matplotlib 3.7.1\n",
    "import matplotlib.pyplot as plt\n",
    "# astropy 5.2.2\n",
    "from astropy import units as u\n",
    "from astropy.coordinates import Distance\n",
    "from astropy import constants as const\n",
    "from astropy.cosmology import Planck18 as cosmo\n",
    "# scipy 1.10.1\n",
    "from scipy.special import j1\n",
    "from scipy import optimize\n",
    "from scipy.stats import truncnorm, pareto\n",
    "from scipy.ndimage import gaussian_filter as gf\n",
    "from scipy.interpolate import CubicSpline as spline\n",
    "from scipy import integrate\n",
    "from scipy.interpolate import RegularGridInterpolator\n",
    "from scipy.spatial import KDTree\n",
    "from scipy.interpolate import interp1d\n",
    "# mpmath 1.3.0\n",
    "from mpmath import gammainc\n",
    "# pandas 2.0.0\n",
    "import pandas as pd"
   ]
  },
  {
   "cell_type": "markdown",
   "id": "b41613cc-fae4-4319-aabc-ca6344ece4b5",
   "metadata": {
    "tags": []
   },
   "source": [
    "# FRB detetion rates"
   ]
  },
  {
   "cell_type": "markdown",
   "id": "1ba152a2-3fcd-4768-9112-2d007e5d0ffb",
   "metadata": {
    "jp-MarkdownHeadingCollapsed": true,
    "tags": []
   },
   "source": [
    "## Class definitions"
   ]
  },
  {
   "cell_type": "code",
   "execution_count": 123,
   "id": "8efc523c-e82c-40a8-b9a7-5664f1e5e37c",
   "metadata": {
    "tags": []
   },
   "outputs": [],
   "source": [
    "class Telescope:\n",
    "    \"\"\"\n",
    "    Telescope parameters\n",
    "    \"\"\"\n",
    "    parameters = {\n",
    "        'dummy': {  # test parameters\n",
    "            'Srec': 80 * u.Jy,  # 36.2\n",
    "            'gain': 1.16 * u.K / u.Jy,\n",
    "            'v0': 400 * u.MHz,\n",
    "            'v1': 800 * u.MHz,\n",
    "            'Dx': 20 * u.m,\n",
    "            'hwfn_y': 100 / 2 * u.deg,  # Beam's half width between nulls\n",
    "            'primary_beam_y': True\n",
    "        },\n",
    "        'chime': {  # from https://ui.adsabs.harvard.edu/abs/2022ApJS..261...29C/abstract;\n",
    "            # https://ui.adsabs.harvard.edu/abs/2017ApJ...844..140C/abstract;\n",
    "            # https://arxiv.org/abs/2206.14079\n",
    "            'Srec': 50 / 1.38 * u.Jy,  # 36.2\n",
    "            'gain': 1.38 * u.K / u.Jy,\n",
    "            'v0': 400 * u.MHz,\n",
    "            'v1': 800 * u.MHz,\n",
    "            'Dx': 20 * u.m,\n",
    "            'hwfn_y': 100 / 2 * u.deg,  # Beam's half width between nulls\n",
    "            'primary_beam_y': True\n",
    "        },\n",
    "        'burstt-2048': {  # from https://ui.adsabs.harvard.edu/abs/2022PASP..134i4106L/abstract\n",
    "            'Srec': 600 * u.Jy,\n",
    "            'gain': 150 / 600 * u.K / u.Jy,\n",
    "            'v0': 300 * u.MHz,\n",
    "            'v1': 800 * u.MHz,\n",
    "            'hwfn_x': 180 / 2 * u.deg,  # Beam's half width between nulls\n",
    "            'hwfn_y': 180 / 2 * u.deg,  # Beam's half width between nulls\n",
    "            'primary_beam_x': True,\n",
    "            'primary_beam_y': True\n",
    "        },\n",
    "        'burstt-256': {  # from https://ui.adsabs.harvard.edu/abs/2022PASP..134i4106L/abstract\n",
    "            'Srec': 5000 * u.Jy,\n",
    "            'gain': 150 / 5000 * u.K / u.Jy,\n",
    "            'v0': 300 * u.MHz,\n",
    "            'v1': 800 * u.MHz,\n",
    "            'hwfn_x': 180 / 2 * u.deg,  # Beam's half width between nulls\n",
    "            'hwfn_y': 180 / 2 * u.deg,  # Beam's half width between nulls\n",
    "            'primary_beam_x': True,\n",
    "            'primary_beam_y': True\n",
    "        },\n",
    "        'casm': {  # from https://ui.adsabs.harvard.edu/abs/2022PASP..134i4106L/abstract\n",
    "            'Srec': 50 * u.Jy,\n",
    "            'gain': 1.38 * u.K / u.Jy,\n",
    "            'v0': 400 * u.MHz,\n",
    "            'v1': 800 * u.MHz,\n",
    "            'hwfn_x': 180 / 2 * u.deg,  # Beam's half width between nulls\n",
    "            'hwfn_y': 180 / 2 * u.deg,  # Beam's half width between nulls\n",
    "            'primary_beam_x': True,\n",
    "            'primary_beam_y': True\n",
    "        },\n",
    "        'utmost': {  # from https://arxiv.org/abs/1708.09619\n",
    "            'Srec': 115 * np.sqrt(2) * u.Jy / 2,\n",
    "            # The sqrt(2) correction is for the single polarization\n",
    "            # The factor of 2 is due to improvements to the telescope (https://arxiv.org/abs/1905.02293)\n",
    "            'gain': 100 / 115 * u.K / u.Jy,\n",
    "            'v0': 836 * u.MHz,\n",
    "            'v1': 850 * u.MHz,            \n",
    "            'Dx': 11.6 * u.m,\n",
    "            'Dy': (\n",
    "                0.88 * (835 * u.MHz).to(u.m, equivalencies=u.spectral()) / \n",
    "                (4.25 * u.deg).to(u.rad).value\n",
    "            ),  # Value to have a FWHP=4.25deg\n",
    "            'primary_beam_y': True\n",
    "        },\n",
    "        'chord': {  # from https://ui.adsabs.harvard.edu/abs/2019clrp.2020...28V/abstract\n",
    "            'Srec': 9 * u.Jy,\n",
    "            'gain': 30 / 9 * u.K / u.Jy,\n",
    "            'v0': 300 * u.MHz,\n",
    "            'v1': 1500 * u.MHz,\n",
    "            'D': 6 * u.m,\n",
    "            'bands': [\n",
    "                [300 * u.MHz, 700 * u.MHz],\n",
    "                [700 * u.MHz, 1100 * u.MHz],\n",
    "                [1100 * u.MHz, 1500 * u.MHz],\n",
    "            ]\n",
    "        },\n",
    "        'chord_low': {  # from https://ui.adsabs.harvard.edu/abs/2019clrp.2020...28V/abstract\n",
    "            'Srec': 9 * u.Jy,\n",
    "            'gain': 30 / 9 * u.K / u.Jy,\n",
    "            'v0': 300 * u.MHz,\n",
    "            'v1': 700 * u.MHz,\n",
    "            'D': 6 * u.m,\n",
    "        },\n",
    "        'chord_mid': {  # from https://ui.adsabs.harvard.edu/abs/2019clrp.2020...28V/abstract\n",
    "            'Srec': 9 * u.Jy,\n",
    "            'gain': 30 / 9 * u.K / u.Jy,\n",
    "            'v0': 700 * u.MHz,\n",
    "            'v1': 1100 * u.MHz,\n",
    "            'D': 6 * u.m,\n",
    "        },\n",
    "        'chord_high': {  # from https://ui.adsabs.harvard.edu/abs/2019clrp.2020...28V/abstract\n",
    "            'Srec': 9 * u.Jy,\n",
    "            'gain': 30 / 9 * u.K / u.Jy,\n",
    "            'v0': 1100 * u.MHz,\n",
    "            'v1': 1500 * u.MHz,\n",
    "            'D': 6 * u.m,\n",
    "        },\n",
    "        'argos': {  # from https://drive.google.com/drive/folders/1-rWX86hCCb0r8m7yuI9Ubz3L5OE9st5AuGt5OO5QIoKmtPRx8rjzWJjplrMYzOnV64XuXWdb\n",
    "            'Srec': 3.6 * u.Jy,\n",
    "            'gain': 30 / 3.6 * u.K / u.Jy,\n",
    "            'v0': 1000 * u.MHz,\n",
    "            'v1': 3000 * u.MHz,\n",
    "            'D': 6 * u.m,\n",
    "        },\n",
    "        'dsa2000': {  # from https://ui.adsabs.harvard.edu/abs/2019BAAS...51g.255H/abstract\n",
    "            'Srec': 2.5 * u.Jy,\n",
    "            'gain': 25 / 2.5 * u.K / u.Jy,\n",
    "            'v0': 700 * u.MHz,\n",
    "            'v1': 2000 * u.MHz,\n",
    "            'D': 5 * u.m,\n",
    "            'bands': [\n",
    "                [700 * u.MHz, 1100 * u.MHz],\n",
    "                [1100 * u.MHz, 1500 * u.MHz],\n",
    "                [1500 * u.MHz, 2000 * u.MHz],\n",
    "            ]\n",
    "        },\n",
    "        'dsa2000_low': {  # from https://ui.adsabs.harvard.edu/abs/2019BAAS...51g.255H/abstract\n",
    "            'Srec': 2.5 * u.Jy,\n",
    "            'gain': 25 / 2.5 * u.K / u.Jy,\n",
    "            'v0': 700 * u.MHz,\n",
    "            'v1': 1100 * u.MHz,\n",
    "            'D': 5 * u.m,\n",
    "        },\n",
    "        'dsa2000_mid': {  # from https://ui.adsabs.harvard.edu/abs/2019BAAS...51g.255H/abstract\n",
    "            'Srec': 2.5 * u.Jy,\n",
    "            'gain': 25 / 2.5 * u.K / u.Jy,\n",
    "            'v0': 1100 * u.MHz,\n",
    "            'v1': 1500 * u.MHz,\n",
    "            'D': 5 * u.m,\n",
    "        },\n",
    "        'dsa2000_high': {  # from https://ui.adsabs.harvard.edu/abs/2019BAAS...51g.255H/abstract\n",
    "            'Srec': 2.5 * u.Jy,\n",
    "            'gain': 25 / 2.5 * u.K / u.Jy,\n",
    "            'v0': 1500 * u.MHz,\n",
    "            'v1': 2000 * u.MHz,\n",
    "            'D': 5 * u.m,\n",
    "        },\n",
    "        'aperitif': {  # from https://ui.adsabs.harvard.edu/abs/2022A%26A...658A.146V/abstract\n",
    "            'Srec': 560 * u.Jy,\n",
    "            'gain': 70 / 560 * u.K / u.Jy,\n",
    "            'v0': (1370 - 300/2) * u.MHz,\n",
    "            'v1': (1370 + 300/2) * u.MHz,            \n",
    "            'D': 25 * u.m,\n",
    "        },\n",
    "        'fast': {  # from https://ui.adsabs.harvard.edu/abs/2016RaSc...51.1060L/abstract\n",
    "            'Srec': 20 * u.K / (18 * u.K / u.Jy),\n",
    "            'gain': 18 * u.K / u.Jy,\n",
    "            'v0': 1220 * u.MHz,\n",
    "            'v1': 1520 * u.MHz,            \n",
    "            'D': 300 * u.m,\n",
    "        },\n",
    "        'askap_flyseye': {  # from https://ui.adsabs.harvard.edu/abs/2016PASA...33...42M/abstract\n",
    "            'Srec': 2000 * u.Jy,\n",
    "            'gain': 115 / 4000 * u.K / u.Jy,\n",
    "            'v0': (1320 - 336/2) * u.MHz,\n",
    "            'v1': (1320 + 336/2) * u.MHz,            \n",
    "            'D': 12 * u.m,\n",
    "        },\n",
    "        'parkes': {  # from https://ui.adsabs.harvard.edu/abs/2001MNRAS.328...17M/abstract\n",
    "            'Srec': 21 / 0.7 * u.Jy,\n",
    "            'gain': 0.7 * u.K / u.Jy,\n",
    "            'v0': (1374 - 288/2) * u.MHz,\n",
    "            'v1': (1374 + 288/2) * u.MHz,            \n",
    "            'D': 64 * u.m,\n",
    "        },\n",
    "        'gbt': {  # from https://www.gb.nrao.edu/scienceDocs/GBTpg.pdf\n",
    "            'Srec': 10 * u.Jy,\n",
    "            'gain': 2 * u.K / u.Jy,\n",
    "            'v0': 1150 * u.MHz,\n",
    "            'v1': 1730 * u.MHz,            \n",
    "            'D': 100 * u.m,\n",
    "        },\n",
    "    }\n",
    "    \n",
    "    def __init__(self, name='chord'):\n",
    "        self.name = name\n",
    "        self.parameters = Telescope.parameters\n",
    "        try:\n",
    "            _ = self.parameters[name]\n",
    "        except KeyError:\n",
    "            raise NotImplementedError(\"Telescope unknown.\")\n",
    "        \n",
    "    def get_parameters(self, name = None):\n",
    "        if name is None: name = self.name\n",
    "        return self.parameters[name]\n",
    "    \n",
    "    def bandwidth(self, name = None):\n",
    "        if name is None: name = self.name\n",
    "        return self.parameters[name]['v1'] - self.parameters[name]['v0']\n",
    "    \n",
    "    def sefd(self, name = None, freq = None, uncertain = False, rng = None):\n",
    "        if name is None: name = self.name\n",
    "        if freq is None:\n",
    "            freq = (\n",
    "                self.parameters[name]['v0'] + \n",
    "                self.parameters[name]['v1']\n",
    "            ) / 2\n",
    "        sefd = (\n",
    "            self.parameters[name]['Srec'] + \n",
    "            34 * u.K * (freq / 408 / u.MHz)**-2.6 / \n",
    "            self.parameters[name]['gain']\n",
    "        )\n",
    "        if uncertain:\n",
    "            if rng is None:\n",
    "                raise RuntimeError(\"A random generator must be passed to the function.\")\n",
    "            # Add an error of 20%\n",
    "            sefd = rng.normal(\n",
    "                loc=sefd.to(u.Jy).value,\n",
    "                scale=sefd.to(u.Jy).value * 0.2\n",
    "            ) * u.Jy\n",
    "        return sefd\n",
    "    \n",
    "    def v0(self, name = None):\n",
    "        if name is None: name = self.name\n",
    "        return self.parameters[name]['v0']\n",
    "    \n",
    "    def v1(self, name = None):\n",
    "        if name is None: name = self.name\n",
    "        return self.parameters[name]['v1']\n",
    "    \n",
    "    def frequency_bands(self, name = None):\n",
    "        if name is None: name = self.name\n",
    "        try:\n",
    "            return self.parameters[name]['bands']\n",
    "        except KeyError:\n",
    "            return [[\n",
    "                self.parameters[name]['v0'],\n",
    "                self.parameters[name]['v1']\n",
    "            ]]\n",
    "    \n",
    "    def get_parameter(self, parameter, name = None):\n",
    "        if name is None: name = self.name\n",
    "        return self.parameters[name][parameter]\n",
    "\n",
    "    \n",
    "class FRB_Population:\n",
    "    \"\"\"\n",
    "    Parameters of the FRB population.\n",
    "    \"\"\"\n",
    "    parameters = {\n",
    "        'shin': {  # From https://ui.adsabs.harvard.edu/abs/2022arXiv220714316S/abstract\n",
    "            'Echar': 2.38e41 * u.erg,  # Characteristic energy cut-of\n",
    "            'alpha_spect': -1.39,  # Spectral index\n",
    "            'alpha_rate': 0,  # Rate index\n",
    "            'gamma': -1.3,  # Differential power-law index\n",
    "            'Epivot': 1e39 * u.erg,  # Pivot energy\n",
    "            'frb_emission_rate_z0_Epivot': 7.3e4 / u.Gpc**3 / u.year,  # FRB rate at z=0 above Epivot\n",
    "            'n_sfr': 0.96,  # Index of star-formation rate\n",
    "        },\n",
    "        'shin_rate_interpretation': {  # From https://ui.adsabs.harvard.edu/abs/2022arXiv220714316S/abstract\n",
    "            'Echar': 1.95e41 * u.erg,  # Characteristic energy cut-of\n",
    "            'alpha_spect': 0,  # Spectral index\n",
    "            'alpha_rate': -1.10,  # Spectral index\n",
    "            'gamma': -1.3,  # Differential power-law index\n",
    "            'Epivot': 1e39 * u.erg,  # Pivot energy\n",
    "            'frb_emission_rate_z0_Epivot': 6.8e4 / u.Gpc**3 / u.year,  # FRB rate at z=0 above Epivot\n",
    "            'n_sfr': 1.72,  # Index of star-formation rate\n",
    "        },\n",
    "        'james2023': {  # From https://arxiv.org/pdf/2208.00819.pdf\n",
    "            'Echar': 10**41.26 * u.erg,  # Characteristic energy cut-of\n",
    "            'alpha_spect': 0,  # Spectral index\n",
    "            'alpha_rate': -0.99,  # Spectral index\n",
    "            'gamma': -0.95-1,  # Differential power-law index\n",
    "            'n_sfr': 1.13,  # Index of star-formation rate\n",
    "            'Epivot': 1e30 * u.erg,  # Pivot energy\n",
    "            'frb_emission_rate_z0_Epivot': (10**1.96/u.Mpc**3/u.day).to(1/u.Gpc**3/u.yr)\n",
    "        },\n",
    "    }\n",
    "    \n",
    "    def __init__(self, name='shin'):\n",
    "        self.model = name\n",
    "        self.parameters = FRB_Population.parameters\n",
    "        try:\n",
    "            _ = self.parameters[self.model]\n",
    "        except KeyError:\n",
    "            raise NotImplemented(\"Telescope unknown.\")\n",
    "        \n",
    "    def get_parameters(self, model = None, uncertain = False, rng = None):\n",
    "        if model is None: \n",
    "            model = self.model\n",
    "        parameters = dict(self.parameters[model])\n",
    "        \n",
    "        if uncertain:\n",
    "            if rng is None:\n",
    "                raise RuntimeError(\"A random generator must be passed to the function.\")\n",
    "            # Choose a random value in the parameter distributions\n",
    "            if model != 'shin':\n",
    "                raise NotImplementedError(\"Uncertainties currently available only for model 'shin'\")\n",
    "\n",
    "            if model == 'shin':\n",
    "                parameters['frb_emission_rate_z0_Epivot'] = (\n",
    "                    rng.choice(np.exp(samples_shin[:, 0])) / u.Gpc**3 / u.year\n",
    "                )\n",
    "                parameters['gamma'] = np.clip(  # Clips for sampling\n",
    "                    rng.choice(samples_shin[:, 1]),\n",
    "                    -np.inf,\n",
    "                    -1.1\n",
    "                )\n",
    "                parameters['Echar'] = rng.choice(np.exp(samples_shin[:, 2])) * u.erg\n",
    "                parameters['n_sfr'] = np.clip(  # Clips to avoid divergence\n",
    "                    rng.choice(samples_shin[:, 3]),\n",
    "                    -0.7,\n",
    "                    np.inf\n",
    "                )\n",
    "                parameters['alpha_spect'] = rng.choice(samples_shin[:, 4])\n",
    "        return parameters\n",
    "\n",
    "    \n",
    "    \n",
    "# Global values\n",
    "\n",
    "# Full samples from Shin+23 \n",
    "rate_corr_factor = 0.8165\n",
    "with open('data/frb_model_sampler.p', \"rb\") as input_file:\n",
    "    sampler = pickle.load(input_file)\n",
    "samples_shin = sampler.get_chain(flat=True, thin=20)\n",
    "samples_shin[:,0] += np.log(rate_corr_factor)\n",
    "                \n",
    "# Global parameters of the simulation\n",
    "zlim = None  # Limit on maximum redshift defined as [z_min, z_max]\n",
    "\n",
    "# Assumed observational prameters\n",
    "observing_time_fraction = 0.9  # Fraction of observing time\n",
    "SNr_min = 8  # Minimum detectable S/N\n",
    "SNr_min_followup = 6  # Minimum detectable S/N in follow-up observations\n",
    "rfi_band = 0.3  # Fraction of band affected by RFI\n",
    "w_telescope = 1 * u.ms\n",
    "telescope_followup = 'dsa2000'\n",
    "frbs_narrowband = True\n",
    "\n",
    "# Set interpolation for cosmo equations (code speed-up)\n",
    "z = np.linspace(0, 20, 10000)\n",
    "# Differential comoving volume\n",
    "dv = cosmo.differential_comoving_volume(z)\n",
    "get_dv_unitless = interp1d(z, dv)\n",
    "get_dv = lambda z: get_dv_unitless(z) * dv.unit\n",
    "# Luminosity distance\n",
    "Dl = cosmo.luminosity_distance(z)\n",
    "get_Dl_unitless = interp1d(z, Dl)\n",
    "get_Dl = lambda z: get_Dl_unitless(z) * Dl.unit\n",
    "# Strong lensing optical depth from https://ui.adsabs.harvard.edu/abs/2022ApJ...925..169Y/abstract\n",
    "z_tau, tau = np.loadtxt('data/optical_depth.dat')  # Data from \n",
    "get_optical_depth = interp1d(z_tau, tau, bounds_error=False, fill_value='extrapolate')"
   ]
  },
  {
   "cell_type": "markdown",
   "id": "aa909c44-b17d-467f-9d79-4e047835e214",
   "metadata": {
    "jp-MarkdownHeadingCollapsed": true,
    "tags": []
   },
   "source": [
    "## Function definitions"
   ]
  },
  {
   "cell_type": "code",
   "execution_count": 4,
   "id": "06da37d8-9517-4aba-b487-698bfbb79895",
   "metadata": {
    "tags": []
   },
   "outputs": [],
   "source": [
    "def set_distribution_redshift(\n",
    "    z_min,\n",
    "    z_max,\n",
    "    alpha_rate,\n",
    "    frb_emission_rate_z0_Epivot,\n",
    "    n_sfr\n",
    "):\n",
    "    \"\"\"Set the parameters to sample a redshift distribution of a population of FRBs.\n",
    "    \"\"\"\n",
    "    # PDF of z distribution\n",
    "    # Calculate the integrated normalization\n",
    "    sfr = lambda z: (1 + z)**2.7 / (2.9**5.6 + (1 + z)**5.6)\n",
    "    z_pdf = lambda z: (\n",
    "        frb_emission_rate_z0_Epivot * \n",
    "        get_dv(z) * u.sr / \n",
    "        (1 + z)**(1-alpha_rate) * (sfr(z) / sfr(0))**n_sfr\n",
    "    ).to(1 / u.yr).value\n",
    "    # FRB emission rate in the volume between [zmin, zmax] and above an energy Epivot\n",
    "    frb_emission_rate = integrate.quad(z_pdf, z_min, z_max)[0]\n",
    "    # Normalized distribution\n",
    "    z_pdf_norm = lambda z: z_pdf(z) / frb_emission_rate\n",
    "\n",
    "    # Find maximum of distribution with a spline and its derivative\n",
    "    # Mock data\n",
    "    z = np.linspace(z_min, z_max, 1000)\n",
    "    P_z = z_pdf_norm(z)\n",
    "    # Spline interpolation\n",
    "    cs = spline(z, P_z)\n",
    "    # Redshift of null derivatives\n",
    "    roots = cs.derivative().roots()\n",
    "    # Location of the maximum of the curve\n",
    "    curve_max = z[P_z.argmax()]\n",
    "    # Redshift of the null derivative closest to the location of the maximum\n",
    "    x_max = roots[np.argmin(np.abs(roots - curve_max))]\n",
    "    # Maximum of the distribution plus 1% to account for granularity\n",
    "    y_max = z_pdf_norm(x_max)\n",
    "    y_max = y_max + 0.01 * y_max\n",
    "    return y_max, z_pdf_norm, frb_emission_rate / u.yr\n",
    "\n",
    "    \n",
    "def sample_distribution_redshift(\n",
    "    rng,\n",
    "    number_of_simulated_frbs,\n",
    "    z_min,\n",
    "    z_max,\n",
    "    y_max,\n",
    "    z_pdf_norm,\n",
    "):\n",
    "    \"\"\"Sample a redshift distribution of FRBs.\n",
    "    \"\"\"\n",
    "    # Rejection sampling the distribution\n",
    "    z_dist = np.zeros(number_of_simulated_frbs) + np.nan\n",
    "    # Loop until no nan are present\n",
    "    while np.isnan(z_dist).any():\n",
    "        # Random values in a box around the function\n",
    "        x = rng.uniform(low=z_min, high=z_max, size=number_of_simulated_frbs)\n",
    "        y = rng.uniform(low=0, high=y_max, size=number_of_simulated_frbs)\n",
    "        # Resize the arrays to get the right number of bins\n",
    "        nan_size = z_dist[np.isnan(z_dist)].size\n",
    "        x = x[y < z_pdf_norm(x)][:nan_size]\n",
    "        first_nan = np.argmax(z_dist)\n",
    "        z_dist[first_nan:first_nan+x.size] = x\n",
    "    return z_dist\n",
    "\n",
    "\n",
    "def get_distribution_dist(\n",
    "    rng,\n",
    "    number_of_simulated_frbs,\n",
    "    alpha_spect,\n",
    "    alpha_rate,\n",
    "    frb_emission_rate_z0_Epivot,\n",
    "    n_sfr,\n",
    "    z_min = 0,\n",
    "    z_max = 15,\n",
    "):\n",
    "    \"\"\"Distribution of the distance factor.\n",
    "    \"\"\"\n",
    "    # Redshift distribution of FRBs in the Universe\n",
    "    y_max, z_pdf_norm, frb_emission_rate = set_distribution_redshift(\n",
    "        z_min,\n",
    "        z_max,\n",
    "        alpha_rate,\n",
    "        frb_emission_rate_z0_Epivot,\n",
    "        n_sfr\n",
    "    )\n",
    "    # Redshift distribution of FRBs\n",
    "    z_dist = sample_distribution_redshift(\n",
    "        rng,\n",
    "        number_of_simulated_frbs,\n",
    "        z_min,\n",
    "        z_max,\n",
    "        y_max,\n",
    "        z_pdf_norm,\n",
    "    )\n",
    "\n",
    "    # Distance factor\n",
    "    Dl = get_Dl(z_dist)\n",
    "    dist_factor = (4 * np.pi * Dl**2) / (1 + z_dist)**(2+alpha_spect)\n",
    "    return dist_factor, z_dist.min(), z_dist.max(), frb_emission_rate, z_dist\n",
    "\n",
    "\n",
    "def get_distribution_E(\n",
    "    rng,\n",
    "    number_of_simulated_frbs,\n",
    "    Emin,\n",
    "    Echar,\n",
    "    gamma,\n",
    "):\n",
    "    \"\"\"Rejection sample a Schechter function describing the FRB energy distribution.\"\"\"\n",
    "    # Normalized Schechter distribution\n",
    "    schechter_pdf = lambda E: (E / Echar)**gamma * np.exp(-E / Echar)\n",
    "    norm = float(gammainc(gamma+1, (Emin/Echar).to(u.dimensionless_unscaled).value)) * Echar\n",
    "    schechter_pdf_norm = lambda E: schechter_pdf(E) / norm\n",
    "    # Rejection sampling the target Schechter distribution\n",
    "    dist = np.zeros(number_of_simulated_frbs) * u.erg + np.nan\n",
    "    # Loop until no nan are present\n",
    "    while np.isnan(dist).any():\n",
    "        nan_size = dist[np.isnan(dist)].size\n",
    "        # Random variable from a proposal Pareto distribution\n",
    "        x = (\n",
    "            np.clip(  # Clips to avoid overflows\n",
    "                rng.pareto(- gamma - 1, size=number_of_simulated_frbs),\n",
    "                # The Pareto distribution is defined for the parameter a >= 0\n",
    "                1e-200,\n",
    "                1e200\n",
    "            ) + 1\n",
    "        ) * Emin\n",
    "        # PDF of proposal distribution at the random variable's values\n",
    "        y_prop = (x / Echar)**gamma / norm\n",
    "        # Random sampling of the proposal distribution's PDF\n",
    "        y_samp = rng.uniform(low=0, high=y_prop, size=number_of_simulated_frbs) / u.erg\n",
    "        # Reject random variable's values where target distribution\n",
    "        # is larger than the sampling values\n",
    "        x = x[y_samp < schechter_pdf_norm(x)][:nan_size]\n",
    "        # Resize the arrays to get the right number of bins\n",
    "        first_nan = np.argmax(dist)\n",
    "        dist[first_nan:first_nan+x.size] = x\n",
    "    return dist\n",
    "\n",
    "\n",
    "def get_beam_response(\n",
    "    rng,\n",
    "    number_of_simulated_frbs,\n",
    "    telescope,\n",
    "    freq,\n",
    "    efficiency = 0.7\n",
    "):\n",
    "    # Minimum band to detect >50 MHz of a burst\n",
    "    wavelength = (freq).to(u.meter, equivalencies=u.spectral())\n",
    "    # From \"Tools of Radio Astronomy, by T.L. Wilson, K. Rohlfs, S. Huttemeister\"\n",
    "    try:\n",
    "        # Circular aperture\n",
    "        diameter = telescope.get_parameter('D')\n",
    "        # Half beam width between the first nulls\n",
    "        hwfn = (2.439 * u.rad * wavelength.max() / diameter / 2).to(u.rad)\n",
    "        # Random angles\n",
    "        angle = rng.uniform(\n",
    "            low=0,\n",
    "            high=hwfn.to(u.rad).value**2,\n",
    "            size=number_of_simulated_frbs\n",
    "        )**0.5 * u.rad\n",
    "        # Normalized power\n",
    "        x = (\n",
    "            np.pi * diameter * np.sqrt(efficiency) * \n",
    "            np.outer(1 / wavelength, np.sin(angle))\n",
    "        )\n",
    "        power = (2 * j1(x) / x)**2\n",
    "        # Simulated sky fraction\n",
    "        sky_fraction = (hwfn**2 / 4 / u.steradian).value\n",
    "    except KeyError:\n",
    "        # Rectangular aperture\n",
    "        try:\n",
    "            # Half beam width between the first nulls\n",
    "            hwfn_x = telescope.get_parameter('hwfn_x').to(u.rad)\n",
    "            size_x = wavelength.max() / np.sin(hwfn_x)\n",
    "        except KeyError:\n",
    "            size_x = telescope.get_parameter('Dx')\n",
    "            hwfn_x = np.arcsin((wavelength.max() / size_x))\n",
    "        try:\n",
    "            # Half beam width between the first nulls\n",
    "            hwfn_y = telescope.get_parameter('hwfn_y').to(u.rad)\n",
    "            size_y = wavelength.max() / np.sin(hwfn_y)\n",
    "        except KeyError:\n",
    "            size_y = telescope.get_parameter('Dy')\n",
    "            hwfn_y = np.arcsin((wavelength.max() / size_y))\n",
    "        \n",
    "        # Beams not evolving with frequency for missing or flat reflectors\n",
    "        try:\n",
    "            # Assume costant sensitivity with frequency if constant primary beam\n",
    "            assert telescope.get_parameter('primary_beam_x')\n",
    "            effective_wavelength_x = wavelength.max()\n",
    "        except (KeyError, AssertionError):\n",
    "            effective_wavelength_x = wavelength\n",
    "        try:\n",
    "            # Assume costant sensitivity with frequency if constant primary beam\n",
    "            assert telescope.get_parameter('primary_beam_y')\n",
    "            effective_wavelength_y = wavelength.max()\n",
    "        except (KeyError, AssertionError):\n",
    "            effective_wavelength_y = wavelength\n",
    "            \n",
    "        # Random angles\n",
    "        angle_x = rng.uniform(\n",
    "            low=-hwfn_x.value,\n",
    "            high=+hwfn_x.value, \n",
    "            size=number_of_simulated_frbs,\n",
    "        ) * u.rad\n",
    "        angle_y = rng.uniform(\n",
    "            low=-hwfn_y.value, \n",
    "            high=+hwfn_y.value,\n",
    "            size=number_of_simulated_frbs,\n",
    "        ) * u.rad\n",
    "        \n",
    "        # Normalized power\n",
    "        power = (\n",
    "            np.sinc(\n",
    "                np.outer(\n",
    "                    1 / effective_wavelength_x,\n",
    "                    np.sin(angle_x) * size_x,\n",
    "                ) * u.rad\n",
    "            ) *\n",
    "            np.sinc(\n",
    "                np.outer(\n",
    "                    1 / effective_wavelength_y,\n",
    "                    np.sin(angle_y) * size_y,\n",
    "                ) * u.rad\n",
    "            )\n",
    "        )**2\n",
    "\n",
    "        # Simulated sky fraction\n",
    "        sky_fraction = (hwfn_x * hwfn_y / 4 / np.pi / u.steradian).value\n",
    "    return sky_fraction, power\n",
    "        \n",
    "\n",
    "def get_snr(\n",
    "    rng,\n",
    "    freq,\n",
    "    E_nu,\n",
    "    dist_fact,\n",
    "    w, \n",
    "    tau,\n",
    "    w_correction,\n",
    "    alpha,\n",
    "    telescope,\n",
    "    beam_response,\n",
    "    bw_correction = 1,\n",
    "    rfi_band = 0.3,\n",
    "    uncertain = False\n",
    "):\n",
    "    \"\"\"Calculate S/N values measured by the telescope\n",
    "    \"\"\"\n",
    "    K = (\n",
    "        np.sqrt(2 * telescope.bandwidth())  / \n",
    "        dist_fact * w_correction * bw_correction *\n",
    "        np.sqrt(1 - rfi_band)\n",
    "    )\n",
    "    E_nu_v = np.outer((freq / 600 / u.MHz)**alpha, E_nu)\n",
    "    tau_v = np.outer((freq / freq.mean())**-4, tau)\n",
    "    sefd = telescope.sefd(freq=freq, uncertain=uncertain, rng=rng)\n",
    "    snr = (\n",
    "        K / np.sqrt(freq.size) * \n",
    "        np.sum(\n",
    "            E_nu_v / \n",
    "            np.sqrt(w + tau_v) * \n",
    "            beam_response /\n",
    "            sefd[:, np.newaxis], \n",
    "            axis=0\n",
    "        )\n",
    "    )\n",
    "    return snr.to(u.dimensionless_unscaled)\n",
    "\n",
    "\n",
    "def convert_to_rate(\n",
    "    number_of_simulated_frbs,\n",
    "    detected_frbs,\n",
    "    Emin,\n",
    "    frb_emission_rate_Epivot,\n",
    "    sky_fraction,\n",
    "    Echar,\n",
    "    gamma,\n",
    "    Epivot\n",
    "):\n",
    "    \"\"\"Convert the number of simulated FRBs to a rate.\n",
    "    \"\"\"\n",
    "    # FRB emission rate in the volume between zmin and zmax\n",
    "    # re-scaled to a minimum energy Emin\n",
    "    frb_emission_rate = (\n",
    "        frb_emission_rate_Epivot * \n",
    "        float(gammainc(gamma + 1, (Emin / Echar).value)) / \n",
    "        float(gammainc(gamma + 1, (Epivot / Echar).value))\n",
    "    )\n",
    "    # Duration of the simulation in the real world\n",
    "    duration_sim = number_of_simulated_frbs / frb_emission_rate\n",
    "    # All-sky FRB detection rate\n",
    "    frb_detected_allsky = detected_frbs / duration_sim\n",
    "    # FRB rate detected by the telescope\n",
    "    frb_detection_rate = frb_detected_allsky * sky_fraction\n",
    "    return frb_detection_rate\n",
    "\n",
    "\n",
    "def get_lensed_snr(\n",
    "    rng,\n",
    "    z,\n",
    "    z_max,\n",
    "    snr_unlensed,\n",
    "    simulate_lensed_frbs\n",
    "):\n",
    "    \"\"\"Magnification of FRBs.\n",
    "    \"\"\"\n",
    "    # Equations from https://ui.adsabs.harvard.edu/abs/2022ApJ...925..169Y/abstract\n",
    "    # S/N of the weakest or brightest image of a double image system\n",
    "    assert simulate_lensed_frbs in ['bright', 'weak'], 'Choose to simulate either the \"bright\" or \"weak\" image of a double lensing event.'\n",
    "    \n",
    "    # Multiplicative factor to have unity probability at the maximum simulated redshift\n",
    "    # This is to increase the number of FRBs in the simulation\n",
    "    rate_boost = 1 / get_optical_depth(z_max)\n",
    "    get_optical_depth_norm = lambda z: get_optical_depth(z) * rate_boost\n",
    "    \n",
    "    # Select strongly lensed FRBs\n",
    "    tau_frb = get_optical_depth_norm(z)\n",
    "    random_probability = rng.uniform(size=snr_unlensed.size)\n",
    "    idx = tau_frb > random_probability\n",
    "    snr = snr_unlensed[idx]\n",
    "    \n",
    "    # Apply magnification factor\n",
    "    if simulate_lensed_frbs == 'bright':\n",
    "        # Sampling: p=2/(mu-1)**3 between [2,inf]\n",
    "        mu = pareto.rvs(2, loc=1, size=snr.size)\n",
    "    elif simulate_lensed_frbs == 'weak':\n",
    "        # Sampling: p=18/(mu+1)**3 between [2,inf]\n",
    "        mu = pareto.rvs(2, loc=-1, size=snr.size)\n",
    "    else:\n",
    "        raise NotImplementedError(\"Select between 'bright' or 'weak' image to be detected.\")\n",
    "    snr = snr * mu\n",
    "    return rate_boost, snr, idx\n",
    "\n",
    "\n",
    "def get_detection_rate(\n",
    "    rng,\n",
    "    number_of_simulated_frbs,\n",
    "    frb_population,\n",
    "    telescope,\n",
    "    uncertain=False,\n",
    "    return_z_dist = False,\n",
    "    verbose = False,\n",
    "    simulate_lensed_frbs = False\n",
    "):\n",
    "    \"\"\"Rate of FRB detections.\n",
    "    \"\"\"\n",
    "    # Properties of the FRB population\n",
    "    frb_properties = frb_population.get_parameters(uncertain = uncertain, rng = rng)\n",
    "    # Frequency channels spaced by ~30 MHz\n",
    "    n_ch = int(np.clip(\n",
    "        (telescope.bandwidth() // (30 * u.MHz)).to(u.dimensionless_unscaled),\n",
    "        1, np.inf\n",
    "    ).value)\n",
    "    freq_channels = np.linspace(telescope.v0(), telescope.v1(), n_ch)\n",
    "\n",
    "    # FRB widths\n",
    "    # From https://ui.adsabs.harvard.edu/abs/2021ApJS..257...59C/abstract\n",
    "    sigma = 0.97\n",
    "    scale = 1.0 * u.ms\n",
    "    frb_w = rng.lognormal(\n",
    "        sigma = sigma, \n",
    "        size = number_of_simulated_frbs\n",
    "    ) * scale\n",
    "    \n",
    "    # FRB scattering\n",
    "    # From https://ui.adsabs.harvard.edu/abs/2021ApJS..257...59C/abstract\n",
    "    sigma = 1.72\n",
    "    scale = 2.02 * u.ms\n",
    "    frb_tau = rng.lognormal(\n",
    "        sigma = sigma, \n",
    "        size = number_of_simulated_frbs\n",
    "    ) * scale\n",
    "    # frb_tau = np.ones(number_of_simulated_frbs) * 50 * u.ms\n",
    "    # Rescale to central frequency\n",
    "    freq_mean = (telescope.v0() + telescope.v1()) / 2\n",
    "    frb_tau = frb_tau * (freq_mean / 600 / u.MHz)**-4\n",
    "    \n",
    "    # FRB time correction\n",
    "    frb_w_correction = np.sqrt(frb_w / w_telescope).clip(max=1)\n",
    "    \n",
    "    # Beam response\n",
    "    sky_fraction, beam_response = get_beam_response(\n",
    "        rng,\n",
    "        number_of_simulated_frbs,\n",
    "        telescope,\n",
    "        freq_channels,\n",
    "    )\n",
    "    \n",
    "    # FRB redshifts\n",
    "    (\n",
    "        frb_dist_fact,\n",
    "        z_min,\n",
    "        z_max,\n",
    "        frb_emission_rate,\n",
    "        frb_dist_z\n",
    "    ) = get_distribution_dist(\n",
    "        rng,\n",
    "        number_of_simulated_frbs,\n",
    "        frb_properties['alpha_spect'],\n",
    "        frb_properties['alpha_rate'],\n",
    "        frb_properties['frb_emission_rate_z0_Epivot'],\n",
    "        frb_properties['n_sfr']\n",
    "    )\n",
    "    \n",
    "    # FRB energies\n",
    "    # Minimum energy that can be detected from current sample\n",
    "    Emin = np.clip(\n",
    "        u.GHz * SNr_min / beam_response.max(axis=0) *\n",
    "        telescope.sefd(freq=telescope.v1()) *  # SEFD at the top of the band\n",
    "        np.sqrt((frb_w + frb_tau) / telescope.bandwidth() / 2) / \n",
    "        frb_w_correction / np.sqrt(1 - rfi_band) * frb_dist_fact,\n",
    "        0,\n",
    "        frb_properties['Echar']\n",
    "    ).min().to(u.erg)\n",
    "    # Energy distribution\n",
    "    frb_E = get_distribution_E(\n",
    "        rng,\n",
    "        number_of_simulated_frbs,\n",
    "        Emin,\n",
    "        frb_properties['Echar'],\n",
    "        frb_properties['gamma'],\n",
    "    )\n",
    "    # Energy spectral density distribution\n",
    "    frb_E_nu = frb_E / u.GHz\n",
    "    \n",
    "    # FRB S/N values\n",
    "    frb_snr = get_snr(\n",
    "        rng,\n",
    "        freq_channels,\n",
    "        frb_E_nu,\n",
    "        frb_dist_fact,\n",
    "        frb_w, \n",
    "        frb_tau,\n",
    "        frb_w_correction,\n",
    "        frb_properties['alpha_spect'],\n",
    "        telescope,\n",
    "        beam_response, \n",
    "        uncertain = uncertain\n",
    "    )\n",
    "    \n",
    "    # Lensed FRBs S/N\n",
    "    if simulate_lensed_frbs:\n",
    "        rate_boost, frb_snr, idx = get_lensed_snr(\n",
    "            rng,\n",
    "            frb_dist_z,\n",
    "            z_max,\n",
    "            frb_snr,\n",
    "            simulate_lensed_frbs,\n",
    "        )\n",
    "        # Only select lensed FRBs\n",
    "        frb_dist_z = frb_dist_z[idx]\n",
    "        # Rate of FRBs in the Universe that are strongly lensed\n",
    "        frb_emission_rate = frb_emission_rate / rate_boost\n",
    "\n",
    "    # Select FRBs with detectable S/N values    \n",
    "    detected_frbs_sim = frb_snr[frb_snr > SNr_min].size\n",
    "    if verbose:\n",
    "        print(f\"A total of {detected_frbs_sim} FRBs are detected.\")\n",
    "    \n",
    "    # Convert to a physical detection rate\n",
    "    frb_detection_rate = convert_to_rate(\n",
    "        number_of_simulated_frbs,\n",
    "        detected_frbs_sim,\n",
    "        Emin,\n",
    "        frb_emission_rate,\n",
    "        sky_fraction,\n",
    "        frb_properties['Echar'],\n",
    "        frb_properties['gamma'],\n",
    "        frb_properties['Epivot'],\n",
    "    )\n",
    "    detection_rate_real = frb_detection_rate * observing_time_fraction\n",
    "    if return_z_dist:\n",
    "        # The redshift distribution is needed\n",
    "        return detection_rate_real, frb_dist_z[frb_snr > SNr_min]\n",
    "    else:\n",
    "        return detection_rate_real\n",
    "\n",
    "\n",
    "def run_simulation(\n",
    "    number_of_simulated_frbs,\n",
    "    telescope_name = 'dummy',\n",
    "    simulate_lensed_frbs = False,\n",
    "    verbose = False,\n",
    "    model = 'shin',\n",
    "    uncertain = False,\n",
    "    frbs_evolve_with_luminosity = True,\n",
    "    return_z_dist = False,\n",
    "    sie = None,\n",
    "    rng = None,\n",
    "    random_seed = 2911167007\n",
    "):\n",
    "    \"\"\" Simulate how many strongly lensed fast radio bursts (FRBs)\n",
    "    are detected by a facility in one year.\n",
    "\n",
    "    Parameters\n",
    "    ----------\n",
    "    telescope_name : str = 'chord'\n",
    "        Telescope to simulate. Currently, 'chime', 'chord', and 'dsa2000' are supported.\n",
    "    simulate_lensed_frbs : bool\n",
    "        Simulate only lensed FRBs or the whole population.\n",
    "\n",
    "    Returns\n",
    "    -------\n",
    "    float\n",
    "        Rate per year.\n",
    "\n",
    "    \"\"\"\n",
    "    # Set random seed\n",
    "    if rng is None:\n",
    "        rng = default_rng(random_seed)  # Random generator; seed fixed for reproducibility\n",
    "    \n",
    "    if verbose:\n",
    "        print(f'Using the FRB population model \"{model}\"')\n",
    "        print(f'Starting the simulation for {telescope_name}')\n",
    "        print(f'{number_of_simulated_frbs:,} bursts will be simulated.')\n",
    "    \n",
    "    # Telescope parameters\n",
    "    telescope = Telescope(name=telescope_name)\n",
    "    # FRB properties\n",
    "    frb_population = FRB_Population(name=model)\n",
    "    \n",
    "    frb_detection_rate = get_detection_rate(\n",
    "        rng,\n",
    "        number_of_simulated_frbs,\n",
    "        frb_population,\n",
    "        telescope,\n",
    "        uncertain = uncertain,\n",
    "        return_z_dist = return_z_dist,\n",
    "        verbose = verbose,\n",
    "        simulate_lensed_frbs = simulate_lensed_frbs,\n",
    "    )\n",
    "    if verbose:\n",
    "        if return_z_dist:\n",
    "            print_detection_rate = frb_detection_rate[0].to(1/u.year).value\n",
    "        else:\n",
    "            print_detection_rate = frb_detection_rate.to(1/u.year).value\n",
    "        print(f'The detection rate is {print_detection_rate:.1f} FRBs per year,')\n",
    "        print(f'or 1 FRB detected every {1/print_detection_rate:.2f} years.')\n",
    "    return frb_detection_rate\n",
    "\n",
    "\n",
    "def run_simulation_with_uncert(\n",
    "    number_of_simulated_frbs,\n",
    "    telescope_name = 'dummy',\n",
    "    simulate_lensed_frbs = False,\n",
    "    verbose = False,\n",
    "    model = 'shin',\n",
    "    frbs_evolve_with_luminosity = True,\n",
    "    uncert_population_size = 100,\n",
    "    uncertain = True,\n",
    "    random_seed = 2911167007,\n",
    "    sie = None\n",
    "):\n",
    "    \"\"\"Wrapper of `run_simulation` to also obtain uncertainties\"\"\"\n",
    "    # Set random seed\n",
    "    rng = default_rng(random_seed)  # Random generator; seed fixed for reproducibility\n",
    "    \n",
    "    if sie:\n",
    "        # Load images simulation\n",
    "        sie = pd.read_csv(data_sie_catalog, index_col=['q', 0])\n",
    "        sie.index.names = ['q','id']\n",
    "        sie.sort_index(inplace=True)\n",
    "        sie_org = sie.copy()\n",
    "    else:\n",
    "        sie_org = None\n",
    "    # Run main simulation\n",
    "    frb_detection_rate = run_simulation(\n",
    "        number_of_simulated_frbs,\n",
    "        telescope_name = telescope_name,\n",
    "        simulate_lensed_frbs = simulate_lensed_frbs,\n",
    "        verbose = verbose,\n",
    "        model = model,\n",
    "        uncertain = False,\n",
    "        frbs_evolve_with_luminosity = frbs_evolve_with_luminosity,\n",
    "        sie = sie_org,\n",
    "        rng = rng\n",
    "    )\n",
    "    if not uncertain:\n",
    "        return frb_detection_rate\n",
    "    # Uncertainties    \n",
    "    uncert_rates = np.array([\n",
    "        run_simulation(\n",
    "            number_of_simulated_frbs // uncert_population_size,\n",
    "            telescope_name = telescope_name,\n",
    "            simulate_lensed_frbs = simulate_lensed_frbs,\n",
    "            verbose = verbose,\n",
    "            model = model,\n",
    "            uncertain = True,\n",
    "            frbs_evolve_with_luminosity = frbs_evolve_with_luminosity,\n",
    "            sie = sie,\n",
    "            rng = rng\n",
    "        ).to(1/u.yr).value for n in range(uncert_population_size)\n",
    "    ]) / u.yr\n",
    "    #uncert_med = np.median(uncert_rates)\n",
    "    #uncert_low = np.percentile(uncert_rates, 16)\n",
    "    #uncert_high = np.percentile(uncert_rates, 84)\n",
    "    \n",
    "    #print(f\"Null rates: {uncert_rates[uncert_rates>0].size}\")\n",
    "    uncert_med = np.median(uncert_rates)\n",
    "    uncert_low = np.percentile(uncert_rates, 16)\n",
    "    uncert_high = np.percentile(uncert_rates, 84)\n",
    "    return frb_detection_rate, uncert_low, uncert_high, uncert_med"
   ]
  },
  {
   "cell_type": "code",
   "execution_count": null,
   "id": "172bfd27-3358-4356-b5f8-a4c68fe91251",
   "metadata": {},
   "outputs": [],
   "source": [
    "telescope_list = ['chime', 'chord', 'dsa2000']\n",
    "\n",
    "for telescope_name in telescope_list:\n",
    "    random_seed = 2911167007\n",
    "    rng = default_rng(random_seed)\n",
    "\n",
    "    telescope = Telescope(name=telescope_name)\n",
    "    freq_channels = np.linspace(telescope.v0(), telescope.v1(), n_ch)"
   ]
  },
  {
   "cell_type": "markdown",
   "id": "a10fb3b0-561b-45db-a022-3963d99ff120",
   "metadata": {
    "jp-MarkdownHeadingCollapsed": true,
    "tags": []
   },
   "source": [
    "## Runs"
   ]
  },
  {
   "cell_type": "code",
   "execution_count": 124,
   "id": "a3c0b560-8527-439b-9f85-ae69edeaf33e",
   "metadata": {
    "tags": []
   },
   "outputs": [
    {
     "name": "stdout",
     "output_type": "stream",
     "text": [
      "Using the FRB population model \"shin\"\n",
      "Starting the simulation for chime\n",
      "1,000,000 bursts will be simulated.\n",
      "A total of 9066 FRBs are detected.\n",
      "The detection rate is 1075.2 FRBs per year,\n",
      "or 1 FRB detected every 0.00 years.\n"
     ]
    },
    {
     "data": {
      "text/latex": [
       "$1075.1611 \\; \\mathrm{\\frac{1}{yr}}$"
      ],
      "text/plain": [
       "<Quantity 1075.16112328 1 / yr>"
      ]
     },
     "execution_count": 124,
     "metadata": {},
     "output_type": "execute_result"
    }
   ],
   "source": [
    "run_simulation(\n",
    "    int(1e6),\n",
    "    telescope_name = 'chime',\n",
    "    verbose=True,\n",
    "    uncertain=False,\n",
    ")"
   ]
  },
  {
   "cell_type": "code",
   "execution_count": 125,
   "id": "5fc2ac10-11fc-4d39-970b-f8abed458eb0",
   "metadata": {
    "tags": []
   },
   "outputs": [
    {
     "data": {
      "text/latex": [
       "$911.42458 \\; \\mathrm{\\frac{1}{yr}}$"
      ],
      "text/plain": [
       "<Quantity 911.42458101 1 / yr>"
      ]
     },
     "execution_count": 125,
     "metadata": {},
     "output_type": "execute_result"
    }
   ],
   "source": [
    "n_frbs = 536\n",
    "obs_time = 214.8 * 24 * u.hour\n",
    "rate = (n_frbs / obs_time).to(1/u.yr)\n",
    "rate"
   ]
  },
  {
   "cell_type": "code",
   "execution_count": null,
   "id": "f825b356-d7ff-4ebe-a2fa-419b47a123a1",
   "metadata": {
    "tags": []
   },
   "outputs": [],
   "source": []
  },
  {
   "cell_type": "code",
   "execution_count": 135,
   "id": "ff479920-5a00-474f-986b-eb27d3131c31",
   "metadata": {
    "tags": []
   },
   "outputs": [
    {
     "name": "stdout",
     "output_type": "stream",
     "text": [
      "Using the FRB population model \"shin\"\n",
      "Starting the simulation for chime\n",
      "10,000,000 bursts will be simulated.\n",
      "A total of 28823 FRBs are detected.\n",
      "The detection rate is 760.8 FRBs per year,\n",
      "or 1 FRB detected every 0.00 years.\n"
     ]
    },
    {
     "data": {
      "text/latex": [
       "$760.81566 \\; \\mathrm{\\frac{1}{yr}}$"
      ],
      "text/plain": [
       "<Quantity 760.81566107 1 / yr>"
      ]
     },
     "execution_count": 135,
     "metadata": {},
     "output_type": "execute_result"
    }
   ],
   "source": [
    "SNr_min = 12  # Minimum detectable S/N\n",
    "run_simulation(\n",
    "    int(1e6),\n",
    "    telescope_name = 'chime',\n",
    "    verbose=True,\n",
    "    uncertain=False,\n",
    ")"
   ]
  },
  {
   "cell_type": "code",
   "execution_count": 131,
   "id": "b59f4aa5-deda-4938-890c-19c3c3a8b2d0",
   "metadata": {
    "tags": []
   },
   "outputs": [
    {
     "data": {
      "text/latex": [
       "$562.83869 \\; \\mathrm{\\frac{1}{yr}}$"
      ],
      "text/plain": [
       "<Quantity 562.83868715 1 / yr>"
      ]
     },
     "execution_count": 131,
     "metadata": {},
     "output_type": "execute_result"
    }
   ],
   "source": [
    "n_frbs = 536 - 205\n",
    "obs_time = 214.8 * 24 * u.hour\n",
    "rate = (n_frbs / obs_time).to(1/u.yr)\n",
    "rate"
   ]
  },
  {
   "cell_type": "code",
   "execution_count": 134,
   "id": "187b43cb-9046-4a7c-9b8b-622deefd5dfc",
   "metadata": {
    "tags": []
   },
   "outputs": [
    {
     "data": {
      "text/latex": [
       "$743.83941 \\; \\mathrm{\\frac{1}{yr}}$"
      ],
      "text/plain": [
       "<Quantity 743.83940919 1 / yr>"
      ]
     },
     "execution_count": 134,
     "metadata": {},
     "output_type": "execute_result"
    }
   ],
   "source": [
    "# CHIME selection effects on DM\n",
    "# https://arxiv.org/abs/2106.04352\n",
    "\n",
    "cdistrs = np.load('/arc/home/michilli/slf/data/corrected_distrs.npz')\n",
    "curve = cdistrs[f'dm_n_wdi'] / cdistrs[f'dm_n_wi']\n",
    "curve /= curve.max()\n",
    "log_data_bins = cdistrs[f'dm_log_data_bins']\n",
    "\n",
    "correction = np.sum(curve * np.diff(log_data_bins)) / np.sum(np.diff(log_data_bins))\n",
    "rate / correction"
   ]
  },
  {
   "cell_type": "code",
   "execution_count": null,
   "id": "ebaf1fbf-5b28-4f69-91c6-03d12595da2d",
   "metadata": {},
   "outputs": [],
   "source": []
  },
  {
   "cell_type": "code",
   "execution_count": null,
   "id": "0d2c9a3e-b016-4f73-b044-4fa0ef4ec881",
   "metadata": {},
   "outputs": [],
   "source": []
  },
  {
   "cell_type": "code",
   "execution_count": null,
   "id": "59364036-297b-411d-bd53-289262687734",
   "metadata": {},
   "outputs": [],
   "source": []
  },
  {
   "cell_type": "code",
   "execution_count": null,
   "id": "5838bce7-4804-4eb9-8740-2c13edf3a326",
   "metadata": {
    "tags": []
   },
   "outputs": [],
   "source": [
    "run_simulation(\n",
    "    int(1e6),\n",
    "    telescope_name = 'burstt-2048',\n",
    "    verbose=True,\n",
    "    uncertain=False,\n",
    ")"
   ]
  },
  {
   "cell_type": "code",
   "execution_count": null,
   "id": "fde6c8f8-a7e5-4c1e-9305-068789a6a146",
   "metadata": {
    "tags": []
   },
   "outputs": [],
   "source": [
    "run_simulation(\n",
    "    int(1e6),\n",
    "    telescope_name = 'dummy',\n",
    "    verbose=True,\n",
    "    uncertain=False,\n",
    ")"
   ]
  },
  {
   "cell_type": "code",
   "execution_count": null,
   "id": "db796ce2-8b27-4c3a-acf6-c5b1c3db56b2",
   "metadata": {},
   "outputs": [],
   "source": []
  },
  {
   "cell_type": "code",
   "execution_count": null,
   "id": "b263c5e4-f63e-4777-bbed-c3ca91e48667",
   "metadata": {},
   "outputs": [],
   "source": [
    "run_simulation(\n",
    "    int(1e6),\n",
    "    telescope_name = 'utmost',\n",
    "    verbose=True,\n",
    "    uncertain=False,\n",
    ")"
   ]
  },
  {
   "cell_type": "code",
   "execution_count": null,
   "id": "810e2643-651f-4167-a3f3-81487ae02bb9",
   "metadata": {
    "tags": []
   },
   "outputs": [],
   "source": [
    "n_frbs = 6\n",
    "obs_time = (344 * u.day).to(u.hour)\n",
    "(n_frbs / obs_time).to(1/u.yr)"
   ]
  },
  {
   "cell_type": "code",
   "execution_count": null,
   "id": "a21762a2-9fff-4e9f-a474-c2b201e204c7",
   "metadata": {
    "tags": []
   },
   "outputs": [],
   "source": [
    "run_simulation(\n",
    "    int(1e6),\n",
    "    telescope_name = 'dsa2000',\n",
    "    verbose=True,\n",
    "    uncertain=False,\n",
    ")"
   ]
  },
  {
   "cell_type": "code",
   "execution_count": null,
   "id": "c5ab1bc4-d1ab-454a-ad80-adeb744aba20",
   "metadata": {
    "tags": []
   },
   "outputs": [],
   "source": [
    "run_simulation_with_uncert(\n",
    "    int(1e7),\n",
    "    telescope_name = 'chime',\n",
    "    verbose=False,\n",
    "    uncertain=True,\n",
    ")"
   ]
  },
  {
   "cell_type": "code",
   "execution_count": null,
   "id": "39472f58-fed2-4d8b-8d8b-ca1d3bef941c",
   "metadata": {},
   "outputs": [],
   "source": []
  },
  {
   "cell_type": "code",
   "execution_count": null,
   "id": "eb79f2e6-d5d6-4736-854a-66f11990b1c2",
   "metadata": {},
   "outputs": [],
   "source": []
  },
  {
   "cell_type": "code",
   "execution_count": null,
   "id": "bab77992-1530-4ac0-b6ad-8999c2ab830b",
   "metadata": {
    "tags": []
   },
   "outputs": [],
   "source": [
    "run_simulation(\n",
    "    int(1e6),\n",
    "    telescope_name = 'chime',\n",
    "    verbose=True,\n",
    "    uncertain=False,\n",
    "    simulate_lensed_frbs='weak'\n",
    ")"
   ]
  },
  {
   "cell_type": "code",
   "execution_count": null,
   "id": "65a58f34-cfb0-4457-b3c7-4f4c18235457",
   "metadata": {},
   "outputs": [],
   "source": []
  },
  {
   "cell_type": "code",
   "execution_count": null,
   "id": "406fb738-89f5-4d0f-9ae5-601ee5b96a1c",
   "metadata": {},
   "outputs": [],
   "source": []
  },
  {
   "cell_type": "markdown",
   "id": "ee839314-ad32-40b8-a1b6-f6a70bc44d50",
   "metadata": {
    "tags": []
   },
   "source": [
    "## Figures"
   ]
  },
  {
   "cell_type": "markdown",
   "id": "ce25ec6a-c529-41f1-be23-1dc08f306317",
   "metadata": {
    "jp-MarkdownHeadingCollapsed": true,
    "tags": []
   },
   "source": [
    "### Fig: FRB discovery rate of current telescopes"
   ]
  },
  {
   "cell_type": "code",
   "execution_count": null,
   "id": "0b588fd5-5379-4331-a936-4f2ec110a031",
   "metadata": {
    "tags": []
   },
   "outputs": [],
   "source": [
    "# Plot of measured vs simulated rate for different telescopes\n",
    "\n",
    "number_of_simulated_frbs = int(1e7)  # Elements in the simulation\n",
    "observing_time_fraction = 1  # Fraction of observing time\n",
    "\n",
    "###### Measured detection rates\n",
    "telescope_rates = {}\n",
    "\n",
    "#CHIME (https://arxiv.org/pdf/2106.04352.pdf)\n",
    "n_frbs = 536\n",
    "obs_time = 214.8 * 24 * u.hour\n",
    "rate = (n_frbs / obs_time).to(1/u.yr)\n",
    "err = (np.sqrt(n_frbs) / obs_time).to(1/u.yr)\n",
    "telescope_rates['CHIME'] = [rate, err]\n",
    "\n",
    "#FAST (https://ui.adsabs.harvard.edu/abs/2021ApJ...909L...8N/abstract)\n",
    "n_frbs = 4\n",
    "obs_time = (1667 + 9) * u.hour\n",
    "rate = (n_frbs / obs_time).to(1/u.yr) / 9  # 9 to correct for multi-beam receiver\n",
    "err = (np.sqrt(n_frbs) / obs_time).to(1/u.yr) / 9\n",
    "telescope_rates['FAST'] = [rate, err]\n",
    "\n",
    "# AKAP FLY'S EYE (https://arxiv.org/pdf/2408.02083)\n",
    "n_frbs = 20\n",
    "obs_time = 1274.6 * u.day\n",
    "rate = (n_frbs / obs_time).to(1/u.yr) / 7  # 7 antennas used on average\n",
    "err = (np.sqrt(n_frbs) / obs_time).to(1/u.yr) / 7  # 7 antennas used on average\n",
    "telescope_rates['ASKAP_FLYSEYE'] = [rate, err]\n",
    "\n",
    "## AKAP (https://arxiv.org/pdf/2408.02083)\n",
    "#n_frbs = 43\n",
    "#obs_time = 12_701.7 * u.hour\n",
    "#rate = (n_frbs / obs_time).to(1/u.yr)\n",
    "#err = (np.sqrt(n_frbs) / obs_time).to(1/u.yr)\n",
    "#telescope_rates['ASKAP'] = [rate, err]\n",
    "\n",
    "# Aperitif (https://ui.adsabs.harvard.edu/abs/2023A%26A...672A.117V/abstract)\n",
    "n_frbs = 5\n",
    "obs_time = 800 * u.hour\n",
    "rate = (n_frbs / obs_time).to(1/u.yr) / 40  # 40 to correct for compound beams\n",
    "err = (np.sqrt(n_frbs) / obs_time).to(1/u.yr) / 40\n",
    "telescope_rates['Aperitif'] = [rate, err]\n",
    "\n",
    "# UTMOST (https://ui.adsabs.harvard.edu/abs/2019MNRAS.488.2989F/abstract)\n",
    "n_frbs = 6\n",
    "obs_time = (344 * u.day).to(u.hour)\n",
    "rate = (n_frbs / obs_time).to(1/u.yr)\n",
    "err = (np.sqrt(n_frbs) / obs_time).to(1/u.yr)\n",
    "telescope_rates['UTMOST'] = [rate, err]\n",
    "\n",
    "# Parkes (https://ui.adsabs.harvard.edu/abs/2016MNRAS.460L..30C/abstract)\n",
    "n_frbs = 9\n",
    "obs_time = (33_500 * 270 * u.s).to(u.hour)\n",
    "rate = (n_frbs / obs_time).to(1/u.yr) / 13  # 13 to correct for multi-beam receiver\n",
    "err = (np.sqrt(n_frbs) / obs_time).to(1/u.yr) / 13\n",
    "telescope_rates['Parkes'] = [rate, err]\n",
    "\n",
    "# CHORD (https://ui.adsabs.harvard.edu/abs/2019clrp.2020...28V/abstract)\n",
    "telescope_rates['CHORD'] = [25.5 * 365 / u.yr, 7 * 365 / u.yr]\n",
    "\n",
    "# DSA2000 (https://ui.adsabs.harvard.edu/abs/2019BAAS...51g.255H/abstract)\n",
    "telescope_rates['DSA2000'] = [1e4 / u.yr, 5e3 / u.yr]\n",
    "\n",
    "# BURSTT-2048 (https://ui.adsabs.harvard.edu/abs/2022PASP..134i4106L/abstract)\n",
    "telescope_rates['BURSTT-2048'] = [3000 / u.yr, 2000 / u.yr]\n",
    "\n",
    "\n",
    "###### Simulation results\n",
    "telescope_list = [\n",
    "    'Aperitif',\n",
    "    'ASKAP_FLYSEYE',\n",
    "    'CHIME',\n",
    "    'FAST',\n",
    "    'Parkes',\n",
    "    'UTMOST',\n",
    "    'BURSTT-2048',\n",
    "    'CHORD',\n",
    "    'DSA2000',\n",
    "    #'DSA2000_LOW'\n",
    "]\n",
    "\n",
    "# Load pickled results\n",
    "sim_results = {}\n",
    "try:\n",
    "    with open('output/fig1.pkl', 'rb') as fr:\n",
    "        try:\n",
    "            while True:\n",
    "                t, sim = pickle.load(fr)\n",
    "                sim_results[t] = sim\n",
    "        except EOFError:\n",
    "            pass\n",
    "except FileNotFoundError:\n",
    "    pass\n",
    "    \n",
    "# Run simulations for missing pickles\n",
    "values = []\n",
    "uncert_up = []\n",
    "uncert_down = []\n",
    "uncert_med = []\n",
    "for t in telescope_list:\n",
    "    telescope = t.lower()\n",
    "    try:\n",
    "        sim = sim_results[t]\n",
    "        print(\"Loading simulation results for {}\".format(t))\n",
    "    except KeyError:\n",
    "        print(\"Simulation results for {} not found. Simulating\".format(t))        \n",
    "        sim  = run_simulation_with_uncert(\n",
    "                number_of_simulated_frbs,\n",
    "                telescope_name = telescope,\n",
    "                simulate_lensed_frbs = False,\n",
    "                verbose = False,\n",
    "        )\n",
    "        \n",
    "        with open('output/fig1.pkl', \"ab+\") as input_file:\n",
    "            pickle.dump((t, sim), input_file)\n",
    "            \n",
    "    values.append(sim[0].to(1/u.yr).value)\n",
    "    uncert_down.append(sim[1].to(1/u.yr).value)\n",
    "    uncert_up.append(sim[2].to(1/u.yr).value)\n",
    "    uncert_med.append(sim[3].to(1/u.yr).value)\n",
    "    \n",
    "    \n",
    "##### Make the plot\n",
    "from matplotlib.patches import Rectangle\n",
    "fig, ax = plt.subplots()\n",
    "\n",
    "x = np.arange(len(telescope_list))\n",
    "ax.errorbar(\n",
    "    x,\n",
    "    values,\n",
    "    yerr=(\n",
    "        [v-u for v,u in zip(values, uncert_down)], \n",
    "        [u-v for u,v in zip(uncert_up, values)]\n",
    "    ),\n",
    "    fmt='k+',\n",
    "    label='Shin+ 2023',\n",
    "    zorder=5\n",
    ")\n",
    "\n",
    "for telescope, xi in zip(telescope_list, x):\n",
    "    try:\n",
    "        rate = telescope_rates[telescope]\n",
    "    except KeyError:\n",
    "        continue\n",
    "    if telescope.lower() in ['chord', 'dsa2000', 'burstt-2048']:\n",
    "        ls = '--'\n",
    "        lw = 1.5\n",
    "        fc = 'none'\n",
    "        ec = 'k'\n",
    "    else:\n",
    "        ls = None\n",
    "        lw = None\n",
    "        fc = 'k'\n",
    "        ec = None\n",
    "        \n",
    "    rect = Rectangle(\n",
    "        (xi - 0.45, (rate[0] - rate[1]).to(1/u.yr).value),\n",
    "        0.9,\n",
    "        rate[1].to(1/u.yr).value * 2,\n",
    "        alpha=0.3,\n",
    "        ls = ls,\n",
    "        lw = lw,\n",
    "        fc=fc,\n",
    "        ec = ec,\n",
    "    )\n",
    "    ax.add_patch(rect)\n",
    "\n",
    "#ax.legend()\n",
    "ax.set_yscale('log')\n",
    "ax.set_xlim(x.min()-0.5, x.max()+0.5)\n",
    "ax.set_ylim(0.3, 100_000)\n",
    "ax.set_xticks(x)\n",
    "ax.set_xticklabels(telescope_list, rotation='vertical')\n",
    "ax.set_ylabel(\"Rate (yr$^{-1}$)\")"
   ]
  },
  {
   "cell_type": "markdown",
   "id": "c279de54-57a6-4b55-b2d6-ffdc21a4a116",
   "metadata": {
    "tags": []
   },
   "source": [
    "### Fig: FRB redshift"
   ]
  },
  {
   "cell_type": "code",
   "execution_count": null,
   "id": "6526581c-ecd8-4944-8f4e-dce36b923b87",
   "metadata": {
    "tags": []
   },
   "outputs": [],
   "source": [
    "# Redshift distribution of detected FRBs\n",
    "\n",
    "# CHIME\n",
    "chime_z_dist = run_simulation(\n",
    "    int(1e6),\n",
    "    telescope_name = 'chime',\n",
    "    simulate_lensed_frbs = False,\n",
    "    return_z_dist = True\n",
    ")\n",
    "\n",
    "# ASKAP\n",
    "askap_z_dist = run_simulation(\n",
    "    int(1e7),\n",
    "    telescope_name = 'askap_flyseye',\n",
    "    simulate_lensed_frbs = False,\n",
    "    return_z_dist = True\n",
    ")\n",
    "\n",
    "# CHORD\n",
    "chord_z_dist = run_simulation(\n",
    "    int(1e5),\n",
    "    telescope_name = 'chord',\n",
    "    simulate_lensed_frbs = False,\n",
    "    return_z_dist = True\n",
    ")\n",
    "\n",
    "# DSA-2000\n",
    "dsa_z_dist = run_simulation(\n",
    "    int(1e5),\n",
    "    telescope_name = 'dsa2000',\n",
    "    simulate_lensed_frbs = False,\n",
    "    return_z_dist = True\n",
    ")"
   ]
  },
  {
   "cell_type": "code",
   "execution_count": null,
   "id": "48d9df0e-4ea4-46ed-97b2-83d8c7e23941",
   "metadata": {
    "tags": []
   },
   "outputs": [],
   "source": [
    "# Color-blind friendly, from https://www.nature.com/articles/nmeth.1618\n",
    "color = (np.array([\n",
    "    (  0,   0,   0),\n",
    "    (230, 159,   0),\n",
    "    ( 86, 180, 233),\n",
    "    (  0, 158, 115),\n",
    "    (240, 228,  66),\n",
    "    (  0, 114, 178),\n",
    "    (213,  94,   0),\n",
    "    (204, 121, 167),\n",
    "]) / 255).tolist()\n",
    "\n",
    "y_hist, bins = np.histogram(chime_z_dist[1], bins=100, density=True)\n",
    "plt.stairs(y_hist/y_hist.max(), bins, color=color[1], label='CHIME')\n",
    "\n",
    "y_hist, bins = np.histogram(chord_z_dist[1], bins=100, density=True)\n",
    "plt.stairs(y_hist/y_hist.max(), bins, color=color[5], label='CHORD')\n",
    "\n",
    "y_hist, bins = np.histogram(dsa_z_dist[1], bins=100, density=True)\n",
    "plt.stairs(y_hist/y_hist.max(), bins, color=color[7], label='DSA-2000')\n",
    "\n",
    "ASKAP_FRBs = [0.23, 0.161, 0.36879, 0.12927, 0.2797, 0.3214, 0.4755, 0.291, 0.1178, 0.378, 0.522, 0.209, 0.243, 0.2145, 0.0469, 0.0715]\n",
    "# from https://ui.adsabs.harvard.edu/abs/2022MNRAS.516.4862J/abstract\n",
    "y_hist, bins_det = np.histogram(ASKAP_FRBs, bins=7, density=True)\n",
    "plt.stairs(y_hist/y_hist.max(), bins_det, color='k', label='ASKAP detection', ls='--', zorder=5)\n",
    "\n",
    "y_hist, bins = np.histogram(askap_z_dist[1], bins=bins_det, density=True)\n",
    "plt.stairs(y_hist/y_hist.max(), bins, color=color[3], label='ASKAP')\n",
    "\n",
    "plt.xlabel('Redshift')\n",
    "plt.ylabel('PDF')\n",
    "plt.legend()\n",
    "\n",
    "plt.xlim(0, 3)\n",
    "\n",
    "\n",
    "\n",
    "z_K, p_K = np.loadtxt('data/P_obs(z).dat', skiprows=4).T\n",
    "y = p_K * z_K\n",
    "plt.plot(z_K, y / y.max(), 'r--')\n",
    "\n",
    "z_K, p_K = np.loadtxt('data/P_obs(z).dat', skiprows=4).T\n",
    "y = p_K * z_K\n",
    "A = np.sum(y * np.diff(z_K, prepend=1e-3))\n",
    "#plt.plot(z_K, y / A, 'r--')\n",
    "plt.step(bins, np.interp(bins, z_K, y / A), color='r')"
   ]
  },
  {
   "cell_type": "code",
   "execution_count": null,
   "id": "95febe2b-4bd9-4131-b71f-0767500b0f3e",
   "metadata": {},
   "outputs": [],
   "source": []
  },
  {
   "cell_type": "code",
   "execution_count": 93,
   "id": "924b37ee-74a9-4893-b843-4bfb0d6d0f08",
   "metadata": {
    "tags": []
   },
   "outputs": [],
   "source": [
    "SNr_min = 12\n",
    "\n",
    "\n",
    "# CHIME\n",
    "chime_z_dist = run_simulation(\n",
    "    int(1e7),\n",
    "    telescope_name = 'chime',\n",
    "    simulate_lensed_frbs = False,\n",
    "    return_z_dist = True\n",
    ")\n",
    "\n",
    "# CHORD\n",
    "chord_z_dist = run_simulation(\n",
    "    int(1e7),\n",
    "    telescope_name = 'chord',\n",
    "    simulate_lensed_frbs = False,\n",
    "    return_z_dist = True\n",
    ")\n",
    "\n",
    "# DSA\n",
    "dsa_z_dist = run_simulation(\n",
    "    int(1e7),\n",
    "    telescope_name = 'dsa2000',\n",
    "    simulate_lensed_frbs = False,\n",
    "    return_z_dist = True\n",
    ")"
   ]
  },
  {
   "cell_type": "code",
   "execution_count": 94,
   "id": "d702fb7d-5827-4d63-8b5f-1fbf697e603a",
   "metadata": {
    "tags": []
   },
   "outputs": [
    {
     "data": {
      "image/png": "[encoded data removed]",
      "text/plain": [
       "<Figure size 640x480 with 1 Axes>"
      ]
     },
     "metadata": {},
     "output_type": "display_data"
    }
   ],
   "source": [
    "f, ax = plt.subplots()\n",
    "\n",
    "# Color-blind friendly, from https://www.nature.com/articles/nmeth.1618\n",
    "color = (np.array([\n",
    "    (  0,   0,   0),\n",
    "    (230, 159,   0),\n",
    "    ( 86, 180, 233),\n",
    "    (  0, 158, 115),\n",
    "    (240, 228,  66),\n",
    "    (  0, 114, 178),\n",
    "    (213,  94,   0),\n",
    "    (204, 121, 167),\n",
    "]) / 255).tolist()\n",
    "\n",
    "y_hist, bins = np.histogram(chime_z_dist[1], bins=100, density=True)\n",
    "y_hist = y_hist / (bins[1:] + bins[:-1]) * 2\n",
    "ax.stairs(y_hist, bins, color=color[1], label='CHIME')\n",
    "\n",
    "y_hist, bins = np.histogram(chord_z_dist[1], bins=100, density=True)\n",
    "y_hist = y_hist / (bins[1:] + bins[:-1]) * 2\n",
    "ax.stairs(y_hist, bins, color=color[5], label='CHORD')\n",
    "\n",
    "y_hist, bins = np.histogram(dsa_z_dist[1], bins=100, density=True)\n",
    "y_hist = y_hist / (bins[1:] + bins[:-1]) * 2\n",
    "ax.stairs(y_hist, bins, color=color[7], label='DSA-2000')\n",
    "\n",
    "ax.set_xlabel('Redshift')\n",
    "ax.set_ylabel('P(z) / z')\n",
    "ax.legend()\n",
    "\n",
    "ax.set_xlim(0, 5)\n",
    "\n",
    "\n",
    "\n",
    "z_K, p_K = np.loadtxt('data/P_obs(z).dat', skiprows=4).T\n",
    "y = p_K\n",
    "plt.plot(z_K, y / (y[:-1]*np.diff(z_K)).sum(), 'r--')\n",
    "\n",
    "\n",
    "# https://www.frontiersin.org/journals/astronomy-and-space-sciences/articles/10.3389/fspas.2024.1371787/full\n",
    "#DM = 1021.36 * z + 221.99\n",
    "#DM_igm = DM - 100\n",
    "ax_t = ax.secondary_xaxis(\n",
    "    'top',\n",
    "    functions=(\n",
    "        lambda z: 1021.36 * z + 221.99, \n",
    "        lambda DM: (DM - 221.99) / 1021.36,\n",
    "    )\n",
    ")\n",
    "_ = ax_t.set_xlabel('DM (pc/cc)')"
   ]
  },
  {
   "cell_type": "code",
   "execution_count": 95,
   "id": "8fb437c7-c50a-4d20-9516-eab84fbdbba7",
   "metadata": {
    "tags": []
   },
   "outputs": [
    {
     "data": {
      "image/png": "[encoded data removed]",
      "text/plain": [
       "<Figure size 640x480 with 1 Axes>"
      ]
     },
     "metadata": {},
     "output_type": "display_data"
    }
   ],
   "source": [
    "f, ax = plt.subplots()\n",
    "\n",
    "# Color-blind friendly, from https://www.nature.com/articles/nmeth.1618\n",
    "color = (np.array([\n",
    "    (  0,   0,   0),\n",
    "    (230, 159,   0),\n",
    "    ( 86, 180, 233),\n",
    "    (  0, 158, 115),\n",
    "    (240, 228,  66),\n",
    "    (  0, 114, 178),\n",
    "    (213,  94,   0),\n",
    "    (204, 121, 167),\n",
    "]) / 255).tolist()\n",
    "\n",
    "y_hist, bins = np.histogram(chime_z_dist[1], bins=100, density=True)\n",
    "y_hist = y_hist / bins[1:]\n",
    "ax.stairs(y_hist, bins, color=color[1], label='CHIME')\n",
    "\n",
    "y_hist, bins = np.histogram(chord_z_dist[1], bins=100, density=True)\n",
    "y_hist = y_hist / bins[1:]\n",
    "ax.stairs(y_hist, bins, color=color[5], label='CHORD')\n",
    "\n",
    "y_hist, bins = np.histogram(dsa_z_dist[1], bins=100, density=True)\n",
    "y_hist = y_hist / bins[1:]\n",
    "ax.stairs(y_hist, bins, color=color[7], label='DSA-2000')\n",
    "\n",
    "ax.set_xlabel('Redshift')\n",
    "ax.set_ylabel('P(z) / z')\n",
    "ax.legend()\n",
    "\n",
    "ax.set_xlim(0, 5)\n",
    "\n",
    "\n",
    "\n",
    "z_K, p_K = np.loadtxt('data/P_obs(z).dat', skiprows=4).T\n",
    "y = p_K\n",
    "plt.plot(z_K, y / (y[:-1]*np.diff(z_K)).sum(), 'r--')\n",
    "\n",
    "\n",
    "# https://www.frontiersin.org/journals/astronomy-and-space-sciences/articles/10.3389/fspas.2024.1371787/full\n",
    "#DM = 1021.36 * z + 221.99\n",
    "#DM_igm = DM - 100\n",
    "ax_t = ax.secondary_xaxis(\n",
    "    'top',\n",
    "    functions=(\n",
    "        lambda z: 1021.36 * z + 221.99, \n",
    "        lambda DM: (DM - 221.99) / 1021.36,\n",
    "    )\n",
    ")\n",
    "_ = ax_t.set_xlabel('DM (pc/cc)')"
   ]
  },
  {
   "cell_type": "code",
   "execution_count": 96,
   "id": "8ce2e809-eb02-4c2b-8e54-9899f2a230a8",
   "metadata": {
    "tags": []
   },
   "outputs": [
    {
     "data": {
      "image/png": "[encoded data removed]",
      "text/plain": [
       "<Figure size 640x480 with 1 Axes>"
      ]
     },
     "metadata": {},
     "output_type": "display_data"
    }
   ],
   "source": [
    "f, ax = plt.subplots()\n",
    "\n",
    "# Color-blind friendly, from https://www.nature.com/articles/nmeth.1618\n",
    "color = (np.array([\n",
    "    (  0,   0,   0),\n",
    "    (230, 159,   0),\n",
    "    ( 86, 180, 233),\n",
    "    (  0, 158, 115),\n",
    "    (240, 228,  66),\n",
    "    (  0, 114, 178),\n",
    "    (213,  94,   0),\n",
    "    (204, 121, 167),\n",
    "]) / 255).tolist()\n",
    "\n",
    "y_hist, bins = np.histogram(chime_z_dist[1], bins=100, density=True)\n",
    "ax.stairs(y_hist, bins, color=color[1], label='CHIME')\n",
    "\n",
    "y_hist, bins = np.histogram(chord_z_dist[1], bins=100, density=True)\n",
    "ax.stairs(y_hist, bins, color=color[5], label='CHORD')\n",
    "\n",
    "y_hist, bins = np.histogram(dsa_z_dist[1], bins=100, density=True)\n",
    "ax.stairs(y_hist, bins, color=color[7], label='DSA-2000')\n",
    "\n",
    "ax.set_xlabel('Redshift')\n",
    "ax.set_ylabel('P(z)')\n",
    "ax.legend()\n",
    "\n",
    "ax.set_xlim(0, 5)\n",
    "\n",
    "\n",
    "\n",
    "z_K, p_K = np.loadtxt('data/P_obs(z).dat', skiprows=4).T\n",
    "y = p_K * z_K\n",
    "plt.plot(z_K, y / (y[:-1]*np.diff(z_K)).sum(), 'r--')\n",
    "\n",
    "\n",
    "# https://www.frontiersin.org/journals/astronomy-and-space-sciences/articles/10.3389/fspas.2024.1371787/full\n",
    "#DM = 1021.36 * z + 221.99\n",
    "#DM_igm = DM - 100\n",
    "ax_t = ax.secondary_xaxis(\n",
    "    'top',\n",
    "    functions=(\n",
    "        lambda z: 1021.36 * z + 221.99, \n",
    "        lambda DM: (DM - 221.99) / 1021.36,\n",
    "    )\n",
    ")\n",
    "_ = ax_t.set_xlabel('DM (pc/cc)')"
   ]
  },
  {
   "cell_type": "code",
   "execution_count": null,
   "id": "d7f39335-007f-4f36-87d8-14dee8634c66",
   "metadata": {
    "tags": []
   },
   "outputs": [],
   "source": [
    "chime_z_dist[0] * chime_z_dist[1][chime_z_dist[1]>4].size / chime_z_dist[1].size"
   ]
  },
  {
   "cell_type": "code",
   "execution_count": null,
   "id": "d843eef4-0c3d-4d3c-bb5a-1a602a0e2a79",
   "metadata": {
    "tags": []
   },
   "outputs": [],
   "source": [
    "chord_z_dist[0] * chord_z_dist[1][chord_z_dist[1]>4].size / chord_z_dist[1].size"
   ]
  },
  {
   "cell_type": "code",
   "execution_count": null,
   "id": "9c4c642d-4e42-42df-98b4-66fd4faf8541",
   "metadata": {
    "tags": []
   },
   "outputs": [],
   "source": []
  },
  {
   "cell_type": "code",
   "execution_count": 126,
   "id": "3ea21f5e-83f4-49fc-86cf-379bd88aa262",
   "metadata": {
    "tags": []
   },
   "outputs": [
    {
     "data": {
      "image/png": "[encoded data removed]",
      "text/plain": [
       "<Figure size 640x480 with 1 Axes>"
      ]
     },
     "metadata": {},
     "output_type": "display_data"
    }
   ],
   "source": [
    "# CHIME selection effects on DM\n",
    "# https://arxiv.org/abs/2106.04352\n",
    "\n",
    "cdistrs = np.load('/arc/home/michilli/slf/data/corrected_distrs.npz')\n",
    "curve = cdistrs[f'dm_n_wdi'] / cdistrs[f'dm_n_wi']\n",
    "curve /= curve.max()\n",
    "log_data_bins = cdistrs[f'dm_log_data_bins']\n",
    "\n",
    "plt.stairs(curve, log_data_bins)\n",
    "plt.xscale('log')"
   ]
  },
  {
   "cell_type": "code",
   "execution_count": 98,
   "id": "12c16cc5-65bf-4743-a11f-238de5066bad",
   "metadata": {
    "tags": []
   },
   "outputs": [
    {
     "data": {
      "text/plain": [
       "<matplotlib.patches.StepPatch at 0x7f5e4ca38190>"
      ]
     },
     "execution_count": 98,
     "metadata": {},
     "output_type": "execute_result"
    },
    {
     "data": {
      "image/png": "[encoded data removed]",
      "text/plain": [
       "<Figure size 640x480 with 1 Axes>"
      ]
     },
     "metadata": {},
     "output_type": "display_data"
    }
   ],
   "source": [
    "chime_dm = 1021.36 * chime_z_dist[1] + 221.99\n",
    "log_data_pts = (log_data_bins[1:] + log_data_bins[:-1]) / 2\n",
    "chime_corrections = np.interp(chime_dm, log_data_pts, curve)\n",
    "random = np.random.uniform(size=chime_corrections.size)\n",
    "chime_dist_corrected = chime_z_dist[1][random < chime_corrections]\n",
    "y_hist, bins = np.histogram(chime_dist_corrected, bins=100, density=True)\n",
    "plt.stairs(y_hist, bins, color='k', label='CHIME')"
   ]
  },
  {
   "cell_type": "code",
   "execution_count": 154,
   "id": "7b96d746-4239-4f3b-b7b9-e43abd9c2ed3",
   "metadata": {
    "tags": []
   },
   "outputs": [
    {
     "data": {
      "image/png": "[encoded data removed]",
      "text/plain": [
       "<Figure size 640x480 with 1 Axes>"
      ]
     },
     "metadata": {},
     "output_type": "display_data"
    }
   ],
   "source": [
    "f, ax = plt.subplots()\n",
    "\n",
    "# Color-blind friendly, from https://www.nature.com/articles/nmeth.1618\n",
    "color = (np.array([\n",
    "    (  0,   0,   0),\n",
    "    (230, 159,   0),\n",
    "    ( 86, 180, 233),\n",
    "    (  0, 158, 115),\n",
    "    (240, 228,  66),\n",
    "    (  0, 114, 178),\n",
    "    (213,  94,   0),\n",
    "    (204, 121, 167),\n",
    "]) / 255).tolist()\n",
    "\n",
    "y_hist, bins = np.histogram(chime_z_dist[1], bins=100, density=True)\n",
    "ax.stairs(y_hist, bins, color=color[1], label='CHIME')\n",
    "\n",
    "y_hist, bins = np.histogram(chord_z_dist[1], bins=100, density=True)\n",
    "ax.stairs(y_hist, bins, color=color[5], label='CHORD')\n",
    "\n",
    "y_hist, bins = np.histogram(dsa_z_dist[1], bins=100, density=True)\n",
    "ax.stairs(y_hist, bins, color=color[7], label='DSA-2000')\n",
    "\n",
    "ax.set_xlabel('Redshift')\n",
    "ax.set_ylabel('P(z)')\n",
    "ax.legend()\n",
    "\n",
    "ax.set_xlim(0, 5)\n",
    "\n",
    "xxx = (chime_dm - 221.99) / 1021.36\n",
    "ax.plot(xxx, np.interp(chime_dm, log_data_pts, curve), 'k.')\n",
    "\n",
    "\n",
    "z_K, p_K = np.loadtxt('data/P_obs(z).dat', skiprows=4).T\n",
    "y = p_K * z_K\n",
    "plt.plot(z_K, y / (y[:-1]*np.diff(z_K)).sum(), 'r--')\n",
    "\n",
    "\n",
    "# https://www.frontiersin.org/journals/astronomy-and-space-sciences/articles/10.3389/fspas.2024.1371787/full\n",
    "#DM = 1021.36 * z + 221.99\n",
    "#DM_igm = DM - 100\n",
    "ax_t = ax.secondary_xaxis(\n",
    "    'top',\n",
    "    functions=(\n",
    "        lambda z: 1021.36 * z + 221.99, \n",
    "        lambda DM: (DM - 221.99) / 1021.36,\n",
    "    )\n",
    ")\n",
    "_ = ax_t.set_xlabel('DM (pc/cc)')"
   ]
  },
  {
   "cell_type": "code",
   "execution_count": null,
   "id": "dc285eae-18fc-4e9c-8191-38e9231ce5b5",
   "metadata": {
    "tags": []
   },
   "outputs": [],
   "source": []
  },
  {
   "cell_type": "code",
   "execution_count": 164,
   "id": "1b2839b6-5eb3-4900-ab64-c4b041387878",
   "metadata": {
    "tags": []
   },
   "outputs": [
    {
     "data": {
      "image/png": "[encoded data removed]",
      "text/plain": [
       "<Figure size 640x480 with 1 Axes>"
      ]
     },
     "metadata": {},
     "output_type": "display_data"
    }
   ],
   "source": [
    "f, ax = plt.subplots()\n",
    "\n",
    "# Color-blind friendly, from https://www.nature.com/articles/nmeth.1618\n",
    "color = (np.array([\n",
    "    (  0,   0,   0),\n",
    "    (230, 159,   0),\n",
    "    ( 86, 180, 233),\n",
    "    (  0, 158, 115),\n",
    "    (240, 228,  66),\n",
    "    (  0, 114, 178),\n",
    "    (213,  94,   0),\n",
    "    (204, 121, 167),\n",
    "]) / 255).tolist()\n",
    "\n",
    "y_hist, bins = np.histogram(chime_z_dist[1], bins=100, density=True)\n",
    "y_hist = y_hist / np.diff(bins)\n",
    "ax.stairs(y_hist, bins, color=color[1], label='CHIME')\n",
    "\n",
    "y_hist, bins = np.histogram(chord_z_dist[1], bins=100, density=True)\n",
    "y_hist = y_hist / np.diff(bins)\n",
    "ax.stairs(y_hist, bins, color=color[5], label='CHORD')\n",
    "\n",
    "y_hist, bins = np.histogram(dsa_z_dist[1], bins=100, density=True)\n",
    "y_hist = y_hist / np.diff(bins)\n",
    "ax.stairs(y_hist, bins, color=color[7], label='DSA-2000')\n",
    "\n",
    "\n",
    "y_hist, bins = np.histogram(chime_dist_corrected, bins=100, density=True)\n",
    "y_hist = y_hist / np.diff(bins)\n",
    "ax.stairs(y_hist, bins, color='r', label='chime corrected')\n",
    "\n",
    "z_K, p_K = np.loadtxt('data/P_obs(z).dat', skiprows=4).T\n",
    "y = p_K #* z_K\n",
    "ax.plot(z_K, y / (y[:-1]*np.diff(z_K)).sum(), 'r--')\n",
    "\n",
    "\n",
    "\n",
    "chime_dm_obs = np.loadtxt(\"/arc/home/michilli/CHIMEFRB-Cat1-Energy-Dist-Distrs/data/cat1_sample.dat\", skiprows=1, usecols=[2])\n",
    "chime_z_obs = (chime_dm_obs - 221.99) / 1021.36\n",
    "y_hist, bins = np.histogram(chime_z_obs, bins=30, density=True)\n",
    "ax.stairs(y_hist, bins, color='b', label='chime observed DMs')\n",
    "\n",
    "\n",
    "\n",
    "ax.set_xlabel('Redshift')\n",
    "ax.set_ylabel('P(z)')\n",
    "ax.legend()\n",
    "\n",
    "ax.set_xlim(0, 5)\n",
    "\n",
    "\n",
    "# https://www.frontiersin.org/journals/astronomy-and-space-sciences/articles/10.3389/fspas.2024.1371787/full\n",
    "#DM = 1021.36 * z + 221.99\n",
    "#DM_igm = DM - 100\n",
    "ax_t = ax.secondary_xaxis(\n",
    "    'top',\n",
    "    functions=(\n",
    "        lambda z: 1021.36 * z + 221.99, \n",
    "        lambda DM: (DM - 221.99) / 1021.36,\n",
    "    )\n",
    ")\n",
    "_ = ax_t.set_xlabel('DM (pc/cc)')"
   ]
  },
  {
   "cell_type": "code",
   "execution_count": 163,
   "id": "5ad72385-543b-4cb6-972b-189613af34f7",
   "metadata": {
    "tags": []
   },
   "outputs": [
    {
     "data": {
      "image/png": "[encoded data removed]",
      "text/plain": [
       "<Figure size 640x480 with 1 Axes>"
      ]
     },
     "metadata": {},
     "output_type": "display_data"
    }
   ],
   "source": [
    "f, ax = plt.subplots()\n",
    "\n",
    "# Color-blind friendly, from https://www.nature.com/articles/nmeth.1618\n",
    "color = (np.array([\n",
    "    (  0,   0,   0),\n",
    "    (230, 159,   0),\n",
    "    ( 86, 180, 233),\n",
    "    (  0, 158, 115),\n",
    "    (240, 228,  66),\n",
    "    (  0, 114, 178),\n",
    "    (213,  94,   0),\n",
    "    (204, 121, 167),\n",
    "]) / 255).tolist()\n",
    "\n",
    "y_hist, bins = np.histogram(chime_z_dist[1], bins=100, density=True)\n",
    "y_hist = y_hist / np.diff(bins)\n",
    "ax.stairs(y_hist, bins, color=color[1], label='CHIME')\n",
    "\n",
    "y_hist, bins = np.histogram(chord_z_dist[1], bins=100, density=True)\n",
    "y_hist = y_hist / np.diff(bins)\n",
    "ax.stairs(y_hist, bins, color=color[5], label='CHORD')\n",
    "\n",
    "y_hist, bins = np.histogram(dsa_z_dist[1], bins=100, density=True)\n",
    "y_hist = y_hist / np.diff(bins)\n",
    "ax.stairs(y_hist, bins, color=color[7], label='DSA-2000')\n",
    "\n",
    "\n",
    "y_hist, bins = np.histogram(chime_dist_corrected, bins=100, density=True)\n",
    "y_hist = y_hist / np.diff(bins)\n",
    "ax.stairs(y_hist, bins, color='r', label='chime corrected')\n",
    "\n",
    "\n",
    "z_K, p_K = np.loadtxt('data/P_obs(z).dat', skiprows=4).T\n",
    "y = p_K\n",
    "#ax.plot(z_K, y / (y[:-1]*np.diff(z_K)).sum(), 'r--')\n",
    "ax.plot(z_K, y / y.max()*y_hist.max(), 'r--')\n",
    "\n",
    "\n",
    "#chime_dm_obs = np.loadtxt(\"/arc/home/michilli/CHIMEFRB-Cat1-Energy-Dist-Distrs/data/cat1_sample.dat\", skiprows=1, usecols=[2])\n",
    "#chime_z_obs = (chime_dm_obs - 221.99) / 1021.36\n",
    "#y_hist, bins = np.histogram(chime_z_obs, bins=30, density=True)\n",
    "#y_hist = y_hist / (bins[1:] + bins[:-1]) * 2\n",
    "#ax.stairs(y_hist, bins, color='b', label='chime observed DMs')\n",
    "\n",
    "\n",
    "ax.set_xlabel('Redshift')\n",
    "ax.set_ylabel('P(z)')\n",
    "ax.legend()\n",
    "\n",
    "ax.set_xlim(0, 5)\n",
    "#ax.set_ylim(0, 2)\n",
    "\n",
    "\n",
    "# https://www.frontiersin.org/journals/astronomy-and-space-sciences/articles/10.3389/fspas.2024.1371787/full\n",
    "#DM = 1021.36 * z + 221.99\n",
    "#DM_igm = DM - 100\n",
    "ax_t = ax.secondary_xaxis(\n",
    "    'top',\n",
    "    functions=(\n",
    "        lambda z: 1021.36 * z + 221.99, \n",
    "        lambda DM: (DM - 221.99) / 1021.36,\n",
    "    )\n",
    ")\n",
    "_ = ax_t.set_xlabel('DM (pc/cc)')"
   ]
  },
  {
   "cell_type": "code",
   "execution_count": 118,
   "id": "476558f2-6ff3-470d-ba33-0e465c74f991",
   "metadata": {
    "tags": []
   },
   "outputs": [
    {
     "data": {
      "image/png": "[encoded data removed]",
      "text/plain": [
       "<Figure size 640x480 with 1 Axes>"
      ]
     },
     "metadata": {},
     "output_type": "display_data"
    }
   ],
   "source": [
    "f, ax = plt.subplots()\n",
    "\n",
    "y_hist, bins = np.histogram(chime_z_dist[1], bins=100, density=True)\n",
    "y_hist = y_hist / (bins[1:] + bins[:-1]) * 2\n",
    "ax.stairs(y_hist, bins, color='k', label='CHIME')\n",
    "\n",
    "\n",
    "y_hist, bins = np.histogram(chime_dist_corrected, bins=100, density=True)\n",
    "y_hist = y_hist / (bins[1:] + bins[:-1]) * 2\n",
    "ax.stairs(y_hist, bins, color='g', label='CHIME corrected')\n",
    "\n",
    "\n",
    "z_K, p_K = np.loadtxt('data/P_obs(z).dat', skiprows=4).T\n",
    "y = p_K\n",
    "ax.plot(z_K, y / y.max()*y_hist.max(), 'r--', label='Shin+23')\n",
    "\n",
    "ax.set_xlabel('Redshift')\n",
    "ax.set_ylabel('P(z)/z')\n",
    "ax.legend()\n",
    "\n",
    "ax.set_xlim(0, 3)\n",
    "#ax.set_ylim(0, 2)\n",
    "\n",
    "\n",
    "# https://www.frontiersin.org/journals/astronomy-and-space-sciences/articles/10.3389/fspas.2024.1371787/full\n",
    "ax_t = ax.secondary_xaxis(\n",
    "    'top',\n",
    "    functions=(\n",
    "        lambda z: 1021.36 * z + 221.99, \n",
    "        lambda DM: (DM - 221.99) / 1021.36,\n",
    "    )\n",
    ")\n",
    "_ = ax_t.set_xlabel('DM (pc/cc)')"
   ]
  },
  {
   "cell_type": "code",
   "execution_count": 157,
   "id": "a7c1c30d-1ae6-4bf1-a741-98f9453d7c80",
   "metadata": {
    "tags": []
   },
   "outputs": [
    {
     "data": {
      "image/png": "[encoded data removed]",
      "text/plain": [
       "<Figure size 640x480 with 1 Axes>"
      ]
     },
     "metadata": {},
     "output_type": "display_data"
    }
   ],
   "source": [
    "f, ax = plt.subplots()\n",
    "\n",
    "y_hist, bins = np.histogram(chime_z_dist[1], bins=100, density=True)\n",
    "ax.stairs(y_hist, bins, color='k', label='CHIME')\n",
    "\n",
    "\n",
    "y_hist, bins = np.histogram(chime_dist_corrected, bins=100, density=True)\n",
    "ax.stairs(y_hist, bins, color='g', label='CHIME corrected')\n",
    "\n",
    "\n",
    "z_K, p_K = np.loadtxt('data/P_obs(z).dat', skiprows=4).T\n",
    "y = p_K * z_K\n",
    "ax.plot(z_K, y / y.max()*y_hist.max(), 'r--', label='Shin+23')\n",
    "\n",
    "ax.set_xlabel('Redshift')\n",
    "ax.set_ylabel('P(z)')\n",
    "ax.legend()\n",
    "\n",
    "ax.set_xlim(0, 3)\n",
    "#ax.set_ylim(0, 2)\n",
    "\n",
    "\n",
    "# https://www.frontiersin.org/journals/astronomy-and-space-sciences/articles/10.3389/fspas.2024.1371787/full\n",
    "ax_t = ax.secondary_xaxis(\n",
    "    'top',\n",
    "    functions=(\n",
    "        lambda z: 1021.36 * z + 221.99, \n",
    "        lambda DM: (DM - 221.99) / 1021.36,\n",
    "    )\n",
    ")\n",
    "_ = ax_t.set_xlabel('DM (pc/cc)')"
   ]
  },
  {
   "cell_type": "code",
   "execution_count": 153,
   "id": "dfedb0db-09f5-4d99-8cbc-92c260a8da0c",
   "metadata": {
    "tags": []
   },
   "outputs": [
    {
     "data": {
      "text/plain": [
       "(0.0, 3.0)"
      ]
     },
     "execution_count": 153,
     "metadata": {},
     "output_type": "execute_result"
    },
    {
     "data": {
      "image/png": "[encoded data removed]",
      "text/plain": [
       "<Figure size 640x480 with 1 Axes>"
      ]
     },
     "metadata": {},
     "output_type": "display_data"
    }
   ],
   "source": [
    "f, ax = plt.subplots()\n",
    "\n",
    "y_hist, bins = np.histogram(chime_z_dist[1], bins=100, density=True)\n",
    "y_hist = y_hist / bins[1:]\n",
    "ax.stairs(y_hist, bins, color='k', label='z 0')\n",
    "\n",
    "y_hist, bins = np.histogram(chime_z_dist[1], bins=100, density=True)\n",
    "y_hist = y_hist / (bins[1:] + bins[:-1]) * 2\n",
    "ax.stairs(y_hist, bins, color='r', label='z 1/2')\n",
    "\n",
    "y_hist, bins = np.histogram(chime_z_dist[1], bins=100, density=True)\n",
    "y_hist = y_hist / bins[:-1]\n",
    "ax.stairs(y_hist, bins, color='g', label='z 1')\n",
    "\n",
    "\n",
    "ax.set_xlabel('Redshift')\n",
    "ax.set_ylabel('P(z)/z')\n",
    "ax.legend()\n",
    "\n",
    "ax.set_xlim(0, 3)"
   ]
  },
  {
   "cell_type": "code",
   "execution_count": null,
   "id": "f864c7b4-ccaf-4636-82b5-402fe6dfe6b9",
   "metadata": {},
   "outputs": [],
   "source": []
  },
  {
   "cell_type": "code",
   "execution_count": null,
   "id": "fbfc817e-634f-4f3e-ba1a-a57f82354be4",
   "metadata": {},
   "outputs": [],
   "source": []
  },
  {
   "cell_type": "code",
   "execution_count": 89,
   "id": "827cc714-57cb-4249-afb1-9360000bc986",
   "metadata": {
    "tags": []
   },
   "outputs": [
    {
     "data": {
      "text/plain": [
       "0.6620572143707693"
      ]
     },
     "execution_count": 89,
     "metadata": {},
     "output_type": "execute_result"
    }
   ],
   "source": [
    "z_K[y.argmax()]"
   ]
  },
  {
   "cell_type": "code",
   "execution_count": 81,
   "id": "ee160839-49f9-4b88-bc94-cf6992813e66",
   "metadata": {
    "tags": []
   },
   "outputs": [
    {
     "data": {
      "text/plain": [
       "221.249487483"
      ]
     },
     "execution_count": 81,
     "metadata": {},
     "output_type": "execute_result"
    }
   ],
   "source": [
    "bins[y_hist.argmax()]"
   ]
  },
  {
   "cell_type": "code",
   "execution_count": 92,
   "id": "d452cf2f-76e7-4af6-bfdc-fb06d3851cbf",
   "metadata": {
    "tags": []
   },
   "outputs": [
    {
     "data": {
      "text/plain": [
       "0.6638305788360617"
      ]
     },
     "execution_count": 92,
     "metadata": {},
     "output_type": "execute_result"
    }
   ],
   "source": [
    "(900 - 221.99) / 1021.36"
   ]
  },
  {
   "cell_type": "code",
   "execution_count": 79,
   "id": "a2943d2e-3d59-440d-b0d4-f2adaf85f05a",
   "metadata": {},
   "outputs": [
    {
     "data": {
      "text/plain": [
       "<matplotlib.patches.StepPatch at 0x7f5e4cee4e50>"
      ]
     },
     "execution_count": 79,
     "metadata": {},
     "output_type": "execute_result"
    },
    {
     "data": {
      "image/png": "[encoded data removed]",
      "text/plain": [
       "<Figure size 640x480 with 1 Axes>"
      ]
     },
     "metadata": {},
     "output_type": "display_data"
    }
   ],
   "source": [
    "y_hist, bins = np.histogram(chime_dm_obs, bins=20, density=True)\n",
    "plt.stairs(y_hist, bins, color='b', label='chime observed DMs')"
   ]
  },
  {
   "cell_type": "code",
   "execution_count": 68,
   "id": "b59b25ba-2ede-43f4-b62b-e232e9977d14",
   "metadata": {
    "tags": []
   },
   "outputs": [],
   "source": [
    "chime_snr_obs = np.loadtxt(\"/arc/home/michilli/CHIMEFRB-Cat1-Energy-Dist-Distrs/data/cat1_sample.dat\", skiprows=1, usecols=[1])"
   ]
  },
  {
   "cell_type": "code",
   "execution_count": 75,
   "id": "ad1aea0b-8f04-46c5-ba90-93bd2322fdfc",
   "metadata": {
    "tags": []
   },
   "outputs": [
    {
     "data": {
      "text/plain": [
       "<matplotlib.patches.StepPatch at 0x7f5e4cf759a0>"
      ]
     },
     "execution_count": 75,
     "metadata": {},
     "output_type": "execute_result"
    },
    {
     "data": {
      "image/png": "[encoded data removed]",
      "text/plain": [
       "<Figure size 640x480 with 1 Axes>"
      ]
     },
     "metadata": {},
     "output_type": "display_data"
    }
   ],
   "source": [
    "y_hist, bins = np.histogram(chime_dm_obs[(chime_snr_obs>=30.7)&(chime_snr_obs<=78.3)], bins=30, density=True)\n",
    "plt.stairs(y_hist, bins, color='b', label='chime observed DMs')"
   ]
  },
  {
   "cell_type": "code",
   "execution_count": null,
   "id": "33cfc269-a2a0-4832-be35-87da522fe983",
   "metadata": {
    "tags": []
   },
   "outputs": [],
   "source": [
    "from scipy.optimize import curve_fit\n",
    "from scipy.special import erfc\n",
    "\n",
    "y = p_K * z_K\n",
    "\n",
    "def exponorm(x: np.ndarray, lam: float, mu: float, sigma: float) -> np.ndarray:\n",
    "    return (\n",
    "        lam / 2 * np.exp(lam / 2 * (2 * mu + lam * sigma**2 - 2 * x)) *\n",
    "        erfc((mu + lam * sigma**2 - x) / (2**0.5 * sigma)) * x\n",
    "    )\n",
    "\n",
    "popt, pcov = curve_fit(exponorm, z_K, y)#, p0=[1, y.max(), z_K[y.argmax()]])\n",
    "\n",
    "\n",
    "pdf_fitted = exponorm(z_K, *popt)\n",
    "\n",
    "plt.plot(z_K, pdf_fitted, 'k-')\n",
    "plt.plot(z_K, y, 'r--')\n",
    "\n",
    "plt.ylim(0,1.5)"
   ]
  },
  {
   "cell_type": "code",
   "execution_count": null,
   "id": "26102674-debd-47ec-bb7d-984142d31890",
   "metadata": {
    "tags": []
   },
   "outputs": [],
   "source": [
    "y_hist, bins = np.histogram(chime_z_dist[1], bins=100, density=True)\n",
    "#y_hist = y_hist / bins[1:]\n",
    "plt.stairs(y_hist, bins, color='k', label='CHIME')\n",
    "\n",
    "y_hist, bins = np.histogram(chime_z_dist[1], bins=100, density=True)\n",
    "#y_hist = y_hist / bins[1:]\n",
    "yyy = exponorm(bins[1:], *popt)\n",
    "yyy /= yyy.max()\n",
    "plt.stairs(y_hist * yyy, bins, color='r', label='CHIME')\n",
    "\n",
    "plt.plot(z_K, p_K * z_K, 'g--')"
   ]
  },
  {
   "cell_type": "code",
   "execution_count": null,
   "id": "00d6527a-a217-4b81-885c-61cae9e9ec7b",
   "metadata": {
    "tags": []
   },
   "outputs": [],
   "source": [
    "y_hist, bins = np.histogram(chime_z_dist[1], bins=100, density=True)\n",
    "#y_hist = y_hist / bins[1:]\n",
    "plt.stairs(y_hist, bins, color='k', label='CHIME')\n",
    "\n",
    "\n",
    "prob = np.random.uniform(low=0, high=1, size=chime_z_dist[1].size)\n",
    "yyy = exponorm(chime_z_dist[1], *popt)\n",
    "yyy /= yyy.max()\n",
    "aaa = chime_z_dist[1][yyy>prob].copy()\n",
    "\n",
    "y_hist, bins = np.histogram(aaa, bins=100, density=True)\n",
    "plt.stairs(y_hist, bins, color='r', label='CHIME')\n",
    "\n",
    "plt.plot(z_K, p_K * z_K * 2, 'g--')"
   ]
  },
  {
   "cell_type": "code",
   "execution_count": null,
   "id": "3fdbe906-9bd3-4e94-a1c3-31f9095a94e8",
   "metadata": {},
   "outputs": [],
   "source": []
  },
  {
   "cell_type": "code",
   "execution_count": null,
   "id": "352dba23-681d-4c88-ab13-89d419b744e2",
   "metadata": {
    "tags": []
   },
   "outputs": [],
   "source": [
    "# CHIME\n",
    "chime_z_dist = run_simulation(\n",
    "    int(1e6),\n",
    "    telescope_name = 'chime',\n",
    "    simulate_lensed_frbs = False,\n",
    "    return_z_dist = True\n",
    ")\n",
    "\n",
    "# dummy\n",
    "dummy_z_dist = run_simulation(\n",
    "    int(1e6),\n",
    "    telescope_name = 'dummy',\n",
    "    simulate_lensed_frbs = False,\n",
    "    return_z_dist = True\n",
    ")"
   ]
  },
  {
   "cell_type": "code",
   "execution_count": null,
   "id": "b8003fa4-3316-4aff-83de-d473dbea7984",
   "metadata": {
    "tags": []
   },
   "outputs": [],
   "source": [
    "y_hist, bins = np.histogram(chime_z_dist[1], bins=100, density=True)\n",
    "y_hist = y_hist / bins[1:]\n",
    "plt.stairs(y_hist/y_hist.max(), bins, color='k', label='CHIME')\n",
    "\n",
    "y_hist, bins = np.histogram(dummy_z_dist[1], bins=100, density=True)\n",
    "y_hist = y_hist / bins[1:]\n",
    "plt.stairs(y_hist/y_hist.max(), bins, color='g', label='dummy')\n",
    "\n",
    "plt.xlabel('Redshift')\n",
    "plt.ylabel('PDF')\n",
    "plt.legend()\n",
    "\n",
    "plt.xlim(0, 3)\n",
    "\n",
    "z_K, p_K = np.loadtxt('data/P_obs(z).dat', skiprows=4).T\n",
    "y = p_K #* z_K\n",
    "plt.plot(z_K, y / y.max(), 'r--')"
   ]
  },
  {
   "cell_type": "code",
   "execution_count": null,
   "id": "4f11924e-ab23-46a0-8ec7-b8d7e0a0bdf0",
   "metadata": {
    "tags": []
   },
   "outputs": [],
   "source": [
    "chime_z_dist[0]"
   ]
  },
  {
   "cell_type": "code",
   "execution_count": null,
   "id": "bb5961ce-6f1e-4b39-b5aa-5bea8fe1e280",
   "metadata": {},
   "outputs": [],
   "source": []
  },
  {
   "cell_type": "markdown",
   "id": "36f2452e-862b-4838-a48a-b3ea7988421f",
   "metadata": {
    "jp-MarkdownHeadingCollapsed": true,
    "tags": []
   },
   "source": [
    "# test"
   ]
  },
  {
   "cell_type": "code",
   "execution_count": null,
   "id": "f1ce1240-e431-4680-829c-9d095cf6a17c",
   "metadata": {
    "tags": []
   },
   "outputs": [],
   "source": [
    "dummy_z_dist = run_simulation(\n",
    "    int(1e6),\n",
    "    telescope_name = 'dummy',\n",
    "    simulate_lensed_frbs = False,\n",
    "    return_z_dist = True\n",
    ")\n",
    "print(dummy_z_dist[0])\n",
    "bins = np.linspace(0, 10, 100)"
   ]
  },
  {
   "cell_type": "code",
   "execution_count": null,
   "id": "f824fe2c-6bbd-426c-be41-385cfa216bf5",
   "metadata": {
    "tags": []
   },
   "outputs": [],
   "source": [
    "y_hist, bins = np.histogram(dummy_z_dist[1], bins=bins, density=True)\n",
    "plt.stairs(y_hist, bins, color='k', label='test')\n",
    "\n",
    "y_hist, bins = np.histogram(chime_z_dist[1], bins=bins, density=True)\n",
    "plt.stairs(y_hist, bins, color=color[1], label='CHIME')\n",
    "\n",
    "y_hist, bins = np.histogram(chord_z_dist[1], bins=bins, density=True)\n",
    "plt.stairs(y_hist, bins, color=color[5], label='CHORD')\n",
    "\n",
    "y_hist, bins = np.histogram(dsa_z_dist[1], bins=bins, density=True)\n",
    "plt.stairs(y_hist, bins, color=color[7], label='DSA-2000')\n",
    "\n",
    "plt.xlabel('Redshift')\n",
    "plt.ylabel('PDF')\n",
    "plt.legend()\n",
    "\n",
    "plt.xlim(0, 3)\n",
    "\n",
    "\n",
    "z_K, p_K = np.loadtxt('data/P_obs(z).dat', skiprows=4).T\n",
    "y = p_K * z_K\n",
    "y_int = np.interp(bins, z_K, y)\n",
    "plt.step(bins, y_int / y_int.sum() / (bins[1] - bins[0]), color='r')"
   ]
  },
  {
   "cell_type": "code",
   "execution_count": null,
   "id": "5786c33a-a4e2-4a1b-ab7f-326503d3e270",
   "metadata": {
    "tags": []
   },
   "outputs": [],
   "source": [
    "telescope = Telescope(name='chime')\n",
    "telescope.sefd()"
   ]
  },
  {
   "cell_type": "code",
   "execution_count": null,
   "id": "89fea365-f1a8-4c7c-b5bb-54c326d27311",
   "metadata": {
    "tags": []
   },
   "outputs": [],
   "source": [
    "telescope = Telescope(name='dummy')\n",
    "telescope.sefd()"
   ]
  },
  {
   "cell_type": "code",
   "execution_count": null,
   "id": "80b88b41-b795-4706-8f7c-f352bf1debe8",
   "metadata": {
    "tags": []
   },
   "outputs": [],
   "source": [
    "telescope = Telescope(name='dsa2000')\n",
    "telescope.sefd()"
   ]
  },
  {
   "cell_type": "code",
   "execution_count": null,
   "id": "c71b0597-8c44-4fe7-a2f5-2c77f7d3e766",
   "metadata": {},
   "outputs": [],
   "source": []
  },
  {
   "cell_type": "markdown",
   "id": "11272474-6ae1-4e16-91f1-f19a415ccecc",
   "metadata": {
    "tags": []
   },
   "source": [
    "# FRB Euclid discovery rate"
   ]
  },
  {
   "cell_type": "markdown",
   "id": "4a86430d-52bf-42d0-80ff-76743103ec06",
   "metadata": {
    "tags": []
   },
   "source": [
    "## Parameters of the simulations"
   ]
  },
  {
   "cell_type": "code",
   "execution_count": null,
   "id": "a6291d31-b954-4e67-a1a1-0383308a857c",
   "metadata": {
    "tags": []
   },
   "outputs": [],
   "source": [
    "# External data\n",
    "# Redshift and magnitude distributions of lensed galaxies detected by Euclid\n",
    "# From https://ui.adsabs.harvard.edu/abs/2015ApJ...811...20C/abstract\n",
    "data_lensed_galaxies = 'data/lenses_Euclid.txt'\n",
    "# Unlensed galaxy population used in Collett 2015\n",
    "data_unlensed_catalog = 'data/lsst_source_catalog.txt'\n",
    "# Position, magnification, and time delay of images for a point source\n",
    "data_sie_catalog = 'data/SIE.csv'\n",
    "# Simulations of scattering from the lens\n",
    "data_lens_scattering = 'data/lens_scattering.csv'\n",
    "# Emcee sampler output for Shin+23 uncertainties\n",
    "data_frb_model_sampler = 'data/frb_model_sampler.p'"
   ]
  },
  {
   "cell_type": "markdown",
   "id": "915d346e-2678-4173-95ec-cce8f7e8a055",
   "metadata": {
    "tags": []
   },
   "source": [
    "## Function definitions"
   ]
  },
  {
   "cell_type": "code",
   "execution_count": null,
   "id": "d9ec2adb-ea14-4794-8d0f-616d0d1e8970",
   "metadata": {},
   "outputs": [],
   "source": [
    "def get_lensed_galaxy_fraction(\n",
    "    zmin = None,\n",
    "    zmax = None,\n",
    "    frbs_evolve_with_luminosity = True,\n",
    "):\n",
    "    \"\"\" Fraction of lensed galaxies as a function of redshift from Collett 2015.\n",
    "    \"\"\"\n",
    "    # Unlensed (org) and lensed (sim) galaxy populations used in Collett 2018 simulations\n",
    "    # Redshift distributions\n",
    "    z_org = np.loadtxt(data_unlensed_catalog, usecols=2, delimiter=',')\n",
    "    z_sim = np.loadtxt(data_lensed_galaxies, usecols=1, skiprows=1)\n",
    "    \n",
    "    # Ensures that there are ~100 galaxies per step on average\n",
    "    if zmin is None:\n",
    "        zmin = max(z_org.min(), z_sim.min())\n",
    "    if zmax is None:\n",
    "        zmax = min(z_org.max(), z_sim.max())\n",
    "    z = np.linspace(zmin, zmax, z_org.size//100+1)\n",
    "    z_mean = (z[1:] + z[:-1]) / 2\n",
    "    \n",
    "    # Lensed and total galaxies per redshift bin\n",
    "    Pz_sim, _ = np.histogram(z_sim, bins=z)\n",
    "    Pz_org, _ = np.histogram(z_org, bins=z)\n",
    "    \n",
    "    # Select bins containing enough galaxies\n",
    "    idx = (Pz_sim > 10) & (Pz_org > 10)\n",
    "    Pz_sim = Pz_sim[idx]\n",
    "    Pz_org = Pz_org[idx]\n",
    "    z_mean = z_mean[idx]\n",
    "    \n",
    "    if frbs_evolve_with_luminosity:\n",
    "        # Luminosity of unlensed population of galaxies used in Collett 2018 simulations\n",
    "        M_org = np.loadtxt(data_unlensed_catalog, usecols=7, delimiter=',') * u.M_bol\n",
    "        L_org = M_org.to(u.L_sun) * 10 * 360**2 / np.pi  # The population covers 0.1 square deg\n",
    "        # Total luminosity of unlensed galaxy population per redshift step\n",
    "        PL_org, _ = np.histogram(\n",
    "            z_org, \n",
    "            bins=z, \n",
    "            weights=L_org\n",
    "        )\n",
    "        PL_org = PL_org[idx]\n",
    "        # Luminosity of lensed galaxies used from Collett 2018 simulations\n",
    "        Mv_sim = np.loadtxt(data_lensed_galaxies, usecols=15, skiprows=1) * u.M_bol # Magnitude distribution\n",
    "        L_sim = Mv_sim.to(u.L_sun)\n",
    "        # Total luminosity of lensed galaxy population per redshift step\n",
    "        PL_sim, _ = np.histogram(\n",
    "            z_sim, \n",
    "            bins=z, \n",
    "            weights=L_sim\n",
    "        )\n",
    "        PL_sim = PL_sim[idx]\n",
    "        # Fraction of luminosity of lensed galaxies per redshift step\n",
    "        lensed_fraction = PL_sim / PL_org\n",
    "\n",
    "    else:\n",
    "        Pz_org = Pz_org * 10 * 360**2 / np.pi  # The population covers 0.1 square deg\n",
    "        # Fraction of lensed galaxies per redshift step\n",
    "        lensed_fraction = Pz_sim / Pz_org\n",
    "        \n",
    "    # Smooth the output\n",
    "    lensed_fraction = gf(lensed_fraction, 6)\n",
    "    # Interpolate with a spline\n",
    "    #lensed_fraction_iterp = spline(z_mean, lensed_fraction, extrapolate=False)\n",
    "    lensed_fraction_iterp = np.poly1d(np.polyfit(z_mean, lensed_fraction, 2))\n",
    "    return lensed_fraction_iterp\n",
    "\n",
    "\n",
    "def get_unlensed_galaxy_distribution(\n",
    "    zmin,\n",
    "    zmax,\n",
    "    frbs_evolve_with_luminosity = True,\n",
    "):\n",
    "    \"\"\" Distribution of unlensed galaxies as a function of redshift from Collett 2015.\n",
    "    \"\"\"\n",
    "    # Unlensed population of galaxies used in Collett 2018 simulations\n",
    "    z_org = np.loadtxt(data_unlensed_catalog, usecols=2, delimiter=',')\n",
    "    \n",
    "    # Ensures that there are ~100 galaxies per step on average\n",
    "    z = np.linspace(zmin, zmax, z_org.size//100+1)\n",
    "    z_mean = (z[1:] + z[:-1]) / 2\n",
    "    \n",
    "    # Total galaxies per redshift bin\n",
    "    Pz_org, _ = np.histogram(z_org, bins=z)\n",
    "\n",
    "    # Select bins containing enough galaxies\n",
    "    idx = Pz_org > 10\n",
    "    Pz_org = Pz_org[idx]\n",
    "    z_mean = z_mean[idx]\n",
    "    \n",
    "    if frbs_evolve_with_luminosity:\n",
    "        # Luminosity of unlensed population of galaxies used in Collett 2018 simulations\n",
    "        M_org = np.loadtxt(data_unlensed_catalog, usecols=7, delimiter=',') * u.M_bol\n",
    "        L_org = M_org.to(u.L_sun) * 10 * 360**2 / np.pi  # The population covers 0.1 square deg\n",
    "        # Total luminosity of unlensed galaxy population per redshift step\n",
    "        PL_org, _ = np.histogram(\n",
    "            z_org, \n",
    "            bins=z, \n",
    "            weights=L_org\n",
    "        )\n",
    "        probability_norm = PL_org[idx]\n",
    "    else:\n",
    "        probability_norm = Pz_org * 10 * 360**2 / np.pi  # The population covers 0.1 square deg\n",
    "        \n",
    "    # Smooth the output\n",
    "    unlensed_galaxy_dist = gf(probability_norm, 6)\n",
    "    # Interpolate with a spline\n",
    "    unlensed_galaxy_interp = spline(z_mean, unlensed_galaxy_dist, extrapolate=False)\n",
    "    \n",
    "    # Size of unlensed galaxy population\n",
    "    z_min = z_mean.min()\n",
    "    z_max = z_mean.max()\n",
    "    return unlensed_galaxy_interp, z_min, z_max\n",
    "\n",
    "\n",
    "def get_distribution_dist_lensed(\n",
    "    number_of_simulated_frbs,\n",
    "    alpha_spect,\n",
    "    alpha_rate,\n",
    "    frb_emission_rate_z0_Epivot,\n",
    "    n_sfr,\n",
    "    z_min = None,\n",
    "    z_max = None,\n",
    "    lensed_fraction = None,\n",
    "    frbs_evolve_with_luminosity = True,\n",
    "):\n",
    "    \"\"\"Distribution of the distance factor for lensed FRBs.\n",
    "    \"\"\"\n",
    "    # Redshift distribution of unlensed galaxies used in Collett 2015\n",
    "    # Catalog of lensed galaxies\n",
    "    lensed_galaxies = pd.read_csv(\n",
    "        data_lensed_galaxies,\n",
    "        delim_whitespace=True\n",
    "    )\n",
    "    if z_max is None:\n",
    "        z_max = lensed_galaxies['z_s'].max()\n",
    "    if z_min is None:\n",
    "        z_min = lensed_galaxies['z_s'].min()\n",
    "    (unlensed_galaxy_interp,\n",
    "        z_min,\n",
    "        z_max\n",
    "    )= get_unlensed_galaxy_distribution(\n",
    "        z_min,\n",
    "        z_max,\n",
    "        frbs_evolve_with_luminosity = frbs_evolve_with_luminosity,\n",
    "    )\n",
    "    lensed_galaxies = lensed_galaxies[\n",
    "        (lensed_galaxies['z_s'] >= z_min) &\n",
    "        (lensed_galaxies['z_s'] <= z_max)\n",
    "    ]\n",
    "            \n",
    "    # Redshift distribution of FRBs in the Universe\n",
    "    y_max, z_pdf_norm, frb_emission_rate = set_distribution_redshift(\n",
    "        z_min,\n",
    "        z_max,\n",
    "        alpha_rate,\n",
    "        frb_emission_rate_z0_Epivot,\n",
    "        n_sfr\n",
    "    )\n",
    "\n",
    "    # Redshift distribution of lensed FRB hosts\n",
    "    if frbs_evolve_with_luminosity:\n",
    "        # Luminosity fraction of each galaxy in its redshift bin\n",
    "        lensed_galaxies_Mv = lensed_galaxies['M_absolute_source_r'].to_numpy() * u.M_bol\n",
    "        p = (\n",
    "            z_pdf_norm(lensed_galaxies['z_s'].to_numpy()) / \n",
    "            unlensed_galaxy_interp(lensed_galaxies['z_s']) * \n",
    "            lensed_galaxies_Mv.to(u.L_sun)\n",
    "        )\n",
    "    else:\n",
    "        # Fraction of each galaxy in its redshift bin \n",
    "        p = (\n",
    "            z_pdf_norm(lensed_galaxies['z_s']) / \n",
    "            unlensed_galaxy_interp(lensed_galaxies['z_s'])\n",
    "        )\n",
    "\n",
    "    # Table of host galaxies\n",
    "    galaxy_index = rng.choice(\n",
    "        np.arange(lensed_galaxies['z_s'].size, dtype=int),\n",
    "        p = p / p.sum(),\n",
    "        size = number_of_simulated_frbs\n",
    "    )\n",
    "    hosts = lensed_galaxies.iloc[galaxy_index]\n",
    "    hosts.reset_index(drop=True, inplace=True)\n",
    "\n",
    "    # Redshift distribution of FRB hosts\n",
    "    z_dist = hosts['z_s'].to_numpy()\n",
    "\n",
    "    # Distance factor\n",
    "    Dl = get_Dl(z_dist)\n",
    "    dist_factor = (4 * np.pi * Dl**2) / (1 + z_dist)**(2+alpha_spect)\n",
    "    return dist_factor, z_dist.min(), z_dist.max(), frb_emission_rate, hosts, z_dist\n",
    "\n",
    "\n",
    "def get_magnified_images(\n",
    "    hosts,\n",
    "    sie_org = None\n",
    "):\n",
    "    \"\"\"Magnification factors based on simulations of point sources in lensed galaxies.\"\"\"\n",
    "    # Load simulation results\n",
    "    if sie_org is None:\n",
    "        sie_org = pd.read_csv(data_sie_catalog, index_col=['q', 0])\n",
    "        sie_org.index.names = ['q','id']\n",
    "        sie_org.sort_index(inplace=True)\n",
    "    sie = sie_org.loc[np.sort(hosts['q_l'].clip(0.01, 0.99).unique())]\n",
    "    sie.sort_index(inplace=True)\n",
    "    \n",
    "    # FRB distribution within the hosts\n",
    "    frb_host_dist = (\n",
    "        rng.exponential(size=hosts.shape[0]) *\n",
    "        hosts['halflightradius_s(arcsec)'].to_numpy() *\n",
    "        u.arcsec\n",
    "    )\n",
    "    frb_host_angle = rng.uniform(low=0, high=2*np.pi, size=hosts.shape[0]) * u.rad\n",
    "    # FRB coordinates in the lens refenrence in units of Einstein radius\n",
    "    frb_host_x = frb_host_dist * np.cos(frb_host_angle)\n",
    "    frb_host_y = frb_host_dist * np.sin(frb_host_angle)\n",
    "    frb_lens_x = frb_host_x + hosts['x_s_unlensed'].to_numpy() * u.arcsec\n",
    "    frb_lens_y = frb_host_y + hosts['y_s_unlensed'].to_numpy() * u.arcsec\n",
    "    frb_lens_x_Er = frb_lens_x / hosts['R_Ein(arcsec)'].to_numpy() / u.arcsec\n",
    "    frb_lens_y_Er = frb_lens_y / hosts['R_Ein(arcsec)'].to_numpy() / u.arcsec\n",
    "    frb_lens_dist_Er = np.hypot(frb_lens_x_Er, frb_lens_y_Er).value\n",
    "    \n",
    "    # Create a KD tree to find nearest point\n",
    "    tree = KDTree(list(map(list, zip(*[\n",
    "        sie.index.get_level_values(0).to_numpy(),\n",
    "        np.hypot(sie['RA'], sie['DEC']).to_numpy()\n",
    "    ]))))\n",
    "    \n",
    "    # Query KD tree for each host\n",
    "    _, sie_idx = tree.query(list(map(list, zip(*[\n",
    "        hosts['q_l'].to_numpy(),\n",
    "        frb_lens_dist_Er\n",
    "    ]))))\n",
    "    \n",
    "    return sie.iloc[sie_idx].sort_index()\n",
    "\n",
    "\n",
    "def get_scattering_lens(\n",
    "    hosts,\n",
    "    sie\n",
    "):\n",
    "    # Impact parameter in the lens frame for each image for Reinstein=1\n",
    "    impact_parameters = pd.DataFrame()\n",
    "    for n in range(1, 5):\n",
    "        impact_parameters[f'im{n}'] = (\n",
    "            np.sqrt(\n",
    "                np.sum(\n",
    "                    sie[[f'im{n}_RA', f'im{n}_DEC']]**2,\n",
    "                    axis=1\n",
    "                )\n",
    "            )  \n",
    "        )\n",
    "    # Rescale to Reinstein and Re\n",
    "    impact_parameters = impact_parameters.multiply(\n",
    "        (\n",
    "            hosts['R_Ein(arcsec)'] /\n",
    "            hosts['halflightradius_s(arcsec)']\n",
    "        ).to_numpy(),\n",
    "        axis=0\n",
    "    )\n",
    "    \n",
    "    # Calculate lens galaxy masses from dispersion velocity\n",
    "    # From https://arxiv.org/pdf/1208.3522.pdf, Eq. 21\n",
    "    lens_mass = (\n",
    "        2.5 * \n",
    "        (hosts['sigma(km/s)'].to_numpy() *u.km / u.s)**2 *\n",
    "        (hosts['halflightradius_l(arcsec)'].to_numpy() *u.arcsec).to(u.rad).value *\n",
    "        cosmo.angular_diameter_distance(hosts['z_l'].to_numpy()) / \n",
    "        const.G\n",
    "    ).to(u.M_sun)\n",
    "    \n",
    "    # Calculate scattering at the impact parameters\n",
    "    # Load scattering values\n",
    "    lens_scattering = pd.read_csv(data_lens_scattering)\n",
    "    # Create interpolator\n",
    "    scattering_interp = RegularGridInterpolator(\n",
    "        [\n",
    "            lens_scattering['impact_param'],\n",
    "            [1e9, 1e10, 1e11, 1e12],\n",
    "        ],\n",
    "        lens_scattering[[\n",
    "            'tau_9Msun',\n",
    "            'tau_10Msun',\n",
    "            'tau_11Msun',\n",
    "            'tau_12Msun',\n",
    "        ]].to_numpy(),\n",
    "        bounds_error = False,\n",
    "        fill_value = None\n",
    "    )\n",
    "    # Points to evaluate    \n",
    "    frb_lens_scattering = pd.DataFrame()\n",
    "    for n in range(1, 5):\n",
    "        frb_lens_scattering[f'im{n}'] = ((\n",
    "            scattering_interp(\n",
    "                np.vstack([\n",
    "                    impact_parameters[f'im{n}'].to_numpy(),\n",
    "                    lens_mass.value\n",
    "                ]).T\n",
    "            )  * u.ms / u.pc).to(u.ms / u.Mpc).value\n",
    "        )\n",
    "    frb_lens_scattering.clip(0, None, inplace=True)\n",
    "    \n",
    "    # Multiply by a factor (dls*dlo/dso)*(1+zl)^(-3) (Ocker+23)\n",
    "    dls = cosmo.angular_diameter_distance_z1z2(\n",
    "        hosts['z_l'].to_numpy(),\n",
    "        hosts['z_s'].to_numpy()\n",
    "    ).to(u.Mpc).value\n",
    "    dlo = cosmo.angular_diameter_distance(hosts['z_l'].to_numpy()).to(u.Mpc).value\n",
    "    dso = cosmo.angular_diameter_distance(hosts['z_s'].to_numpy()).to(u.Mpc).value\n",
    "    zl = hosts['z_l'].to_numpy()\n",
    "    frb_lens_scattering = frb_lens_scattering.multiply(\n",
    "        dls * dlo / dso / (1 + zl)**3,\n",
    "        axis=0\n",
    "    )\n",
    "    return frb_lens_scattering\n",
    "\n",
    "\n",
    "def get_lensed_frb_detections(\n",
    "    rng,\n",
    "    hosts,\n",
    "    frb_snr,\n",
    "    z_min,\n",
    "    z_max,\n",
    "    frb_E_nu,\n",
    "    frb_dist_fact,\n",
    "    frb_bw,\n",
    "    frb_w,\n",
    "    frb_tau,\n",
    "    freq_mean,\n",
    "    frbs_evolve_with_luminosity = True,\n",
    "    sie = None\n",
    "):\n",
    "    # Magnification factors\n",
    "    sie = get_magnified_images(\n",
    "        hosts,\n",
    "        sie_org = sie\n",
    "    )\n",
    "    hosts.reset_index(drop=True, inplace=True)\n",
    "    mu = sie[[\"mu_1\", \"mu_2\", \"mu_3\", \"mu_4\"]]\n",
    "    mu.columns = [f\"im{i}\" for i in range(1,5)]\n",
    "\n",
    "    # First pass to reduce the number of FRBs\n",
    "    # S/N of the unlensed FRB detected in a follow-up observation\n",
    "    snr_followup = get_snr(\n",
    "        rng,\n",
    "        frb_E_nu,\n",
    "        frb_dist_fact,\n",
    "        frb_bw,\n",
    "        frb_w,\n",
    "        frb_tau,\n",
    "        1,\n",
    "        1,\n",
    "        1, \n",
    "        Telescope(name=telescope_followup).sefd(), \n",
    "        rfi_band,\n",
    "    )\n",
    "\n",
    "    # FRBs with magnified S/N > SNr_min_followup in follow-up observations\n",
    "    snr_images_followup = mu.multiply(snr_followup, axis=0)\n",
    "    idx_images_followup = ((snr_images_followup > SNr_min_followup).sum(axis=1) > 1).to_numpy()\n",
    "    hosts = hosts[idx_images_followup].reset_index(drop=True)\n",
    "    sie = sie[idx_images_followup].reset_index(drop=True)\n",
    "    mu = mu[idx_images_followup].reset_index(drop=True)\n",
    "    frb_snr = frb_snr[idx_images_followup]\n",
    "    frb_tau = frb_tau[idx_images_followup]\n",
    "\n",
    "    # FRBs with magnified S/N > SNr_min in discovery observations\n",
    "    snr_images = mu.multiply(frb_snr, axis=0)\n",
    "    idx_snr_images = ((snr_images > SNr_min).sum(axis=1) > 1).to_numpy()\n",
    "    hosts = hosts[idx_snr_images].reset_index(drop=True)\n",
    "    sie = sie[idx_snr_images].reset_index(drop=True)\n",
    "    mu = mu[idx_snr_images].reset_index(drop=True)\n",
    "    frb_snr = frb_snr[idx_snr_images]\n",
    "    frb_tau = frb_tau[idx_snr_images]\n",
    "\n",
    "    # Scattering in the lens\n",
    "    if hosts.shape[0] == 0:\n",
    "        return 0, None\n",
    "    tau_lens = get_scattering_lens(\n",
    "        hosts,\n",
    "        sie,\n",
    "    ) # @ 1 GHz\n",
    "    # Add to unlensed scattering\n",
    "    frb_tau = (tau_lens  * (freq_mean / 1000 / u.MHz)**-4).add(frb_tau, axis=0)\n",
    "\n",
    "    # Second pass with total scattering\n",
    "    frb_E_nu = frb_E_nu[idx_images_followup][idx_snr_images]\n",
    "    frb_dist_fact = frb_dist_fact[idx_images_followup][idx_snr_images]\n",
    "    frb_bw = frb_bw[idx_images_followup][idx_snr_images]\n",
    "    frb_w = frb_w[idx_images_followup][idx_snr_images]\n",
    "    snr_followup = pd.DataFrame()\n",
    "    for n in range(1, 5):\n",
    "        snr_followup[f'im{n}'] = (\n",
    "            get_snr(\n",
    "                rng,\n",
    "                frb_E_nu,\n",
    "                frb_dist_fact,\n",
    "                frb_bw,\n",
    "                frb_w,\n",
    "                frb_tau[f'im{n}'].to_numpy() * u.ms,\n",
    "                1,\n",
    "                1,\n",
    "                1, \n",
    "                Telescope(name=telescope_followup).sefd(), \n",
    "                rfi_band,\n",
    "            )\n",
    "        )\n",
    "\n",
    "    # FRBs with magnified S/N > SNr_min_followup in follow-up observations\n",
    "    snr_images_followup = mu.multiply(snr_followup, axis=0)\n",
    "    idx_images_followup = ((snr_images_followup > SNr_min_followup).sum(axis=1) > 1).to_numpy()\n",
    "    mu = mu[idx_images_followup].reset_index(drop=True)\n",
    "    hosts = hosts[idx_images_followup].reset_index(drop=True)\n",
    "    frb_snr = frb_snr[idx_images_followup]\n",
    "    # FRBs with magnified S/N > SNr_min in discovery observations\n",
    "    snr_images = mu.multiply(frb_snr, axis=0)\n",
    "    snr_images = snr_images.loc[(snr_images > SNr_min).sum(axis=1) > 0]\n",
    "    \n",
    "    # Weigh detections by the fraction of lensed galaxies to calculate a physical rate\n",
    "    # Index of each host with multiple images counted multiple times\n",
    "    idx_detected_frbs = [idx for idx,snrs in enumerate(snr_images.to_numpy()) for snr in snrs[snrs > SNr_min][:-1]]\n",
    "    detected_frbs_z_dist = hosts['z_s'].to_numpy()[idx_detected_frbs]\n",
    "    # Fraction of lensed galaxies per redshift bin\n",
    "    lensed_fraction_interp = get_lensed_galaxy_fraction(\n",
    "        zmin = z_min,\n",
    "        zmax = z_max,\n",
    "        frbs_evolve_with_luminosity = frbs_evolve_with_luminosity,\n",
    "    )\n",
    "    # Integral of detections weighted by the lensed galaxy fraction\n",
    "    detected_frbs = np.nansum(lensed_fraction_interp(detected_frbs_z_dist))\n",
    "    return detected_frbs, detected_frbs_z_dist\n",
    "\n",
    "\n",
    "def get_detection_rate_lensed(\n",
    "    rng,\n",
    "    number_of_simulated_frbs,\n",
    "    frb_population,\n",
    "    telescope,\n",
    "    frbs_evolve_with_luminosity = True,\n",
    "    uncertain=False,\n",
    "    return_z_dist = False,\n",
    "    sie = None,\n",
    "    verbose = False\n",
    "):\n",
    "    \"\"\"Rate of FRB detections.\n",
    "    \"\"\"\n",
    "    # Properties of the FRB population\n",
    "    frb_properties = frb_population.get_parameters(uncertain = uncertain, rng = rng)\n",
    "    # Frequency channels spaced by ~30 MHz\n",
    "    n_ch = int(np.clip(\n",
    "        (telescope.bandwidth() // (30 * u.MHz)).to(u.dimensionless_unscaled),\n",
    "        1, np.inf\n",
    "    ).value)\n",
    "    freq_channels = np.linspace(telescope.v0(), telescope.v1(), n_ch)\n",
    "\n",
    "    # FRB widths\n",
    "    # From https://ui.adsabs.harvard.edu/abs/2021ApJS..257...59C/abstract\n",
    "    sigma = 0.97\n",
    "    scale = 1.0 * u.ms\n",
    "    frb_w = rng.lognormal(\n",
    "        sigma = sigma, \n",
    "        size = number_of_simulated_frbs\n",
    "    ) * scale\n",
    "    \n",
    "    # FRB scattering\n",
    "    # From https://ui.adsabs.harvard.edu/abs/2021ApJS..257...59C/abstract\n",
    "    sigma = 1.72\n",
    "    scale = 2.02 * u.ms\n",
    "    frb_tau = rng.lognormal(\n",
    "        sigma = sigma, \n",
    "        size = number_of_simulated_frbs\n",
    "    ) * scale\n",
    "    # frb_tau = np.ones(number_of_simulated_frbs) * 50 * u.ms\n",
    "    # Rescale to central frequency\n",
    "    freq_mean = (telescope.v0() + telescope.v1()) / 2\n",
    "    frb_tau = frb_tau * (freq_mean / 600 / u.MHz)**-4\n",
    "    \n",
    "    # FRB time correction\n",
    "    frb_w_correction = np.sqrt(frb_w / w_telescope).clip(max=1)\n",
    "    \n",
    "    # Beam response\n",
    "    sky_fraction, beam_response = get_beam_response(\n",
    "        number_of_simulated_frbs,\n",
    "        telescope,\n",
    "        freq_channels,\n",
    "    )\n",
    "    \n",
    "    # FRB redshifts\n",
    "    (\n",
    "        frb_dist_fact,\n",
    "        z_min,\n",
    "        z_max,\n",
    "        frb_emission_rate,\n",
    "        hosts,\n",
    "        frb_dist_z\n",
    "    ) = get_distribution_dist_lensed(\n",
    "        number_of_simulated_frbs,\n",
    "        frb_properties['alpha_spect'],\n",
    "        frb_properties['alpha_rate'],\n",
    "        frb_properties['frb_emission_rate_z0_Epivot'],\n",
    "        frb_properties['n_sfr'],\n",
    "        frbs_evolve_with_luminosity = frbs_evolve_with_luminosity,\n",
    "    )\n",
    "    \n",
    "    # FRB energies\n",
    "    # Minimum energy that can be detected from current sample\n",
    "    Emin = (\n",
    "        u.GHz * SNr_min / beam_response.max(axis=0) *\n",
    "        telescope.sefd(freq=telescope.v1()) *  # SEFD at the top of the band\n",
    "        np.sqrt((frb_w + frb_tau) / telescope.bandwidth() / 2) / \n",
    "        frb_w_correction / np.sqrt(1 - rfi_band) * frb_dist_fact\n",
    "    ).min().to(u.erg)\n",
    "    # Energy distribution\n",
    "    frb_E = get_distribution_E(\n",
    "        number_of_simulated_frbs,\n",
    "        Emin,\n",
    "        frb_properties['Echar'],\n",
    "        frb_properties['gamma'],\n",
    "    )\n",
    "    # Energy spectral density distribution\n",
    "    frb_E_nu = frb_E / u.GHz\n",
    "    \n",
    "    # FRB S/N values\n",
    "    frb_snr = get_snr(\n",
    "        rng,\n",
    "        freq_channels,\n",
    "        frb_E_nu,\n",
    "        frb_dist_fact,\n",
    "        frb_w, \n",
    "        frb_tau,\n",
    "        frb_w_correction,\n",
    "        frb_properties['alpha_spect'],\n",
    "        telescope,\n",
    "        beam_response, \n",
    "        uncertain = uncertain\n",
    "    )\n",
    "    \n",
    "    detected_frbs_sim, frb_dist_z = get_lensed_frb_detections(\n",
    "        hosts,\n",
    "        frb_snr,\n",
    "        z_min,\n",
    "        z_max,\n",
    "        frb_E_nu,\n",
    "        frb_dist_fact,\n",
    "        frb_bw,\n",
    "        frb_w,\n",
    "        frb_tau,\n",
    "        freq_mean,\n",
    "        frbs_evolve_with_luminosity = frbs_evolve_with_luminosity,\n",
    "        sie = sie\n",
    "    )\n",
    "    if verbose:\n",
    "        print(f\"A total of {detected_frbs_sim} FRBs are detected.\")\n",
    "    \n",
    "    # Convert to a physical detection rate\n",
    "    frb_detection_rate = convert_to_rate(\n",
    "        number_of_simulated_frbs,\n",
    "        detected_frbs_sim,\n",
    "        Emin,\n",
    "        frb_emission_rate,\n",
    "        sky_fraction,\n",
    "        frb_properties['Echar'],\n",
    "        frb_properties['gamma'],\n",
    "        frb_properties['Epivot'],\n",
    "    )\n",
    "    detection_rate_real = frb_detection_rate * observing_time_fraction\n",
    "    if return_z_dist:\n",
    "        # The redshift distribution is needed\n",
    "        return detection_rate_real, list(frb_dist_z[frb_snr > SNr_min])\n",
    "    else:\n",
    "        return detection_rate_real\n",
    "    "
   ]
  },
  {
   "cell_type": "markdown",
   "id": "94124f3b-6e5a-46e1-9f9b-83a9221061ef",
   "metadata": {
    "jp-MarkdownHeadingCollapsed": true,
    "tags": []
   },
   "source": [
    "## Figures"
   ]
  },
  {
   "cell_type": "markdown",
   "id": "86d81e03-d373-4705-bd0b-55071d9e7336",
   "metadata": {},
   "source": [
    "### Fig XX"
   ]
  },
  {
   "cell_type": "code",
   "execution_count": null,
   "id": "d9341334-22a6-45ab-82b0-914ef03d8c60",
   "metadata": {},
   "outputs": [],
   "source": []
  },
  {
   "cell_type": "markdown",
   "id": "c0be1431-67b0-4fa7-8128-1f1aab6bd44a",
   "metadata": {
    "tags": []
   },
   "source": [
    "# Other"
   ]
  },
  {
   "cell_type": "code",
   "execution_count": null,
   "id": "3126c7bc-987c-4cfd-8b7b-05cee8000740",
   "metadata": {
    "tags": []
   },
   "outputs": [],
   "source": []
  },
  {
   "cell_type": "code",
   "execution_count": null,
   "id": "baa004c1-07fa-4689-b4d3-16aed09b5ee3",
   "metadata": {
    "tags": []
   },
   "outputs": [],
   "source": [
    "n_frbs = 536\n",
    "obs_time = 214.8 * 24 * u.hour\n",
    "rate = (n_frbs / obs_time).to(1/u.yr)\n",
    "err = (np.sqrt(n_frbs) / obs_time).to(1/u.yr)\n",
    "rate, err"
   ]
  },
  {
   "cell_type": "code",
   "execution_count": null,
   "id": "17abebc6-1f4a-46c0-99d5-cf46dbdf16d9",
   "metadata": {
    "tags": []
   },
   "outputs": [],
   "source": [
    "_ = run_simulation(\n",
    "    int(1e6),\n",
    "    telescope_name = 'chord',\n",
    "    verbose=True\n",
    ")"
   ]
  },
  {
   "cell_type": "code",
   "execution_count": null,
   "id": "beeb7dda-4002-4763-a300-0734d0b07852",
   "metadata": {
    "tags": []
   },
   "outputs": [],
   "source": [
    "detection_rate, frb_dist_z = run_simulation(\n",
    "    int(1e6),\n",
    "    telescope_name = 'chord',\n",
    "    verbose=True,\n",
    "    return_z_dist=True\n",
    ")"
   ]
  },
  {
   "cell_type": "code",
   "execution_count": null,
   "id": "b31b1d11-d589-4c9e-bfc1-ef45caa8accc",
   "metadata": {
    "tags": []
   },
   "outputs": [],
   "source": [
    "%%timeit \n",
    "_ = run_simulation(\n",
    "    int(5e6),\n",
    "    telescope_name = 'chord'\n",
    ")"
   ]
  },
  {
   "cell_type": "code",
   "execution_count": null,
   "id": "298ce835-4f95-404b-af32-9ba62278aefd",
   "metadata": {},
   "outputs": [],
   "source": [
    "# Timing of simulation\n",
    "n = [1e4, 1e5, 1e6, 5e6, 1e7]\n",
    "t = [0.338, 0.792, 5.94, 29.6, 63]  # s\n",
    "\n",
    "m, q = np.polyfit(n, t, 1)\n",
    "\n",
    "plt.plot(n, t, 'ko')\n",
    "plt.plot(n, np.poly1d([m, q])(n), 'r--')"
   ]
  },
  {
   "cell_type": "code",
   "execution_count": null,
   "id": "d7a938dc-74e0-4398-a7a5-d1ea2fbd2904",
   "metadata": {
    "tags": []
   },
   "outputs": [],
   "source": [
    "1e8 * m + q"
   ]
  },
  {
   "cell_type": "code",
   "execution_count": null,
   "id": "8780d3bf-9113-4588-8dd0-c00054119cbd",
   "metadata": {},
   "outputs": [],
   "source": []
  },
  {
   "cell_type": "code",
   "execution_count": null,
   "id": "86b2ad3d-ad75-4db6-b2c3-01d581e68c1e",
   "metadata": {},
   "outputs": [],
   "source": []
  },
  {
   "cell_type": "code",
   "execution_count": null,
   "id": "53bb3808-89f0-40f3-a9e0-bc558b2d4f78",
   "metadata": {},
   "outputs": [],
   "source": []
  },
  {
   "cell_type": "code",
   "execution_count": null,
   "id": "6ede22f8-2c1d-48dc-bd7c-89164fb53fd3",
   "metadata": {
    "tags": []
   },
   "outputs": [],
   "source": [
    "# argos + GBT\n",
    "print('argos + GBT')\n",
    "telescope_name = 'argos'\n",
    "telescope_followup = 'gbt'\n",
    "(\n",
    "    frb_detection_rate,\n",
    "    frb_detection_rate_low,\n",
    "    frb_detection_rate_high,\n",
    "    uncert_med\n",
    ")= run_simulation_with_uncert(\n",
    "    number_of_simulated_frbs,\n",
    "    telescope_name = telescope_name,\n",
    "    simulate_lensed_frbs = True,\n",
    ")\n",
    "print(f'{frb_detection_rate.value:.4f} # {frb_detection_rate_low.value:.4f} / {frb_detection_rate_high.value:.4f}')\n",
    "print(f'{frb_detection_rate.value:.4f} - {(frb_detection_rate - frb_detection_rate_low).value:.4f} + {(frb_detection_rate_high - frb_detection_rate).value:.4f}')\n",
    "print(f'{uncert_med.value:.4f}')\n",
    "print()\n",
    "\n",
    "# argos + DSA-2000\n",
    "print('argos + DSA-2000')\n",
    "telescope_name = 'argos'\n",
    "telescope_followup = 'dsa2000'\n",
    "(\n",
    "    frb_detection_rate,\n",
    "    frb_detection_rate_low,\n",
    "    frb_detection_rate_high,\n",
    "    uncert_med\n",
    ")= run_simulation_with_uncert(\n",
    "    number_of_simulated_frbs,\n",
    "    telescope_name = telescope_name,\n",
    "    simulate_lensed_frbs = True,\n",
    ")\n",
    "print(f'{frb_detection_rate.value:.4f} # {frb_detection_rate_low.value:.4f} / {frb_detection_rate_high.value:.4f}')\n",
    "print(f'{frb_detection_rate.value:.4f} - {(frb_detection_rate - frb_detection_rate_low).value:.4f} + {(frb_detection_rate_high - frb_detection_rate).value:.4f}')\n",
    "print(f'{uncert_med.value:.4f}')\n",
    "print()\n",
    "\n",
    "\n",
    "# argos + argos\n",
    "print('argos + argos')\n",
    "telescope_name = 'argos'\n",
    "telescope_followup = 'argos'\n",
    "(\n",
    "    frb_detection_rate,\n",
    "    frb_detection_rate_low,\n",
    "    frb_detection_rate_high,\n",
    "    uncert_med\n",
    ")= run_simulation_with_uncert(\n",
    "    number_of_simulated_frbs,\n",
    "    telescope_name = telescope_name,\n",
    "    simulate_lensed_frbs = True,\n",
    ")\n",
    "print(f'{frb_detection_rate.value:.4f} # {frb_detection_rate_low.value:.4f} / {frb_detection_rate_high.value:.4f}')\n",
    "print(f'{frb_detection_rate.value:.4f} - {(frb_detection_rate - frb_detection_rate_low).value:.4f} + {(frb_detection_rate_high - frb_detection_rate).value:.4f}')\n",
    "print(f'{uncert_med.value:.4f}')\n",
    "print()"
   ]
  },
  {
   "cell_type": "code",
   "execution_count": null,
   "id": "bcc213b1-ebf9-4178-a08d-7cfa2744a570",
   "metadata": {
    "tags": []
   },
   "outputs": [],
   "source": [
    "frbs_narrowband = False\n",
    "\n",
    "# argos + GBT\n",
    "print('argos + GBT')\n",
    "telescope_name = 'argos'\n",
    "telescope_followup = 'gbt'\n",
    "(\n",
    "    frb_detection_rate,\n",
    "    frb_detection_rate_low,\n",
    "    frb_detection_rate_high,\n",
    "    uncert_med\n",
    ")= run_simulation_with_uncert(\n",
    "    number_of_simulated_frbs,\n",
    "    telescope_name = telescope_name,\n",
    "    simulate_lensed_frbs = True,\n",
    ")\n",
    "print(f'{frb_detection_rate.value:.4f} # {frb_detection_rate_low.value:.4f} / {frb_detection_rate_high.value:.4f}')\n",
    "print(f'{frb_detection_rate.value:.4f} - {(frb_detection_rate - frb_detection_rate_low).value:.4f} + {(frb_detection_rate_high - frb_detection_rate).value:.4f}')\n",
    "print(f'{uncert_med.value:.4f}')\n",
    "print()\n",
    "\n",
    "# argos + DSA-2000\n",
    "print('argos + DSA-2000')\n",
    "telescope_name = 'argos'\n",
    "telescope_followup = 'dsa2000'\n",
    "(\n",
    "    frb_detection_rate,\n",
    "    frb_detection_rate_low,\n",
    "    frb_detection_rate_high,\n",
    "    uncert_med\n",
    ")= run_simulation_with_uncert(\n",
    "    number_of_simulated_frbs,\n",
    "    telescope_name = telescope_name,\n",
    "    simulate_lensed_frbs = True,\n",
    ")\n",
    "print(f'{frb_detection_rate.value:.4f} # {frb_detection_rate_low.value:.4f} / {frb_detection_rate_high.value:.4f}')\n",
    "print(f'{frb_detection_rate.value:.4f} - {(frb_detection_rate - frb_detection_rate_low).value:.4f} + {(frb_detection_rate_high - frb_detection_rate).value:.4f}')\n",
    "print(f'{uncert_med.value:.4f}')\n",
    "print()\n",
    "\n",
    "\n",
    "# argos + argos\n",
    "print('argos + argos')\n",
    "telescope_name = 'argos'\n",
    "telescope_followup = 'argos'\n",
    "(\n",
    "    frb_detection_rate,\n",
    "    frb_detection_rate_low,\n",
    "    frb_detection_rate_high,\n",
    "    uncert_med\n",
    ")= run_simulation_with_uncert(\n",
    "    number_of_simulated_frbs,\n",
    "    telescope_name = telescope_name,\n",
    "    simulate_lensed_frbs = True,\n",
    ")\n",
    "print(f'{frb_detection_rate.value:.4f} # {frb_detection_rate_low.value:.4f} / {frb_detection_rate_high.value:.4f}')\n",
    "print(f'{frb_detection_rate.value:.4f} - {(frb_detection_rate - frb_detection_rate_low).value:.4f} + {(frb_detection_rate_high - frb_detection_rate).value:.4f}')\n",
    "print(f'{uncert_med.value:.4f}')\n",
    "print()"
   ]
  },
  {
   "cell_type": "code",
   "execution_count": null,
   "id": "027db15e-f39f-4032-8e29-ede790ae1273",
   "metadata": {},
   "outputs": [],
   "source": []
  },
  {
   "cell_type": "code",
   "execution_count": null,
   "id": "07da2e69-3122-4ece-8de9-ea5beef60c9b",
   "metadata": {
    "tags": []
   },
   "outputs": [],
   "source": [
    "# sl-FRBs detection rates"
   ]
  },
  {
   "cell_type": "code",
   "execution_count": null,
   "id": "25f9021f-b6ec-4332-a98d-9a2904a5aede",
   "metadata": {
    "tags": []
   },
   "outputs": [],
   "source": [
    "# CHORD + GBT\n",
    "print('CHORD + GBT')\n",
    "telescope_name = 'chord'\n",
    "telescope_followup = 'gbt'\n",
    "(\n",
    "    frb_detection_rate,\n",
    "    frb_detection_rate_low,\n",
    "    frb_detection_rate_high,\n",
    "    uncert_med\n",
    ")= run_simulation_with_uncert(\n",
    "    number_of_simulated_frbs,\n",
    "    telescope_name = telescope_name,\n",
    "    simulate_lensed_frbs = True,\n",
    ")\n",
    "print(f'{frb_detection_rate.value:.4f} # {frb_detection_rate_low.value:.4f} / {frb_detection_rate_high.value:.4f}')\n",
    "print(f'{frb_detection_rate.value:.4f} - {(frb_detection_rate - frb_detection_rate_low).value:.4f} + {(frb_detection_rate_high - frb_detection_rate).value:.4f}')\n",
    "print(f'{uncert_med.value:.4f}')\n",
    "print()\n",
    "\n",
    "\n",
    "# CHORD + DSA-2000\n",
    "print('CHORD + DSA-2000')\n",
    "telescope_name = 'chord'\n",
    "telescope_followup = 'dsa2000'\n",
    "(\n",
    "    frb_detection_rate,\n",
    "    frb_detection_rate_low,\n",
    "    frb_detection_rate_high,\n",
    "    uncert_med\n",
    ")= run_simulation_with_uncert(\n",
    "    number_of_simulated_frbs,\n",
    "    telescope_name = telescope_name,\n",
    "    simulate_lensed_frbs = True,\n",
    ")\n",
    "print(f'{frb_detection_rate.value:.4f} # {frb_detection_rate_low.value:.4f} / {frb_detection_rate_high.value:.4f}')\n",
    "print(f'{frb_detection_rate.value:.4f} - {(frb_detection_rate - frb_detection_rate_low).value:.4f} + {(frb_detection_rate_high - frb_detection_rate).value:.4f}')\n",
    "print(f'{uncert_med.value:.4f}')\n",
    "print()\n",
    "\n",
    "\n",
    "# DSA-2000 + GBT\n",
    "print('DSA-2000 + GBT')\n",
    "telescope_name = 'dsa2000'\n",
    "telescope_followup = 'gbt'\n",
    "(\n",
    "    frb_detection_rate,\n",
    "    frb_detection_rate_low,\n",
    "    frb_detection_rate_high,\n",
    "    uncert_med\n",
    ")= run_simulation_with_uncert(\n",
    "    number_of_simulated_frbs,\n",
    "    telescope_name = telescope_name,\n",
    "    simulate_lensed_frbs = True,\n",
    ")\n",
    "print(f'{frb_detection_rate.value:.4f} # {frb_detection_rate_low.value:.4f} / {frb_detection_rate_high.value:.4f}')\n",
    "print(f'{frb_detection_rate.value:.4f} - {(frb_detection_rate - frb_detection_rate_low).value:.4f} + {(frb_detection_rate_high - frb_detection_rate).value:.4f}')\n",
    "print(f'{uncert_med.value:.4f}')\n",
    "print()\n",
    "\n",
    "\n",
    "# DSA-2000 + DSA-2000\n",
    "print('DSA-2000 + DSA-2000')\n",
    "telescope_name = 'dsa2000'\n",
    "telescope_followup = 'dsa2000'\n",
    "(\n",
    "    frb_detection_rate,\n",
    "    frb_detection_rate_low,\n",
    "    frb_detection_rate_high,\n",
    "    uncert_med\n",
    ")= run_simulation_with_uncert(\n",
    "    number_of_simulated_frbs,\n",
    "    telescope_name = telescope_name,\n",
    "    simulate_lensed_frbs = True,\n",
    ")\n",
    "print(f'{frb_detection_rate.value:.4f} # {frb_detection_rate_low.value:.4f} / {frb_detection_rate_high.value:.4f}')\n",
    "print(f'{frb_detection_rate.value:.4f} - {(frb_detection_rate - frb_detection_rate_low).value:.4f} + {(frb_detection_rate_high - frb_detection_rate).value:.4f}')\n",
    "print(f'{uncert_med.value:.4f}')\n",
    "print()"
   ]
  },
  {
   "cell_type": "code",
   "execution_count": null,
   "id": "ecd9fd41-c6ef-436e-803f-869f73b19726",
   "metadata": {
    "tags": []
   },
   "outputs": [],
   "source": [
    "frbs_narrowband = False\n",
    "\n",
    "# CHORD + GBT\n",
    "print('CHORD + GBT')\n",
    "telescope_name = 'chord'\n",
    "telescope_followup = 'gbt'\n",
    "(\n",
    "    frb_detection_rate,\n",
    "    frb_detection_rate_low,\n",
    "    frb_detection_rate_high,\n",
    "    uncert_med\n",
    ")= run_simulation_with_uncert(\n",
    "    number_of_simulated_frbs,\n",
    "    telescope_name = telescope_name,\n",
    "    simulate_lensed_frbs = True,\n",
    ")\n",
    "print(f'{frb_detection_rate.value:.4f} # {frb_detection_rate_low.value:.4f} / {frb_detection_rate_high.value:.4f}')\n",
    "print(f'{frb_detection_rate.value:.4f} - {(frb_detection_rate - frb_detection_rate_low).value:.4f} + {(frb_detection_rate_high - frb_detection_rate).value:.4f}')\n",
    "print(f'{uncert_med.value:.4f}')\n",
    "print()\n",
    "\n",
    "\n",
    "# CHORD + DSA-2000\n",
    "print('CHORD + DSA-2000')\n",
    "telescope_name = 'chord'\n",
    "telescope_followup = 'dsa2000'\n",
    "(\n",
    "    frb_detection_rate,\n",
    "    frb_detection_rate_low,\n",
    "    frb_detection_rate_high,\n",
    "    uncert_med\n",
    ")= run_simulation_with_uncert(\n",
    "    number_of_simulated_frbs,\n",
    "    telescope_name = telescope_name,\n",
    "    simulate_lensed_frbs = True,\n",
    ")\n",
    "print(f'{frb_detection_rate.value:.4f} # {frb_detection_rate_low.value:.4f} / {frb_detection_rate_high.value:.4f}')\n",
    "print(f'{frb_detection_rate.value:.4f} - {(frb_detection_rate - frb_detection_rate_low).value:.4f} + {(frb_detection_rate_high - frb_detection_rate).value:.4f}')\n",
    "print(f'{uncert_med.value:.4f}')\n",
    "print()\n",
    "\n",
    "\n",
    "# DSA-2000 + GBT\n",
    "print('DSA-2000 + GBT')\n",
    "telescope_name = 'dsa2000'\n",
    "telescope_followup = 'gbt'\n",
    "(\n",
    "    frb_detection_rate,\n",
    "    frb_detection_rate_low,\n",
    "    frb_detection_rate_high,\n",
    "    uncert_med\n",
    ")= run_simulation_with_uncert(\n",
    "    number_of_simulated_frbs,\n",
    "    telescope_name = telescope_name,\n",
    "    simulate_lensed_frbs = True,\n",
    ")\n",
    "print(f'{frb_detection_rate.value:.4f} # {frb_detection_rate_low.value:.4f} / {frb_detection_rate_high.value:.4f}')\n",
    "print(f'{frb_detection_rate.value:.4f} - {(frb_detection_rate - frb_detection_rate_low).value:.4f} + {(frb_detection_rate_high - frb_detection_rate).value:.4f}')\n",
    "print(f'{uncert_med.value:.4f}')\n",
    "print()\n",
    "\n",
    "\n",
    "# DSA-2000 + DSA-2000\n",
    "print('DSA-2000 + DSA-2000')\n",
    "telescope_name = 'dsa2000'\n",
    "telescope_followup = 'dsa2000'\n",
    "(\n",
    "    frb_detection_rate,\n",
    "    frb_detection_rate_low,\n",
    "    frb_detection_rate_high,\n",
    "    uncert_med\n",
    ")= run_simulation_with_uncert(\n",
    "    number_of_simulated_frbs,\n",
    "    telescope_name = telescope_name,\n",
    "    simulate_lensed_frbs = True,\n",
    ")\n",
    "print(f'{frb_detection_rate.value:.4f} # {frb_detection_rate_low.value:.4f} / {frb_detection_rate_high.value:.4f}')\n",
    "print(f'{frb_detection_rate.value:.4f} - {(frb_detection_rate - frb_detection_rate_low).value:.4f} + {(frb_detection_rate_high - frb_detection_rate).value:.4f}')\n",
    "print(f'{uncert_med.value:.4f}')\n",
    "print()"
   ]
  },
  {
   "cell_type": "code",
   "execution_count": null,
   "id": "1d09ea83-f4df-4331-8cab-cfbf7b820815",
   "metadata": {},
   "outputs": [],
   "source": []
  },
  {
   "cell_type": "code",
   "execution_count": null,
   "id": "ef749db4-48b0-409c-b9ea-4254cebd18d1",
   "metadata": {
    "tags": []
   },
   "outputs": [],
   "source": [
    "# Total number of FRBs\n",
    "print(0.2206 / 3 * 2 + 0.2508 / 3+ 0.3537 / 3 * 2 + 0.4748 / 3 )\n",
    "print(0.0683 / 3 * 2 + 0.0938 / 3+ 0.1565 / 3 * 2 + 0.2028 / 3 )\n",
    "print(1.4436 / 3 * 2 + 1.3732 / 3+ 2.2291 / 3 * 2 + 3.4431 / 3 )"
   ]
  },
  {
   "cell_type": "code",
   "execution_count": null,
   "id": "2f82cf2e-0309-4cb1-b1ba-448b29bac057",
   "metadata": {
    "tags": []
   },
   "outputs": [],
   "source": [
    "0.2508 / 3 + 0.2206 / 3 * 2 + 0.4748 / 3 + 0.3537 / 3 * 2"
   ]
  },
  {
   "cell_type": "code",
   "execution_count": null,
   "id": "b7f67314-a486-40b2-b31a-cb978244dc78",
   "metadata": {},
   "outputs": [],
   "source": []
  },
  {
   "cell_type": "code",
   "execution_count": null,
   "id": "29d1bfda-e241-4863-a410-4f248dc01c8b",
   "metadata": {},
   "outputs": [],
   "source": []
  },
  {
   "cell_type": "code",
   "execution_count": null,
   "id": "91165022-8d0b-4a7e-bcfb-a70ca42c5f81",
   "metadata": {
    "tags": []
   },
   "outputs": [],
   "source": [
    "# CHORD + GBT\n",
    "print('CHORD + GBT')\n",
    "telescope_name = 'chord'\n",
    "telescope_followup = 'gbt'\n",
    "(\n",
    "    frb_detection_rate,\n",
    "    frb_detection_rate_low,\n",
    "    frb_detection_rate_high,\n",
    "    uncert_med\n",
    ")= run_simulation_with_uncert(\n",
    "    number_of_simulated_frbs,\n",
    "    telescope_name = telescope_name,\n",
    "    simulate_lensed_frbs = True,\n",
    ")\n",
    "print(f'{frb_detection_rate.value:.4f} # {frb_detection_rate_low.value:.4f} / {frb_detection_rate_high.value:.4f}')\n",
    "print(f'{frb_detection_rate.value:.4f} - {(frb_detection_rate - frb_detection_rate_low).value:.4f} + {(frb_detection_rate_high - frb_detection_rate).value:.4f}')\n",
    "print(f'{uncert_med.value:.4f}')\n",
    "print()\n",
    "\n",
    "\n",
    "# CHORD + DSA-2000\n",
    "print('CHORD + DSA-2000')\n",
    "telescope_name = 'chord'\n",
    "telescope_followup = 'dsa2000'\n",
    "(\n",
    "    frb_detection_rate,\n",
    "    frb_detection_rate_low,\n",
    "    frb_detection_rate_high,\n",
    "    uncert_med\n",
    ")= run_simulation_with_uncert(\n",
    "    number_of_simulated_frbs,\n",
    "    telescope_name = telescope_name,\n",
    "    simulate_lensed_frbs = True,\n",
    ")\n",
    "print(f'{frb_detection_rate.value:.4f} # {frb_detection_rate_low.value:.4f} / {frb_detection_rate_high.value:.4f}')\n",
    "print(f'{frb_detection_rate.value:.4f} - {(frb_detection_rate - frb_detection_rate_low).value:.4f} + {(frb_detection_rate_high - frb_detection_rate).value:.4f}')\n",
    "print(f'{uncert_med.value:.4f}')\n",
    "print()\n",
    "\n",
    "\n",
    "# CHORD + CHORD\n",
    "print('CHORD + CHORD')\n",
    "telescope_name = 'chord'\n",
    "telescope_followup = 'chord'\n",
    "(\n",
    "    frb_detection_rate,\n",
    "    frb_detection_rate_low,\n",
    "    frb_detection_rate_high,\n",
    "    uncert_med\n",
    ")= run_simulation_with_uncert(\n",
    "    number_of_simulated_frbs,\n",
    "    telescope_name = telescope_name,\n",
    "    simulate_lensed_frbs = True,\n",
    ")\n",
    "print(f'{frb_detection_rate.value:.4f} # {frb_detection_rate_low.value:.4f} / {frb_detection_rate_high.value:.4f}')\n",
    "print(f'{frb_detection_rate.value:.4f} - {(frb_detection_rate - frb_detection_rate_low).value:.4f} + {(frb_detection_rate_high - frb_detection_rate).value:.4f}')\n",
    "print(f'{uncert_med.value:.4f}')\n",
    "print()"
   ]
  },
  {
   "cell_type": "code",
   "execution_count": null,
   "id": "b097a163-77d4-4da5-a3f8-1b9344470fcf",
   "metadata": {
    "tags": []
   },
   "outputs": [],
   "source": []
  },
  {
   "cell_type": "code",
   "execution_count": null,
   "id": "4795b8aa-12bb-4165-b762-d01457f5ced0",
   "metadata": {},
   "outputs": [],
   "source": []
  },
  {
   "cell_type": "code",
   "execution_count": null,
   "id": "55db6bed-9930-41fe-afa6-ec372f112fe6",
   "metadata": {},
   "outputs": [],
   "source": []
  },
  {
   "cell_type": "code",
   "execution_count": null,
   "id": "27ee9a11-14cc-40d6-a016-a8e87ef1b59e",
   "metadata": {},
   "outputs": [],
   "source": []
  },
  {
   "cell_type": "code",
   "execution_count": null,
   "id": "c204629c-00d4-47a3-af5e-24b71fd268b6",
   "metadata": {},
   "outputs": [],
   "source": []
  },
  {
   "cell_type": "code",
   "execution_count": null,
   "id": "e04fed9f-6340-4017-9b32-19eb27926ba4",
   "metadata": {},
   "outputs": [],
   "source": []
  },
  {
   "cell_type": "code",
   "execution_count": null,
   "id": "068aeee3-dd2e-4d1b-abda-8f3fcd85f3d5",
   "metadata": {},
   "outputs": [],
   "source": []
  },
  {
   "cell_type": "code",
   "execution_count": null,
   "id": "5b96dc1b-5173-463e-b6be-55626ef60d77",
   "metadata": {},
   "outputs": [],
   "source": [
    "# CHORD + GBT\n",
    "print('CHORD + GBT')\n",
    "telescope_name = 'chord'\n",
    "telescope_followup = 'gbt'\n",
    "(\n",
    "    frb_detection_rate,\n",
    "    frb_detection_rate_low,\n",
    "    frb_detection_rate_high,\n",
    "    uncert_med\n",
    ")= run_simulation_with_uncert(\n",
    "    number_of_simulated_frbs,\n",
    "    telescope_name = telescope_name,\n",
    "    simulate_lensed_frbs = True,\n",
    ")\n",
    "\n",
    "print(f'{frb_detection_rate.value:.2f} # {frb_detection_rate_low.value:.2f} / {frb_detection_rate_high.value:.2f}')\n",
    "print(f'{frb_detection_rate.value:.2f} - {(frb_detection_rate - frb_detection_rate_low).value:.2f} + {(frb_detection_rate_high - frb_detection_rate).value:.2f}')\n",
    "print(f'{uncert_med.value:.2f}')\n",
    "print()\n",
    "\n",
    "# CHORD + DSA-2000\n",
    "telescope_name = 'chord'\n",
    "telescope_followup = 'dsa2000'\n",
    "(\n",
    "    frb_detection_rate,\n",
    "    frb_detection_rate_low,\n",
    "    frb_detection_rate_high,\n",
    "    uncert_med\n",
    ")= run_simulation_with_uncert(\n",
    "    number_of_simulated_frbs,\n",
    "    telescope_name = telescope_name,\n",
    "    simulate_lensed_frbs = True,\n",
    ")\n",
    "\n",
    "print(f'{frb_detection_rate.value:.2f} # {frb_detection_rate_low.value:.2f} / {frb_detection_rate_high.value:.2f}')\n",
    "print(f'{frb_detection_rate.value:.2f} - {(frb_detection_rate - frb_detection_rate_low).value:.2f} + {(frb_detection_rate_high - frb_detection_rate).value:.2f}')\n",
    "print(uncert_med)\n",
    "\n",
    "# DSA-2000 + GBT\n",
    "telescope_name = 'dsa2000'\n",
    "telescope_followup = 'gbt'\n",
    "(\n",
    "    frb_detection_rate,\n",
    "    frb_detection_rate_low,\n",
    "    frb_detection_rate_high,\n",
    "    uncert_med\n",
    ")= run_simulation_with_uncert(\n",
    "    number_of_simulated_frbs,\n",
    "    telescope_name = telescope_name,\n",
    "    simulate_lensed_frbs = True,\n",
    ")\n",
    "\n",
    "print(f'{frb_detection_rate.value:.2f} # {frb_detection_rate_low.value:.2f} / {frb_detection_rate_high.value:.2f}')\n",
    "print(f'{frb_detection_rate.value:.2f} - {(frb_detection_rate - frb_detection_rate_low).value:.2f} + {(frb_detection_rate_high - frb_detection_rate).value:.2f}')\n",
    "print(uncert_med)\n",
    "\n",
    "# DSA-2000 + DSA-2000\n",
    "telescope_name = 'dsa2000'\n",
    "telescope_followup = 'dsa2000'\n",
    "(\n",
    "    frb_detection_rate,\n",
    "    frb_detection_rate_low,\n",
    "    frb_detection_rate_high,\n",
    "    uncert_med\n",
    ")= run_simulation_with_uncert(\n",
    "    number_of_simulated_frbs,\n",
    "    telescope_name = telescope_name,\n",
    "    simulate_lensed_frbs = True,\n",
    ")\n",
    "\n",
    "print(f'{frb_detection_rate.value:.2f} # {frb_detection_rate_low.value:.2f} / {frb_detection_rate_high.value:.2f}')\n",
    "print(f'{frb_detection_rate.value:.2f} - {(frb_detection_rate - frb_detection_rate_low).value:.2f} + {(frb_detection_rate_high - frb_detection_rate).value:.2f}')\n",
    "print(uncert_med)"
   ]
  },
  {
   "cell_type": "code",
   "execution_count": null,
   "id": "8795ea63-44cd-4397-b72b-346226669a74",
   "metadata": {},
   "outputs": [],
   "source": []
  },
  {
   "cell_type": "code",
   "execution_count": null,
   "id": "0f31241f-4099-4bf7-8f79-1962a82a5cde",
   "metadata": {},
   "outputs": [],
   "source": []
  },
  {
   "cell_type": "code",
   "execution_count": null,
   "id": "a63b3515-ea6b-47d8-be3b-44f2467552c1",
   "metadata": {},
   "outputs": [],
   "source": []
  },
  {
   "cell_type": "code",
   "execution_count": null,
   "id": "f0ed70d4-82a2-418b-9195-6fe841483dc5",
   "metadata": {
    "tags": []
   },
   "outputs": [],
   "source": [
    "# Redshift distribution of detected FRBs\n",
    "\n",
    "# CHIME\n",
    "chime_z_dist = run_simulation(\n",
    "    int(1e6),\n",
    "    telescope_name = 'chime',\n",
    "    simulate_lensed_frbs = False,\n",
    "    return_z_dist = True\n",
    ")\n",
    "\n",
    "# ASKAP\n",
    "askap_z_dist = run_simulation(\n",
    "    int(1e7),\n",
    "    telescope_name = 'askap',\n",
    "    simulate_lensed_frbs = False,\n",
    "    return_z_dist = True\n",
    ")\n",
    "\n",
    "# CHORD\n",
    "chord_z_dist = run_simulation(\n",
    "    int(1e5),\n",
    "    telescope_name = 'chord',\n",
    "    simulate_lensed_frbs = False,\n",
    "    return_z_dist = True\n",
    ")\n",
    "\n",
    "# DSA-2000\n",
    "dsa_z_dist = run_simulation(\n",
    "    int(1e5),\n",
    "    telescope_name = 'dsa2000',\n",
    "    simulate_lensed_frbs = False,\n",
    "    return_z_dist = True\n",
    ")"
   ]
  },
  {
   "cell_type": "code",
   "execution_count": null,
   "id": "d7b8c831-c9fc-425a-85e9-4ebd976c55c8",
   "metadata": {
    "tags": []
   },
   "outputs": [],
   "source": [
    "# Color-blind friendly, from https://www.nature.com/articles/nmeth.1618\n",
    "color = (np.array([\n",
    "    (  0,   0,   0),\n",
    "    (230, 159,   0),\n",
    "    ( 86, 180, 233),\n",
    "    (  0, 158, 115),\n",
    "    (240, 228,  66),\n",
    "    (  0, 114, 178),\n",
    "    (213,  94,   0),\n",
    "    (204, 121, 167),\n",
    "]) / 255).tolist()\n",
    "\n",
    "y_hist, bins = np.histogram(chime_z_dist, bins=100, density=True)\n",
    "plt.stairs(y_hist/y_hist.max(), bins, color=color[1], label='CHIME')\n",
    "\n",
    "y_hist, bins = np.histogram(chord_z_dist, bins=100, density=True)\n",
    "plt.stairs(y_hist/y_hist.max(), bins, color=color[5], label='CHORD')\n",
    "\n",
    "y_hist, bins = np.histogram(dsa_z_dist, bins=100, density=True)\n",
    "plt.stairs(y_hist/y_hist.max(), bins, color=color[7], label='DSA-2000')\n",
    "\n",
    "y_hist, bins = np.histogram(askap_z_dist, bins=100, density=True)\n",
    "plt.stairs(y_hist/y_hist.max(), bins, color=color[3], label='ASKAP')\n",
    "\n",
    "ASKAP_FRBs = [0.23, 0.161, 0.36879, 0.12927, 0.2797, 0.3214, 0.4755, 0.291, 0.1178, 0.378, 0.522, 0.209, 0.243, 0.2145, 0.0469, 0.0715]\n",
    "# from https://ui.adsabs.harvard.edu/abs/2022MNRAS.516.4862J/abstract\n",
    "y_hist, bins = np.histogram(ASKAP_FRBs, bins=7, density=True)\n",
    "plt.stairs(y_hist/y_hist.max(), bins, color='k', label='ASKAP detection') #, ls='--'\n",
    "\n",
    "plt.xlabel('Redshift')\n",
    "plt.ylabel('PDF')\n",
    "plt.legend()\n",
    "\n",
    "plt.xlim(0, 5)"
   ]
  },
  {
   "cell_type": "code",
   "execution_count": null,
   "id": "81ce73e6-de80-4f12-9f57-03d8f5a5873c",
   "metadata": {},
   "outputs": [],
   "source": []
  },
  {
   "cell_type": "code",
   "execution_count": null,
   "id": "cd90fab5-d5ff-45a2-895a-db121adbca57",
   "metadata": {},
   "outputs": [],
   "source": []
  },
  {
   "cell_type": "code",
   "execution_count": null,
   "id": "0c1cf2e7-25b1-436d-9d97-414f5efd9439",
   "metadata": {
    "tags": []
   },
   "outputs": [],
   "source": []
  },
  {
   "cell_type": "code",
   "execution_count": null,
   "id": "d868e14d-0862-402e-8188-424e022c54bd",
   "metadata": {
    "tags": []
   },
   "outputs": [],
   "source": []
  },
  {
   "cell_type": "code",
   "execution_count": null,
   "id": "895b5074-0ff1-4ba4-b4d4-b85230ebb59f",
   "metadata": {
    "tags": []
   },
   "outputs": [],
   "source": []
  },
  {
   "cell_type": "code",
   "execution_count": null,
   "id": "244d3ed9-e14f-4130-a31e-5350f7d66d5e",
   "metadata": {
    "tags": []
   },
   "outputs": [],
   "source": []
  },
  {
   "cell_type": "code",
   "execution_count": null,
   "id": "391cacc7-7fd7-4c0f-96de-4b37eeb4bc55",
   "metadata": {
    "tags": []
   },
   "outputs": [],
   "source": []
  },
  {
   "cell_type": "code",
   "execution_count": null,
   "id": "b3db235c-cd9f-40bb-a41f-ce8cf6707600",
   "metadata": {
    "tags": []
   },
   "outputs": [],
   "source": [
    "rng = default_rng(seed)  # Random generator; seed fixed for reproducibility\n",
    "observing_time_fraction = 1  # Fraction of observing time\n",
    "number_of_simulated_frbs = int(1e6)\n",
    "SNr_min = 12\n",
    "\n",
    "t = 'chime'\n",
    "telescope = t.lower()\n",
    "# Shin model\n",
    "value = run_simulation(\n",
    "        number_of_simulated_frbs,\n",
    "        telescope_name = telescope,\n",
    "        simulate_lensed_frbs = False,\n",
    "        model = 'shin',\n",
    "        uncertain = False,\n",
    "        verbose = False,\n",
    "    ).to(1/u.yr).value\n",
    "uncert = np.array([\n",
    "    run_simulation(\n",
    "        number_of_simulated_frbs // 100,\n",
    "        telescope_name = telescope,\n",
    "        simulate_lensed_frbs = False,\n",
    "        model = 'shin',\n",
    "        uncertain = True,\n",
    "        verbose = False\n",
    "    ).to(1/u.yr).value for n in range(100)\n",
    "])\n",
    "uncert_down = np.percentile(uncert[uncert>0], 16)\n",
    "uncert_up = np.percentile(uncert[uncert>0], 84)\n",
    "med = np.median(uncert[uncert>0])"
   ]
  },
  {
   "cell_type": "code",
   "execution_count": null,
   "id": "bbfdb31e-f2be-46dc-ac5d-5124b8bc1326",
   "metadata": {
    "tags": []
   },
   "outputs": [],
   "source": [
    "value, uncert_down, uncert_up, med"
   ]
  },
  {
   "cell_type": "code",
   "execution_count": null,
   "id": "b388fb79-8966-4bf8-b992-256aa696bae4",
   "metadata": {},
   "outputs": [],
   "source": []
  },
  {
   "cell_type": "code",
   "execution_count": null,
   "id": "8c036f41-aa9a-41a6-b6a5-f796ce6b435e",
   "metadata": {
    "tags": []
   },
   "outputs": [],
   "source": []
  },
  {
   "cell_type": "code",
   "execution_count": null,
   "id": "cd20171c-1390-4dd0-9014-1f41d8fdeed9",
   "metadata": {
    "tags": []
   },
   "outputs": [],
   "source": [
    "# Redshift distribution"
   ]
  },
  {
   "cell_type": "code",
   "execution_count": null,
   "id": "1cdca02e-989d-4760-b319-fda36b3c97ab",
   "metadata": {
    "tags": []
   },
   "outputs": [],
   "source": [
    "frb_properties = FRB_Population(name='shin').get_parameters()\n",
    "\n",
    "(\n",
    "    frb_dist_fact,\n",
    "    z_min,\n",
    "    z_max,\n",
    "    frb_emission_rate,\n",
    "    hosts,\n",
    "    frb_dist_z_lens\n",
    ") = get_distribution_dist(\n",
    "    int(1e5),\n",
    "    frb_properties['alpha_spect'],\n",
    "    frb_properties['alpha_rate'],\n",
    "    frb_properties['frb_emission_rate_z0_Epivot'],\n",
    "    frb_properties['n_sfr'],\n",
    "    simulate_lensed_frbs = True,\n",
    "    frbs_evolve_with_luminosity = True,\n",
    ")\n",
    "\n",
    "(\n",
    "    frb_dist_fact,\n",
    "    z_min,\n",
    "    z_max,\n",
    "    frb_emission_rate,\n",
    "    hosts,\n",
    "    frb_dist_z_unlens\n",
    ") = get_distribution_dist(\n",
    "    int(1e5),\n",
    "    frb_properties['alpha_spect'],\n",
    "    frb_properties['alpha_rate'],\n",
    "    frb_properties['frb_emission_rate_z0_Epivot'],\n",
    "    frb_properties['n_sfr'],\n",
    "    simulate_lensed_frbs = False,\n",
    "    frbs_evolve_with_luminosity = True,\n",
    "    z_min = z_min,\n",
    "    z_max = z_max\n",
    ")"
   ]
  },
  {
   "cell_type": "code",
   "execution_count": null,
   "id": "a3e0c5f7-e07c-4c82-a4b4-692b7583c129",
   "metadata": {},
   "outputs": [],
   "source": [
    "lensed_fraction = gf(lensed_fraction, 6)"
   ]
  },
  {
   "cell_type": "code",
   "execution_count": null,
   "id": "6098a7a5-86df-4d2c-b052-60287b7c2ebc",
   "metadata": {
    "tags": []
   },
   "outputs": [],
   "source": [
    "y_hist, bins = np.histogram(frb_dist_z_lens, bins=100, density=True)\n",
    "plt.stairs(gf(y_hist, 6), bins, color='k', label='Lensed')\n",
    "\n",
    "y_hist, bins = np.histogram(frb_dist_z_unlens, bins=100, density=True)\n",
    "plt.stairs(y_hist, bins, color='r', label='Unlensed')\n",
    "\n",
    "plt.xlabel('Redshift')\n",
    "plt.ylabel('PDF')\n",
    "plt.legend()\n",
    "\n",
    "plt.xlim(0, z_max)"
   ]
  },
  {
   "cell_type": "code",
   "execution_count": null,
   "id": "82a7683c-c30e-4940-b211-5f70dea0318a",
   "metadata": {},
   "outputs": [],
   "source": []
  },
  {
   "cell_type": "code",
   "execution_count": null,
   "id": "57567d5d-8bec-4dd6-94e6-1dbafe745285",
   "metadata": {
    "tags": []
   },
   "outputs": [],
   "source": []
  },
  {
   "cell_type": "code",
   "execution_count": null,
   "id": "d491fbf4-23b2-4657-b3c4-75e6079afe17",
   "metadata": {},
   "outputs": [],
   "source": []
  },
  {
   "cell_type": "code",
   "execution_count": null,
   "id": "73313405-42dd-454a-9ff8-43c6ee78a133",
   "metadata": {
    "tags": []
   },
   "outputs": [],
   "source": []
  },
  {
   "cell_type": "code",
   "execution_count": null,
   "id": "5a95f38d-d03b-46d6-b444-f97bd1b139bf",
   "metadata": {
    "tags": []
   },
   "outputs": [],
   "source": []
  },
  {
   "cell_type": "code",
   "execution_count": null,
   "id": "b537afdc-5966-41b8-9d53-1cd04a6ce7e0",
   "metadata": {
    "tags": []
   },
   "outputs": [],
   "source": []
  },
  {
   "cell_type": "code",
   "execution_count": null,
   "id": "997a257c-77b8-4d02-871c-f6a6dcfdcd3b",
   "metadata": {
    "tags": []
   },
   "outputs": [],
   "source": []
  },
  {
   "cell_type": "code",
   "execution_count": null,
   "id": "d6fc8d7d-b5c0-4d6b-bee6-e996bf45f95d",
   "metadata": {
    "tags": []
   },
   "outputs": [],
   "source": []
  },
  {
   "cell_type": "code",
   "execution_count": null,
   "id": "d55c3316-69b4-4110-ba2e-5e837bcaaedb",
   "metadata": {},
   "outputs": [],
   "source": []
  },
  {
   "cell_type": "code",
   "execution_count": null,
   "id": "5d001174-6d40-48c2-a35e-edd3594cb35c",
   "metadata": {},
   "outputs": [],
   "source": []
  },
  {
   "cell_type": "code",
   "execution_count": null,
   "id": "6587246a-8924-414d-920d-6019a48287d8",
   "metadata": {
    "tags": []
   },
   "outputs": [],
   "source": [
    "# Fraction of sky observed by CHORD at maximum elevation"
   ]
  },
  {
   "cell_type": "code",
   "execution_count": null,
   "id": "86fe81d4-5b49-48be-a8c5-2937f4e86bb3",
   "metadata": {
    "tags": []
   },
   "outputs": [],
   "source": [
    "a=EarthLocation.of_site('DRAO')"
   ]
  },
  {
   "cell_type": "code",
   "execution_count": null,
   "id": "0da4bd6d-ffd3-4ad5-98e0-a553678ef224",
   "metadata": {
    "tags": []
   },
   "outputs": [],
   "source": [
    "dec = a.lat + 30 * u.deg"
   ]
  },
  {
   "cell_type": "code",
   "execution_count": null,
   "id": "12e0f0fe-5ed4-4ab7-a82e-0e41220c23d6",
   "metadata": {
    "tags": []
   },
   "outputs": [],
   "source": [
    "360 / (np.sqrt(130/np.pi)*2 / np.cos(np.deg2rad(dec)))"
   ]
  },
  {
   "cell_type": "code",
   "execution_count": null,
   "id": "30bd2854-5137-4fcd-bbef-37a5ca51c968",
   "metadata": {
    "tags": []
   },
   "outputs": [],
   "source": [
    "360 / (np.sqrt(5/np.pi)*2 / np.cos(np.deg2rad(dec)))"
   ]
  },
  {
   "cell_type": "code",
   "execution_count": null,
   "id": "f04e40d3-e8cc-43ed-bba3-c3ff6f955c79",
   "metadata": {},
   "outputs": [],
   "source": []
  },
  {
   "cell_type": "code",
   "execution_count": null,
   "id": "52b6cdf0-c4a7-46c4-bb9b-219af2b68a7a",
   "metadata": {
    "tags": []
   },
   "outputs": [],
   "source": [
    "30000 / 10.6"
   ]
  },
  {
   "cell_type": "code",
   "execution_count": null,
   "id": "758eabc8-2ee7-4f90-b314-1d23629a1d0f",
   "metadata": {},
   "outputs": [],
   "source": []
  },
  {
   "cell_type": "code",
   "execution_count": null,
   "id": "6abe9793-2fde-4993-81c3-3c3b8790c034",
   "metadata": {},
   "outputs": [],
   "source": []
  },
  {
   "cell_type": "code",
   "execution_count": null,
   "id": "c70ed2e1",
   "metadata": {
    "tags": []
   },
   "outputs": [],
   "source": [
    "# Follow-up\n",
    "from astropy.coordinates import AltAz, EarthLocation, SkyCoord\n",
    "from astropy.time import Time"
   ]
  },
  {
   "cell_type": "code",
   "execution_count": null,
   "id": "a7c6ce6f",
   "metadata": {},
   "outputs": [],
   "source": [
    "source_low_dec = SkyCoord(ra=0*u.deg, dec=-10*u.deg)\n",
    "source_mid_dec = SkyCoord(ra=0*u.deg, dec=45*u.deg)\n",
    "source_high_dec = SkyCoord(ra=0*u.deg, dec=89*u.deg)"
   ]
  },
  {
   "cell_type": "code",
   "execution_count": null,
   "id": "4fc7c46e",
   "metadata": {},
   "outputs": [],
   "source": [
    "gbt = EarthLocation.of_site('GBT')\n",
    "gmrt = EarthLocation.of_site('GMRT')\n",
    "eff = EarthLocation.of_site('Effelsberg')"
   ]
  },
  {
   "cell_type": "code",
   "execution_count": null,
   "id": "be5f2a98",
   "metadata": {},
   "outputs": [],
   "source": [
    "# Low dec\n",
    "ha = np.linspace(-12, 12, 100)\n",
    "t = ha*u.hour + Time('2012-7-13 00:00:00')\n",
    "y_t = np.zeros_like(ha) + np.nan\n",
    "\n",
    "# GBT\n",
    "alt_gbt = source_low_dec.transform_to(AltAz(obstime=t, location=gbt)).alt\n",
    "idx = alt_gbt > 0\n",
    "x = ha.copy()\n",
    "x[~idx] = np.nan\n",
    "y = alt_gbt.value.copy()\n",
    "y[~idx] = np.nan\n",
    "plt.plot(x, y, 'b-', label='GBT')\n",
    "y_t[idx] = 0\n",
    "\n",
    "# GMRT\n",
    "alt_gmrt = source_low_dec.transform_to(AltAz(obstime=t, location=gmrt)).alt\n",
    "idx = alt_gmrt > 0\n",
    "x = ha.copy()\n",
    "x[~idx] = np.nan\n",
    "y = alt_gmrt.value.copy()\n",
    "y[~idx] = np.nan\n",
    "plt.plot(x, y, 'r-', label='GMRT')\n",
    "y_t[idx] = 0\n",
    "\n",
    "# Effelsberg\n",
    "alt_eff = source_low_dec.transform_to(AltAz(obstime=t, location=eff)).alt\n",
    "idx = alt_eff > 0\n",
    "x = ha.copy()\n",
    "x[~idx] = np.nan\n",
    "y = alt_eff.value.copy()\n",
    "y[~idx] = np.nan\n",
    "plt.plot(x, y, 'g-', label='Effelsberg')\n",
    "y_t[idx] = 0\n",
    "\n",
    "plt.plot(ha, y_t, \"k-\")\n",
    "plt.legend()\n",
    "plt.title('Dec = -10 deg')\n",
    "\n",
    "print(f'{y_t[~np.isnan(y_t)].size / y_t.size * 100:.1f}% of time the source can be observed')"
   ]
  },
  {
   "cell_type": "code",
   "execution_count": null,
   "id": "cc707d24",
   "metadata": {},
   "outputs": [],
   "source": [
    "# Mid dec\n",
    "ha = np.linspace(-12, 12, 100)\n",
    "t = ha*u.hour + Time('2012-7-13 00:00:00')\n",
    "y_t = np.zeros_like(ha) + np.nan\n",
    "\n",
    "# GBT\n",
    "alt_gbt = source_mid_dec.transform_to(AltAz(obstime=t, location=gbt)).alt\n",
    "idx = alt_gbt > 0\n",
    "x = ha.copy()\n",
    "x[~idx] = np.nan\n",
    "y = alt_gbt.value.copy()\n",
    "y[~idx] = np.nan\n",
    "plt.plot(x, y, 'b-', label='GBT')\n",
    "y_t[idx] = 0\n",
    "\n",
    "# GMRT\n",
    "alt_gmrt = source_mid_dec.transform_to(AltAz(obstime=t, location=gmrt)).alt\n",
    "idx = alt_gmrt > 0\n",
    "x = ha.copy()\n",
    "x[~idx] = np.nan\n",
    "y = alt_gmrt.value.copy()\n",
    "y[~idx] = np.nan\n",
    "plt.plot(x, y, 'r-', label='GMRT')\n",
    "y_t[idx] = 0\n",
    "\n",
    "# Effelsberg\n",
    "alt_eff = source_mid_dec.transform_to(AltAz(obstime=t, location=eff)).alt\n",
    "idx = alt_eff > 0\n",
    "x = ha.copy()\n",
    "x[~idx] = np.nan\n",
    "y = alt_eff.value.copy()\n",
    "y[~idx] = np.nan\n",
    "plt.plot(x, y, 'g-', label='Effelsberg')\n",
    "y_t[idx] = 0\n",
    "\n",
    "plt.plot(ha, y_t, \"k-\")\n",
    "plt.legend()\n",
    "plt.title('Dec = 45 deg')\n",
    "\n",
    "print(f'{y_t[~np.isnan(y_t)].size / y_t.size * 100:.1f}% of time the source can be observed')"
   ]
  },
  {
   "cell_type": "code",
   "execution_count": null,
   "id": "f23544bf",
   "metadata": {},
   "outputs": [],
   "source": [
    "# High dec\n",
    "ha = np.linspace(-12, 12, 100)\n",
    "t = ha*u.hour + Time('2012-7-13 00:00:00')\n",
    "y_t = np.zeros_like(ha) + np.nan\n",
    "\n",
    "# GBT\n",
    "alt_gbt = source_high_dec.transform_to(AltAz(obstime=t, location=gbt)).alt\n",
    "idx = alt_gbt > 0\n",
    "x = ha.copy()\n",
    "x[~idx] = np.nan\n",
    "y = alt_gbt.value.copy()\n",
    "y[~idx] = np.nan\n",
    "plt.plot(x, y, 'b-', label='GBT')\n",
    "y_t[idx] = 0\n",
    "\n",
    "# GMRT\n",
    "alt_gmrt = source_high_dec.transform_to(AltAz(obstime=t, location=gmrt)).alt\n",
    "idx = alt_gmrt > 0\n",
    "x = ha.copy()\n",
    "x[~idx] = np.nan\n",
    "y = alt_gmrt.value.copy()\n",
    "y[~idx] = np.nan\n",
    "plt.plot(x, y, 'r-', label='GMRT')\n",
    "y_t[idx] = 0\n",
    "\n",
    "# Effelsberg\n",
    "alt_eff = source_high_dec.transform_to(AltAz(obstime=t, location=eff)).alt\n",
    "idx = alt_eff > 0\n",
    "x = ha.copy()\n",
    "x[~idx] = np.nan\n",
    "y = alt_eff.value.copy()\n",
    "y[~idx] = np.nan\n",
    "plt.plot(x, y, 'g-', label='Effelsberg')\n",
    "y_t[idx] = 0\n",
    "\n",
    "plt.plot(ha, y_t, \"k-\")\n",
    "plt.legend()\n",
    "plt.title('Dec = 89 deg')\n",
    "\n",
    "print(f'{y_t[~np.isnan(y_t)].size / y_t.size * 100:.1f}% of time the source can be observed')"
   ]
  },
  {
   "cell_type": "code",
   "execution_count": null,
   "id": "a126f7ea",
   "metadata": {},
   "outputs": [],
   "source": []
  },
  {
   "cell_type": "code",
   "execution_count": null,
   "id": "d9fc2dd7",
   "metadata": {},
   "outputs": [],
   "source": []
  },
  {
   "cell_type": "code",
   "execution_count": null,
   "id": "f5df9157",
   "metadata": {},
   "outputs": [],
   "source": []
  },
  {
   "cell_type": "code",
   "execution_count": null,
   "id": "e41b31b6",
   "metadata": {
    "tags": []
   },
   "outputs": [],
   "source": [
    "# FRB radial distribution within host galaxies\n",
    "\n",
    "#https://arxiv.org/pdf/2009.10747.pdf\n",
    "#https://arxiv.org/pdf/2302.14782.pdf\n",
    "#https://arxiv.org/pdf/2108.01282.pdf\n",
    "#https://arxiv.org/pdf/2301.01000.pdf\n",
    "\n",
    "# i-band and r-band\n",
    "offset = np.array([0.6, 5.5, 3.4, 1.2, 2.0, 27, 6.6, 11, 3.2, 1.9, 11, 3.0, 9.87, 3.80, 10.8, 5.7, 5.9, 2.3])\n",
    "reff = np.array([0.7, 3.6, 2.7, 7.2, 4.4, 3.3, 2.8, 2.1, 2.9, 3.9, 5.5, 1.6, 2.67, 6.64, 5.80, 1.78, 7.58, 2.7])\n",
    "\n",
    "r = np.sort(offset / reff)\n",
    "F = np.arange(r.size)/r.size\n",
    "\n",
    "from scipy import stats\n",
    "y_hist, bins = np.histogram(r, bins=np.arange(10), density=False)\n",
    "plt.stairs(y_hist, bins, color='k')\n",
    "\n",
    "x = np.linspace(0, x_hist.max(), 100)\n",
    "y = np.exp(-x/2)\n",
    "plt.plot(x+0.5, y*y_hist.max(), 'k--', label='exp(dR)')\n",
    "plt.xlabel('Reff')\n",
    "plt.ylabel('FRBs')"
   ]
  },
  {
   "cell_type": "code",
   "execution_count": null,
   "id": "5e481f0c-43c8-42b5-a022-431497ed78cf",
   "metadata": {},
   "outputs": [],
   "source": []
  },
  {
   "cell_type": "code",
   "execution_count": null,
   "id": "e7a50003-387a-477c-8708-08895571b75c",
   "metadata": {},
   "outputs": [],
   "source": []
  },
  {
   "cell_type": "code",
   "execution_count": null,
   "id": "12d3a75f-e888-4001-bb9f-5f6d6c7dfcf1",
   "metadata": {},
   "outputs": [],
   "source": []
  },
  {
   "cell_type": "code",
   "execution_count": null,
   "id": "f12c854f-a594-41a4-8a82-a7373f30391a",
   "metadata": {},
   "outputs": [],
   "source": []
  },
  {
   "cell_type": "code",
   "execution_count": null,
   "id": "a49fa502",
   "metadata": {},
   "outputs": [],
   "source": []
  },
  {
   "cell_type": "code",
   "execution_count": null,
   "id": "2e8b7341",
   "metadata": {
    "tags": []
   },
   "outputs": [],
   "source": [
    "# Host luminosity distribution\n",
    "mag = np.array([-16.20, -19.46, -20.81, -20.40, -19.85, -22.06, -21.22, -19.01, -19.92, -22.13, -18.05, -18.80, -21.38, -20.18, -18.26, -21.49]) * u.M_bol\n",
    "y_hist, bins = np.histogram(mag.to(u.L_sun).value, bins=10, density=True)\n",
    "plt.stairs(y_hist, bins, color='k')\n",
    "\n",
    "M_org = np.loadtxt('lsst_source_catalog.txt', usecols=7, delimiter=',') * u.M_bol\n",
    "z_org = np.loadtxt('lsst_source_catalog.txt', usecols=2, delimiter=',')\n",
    "M_org = M_org[z_org<1]\n",
    "y_hist_org, bins = np.histogram(M_org.to(u.L_sun).value, bins=bins, density=True)\n",
    "plt.stairs(y_hist_org, bins, color='r')"
   ]
  },
  {
   "cell_type": "code",
   "execution_count": null,
   "id": "645d666c-c705-4893-9419-18a41857a673",
   "metadata": {
    "tags": []
   },
   "outputs": [],
   "source": [
    "plt.stairs(y_hist / y_hist_org, bins, color='k')\n",
    "plt.xlabel('Luminosity (Lsun)')\n",
    "plt.ylabel('FRB hosts / Galaxies in the simulation (z < 1)')\n",
    "plt.yticks([])"
   ]
  },
  {
   "cell_type": "code",
   "execution_count": null,
   "id": "056f7a6e",
   "metadata": {
    "tags": []
   },
   "outputs": [],
   "source": [
    "M_sim = np.loadtxt('lenses_Euclid.txt', usecols=15, skiprows=1) * u.M_bol # Magnitude distribution\n",
    "z_sim = np.loadtxt('lenses_Euclid.txt', usecols=1, skiprows=1)  # Redshift distribution\n",
    "y_hist_sim, bins = np.histogram(M_sim.to(u.L_sun).value, density=True)\n",
    "\n",
    "M_org = np.loadtxt('lsst_source_catalog.txt', usecols=7, delimiter=',') * u.M_bol\n",
    "z_org = np.loadtxt('lsst_source_catalog.txt', usecols=2, delimiter=',')\n",
    "y_hist_org, bins = np.histogram(M_org.to(u.L_sun).value, bins=bins, density=True)\n",
    "\n",
    "plt.stairs(y_hist_sim / y_hist_org, bins, color='k')\n",
    "plt.xlabel('Luminosity (Lsun)')\n",
    "plt.ylabel('FRB hosts / Galaxies in the simulation (z < 1)')\n",
    "plt.yticks([])"
   ]
  },
  {
   "cell_type": "code",
   "execution_count": null,
   "id": "26d68e0e-f314-4248-af5e-3e7584f71883",
   "metadata": {
    "tags": []
   },
   "outputs": [],
   "source": []
  },
  {
   "cell_type": "code",
   "execution_count": null,
   "id": "b661662d-3e67-4542-b399-f0d337f06a69",
   "metadata": {},
   "outputs": [],
   "source": []
  },
  {
   "cell_type": "code",
   "execution_count": null,
   "id": "2a8c6e1b-5bf1-48ab-b7d6-22c07cf1d781",
   "metadata": {},
   "outputs": [],
   "source": []
  },
  {
   "cell_type": "code",
   "execution_count": null,
   "id": "1ef83f0a-917b-40a2-aa68-b74001cf6cfe",
   "metadata": {},
   "outputs": [],
   "source": []
  },
  {
   "cell_type": "code",
   "execution_count": null,
   "id": "c8921e26-03c1-4f73-9c38-987e56997af2",
   "metadata": {},
   "outputs": [],
   "source": []
  },
  {
   "cell_type": "code",
   "execution_count": null,
   "id": "ffb02ccd-f39d-4b2e-857c-e178d80aabd4",
   "metadata": {},
   "outputs": [],
   "source": [
    "# Distribution of lensing probability"
   ]
  },
  {
   "cell_type": "code",
   "execution_count": null,
   "id": "9f47f55e-fcbb-4e4d-9953-e32d649e3b4d",
   "metadata": {},
   "outputs": [],
   "source": [
    "lensed_fraction_interp, lensed_fraction, z_mean = get_lensed_galaxy_fraction(\n",
    "    zmin = 0,\n",
    "    zmax = 4,\n",
    "    frbs_evolve_with_luminosity = True,\n",
    ")"
   ]
  },
  {
   "cell_type": "code",
   "execution_count": null,
   "id": "95abf5e3-1d3f-4f6f-9c2a-12fc7cdac026",
   "metadata": {
    "tags": []
   },
   "outputs": [],
   "source": [
    "z = np.linspace(0, 4, 1000)\n",
    "plt.plot(z, lensed_fraction_interp(z), 'r-')\n",
    "plt.plot(z_mean, lensed_fraction, 'k-')"
   ]
  },
  {
   "cell_type": "code",
   "execution_count": null,
   "id": "11c180d0-cb26-43ce-a919-ff2a3acf52a5",
   "metadata": {},
   "outputs": [],
   "source": []
  },
  {
   "cell_type": "code",
   "execution_count": null,
   "id": "ecbd487e-9d82-4e29-bacd-1b80ae65bffa",
   "metadata": {},
   "outputs": [],
   "source": []
  },
  {
   "cell_type": "code",
   "execution_count": null,
   "id": "4fe946df-724f-4af0-9904-aea69714c7d2",
   "metadata": {},
   "outputs": [],
   "source": []
  },
  {
   "cell_type": "code",
   "execution_count": null,
   "id": "9c174ada-a653-4f57-a5fa-d89775ebfb3a",
   "metadata": {
    "tags": []
   },
   "outputs": [],
   "source": [
    "# Redshift distribution of detected FRBs\n",
    "\n",
    "# CHIME\n",
    "chime_z_dist = run_simulation(\n",
    "    int(1e5),\n",
    "    telescope_name = 'chime',\n",
    "    simulate_lensed_frbs = False,\n",
    "    return_z_dist = True\n",
    ")\n",
    "\n",
    "# CHORD\n",
    "chord_z_dist = run_simulation(\n",
    "    int(1e5),\n",
    "    telescope_name = 'chord',\n",
    "    simulate_lensed_frbs = False,\n",
    "    return_z_dist = True\n",
    ")\n",
    "\n",
    "# DSA-2000\n",
    "dsa_z_dist = run_simulation(\n",
    "    int(1e5),\n",
    "    telescope_name = 'dsa2000',\n",
    "    simulate_lensed_frbs = False,\n",
    "    return_z_dist = True\n",
    ")"
   ]
  },
  {
   "cell_type": "code",
   "execution_count": null,
   "id": "19ecdf0b-d157-48da-a330-11aca8c12e8e",
   "metadata": {
    "tags": []
   },
   "outputs": [],
   "source": []
  },
  {
   "cell_type": "code",
   "execution_count": null,
   "id": "ce047fcf-794d-4a73-96ed-5b9f0d79e7d1",
   "metadata": {},
   "outputs": [],
   "source": []
  },
  {
   "cell_type": "code",
   "execution_count": null,
   "id": "7628af39-46af-49a4-88b1-9a6f94aae6ad",
   "metadata": {},
   "outputs": [],
   "source": []
  },
  {
   "cell_type": "code",
   "execution_count": null,
   "id": "215dd668-47f8-43b0-a15a-f6edc8c16945",
   "metadata": {
    "tags": []
   },
   "outputs": [],
   "source": [
    "# Sample optical depth function from https://ui.adsabs.harvard.edu/abs/2022ApJ...925..169Y/abstract\n",
    "\n",
    "import analytical_lensing as al\n",
    "\n",
    "def vdf_yue22(sigma, z):\n",
    "    '''\n",
    "    Deflector velocity dispersion function.\n",
    "    A velocity dispersion function should work as follows:\n",
    "    vdfun(sigma, z) -> returns deflector density in (Mpc^-3 (km/s)^-1)\n",
    "    '''\n",
    "    v0 = 172.2*(1+z)**0.18\n",
    "    phi0 = 5.86e-3*(1+z)**-1.18\n",
    "    alpha = -1.15\n",
    "    beta = 2.35\n",
    "\n",
    "    x_red = sigma / v0\n",
    "    t1 = x_red ** (alpha + 1)\n",
    "    t2 = np.exp(1-(x_red)**beta)\n",
    "\n",
    "    return phi0 * t1 * t2\n",
    "\n",
    "\n",
    "z = np.linspace(0.1, 20, 100)\n",
    "tau = np.array([al.taum(n, vdf_yue22, cosmo) for n in z])\n",
    "\n",
    "plt.plot(z, tau, 'k-')\n",
    "np.savetxt('data/optical_depth.dat', (z, tau))"
   ]
  },
  {
   "cell_type": "code",
   "execution_count": null,
   "id": "faa74c04-c8ff-49dc-92f6-07955894e309",
   "metadata": {},
   "outputs": [],
   "source": []
  },
  {
   "cell_type": "code",
   "execution_count": null,
   "id": "ba4e59fc-098f-4d82-b90a-c5b2a91198fc",
   "metadata": {},
   "outputs": [],
   "source": []
  },
  {
   "cell_type": "raw",
   "id": "782b27ae-58ab-4f4c-90b7-49ba392ddf00",
   "metadata": {},
   "source": []
  },
  {
   "cell_type": "code",
   "execution_count": null,
   "id": "e1ff9c54-0c87-4a3c-90be-c66aa1b206fe",
   "metadata": {},
   "outputs": [],
   "source": [
    "# Profile functions\n",
    "\n",
    "%load_ext line_profiler\n",
    "%lprun -f get_distribution_E get_distribution_E(number_of_frbs,1e34*u.erg,frb_properties['Echar'],frb_properties['gamma'],)"
   ]
  },
  {
   "cell_type": "code",
   "execution_count": null,
   "id": "c7ab95c4-e576-49a4-a612-e01f2253c070",
   "metadata": {},
   "outputs": [],
   "source": []
  },
  {
   "cell_type": "code",
   "execution_count": null,
   "id": "9ae2101c-b016-4a99-b7a1-1e63b94dd2ce",
   "metadata": {},
   "outputs": [],
   "source": []
  },
  {
   "cell_type": "markdown",
   "id": "7fcafcbe-18db-4d1e-9b74-9ed9f38df978",
   "metadata": {},
   "source": [
    "# Development"
   ]
  },
  {
   "cell_type": "code",
   "execution_count": null,
   "id": "8981a860-1f6e-4eba-a628-8e2178d01aac",
   "metadata": {
    "tags": []
   },
   "outputs": [],
   "source": []
  },
  {
   "cell_type": "code",
   "execution_count": null,
   "id": "ebd87366-55ad-4f54-95c1-b0767b4bf7bd",
   "metadata": {},
   "outputs": [],
   "source": []
  },
  {
   "cell_type": "code",
   "execution_count": null,
   "id": "0520ac53-ed48-48ef-8296-3aab02809a09",
   "metadata": {},
   "outputs": [],
   "source": [
    "def Pmu_bright(mu):\n",
    "    return 2/(mu-1)**3"
   ]
  },
  {
   "cell_type": "code",
   "execution_count": null,
   "id": "a4dae586-0c46-43af-9f70-2deefda2b9ff",
   "metadata": {},
   "outputs": [],
   "source": [
    "def Pmu_weak(mu):\n",
    "    return 2/(mu+1)**3"
   ]
  },
  {
   "cell_type": "code",
   "execution_count": null,
   "id": "b4bb8f6b-0e8f-4de3-90f6-f301ef47dc0c",
   "metadata": {},
   "outputs": [],
   "source": []
  },
  {
   "cell_type": "code",
   "execution_count": null,
   "id": "7b1a2307-5836-4631-8fc8-0fad4b4ea1ff",
   "metadata": {
    "tags": []
   },
   "outputs": [],
   "source": [
    "plt.plot(z, tau, 'k-')\n",
    "plt.yscale('log')"
   ]
  },
  {
   "cell_type": "code",
   "execution_count": null,
   "id": "66a8535f-127f-4371-b2f6-83b9b9946b72",
   "metadata": {
    "tags": []
   },
   "outputs": [],
   "source": []
  },
  {
   "cell_type": "code",
   "execution_count": null,
   "id": "bc9956b8-92c3-4b31-b613-708aa4561380",
   "metadata": {},
   "outputs": [],
   "source": []
  },
  {
   "cell_type": "code",
   "execution_count": null,
   "id": "49ecfcd5-1e24-4283-b85e-3a6255c98c9c",
   "metadata": {
    "tags": []
   },
   "outputs": [],
   "source": [
    "z_list = [1,2,3,5,7,10,20]\n",
    "c_list = ['k','b','orange','indigo','g','r']\n",
    "\n",
    "for z,c in zip(z_list, c_list):\n",
    "    mu, pdf = np.loadtxt(f'data/Takahashi_sims/magnificationPDF_rg3kpc_z{z}.txt', usecols=[0,1]).T\n",
    "    plt.plot(mu, pdf, '.', color=c)\n",
    "\n",
    "plt.loglog()\n",
    "plt.ylim(1e-6, 5e1)\n",
    "plt.xlim(1e-1, 1e2)"
   ]
  },
  {
   "cell_type": "code",
   "execution_count": null,
   "id": "55adde95-4195-4b46-8b15-354bf1bf2436",
   "metadata": {},
   "outputs": [],
   "source": []
  },
  {
   "cell_type": "code",
   "execution_count": null,
   "id": "703da194-2bbf-4ab4-ba83-a0b3270355f6",
   "metadata": {},
   "outputs": [],
   "source": []
  },
  {
   "cell_type": "code",
   "execution_count": null,
   "id": "b7ece7d7-1148-44e7-a7ea-69d96169714b",
   "metadata": {},
   "outputs": [],
   "source": []
  },
  {
   "cell_type": "code",
   "execution_count": null,
   "id": "2b02e8a9-c568-4b10-b4c8-c001a4eae3a3",
   "metadata": {},
   "outputs": [],
   "source": []
  },
  {
   "cell_type": "code",
   "execution_count": null,
   "id": "814927d2-5911-4415-a2b1-a50b23565341",
   "metadata": {},
   "outputs": [],
   "source": []
  },
  {
   "cell_type": "code",
   "execution_count": null,
   "id": "61f35138-2d6c-4dc4-9059-129fc500a73a",
   "metadata": {},
   "outputs": [],
   "source": []
  },
  {
   "cell_type": "code",
   "execution_count": null,
   "id": "6612a23d-ad8a-4dec-a8ae-6cb567c4a303",
   "metadata": {},
   "outputs": [],
   "source": []
  },
  {
   "cell_type": "code",
   "execution_count": null,
   "id": "74300df8-cebb-4199-b1cf-e21037097b2e",
   "metadata": {
    "tags": []
   },
   "outputs": [],
   "source": [
    "number_of_simulated_frbs = 1_000_000\n",
    "\n",
    "gamma = -1.3\n",
    "Emin = 1e30 * u.erg\n",
    "rng = default_rng(2911167007)\n",
    "Echar = 1.95e41 * u.erg\n",
    "\n",
    "schechter_pdf = lambda E: (E / Echar)**gamma * np.exp(-E / Echar)\n",
    "norm = float(gammainc(gamma+1, (Emin/Echar).to(u.dimensionless_unscaled).value)) * Echar\n",
    "schechter_pdf_norm = lambda E: schechter_pdf(E) / norm"
   ]
  },
  {
   "cell_type": "code",
   "execution_count": null,
   "id": "50a16afe-d774-444f-93ca-11961c930fd1",
   "metadata": {
    "tags": []
   },
   "outputs": [],
   "source": [
    "x = (rng.pareto(- gamma - 1, size=number_of_simulated_frbs) + 1) * Emin\n",
    "y_prop = (x / Echar)**gamma / norm\n",
    "\n",
    "bins = np.geomspace(x.min(), x.max(), 100)\n",
    "_ = plt.hist(x, bins=bins, density=True, color='orange')\n",
    "\n",
    "#plt.plot(bins, pareto.pdf(bins, - gamma - 1), 'r--')\n",
    "plt.plot(x, y_prop, 'r.')\n",
    "\n",
    "idx = bins < Echar\n",
    "plt.plot(bins[idx], schechter_pdf_norm(bins[idx]).value, 'k-', lw=0.5)\n",
    "plt.loglog()"
   ]
  },
  {
   "cell_type": "code",
   "execution_count": null,
   "id": "b0d1e83e-7564-4dc8-9407-d15eade7188d",
   "metadata": {
    "tags": []
   },
   "outputs": [],
   "source": [
    "gamma = -1.251547594626003\n",
    "Echar = 2.4850613639410024e+40 * u.erg\n",
    "\n",
    "schechter_pdf = lambda E: (E / Echar)**gamma * np.exp(-E / Echar)\n",
    "norm = float(gammainc(gamma+1, (Emin/Echar).to(u.dimensionless_unscaled).value)) * Echar\n",
    "schechter_pdf_norm = lambda E: schechter_pdf(E) / norm\n",
    "\n",
    "x = (rng.pareto(- gamma - 1, size=number_of_simulated_frbs) + 1) * Emin\n",
    "y_prop = (x / Echar)**gamma / norm\n",
    "\n",
    "bins = np.geomspace(x.min(), x.max(), 100)\n",
    "_ = plt.hist(x, bins=bins, density=True, color='orange')\n",
    "\n",
    "plt.plot(x, y_prop, 'r.')\n",
    "\n",
    "plt.plot(bins, schechter_pdf_norm(bins).value, 'k-', lw=0.5)\n",
    "plt.loglog()"
   ]
  },
  {
   "cell_type": "code",
   "execution_count": null,
   "id": "f9085890-8238-4b4a-ac50-eb68a88b5a9b",
   "metadata": {
    "tags": []
   },
   "outputs": [],
   "source": [
    "gamma = -1.251547594626003\n",
    "Echar = 2.4850613639410024e+42 * u.erg\n",
    "\n",
    "schechter_pdf = lambda E: (E / Echar)**gamma * np.exp(-E / Echar)\n",
    "norm = float(gammainc(gamma+1, (Emin/Echar).to(u.dimensionless_unscaled).value)) * Echar\n",
    "schechter_pdf_norm = lambda E: schechter_pdf(E) / norm\n",
    "\n",
    "x = (rng.pareto(- gamma - 1, size=number_of_simulated_frbs) + 1) * Emin\n",
    "y_prop = (x / Echar)**gamma / norm\n",
    "\n",
    "bins = np.geomspace(x.min(), x.max(), 100)\n",
    "_ = plt.hist(x, bins=bins, density=True, color='orange')\n",
    "\n",
    "plt.plot(x, y_prop, 'r.')\n",
    "\n",
    "plt.plot(bins, schechter_pdf_norm(bins).value, 'k-', lw=0.5)\n",
    "plt.loglog()"
   ]
  },
  {
   "cell_type": "code",
   "execution_count": null,
   "id": "2407ba82-b3fd-4f2d-a33a-c47c29003c16",
   "metadata": {
    "tags": []
   },
   "outputs": [],
   "source": [
    "gamma = -1.1\n",
    "Echar = 2.4850613639410024e+40 * u.erg\n",
    "\n",
    "schechter_pdf = lambda E: (E / Echar)**gamma * np.exp(-E / Echar)\n",
    "norm = float(gammainc(gamma+1, (Emin/Echar).to(u.dimensionless_unscaled).value)) * Echar\n",
    "schechter_pdf_norm = lambda E: schechter_pdf(E) / norm\n",
    "\n",
    "x = (rng.pareto(- gamma - 1, size=number_of_simulated_frbs) + 1) * Emin\n",
    "y_prop = (x / Echar)**gamma / norm\n",
    "\n",
    "bins = np.geomspace(x.min(), x.max(), 100)\n",
    "_ = plt.hist(x, bins=bins, density=True, color='orange')\n",
    "\n",
    "plt.plot(x, y_prop, 'r.')\n",
    "\n",
    "plt.plot(bins, schechter_pdf_norm(bins).value, 'k-', lw=0.5)\n",
    "plt.loglog()"
   ]
  },
  {
   "cell_type": "code",
   "execution_count": null,
   "id": "9ee5c68d-abee-4d98-8ad7-13224ce48a11",
   "metadata": {
    "tags": []
   },
   "outputs": [],
   "source": [
    "x.min()"
   ]
  },
  {
   "cell_type": "code",
   "execution_count": null,
   "id": "babe0a4d-da8e-4cd2-bdad-e9bcefb8da87",
   "metadata": {
    "tags": []
   },
   "outputs": [],
   "source": [
    "gamma = -0.8\n",
    "schechter_pdf = lambda E: (E / Echar)**gamma * np.exp(-E / Echar)\n",
    "norm = float(gammainc(gamma+1, (Emin/Echar).to(u.dimensionless_unscaled).value)) * Echar\n",
    "schechter_pdf_norm = lambda E: schechter_pdf(E) / norm\n",
    "\n",
    "x = (rng.power(gamma + 1, size=number_of_simulated_frbs) * 1e200)*u.erg + Emin\n",
    "y_prop = (x / Echar)**gamma / norm\n",
    "\n",
    "bins = np.geomspace(x.min(), x.max(), 100)\n",
    "hist_y, hist_x, _ = plt.hist(x, bins=bins, density=True, color='orange')\n",
    "\n",
    "plt.plot(x, y_prop, 'r.')\n",
    "\n",
    "idx = bins < Echar\n",
    "plt.plot(bins[idx], schechter_pdf_norm(bins[idx]).value, 'k-', lw=0.5)\n",
    "plt.loglog()"
   ]
  },
  {
   "cell_type": "code",
   "execution_count": null,
   "id": "0a245354-ed1e-4909-8363-1e7497f97ad0",
   "metadata": {
    "tags": []
   },
   "outputs": [],
   "source": [
    "norm / Emin"
   ]
  },
  {
   "cell_type": "code",
   "execution_count": null,
   "id": "4f7e1534-5be8-4797-b140-286fb1251872",
   "metadata": {
    "tags": []
   },
   "outputs": [],
   "source": [
    "mu = np.geomspace(1, 10, 100)\n",
    "\n",
    "from scipy.stats import powerlaw, pareto\n",
    "p = 2/(mu-1)**3\n",
    "\n",
    "plt.plot(mu, pareto.pdf(mu, 2, loc=1), 'k-')\n",
    "plt.plot(mu, p, 'r--')\n",
    "\n",
    "r = pareto.rvs(2, loc=1, size=10000)\n",
    "_ = plt.hist(r, bins=mu, density=True, color='orange')\n",
    "plt.loglog()"
   ]
  },
  {
   "cell_type": "code",
   "execution_count": null,
   "id": "a5a1a05d-579c-4f90-851e-bbb757602113",
   "metadata": {},
   "outputs": [],
   "source": []
  },
  {
   "cell_type": "code",
   "execution_count": null,
   "id": "585593c9-2c39-4115-beed-d470bdbde0ff",
   "metadata": {},
   "outputs": [],
   "source": []
  },
  {
   "cell_type": "code",
   "execution_count": null,
   "id": "00ed24ae-4ac2-4371-b7ab-3ab6659f4689",
   "metadata": {},
   "outputs": [],
   "source": [
    "def get_distribution_E(\n",
    "    rng,\n",
    "    number_of_simulated_frbs,\n",
    "    Emin,\n",
    "    Echar,\n",
    "    gamma,\n",
    "):\n",
    "    \"\"\"Rejection sample a Schechter function describing the FRB energy distribution.\"\"\"\n",
    "    # Normalized Schechter distribution\n",
    "    schechter_pdf = lambda E: (E / Echar)**gamma * np.exp(-E / Echar)\n",
    "    norm = float(gammainc(gamma+1, (Emin/Echar).to(u.dimensionless_unscaled).value)) * Echar\n",
    "    schechter_pdf_norm = lambda E: schechter_pdf(E) / norm\n",
    "    # Rejection sampling the target Schechter distribution\n",
    "    dist = np.zeros(number_of_simulated_frbs) * u.erg + np.nan\n",
    "    # Loop until no nan are present\n",
    "    while np.isnan(dist).any():\n",
    "        nan_size = dist[np.isnan(dist)].size\n",
    "        # Random variable from a proposal Pareto distribution\n",
    "        x = (\n",
    "            np.clip(  # Clips to avoid overflows\n",
    "                rng.pareto(- gamma - 1, size=number_of_simulated_frbs),\n",
    "                # The Pareto distribution is defined for the parameter a >= 0\n",
    "                1e-200,\n",
    "                1e200\n",
    "            ) + 1\n",
    "        ) * Emin\n",
    "        # PDF of proposal distribution at the random variable's values\n",
    "        y_prop = (x / Echar)**gamma / norm\n",
    "        # Random sampling of the proposal distribution's PDF\n",
    "        y_samp = rng.uniform(low=0, high=y_prop, size=number_of_simulated_frbs) / u.erg\n",
    "        # Reject random variable's values where target distribution\n",
    "        # is larger than the sampling values\n",
    "        x = x[y_samp < schechter_pdf_norm(x)][:nan_size]\n",
    "        # Resize the arrays to get the right number of bins\n",
    "        first_nan = np.argmax(dist)\n",
    "        dist[first_nan:first_nan+x.size] = x\n",
    "    return dist"
   ]
  },
  {
   "cell_type": "code",
   "execution_count": null,
   "id": "ea008bf6-2d35-4861-b462-89d74b7a9187",
   "metadata": {
    "tags": []
   },
   "outputs": [],
   "source": [
    "gamma = -1.251547594626003\n",
    "Echar = 2.4850613639410024e+40 * u.erg"
   ]
  },
  {
   "cell_type": "code",
   "execution_count": null,
   "id": "7396137f-5626-45cb-8cb3-e0b604550023",
   "metadata": {
    "tags": []
   },
   "outputs": [],
   "source": [
    "    \"\"\"Rejection sample a Schechter function describing the FRB energy distribution.\"\"\"\n",
    "    # Normalized Schechter distribution\n",
    "    schechter_pdf = lambda E: (E / Echar)**gamma * np.exp(-E / Echar)\n",
    "    norm = float(gammainc(gamma+1, (Emin/Echar).to(u.dimensionless_unscaled).value)) * Echar\n",
    "    schechter_pdf_norm = lambda E: schechter_pdf(E) / norm\n",
    "    # Rejection sampling the target Schechter distribution\n",
    "    dist = np.zeros(number_of_simulated_frbs) * u.erg + np.nan\n",
    "    # Loop until no nan are present\n",
    "    #while np.isnan(dist).any():"
   ]
  },
  {
   "cell_type": "code",
   "execution_count": null,
   "id": "c93eb7ef-aa39-4738-b032-e8e596c5fb40",
   "metadata": {
    "tags": []
   },
   "outputs": [],
   "source": [
    "        nan_size = dist[np.isnan(dist)].size\n",
    "        # Random variable from a proposal Pareto distribution\n",
    "        x = (\n",
    "            np.clip(  # Clips to avoid overflows\n",
    "                rng.pareto(- gamma - 1, size=number_of_simulated_frbs),\n",
    "                # The Pareto distribution is defined for the parameter a >= 0\n",
    "                1e-200,\n",
    "                1e200\n",
    "            ) + 1\n",
    "        ) * Emin\n",
    "        # PDF of proposal distribution at the random variable's values\n",
    "        y_prop = (x / Echar)**gamma / norm\n",
    "        # Random sampling of the proposal distribution's PDF\n",
    "        y_samp = rng.uniform(low=0, high=y_prop, size=number_of_simulated_frbs) / u.erg"
   ]
  },
  {
   "cell_type": "code",
   "execution_count": null,
   "id": "08defd1f-8f2f-4b5c-960e-59072b3d7339",
   "metadata": {
    "tags": []
   },
   "outputs": [],
   "source": [
    "        # Reject random variable's values where target distribution\n",
    "        # is larger than the sampling values\n",
    "        x_new = x[y_samp < schechter_pdf_norm(x)][:nan_size]\n",
    "        # Resize the arrays to get the right number of bins\n",
    "        first_nan = np.argmax(dist)\n",
    "        dist[first_nan:first_nan+x_new.size] = x_new"
   ]
  },
  {
   "cell_type": "code",
   "execution_count": null,
   "id": "8ea9b191-90ec-4d75-ba16-fa4bc7d88dd9",
   "metadata": {
    "tags": []
   },
   "outputs": [],
   "source": [
    "x_new.size / x.size"
   ]
  },
  {
   "cell_type": "code",
   "execution_count": null,
   "id": "f4a1fc96-86bd-4ab9-a864-8ed3f6c932bf",
   "metadata": {},
   "outputs": [],
   "source": [
    "number_of_simulated_frbs = 100\n",
    "\n",
    "gamma = -1.251547594626003\n",
    "Emin = 1e30 * u.erg\n",
    "rng = default_rng(2911167007)\n",
    "Echar = 1.95e41 * u.erg\n",
    "\n",
    "schechter_pdf = lambda E: (E / Echar)**gamma * np.exp(-E / Echar)\n",
    "norm = float(gammainc(gamma+1, (Emin/Echar).to(u.dimensionless_unscaled).value)) * Echar\n",
    "schechter_pdf_norm = lambda E: schechter_pdf(E) / norm"
   ]
  },
  {
   "cell_type": "code",
   "execution_count": null,
   "id": "9ce3204d-9b65-4b20-ad2b-ea1e6907ce74",
   "metadata": {
    "tags": []
   },
   "outputs": [],
   "source": [
    "_ = get_distribution_E(\n",
    "    rng,\n",
    "    100,\n",
    "    2.4453627418012975e+41 *u.erg,\n",
    "    2.4850613639410024e+40 *u.erg,\n",
    "    -1.251547594626003,\n",
    ")"
   ]
  },
  {
   "cell_type": "code",
   "execution_count": null,
   "id": "45189fa8-4df5-4a31-92c4-09eaf57ee660",
   "metadata": {},
   "outputs": [],
   "source": []
  },
  {
   "cell_type": "code",
   "execution_count": null,
   "id": "74434b95-4717-4117-b578-3426877efa44",
   "metadata": {},
   "outputs": [],
   "source": []
  },
  {
   "cell_type": "code",
   "execution_count": null,
   "id": "c2160fbb-fae6-43a0-8793-ec95fa781f32",
   "metadata": {},
   "outputs": [],
   "source": []
  },
  {
   "cell_type": "code",
   "execution_count": 140,
   "id": "068034ed-ab99-4681-82c2-b3e1aa1a6a3f",
   "metadata": {
    "tags": []
   },
   "outputs": [
    {
     "data": {
      "text/plain": [
       "[0, 0, 1]"
      ]
     },
     "execution_count": 140,
     "metadata": {},
     "output_type": "execute_result"
    }
   ],
   "source": [
    "from numpy.random import choice\n",
    "\n",
    "W_list = np.array([[0.9,0.1],\n",
    "                   [0.95,0.05],\n",
    "                   [0.85,0.15]])\n",
    "number_list = []\n",
    "for i in range(len(W_list)):\n",
    "    number_list.extend(choice([0, 1], size=1, p=W_list[i]).tolist())\n",
    "\n",
    "number_list"
   ]
  },
  {
   "cell_type": "code",
   "execution_count": 142,
   "id": "4ac05654-c755-459a-ac49-3454110f9652",
   "metadata": {
    "tags": []
   },
   "outputs": [
    {
     "data": {
      "text/plain": [
       "array([1, 0, 0])"
      ]
     },
     "execution_count": 142,
     "metadata": {},
     "output_type": "execute_result"
    }
   ],
   "source": [
    "cumulative_weights = W_list.cumsum(axis=1)\n",
    "number_arr = (np.random.rand(3, 1) < cumulative_weights).argmax(axis=1)\n",
    "number_arr"
   ]
  },
  {
   "cell_type": "code",
   "execution_count": 147,
   "id": "edc39ce7-1c43-41e8-9da6-692e78bf5a70",
   "metadata": {
    "tags": []
   },
   "outputs": [
    {
     "data": {
      "text/plain": [
       "array([[0.70289718],\n",
       "       [0.90339461],\n",
       "       [0.4811399 ]])"
      ]
     },
     "execution_count": 147,
     "metadata": {},
     "output_type": "execute_result"
    }
   ],
   "source": [
    "np.random.rand(3, 1)"
   ]
  },
  {
   "cell_type": "code",
   "execution_count": 145,
   "id": "4f72d30d-7e51-4d95-b08d-771fc877dd91",
   "metadata": {
    "tags": []
   },
   "outputs": [
    {
     "data": {
      "text/plain": [
       "array([[0.9 , 0.1 ],\n",
       "       [0.95, 0.05],\n",
       "       [0.85, 0.15]])"
      ]
     },
     "execution_count": 145,
     "metadata": {},
     "output_type": "execute_result"
    }
   ],
   "source": [
    "W_list"
   ]
  },
  {
   "cell_type": "code",
   "execution_count": 148,
   "id": "019ce0d7-5ce3-4cc6-8655-cbf4c62812da",
   "metadata": {
    "tags": []
   },
   "outputs": [
    {
     "data": {
      "text/plain": [
       "\u001b[0;31mDocstring:\u001b[0m\n",
       "rand(d0, d1, ..., dn)\n",
       "\n",
       "Random values in a given shape.\n",
       "\n",
       ".. note::\n",
       "    This is a convenience function for users porting code from Matlab,\n",
       "    and wraps `random_sample`. That function takes a\n",
       "    tuple to specify the size of the output, which is consistent with\n",
       "    other NumPy functions like `numpy.zeros` and `numpy.ones`.\n",
       "\n",
       "Create an array of the given shape and populate it with\n",
       "random samples from a uniform distribution\n",
       "over ``[0, 1)``.\n",
       "\n",
       "Parameters\n",
       "----------\n",
       "d0, d1, ..., dn : int, optional\n",
       "    The dimensions of the returned array, must be non-negative.\n",
       "    If no argument is given a single Python float is returned.\n",
       "\n",
       "Returns\n",
       "-------\n",
       "out : ndarray, shape ``(d0, d1, ..., dn)``\n",
       "    Random values.\n",
       "\n",
       "See Also\n",
       "--------\n",
       "random\n",
       "\n",
       "Examples\n",
       "--------\n",
       ">>> np.random.rand(3,2)\n",
       "array([[ 0.14022471,  0.96360618],  #random\n",
       "       [ 0.37601032,  0.25528411],  #random\n",
       "       [ 0.49313049,  0.94909878]]) #random\n",
       "\u001b[0;31mType:\u001b[0m      builtin_function_or_method"
      ]
     },
     "metadata": {},
     "output_type": "display_data"
    }
   ],
   "source": [
    "np.random.rand?"
   ]
  }
 ],
 "metadata": {
  "kernelspec": {
   "display_name": "Python 3 (ipykernel)",
   "language": "python",
   "name": "python3"
  },
  "language_info": {
   "codemirror_mode": {
    "name": "ipython",
    "version": 3
   },
   "file_extension": ".py",
   "mimetype": "text/x-python",
   "name": "python",
   "nbconvert_exporter": "python",
   "pygments_lexer": "ipython3",
   "version": "3.8.19"
  }
 },
 "nbformat": 4,
 "nbformat_minor": 5
}
