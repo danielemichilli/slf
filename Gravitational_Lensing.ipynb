{
 "cells": [
  {
   "cell_type": "markdown",
   "id": "0758a1c2-8c46-4a92-a5c3-8bce4a29cb4b",
   "metadata": {},
   "source": [
    "- Use https://arxiv.org/abs/1706.06103 for scattering\n",
    "- Use term \"optical depth\" instead of lensing fraction, check that out\n",
    "- Update parameters with https://arxiv.org/pdf/2208.00819.pdf"
   ]
  },
  {
   "cell_type": "code",
   "execution_count": null,
   "id": "2adc92be-2ddb-4116-adfd-c05059bc912f",
   "metadata": {
    "tags": []
   },
   "outputs": [],
   "source": []
  },
  {
   "cell_type": "code",
   "execution_count": null,
   "id": "1bf23c01-3b76-45f2-85b9-31fd3ac25147",
   "metadata": {
    "tags": []
   },
   "outputs": [],
   "source": []
  },
  {
   "cell_type": "code",
   "execution_count": 1,
   "id": "298f16f0-20dd-4a42-bc9f-31535364c37e",
   "metadata": {
    "tags": []
   },
   "outputs": [],
   "source": [
    "import sys\n",
    "sys.path.append(\"/arc/home/michilli/.local/lib/python3.8/site-packages/\")"
   ]
  },
  {
   "cell_type": "code",
   "execution_count": null,
   "id": "886f2bc5-fb69-4303-a1b3-07c5169c4258",
   "metadata": {
    "tags": []
   },
   "outputs": [],
   "source": [
    "def get_distribution_dist(\n",
    "    lensed_galaxies_z,\n",
    "    Emin,\n",
    "    simulate_lensed_frbs = True,\n",
    "):\n",
    "    \"\"\"Number of FRBs per redshift step.\"\"\"\n",
    "    # Redshift steps\n",
    "    if zlim is not None:\n",
    "        zmin, zmax = zlim\n",
    "    else:\n",
    "        zmin = lensed_galaxies_z.min()\n",
    "        zmax = lensed_galaxies_z.max()\n",
    "        \n",
    "    # Ensures that there are ~1000 galaxies per step on average\n",
    "    z = np.linspace(zmin, zmax, lensed_galaxies_z.size//1000+1)\n",
    "    # Volume steps\n",
    "    V = cosmo.comoving_volume(z[1:]) - cosmo.comoving_volume(z[:-1])\n",
    "\n",
    "    # Current FRB rate from https://ui.adsabs.harvard.edu/abs/2022arXiv220714316S/abstract\n",
    "    frb_emission_rate_z0_Epivot = (7.3e4 / u.Gpc**3 / u.year).to(1 / u.Mpc**3 / u.year)\n",
    "    # Rate scaled to a minimum energy Emin\n",
    "    frb_emission_rate_z0 = (\n",
    "        frb_emission_rate_z0_Epivot * \n",
    "        float(gammainc(gamma + 1, (Emin / Echar).value)) / \n",
    "        float(gammainc(gamma + 1, (Epivot / Echar).value))\n",
    "    )\n",
    "    z_mean = (z[1:] + z[:-1]) / 2\n",
    "    frb_emission_rate_z = frb_emission_rate_z0 / (1 + z_mean)\n",
    "    \n",
    "    # Number of FRBs expected in each volume\n",
    "    # FRBs rate is assumed constant with redshift\n",
    "    frb_emission_rate = frb_emission_rate_z * V\n",
    "    \n",
    "    if simulate_lensed_frbs:\n",
    "        print('Only lensed FRBs will be simulated.')\n",
    "        # Fraction of lensed FRBs\n",
    "        lensed_fraction = get_lensed_fraction(z)\n",
    "        frb_emission_rate = frb_emission_rate * lensed_fraction\n",
    "    else:\n",
    "        print('Full FRB population will be simulated.')\n",
    "    \n",
    "    # Only keep redshift steps containing FRBs\n",
    "    # This is necessary for the limit on redshift of simulated lensed galaxies\n",
    "    idx_nonzero = (frb_emission_rate > 0) & ~np.isnan(frb_emission_rate)\n",
    "    z_mean = z_mean[idx_nonzero]\n",
    "    frb_emission_rate = frb_emission_rate[idx_nonzero]\n",
    "    \n",
    "    # Increased redshift resolution. Clip restricts the redshift range due to the smoothing\n",
    "    z_dist = np.linspace(z.min(), z.max(), elements_in_distributions)\n",
    "    \n",
    "    # Distance factor\n",
    "    Dl = cosmo.luminosity_distance(z_dist)\n",
    "    dist_factor = (1 + z_dist)**(alpha + 2) / (4 * np.pi * Dl**2)\n",
    "\n",
    "    # Redshift distribution\n",
    "    P_z = np.interp(z_dist, z_mean, frb_emission_rate)\n",
    "    frb_dist_fact = rng.choice(\n",
    "        dist_factor,\n",
    "        size = number_of_simulated_frbs,\n",
    "        p = P_z / P_z.sum()\n",
    "    ) * dist_factor.unit\n",
    "    \n",
    "    # Total number of emitted FRBs per year\n",
    "    total_number_of_frbs = frb_emission_rate.sum()\n",
    "    return total_number_of_frbs, frb_dist_fact\n",
    "    \n",
    "    \n",
    "def get_lensed_fraction(z):\n",
    "    \"\"\" Fraction of lensed galaxies as a function of redshift.\n",
    "    \"\"\"\n",
    "    # Unlensed population of galaxies used in Collett 2018 simulations\n",
    "    z_org = np.loadtxt('lsst_source_catalog.txt', usecols=2, delimiter=',')\n",
    "        \n",
    "    if frbs_evolve_with_luminosity:\n",
    "        # Luminosity of unlensed population of galaxies used in Collett 2018 simulations\n",
    "        M_org = np.loadtxt('lsst_source_catalog.txt', usecols=7, delimiter=',') * u.M_bol\n",
    "        L_org = M_org.to(u.L_bol) * 10 * 360**2 / np.pi  # The population covers 0.1 square deg\n",
    "        # Total luminosity of unlensed galaxy population per redshift step\n",
    "        PL_org, _ = np.histogram(\n",
    "            z_org, \n",
    "            bins=z, \n",
    "            weights=L_org\n",
    "        )\n",
    "        # Luminosity of lensed galaxies used from Collett 2018 simulations\n",
    "        L_sim = lensed_galaxies_Mv.to(u.L_sun)\n",
    "        # Total luminosity of lensed galaxy population per redshift step\n",
    "        PL_sim, _ = np.histogram(\n",
    "            lensed_galaxies_z, \n",
    "            bins=z, \n",
    "            weights=L_sim\n",
    "        )\n",
    "        # Fraction of luminosity of lensed galaxies per redshift step\n",
    "        lensed_fraction = PL_sim / PL_org\n",
    "\n",
    "    else:\n",
    "        Pz_org, _ = np.histogram(z_org, bins=z)\n",
    "        Pz_org = Pz_org * 10 * 360**2 / np.pi  # The population covers 0.1 square deg\n",
    "        # Lensed population of galaxies from Collett 2018 simulations\n",
    "        Pz_sim, _ = np.histogram(lensed_galaxies_z, bins=z)\n",
    "        # Fraction of lensed galaxies per redshift step\n",
    "        lensed_fraction = Pz_sim / Pz_org\n",
    "        \n",
    "    # Smooth the output\n",
    "    lensed_fraction = gf(lensed_fraction, 6)\n",
    "    return lensed_fraction\n"
   ]
  },
  {
   "cell_type": "code",
   "execution_count": null,
   "id": "ca3e5022-10e9-4f5a-9972-99a7409f652f",
   "metadata": {},
   "outputs": [],
   "source": [
    "\n",
    "\n",
    "def convert_to_rate():\n",
    "    \"\"\"Convert the number of simulated FRBs to a rate.\n",
    "    \"\"\"\n",
    "    "
   ]
  },
  {
   "cell_type": "code",
   "execution_count": 11,
   "id": "c7ff1cac",
   "metadata": {
    "tags": []
   },
   "outputs": [
    {
     "name": "stdout",
     "output_type": "stream",
     "text": [
      "Starting the simulation for chime\n",
      "100000 bursts will be simulated.\n",
      "\n",
      "Full FRB population will be simulated.\n",
      "744.8000000000001 1 / yr\n",
      "This implies a detection rate of 2776.1 FRBs per year,\n",
      "or 1 FRB detected every 0.00 years.\n"
     ]
    }
   ],
   "source": [
    "# Python 3.8.16\n",
    "import os\n",
    "import pickle\n",
    "import datetime\n",
    "\n",
    "# Numpy 1.24.2\n",
    "import numpy as np\n",
    "from numpy.random import default_rng\n",
    "# matplotlib 3.7.1\n",
    "import matplotlib.pyplot as plt\n",
    "# astropy 5.2.1\n",
    "from astropy import units as u\n",
    "from astropy.coordinates import Distance\n",
    "from astropy import constants as const\n",
    "from astropy.cosmology import Planck18 as cosmo\n",
    "# scipy 1.9.3\n",
    "from scipy.special import j1\n",
    "from scipy import optimize\n",
    "from scipy.stats import truncnorm\n",
    "from scipy.ndimage import gaussian_filter as gf\n",
    "from scipy.interpolate import CubicSpline as spline\n",
    "# mpmath 1.3.0\n",
    "from mpmath import gammainc\n",
    "# arspy 0.4\n",
    "# To be compatible with the newer numpy versions, line 102 of the installed code\n",
    "# should be changed to `assert seed is None or isinstance(seed, int)`\n",
    "from arspy.ars import adaptive_rejection_sampling\n",
    "# This may be faster but requires the derivative \n",
    "# https://codereview.stackexchange.com/questions/174814/implementation-of-adaptive-rejection-sampling-in-cython\n",
    "# It could be even faster to wrap the original C or Fortran functions with Cython\n",
    "\n",
    "\n",
    "\n",
    "# Classes and functions\n",
    "\n",
    "class Telescope:\n",
    "    \"\"\"\n",
    "    Telescope parameters\n",
    "    \"\"\"\n",
    "    parameters = {\n",
    "        'dummy': {  # test parameters\n",
    "            'sefd': 15 * u.Jy,\n",
    "            'v0': 800 * u.MHz,\n",
    "            'v1': 1600 * u.MHz,\n",
    "            'D': 50 * u.m,\n",
    "            'bands': [\n",
    "                [800 * u.MHz, 1200 * u.MHz],\n",
    "                [1200 * u.MHz, 1600 * u.MHz],\n",
    "            ]\n",
    "        },\n",
    "        'chime': {  # from https://ui.adsabs.harvard.edu/abs/2022ApJS..261...29C/abstract\n",
    "            # from https://ui.adsabs.harvard.edu/abs/2017ApJ...844..140C/abstract\n",
    "            'sefd': (50 + 34 * (600/408)**-2.6) / 1.38 * u.Jy,\n",
    "            'v0': 400 * u.MHz,\n",
    "            'v1': 800 * u.MHz,            \n",
    "            'Dx': 20 * u.m,\n",
    "            'Dy': 0.87 * u.m,  # Emprirical value to have a beam of ~100 deg\n",
    "            #'D': 8.4474307*u.m\n",
    "        },\n",
    "        'chord': {  # from https://ui.adsabs.harvard.edu/abs/2019clrp.2020...28V/abstract\n",
    "            'sefd': 9 * u.Jy,\n",
    "            'v0': 300 * u.MHz,\n",
    "            'v1': 1500 * u.MHz,\n",
    "            'D': 6 * u.m,\n",
    "            'bands': [\n",
    "                [300 * u.MHz, 700 * u.MHz],\n",
    "                [700 * u.MHz, 1100 * u.MHz],\n",
    "                [1100 * u.MHz, 1500 * u.MHz],\n",
    "            ]\n",
    "        },\n",
    "        'dsa2000': {  # from https://ui.adsabs.harvard.edu/abs/2019BAAS...51g.255H/abstract\n",
    "            'sefd': 2.5 * u.Jy,  # Jy\n",
    "            'v0': 700 * u.MHz,\n",
    "            'v1': 2000 * u.MHz,\n",
    "            'D': 5 * u.m,\n",
    "            'bands': [\n",
    "                [700 * u.MHz, 1100 * u.MHz],\n",
    "                [1100 * u.MHz, 1500 * u.MHz],\n",
    "                [1500 * u.MHz, 2000 * u.MHz],\n",
    "            ]\n",
    "        },\n",
    "    }\n",
    "    \n",
    "    def __init__(self, name='chord'):\n",
    "        self.name = name\n",
    "        self.parameters = Telescope.parameters\n",
    "        \n",
    "    def get_parameters(self, name = None):\n",
    "        if name is None: name = self.name\n",
    "        return self.parameters[name]\n",
    "    \n",
    "    def bandwidth(self, name = None):\n",
    "        if name is None: name = self.name\n",
    "        return self.parameters[name]['v1'] - self.parameters[name]['v0']\n",
    "    \n",
    "    def sefd(self, name = None):\n",
    "        if name is None: name = self.name\n",
    "        return self.parameters[name]['sefd']  \n",
    "    \n",
    "    def v0(self, name = None):\n",
    "        if name is None: name = self.name\n",
    "        return self.parameters[name]['v0']\n",
    "    \n",
    "    def v1(self, name = None):\n",
    "        if name is None: name = self.name\n",
    "        return self.parameters[name]['v1']\n",
    "    \n",
    "    def get_parameter(self, parameter, name = None):\n",
    "        if name is None: name = self.name\n",
    "        return self.parameters[name][parameter]\n",
    "    \n",
    "    \n",
    "def get_lensed_fraction():\n",
    "    \"\"\" Fraction of lensed galaxies as a function of redshift from Collett 2015.\n",
    "    \"\"\"\n",
    "    # Ensures that there are ~1000 galaxies per step on average\n",
    "    z = np.linspace(zmin, zmax, lensed_galaxies_z.size//1000+1)\n",
    "    z_mean = (z[1:] + z[:-1]) / 2\n",
    "    # Unlensed population of galaxies used in Collett 2018 simulations\n",
    "    z_org = np.loadtxt('lsst_source_catalog.txt', usecols=2, delimiter=',')\n",
    "    \n",
    "    # Select bins containing enough galaxies\n",
    "    # Lensed population of galaxies from Collett 2018 simulations\n",
    "    Pz_sim, _ = np.histogram(lensed_galaxies_z, bins=z)\n",
    "    Pz_org, _ = np.histogram(z_org, bins=z)\n",
    "    idx = (Pz_sim > 10) & (Pz_org > 10)\n",
    "        \n",
    "    if frbs_evolve_with_luminosity:\n",
    "        # Luminosity of unlensed population of galaxies used in Collett 2018 simulations\n",
    "        M_org = np.loadtxt('lsst_source_catalog.txt', usecols=7, delimiter=',') * u.M_bol\n",
    "        L_org = M_org.to(u.L_bol) * 10 * 360**2 / np.pi  # The population covers 0.1 square deg\n",
    "        # Total luminosity of unlensed galaxy population per redshift step\n",
    "        PL_org, _ = np.histogram(\n",
    "            z_org, \n",
    "            bins=z, \n",
    "            weights=L_org\n",
    "        )\n",
    "        # Luminosity of lensed galaxies used from Collett 2018 simulations\n",
    "        L_sim = lensed_galaxies_Mv.to(u.L_sun)\n",
    "        # Total luminosity of lensed galaxy population per redshift step\n",
    "        PL_sim, _ = np.histogram(\n",
    "            lensed_galaxies_z, \n",
    "            bins=z, \n",
    "            weights=L_sim\n",
    "        )\n",
    "        # Fraction of luminosity of lensed galaxies per redshift step\n",
    "        lensed_fraction = PL_sim / PL_org\n",
    "\n",
    "    else:\n",
    "        Pz_org = Pz_org * 10 * 360**2 / np.pi  # The population covers 0.1 square deg\n",
    "        # Fraction of lensed galaxies per redshift step\n",
    "        lensed_fraction = Pz_sim / Pz_org\n",
    "        \n",
    "    lensed_fraction = lensed_fraction[idx]\n",
    "    z_mean = z_mean[idx]\n",
    "        \n",
    "    # Smooth the output\n",
    "    lensed_fraction = gf(lensed_fraction, 6)\n",
    "    # Interpolate with a spline\n",
    "    cs = spline(z_mean, lensed_fraction, extrapolate=False)\n",
    "    \n",
    "    return cs, z_mean.min(), z_mean.max()\n",
    "\n",
    "\n",
    "def get_distribution_redshift(\n",
    "    z_max = None,\n",
    "    z_min = None\n",
    "):\n",
    "    \"\"\"Redshift distribution for a population of FRBs not evolving with redshift.\n",
    "    \"\"\"\n",
    "    \n",
    "    if z_max is None:\n",
    "        z_max = lensed_galaxies_z.max()\n",
    "    if z_min is None:\n",
    "        z_min = lensed_galaxies_z.min()\n",
    "        \n",
    "    # Define z distribution PDF\n",
    "    Vmax = cosmo.comoving_volume()\n",
    "    z_pdf = lambda z: cosmo.differential_comoving_volume(z)*4*np.pi*u.sr / Vmax\n",
    "\n",
    "    # Find maximum of distribution with a spline and its derivative\n",
    "    z = np.linspace(z_min, z_max, 1000)\n",
    "    P_z = z_pdf(z)\n",
    "    cs = spline(z, P_z)\n",
    "    roots = cs.derivative().roots()\n",
    "    curve_max = z[P_z.argmax()]\n",
    "    z_max = roots[np.argmin(np.abs(roots - curve_max))]\n",
    "    y_max = z_pdf(z_max)\n",
    "    y_max = y_max + 0.01 * y_max\n",
    "\n",
    "    # Rejection sampling the distribution\n",
    "    # Initially, the distribution is filled with nan\n",
    "    z_dist = np.zeros(number_of_simulated_frbs) + np.nan\n",
    "    # Loop until no nan are present\n",
    "    while np.isnan(z_dist).any():\n",
    "        # Random values in a box around the function\n",
    "        x = rng.uniform(low=z_min, high=z_max, size=number_of_simulated_frbs)\n",
    "        y = rng.uniform(low=0, high=y_max, size=number_of_simulated_frbs)\n",
    "        # Resize the arrays to get the right number of bins\n",
    "        nan_size = z_dist[np.isnan(z_dist)].size\n",
    "        x = x[y < z_pdf(x)][:nan_size]\n",
    "        first_nan = np.argmax(z_dist)\n",
    "        z_dist[first_nan:first_nan+x.size] = x\n",
    "    return z_dist, z_min, z_max\n",
    "\n",
    "\n",
    "def get_distribution_dist(\n",
    "    simulate_lensed_frbs = True,\n",
    "    z_min = None,\n",
    "    z_max = None,\n",
    "    lensed_fraction = None,\n",
    "):\n",
    "    \"\"\"Distribution of the distance factor.\n",
    "    \"\"\"\n",
    "    # Fraction of lensed galaxies cataloged by Euclid vs redshift\n",
    "    if simulate_lensed_frbs:\n",
    "        lensed_fraction_interp, z_min, z_max = get_lensed_fraction()\n",
    "    \n",
    "    # Redshift distribution of FRBs in the Universe\n",
    "    z_dist, z_min, z_max = get_distribution_redshift(\n",
    "        z_min = z_min,\n",
    "        z_max = z_max,\n",
    "    )\n",
    "    \n",
    "    # Only simulate lensed FRBs\n",
    "    if simulate_lensed_frbs:\n",
    "        P_z = lensed_fraction_interp(z_dist)\n",
    "        P_random = rng.uniform(size=P_z.size)\n",
    "        z_dist = z_dist[P_random <= P_z]\n",
    "    \n",
    "    # Distance factor\n",
    "    Dl = cosmo.luminosity_distance(z_dist)\n",
    "    dist_factor = (1 + z_dist)**(alpha + 2) / (4 * np.pi * Dl**2)\n",
    "    \n",
    "    return dist_factor, z_min, z_max\n",
    "\n",
    "\n",
    "def get_bandwidth_correction(\n",
    "    bw_telescope,\n",
    "    bw_min = 50 * u.MHz,\n",
    "    loc = 400 * u.MHz,  # MHz\n",
    "    scale = 400 / 2 * u.MHz,  # MHz\n",
    "):\n",
    "    \"\"\"Assume that the bandwidth of FRBs is a normal distribution based on CHIME detections.\"\"\"\n",
    "    # Bandwidth distribution from a truncated normal distribution\n",
    "    bw_clip = (bw_min - loc) / scale\n",
    "    bw = truncnorm.rvs(\n",
    "        bw_clip, \n",
    "        np.inf, \n",
    "        loc=loc, \n",
    "        scale=scale,\n",
    "        size=number_of_simulated_frbs,\n",
    "        random_state=rng\n",
    "    ) * u.MHz\n",
    "    \n",
    "    # Bandwidth correction\n",
    "    bw_correction = np.sqrt(bw / bw_telescope).clip(max=1)\n",
    "    return bw_correction\n",
    "\n",
    "\n",
    "def schechter_distribution(\n",
    "    gamma,\n",
    "    Echar,\n",
    "    Emin\n",
    "):\n",
    "    \"\"\"Simulated distribution of a Schechter function.\"\"\"\n",
    "    schechter_logpdf = lambda E: np.log((E / Echar)**gamma / Echar * np.exp(-E / Echar))\n",
    "    return np.array(\n",
    "        adaptive_rejection_sampling(\n",
    "            logpdf = schechter_logpdf,  # Schechter function\n",
    "            a = Emin,  # Lower initial condition\n",
    "            b = Echar,  # Upper initial condition\n",
    "            domain = (Emin, float(\"inf\")),  # Domain of the Energy\n",
    "            n_samples = number_of_simulated_frbs,\n",
    "            seed = seed\n",
    "        )\n",
    "    )\n",
    "\n",
    "\n",
    "def get_energy_minimum(\n",
    "    telescope,\n",
    "    frb_w,\n",
    "    frb_tau,\n",
    "    z\n",
    "):\n",
    "    \"\"\"Minimum FRB energy required to detect a burst at redshift z with a signal-to-noise\n",
    "    ratio SNr and time resolution w, where rfi_band is lost due to interference.\n",
    "    \"\"\"\n",
    "    # Minimum duration\n",
    "    Dt = (frb_w + frb_tau).min()\n",
    "    # Maximum bandwidth\n",
    "    try:\n",
    "        bw = 0 * u.MHz\n",
    "        for band in telescope.get_parameter('bands'):\n",
    "            bw = max(bw, band[1] - band[0])\n",
    "    except KeyError:\n",
    "        bw = telescope.bandwidth()\n",
    "    # SEFD\n",
    "    sefd = telescope.sefd()\n",
    "    # Luminosity distance\n",
    "    Dl = cosmo.luminosity_distance(z)\n",
    "    # Coresponding minimum energy normalized to 1 GHz\n",
    "    E = (\n",
    "        4 * np.pi * Dl**2 / (1 + z)**(2 + alpha) * \n",
    "        np.sqrt(Dt / bw / 2) * SNr_min * sefd / np.sqrt(1 - rfi_band)\n",
    "    ) * u.GHz\n",
    "    return E.to(u.erg)\n",
    "\n",
    "\n",
    "def get_beam_response(\n",
    "    telescope,\n",
    "    min_frb_band = 50 * u.MHz,\n",
    "    efficiency = 0.7\n",
    "):\n",
    "    # Minimum band to detect >50 MHz of a burst\n",
    "    wavelength = (telescope.v0() + min_frb_band).to(u.meter, equivalencies=u.spectral())\n",
    "\n",
    "    try:\n",
    "        # Circular aperture\n",
    "        diameter = telescope.get_parameter('D')\n",
    "        # Half beam width between the first nulls\n",
    "        hwfn = (2.439 * u.rad * wavelength / diameter / 2).to(u.rad)\n",
    "        # Random angles\n",
    "        angle = rng.uniform(\n",
    "            low=0,\n",
    "            high=hwfn.to(u.rad).value**2,\n",
    "            size=number_of_simulated_frbs\n",
    "        )**0.5 * u.rad\n",
    "        # Normalized power\n",
    "        x = np.pi * np.sin(angle) * diameter / wavelength * np.sqrt(efficiency)\n",
    "        power = (2 * j1(x) / x)**2\n",
    "        # Simulated sky fraction\n",
    "        sky_fraction = (hwfn**2 / 4 / u.steradian).value\n",
    "\n",
    "    except KeyError:\n",
    "        # Rectangular aperture\n",
    "        size_x = telescope.get_parameter('Dx')\n",
    "        size_y = telescope.get_parameter('Dy')\n",
    "        # Half beam width between the first nulls\n",
    "        hwfn_x = np.arcsin((wavelength / size_x).to(u.dimensionless_unscaled))\n",
    "        hwfn_y = np.arcsin((wavelength / size_y).to(u.dimensionless_unscaled))\n",
    "        # Random angles\n",
    "        angle_x = rng.uniform(\n",
    "            low=0, \n",
    "            high=hwfn_x.to(u.rad).value, \n",
    "            size=number_of_simulated_frbs\n",
    "        ) * u.rad\n",
    "        angle_y = rng.uniform(\n",
    "            low=0, \n",
    "            high=hwfn_y.to(u.rad).value,\n",
    "            size=number_of_simulated_frbs\n",
    "        ) * u.rad\n",
    "        # Normalized power\n",
    "        power = (\n",
    "            (\n",
    "                np.sinc(np.sin(angle_x) * size_x / wavelength * u.rad) * \n",
    "                np.sinc(np.sin(angle_y) * size_y / wavelength * u.rad)\n",
    "            )**2\n",
    "        )\n",
    "        # Simulated sky fraction\n",
    "        sky_fraction = (hwfn_x * hwfn_y / 4 / np.pi / u.steradian).value\n",
    "\n",
    "    return sky_fraction, power\n",
    "\n",
    "\n",
    "def get_snr(\n",
    "    frb_E_nu,\n",
    "    frb_dist_fact,\n",
    "    alpha,\n",
    "    bw_telescope,\n",
    "    frb_w, \n",
    "    frb_tau,\n",
    "    frb_w_correction,\n",
    "    frb_bw_correction,\n",
    "    beam_response, \n",
    "    sefd, \n",
    "    rfi_band\n",
    "):\n",
    "    return (    \n",
    "        frb_E_nu * frb_dist_fact *\n",
    "        np.sqrt((2 * bw_telescope) / (frb_w + frb_tau)) * \n",
    "        frb_w_correction * frb_bw_correction *\n",
    "        (beam_response / sefd) *\n",
    "        np.sqrt(1 - rfi_band)\n",
    "    ).to(u.dimensionless_unscaled)\n",
    "\n",
    "    \n",
    "# Global values\n",
    "\n",
    "# Redshift and magnitude distributions of lensed galaxies detected by Euclid\n",
    "# From https://ui.adsabs.harvard.edu/abs/2015ApJ...811...20C/abstract\n",
    "lensed_galaxies_z = np.loadtxt('lenses_Euclid.txt', usecols=1)  # Redshift distribution\n",
    "lensed_galaxies_Mv = np.loadtxt('lenses_Euclid.txt', usecols=17) * u.M_bol # Magnitude distribution\n",
    "\n",
    "# FRB properties\n",
    "# From https://ui.adsabs.harvard.edu/abs/2022arXiv220714316S/abstract\n",
    "alpha = -1.39  # Spectral index\n",
    "Echar = 2.38e41 * u.erg  # Characteristic energy cut-of\n",
    "gamma = -1.3  # Differential power-law index\n",
    "Epivot = 1e39 * u.erg  # Pivot energy\n",
    "    \n",
    "# Parameters of the simulation\n",
    "number_of_simulated_frbs = int(1e5)  # Elements in the simulation\n",
    "elements_in_distributions = int(1e4)  # 1 / resolution of continuous distributions\n",
    "seed = 2911167007  # Seed of random processes\n",
    "rng = default_rng(seed)  # Random generator; seed fixed for reproducibility\n",
    "frbs_evolve_with_luminosity = True  # FRB rate follows galaxy luminosity\n",
    "zlim = None  # Limit on maximum redshift defined as [z_min, z_max]\n",
    "\n",
    "# Assumed observational prameters\n",
    "observing_time = 0.8  # Fraction of observing time\n",
    "SNr_min = 8  # Minimum detectable S/N\n",
    "rfi_band = 0.3  # Fraction of band affected by RFI\n",
    "w_telescope = 1 * u.ms\n",
    "\n",
    "\n",
    "def run_simulation(\n",
    "    telescope_name = 'dummy',\n",
    "    simulate_lensed_frbs = True, \n",
    "):\n",
    "    \"\"\" Simulate how many strongly lensed fast radio bursts (FRBs) are detected by a facility in one year.\n",
    "\n",
    "    Parameters\n",
    "    ----------\n",
    "    telescope_name : str = 'chord'\n",
    "        Telescope to simulate. Currently, 'chime', 'chord', and 'dsa2000' are supported.\n",
    "    simulate_lensed_frbs : bool\n",
    "        Simulate only lensed FRBs or the whole population.\n",
    "\n",
    "    Returns\n",
    "    -------\n",
    "    float\n",
    "        Rate per year.\n",
    "\n",
    "    \"\"\"\n",
    "    print(f'Starting the simulation for {telescope_name}')\n",
    "    print(f'{number_of_simulated_frbs} bursts will be simulated.')\n",
    "    \n",
    "    # Telescope parameters\n",
    "    telescope = Telescope(name=telescope_name)\n",
    "    \n",
    "    # FRB widths\n",
    "    # From https://ui.adsabs.harvard.edu/abs/2021ApJS..257...59C/abstract\n",
    "    sigma = 0.97\n",
    "    scale = 1.0 * u.ms\n",
    "    frb_w = rng.lognormal(\n",
    "        sigma = sigma, \n",
    "        size = number_of_simulated_frbs\n",
    "    ) * scale\n",
    "    \n",
    "    # FRB scattering\n",
    "    # From https://ui.adsabs.harvard.edu/abs/2021ApJS..257...59C/abstract\n",
    "    sigma = 1.72\n",
    "    scale = 2.02 * u.ms\n",
    "    frb_tau = rng.lognormal(\n",
    "        sigma = sigma, \n",
    "        size = number_of_simulated_frbs\n",
    "    ) * scale\n",
    "\n",
    "    # FRB time correction\n",
    "    frb_w_correction = np.sqrt(frb_w / w_telescope).clip(max=1)\n",
    "    \n",
    "    # FRB redshifts\n",
    "    frb_dist_fact, z_min, z_max = get_distribution_dist(\n",
    "        simulate_lensed_frbs = simulate_lensed_frbs,\n",
    "    )\n",
    "    \n",
    "    # FRB energies\n",
    "    # Minimum energy that can be detected from current sample\n",
    "    Emin = get_energy_minimum(\n",
    "        telescope,\n",
    "        frb_w,\n",
    "        frb_tau,\n",
    "        z_min\n",
    "    )\n",
    "    # Energy distribution\n",
    "    # A factor 1e40 is scaled to avoid overflows\n",
    "    frb_E = schechter_distribution(\n",
    "        gamma, \n",
    "        Echar.value / 1e40, \n",
    "        Emin.value / 1e40, \n",
    "    ) * 1e40 * u.erg\n",
    "    # Energy spectral density distribution\n",
    "    frb_E_nu = frb_E / u.GHz\n",
    "    \n",
    "    # FRB S/N values\n",
    "    # Search single bands if present\n",
    "    try:\n",
    "        search_bands = telescope.get_parameter('bands')\n",
    "        \n",
    "        # FRB bandwidth corrections\n",
    "        frb_bw_correction = get_bandwidth_correction(\n",
    "            telescope.bandwidth(),\n",
    "            bw_min = 50 * u.MHz,\n",
    "            loc = 400 * u.MHz,  # MHz\n",
    "            scale = 400 / 2 * u.MHz,  # MHz\n",
    "        )        \n",
    "\n",
    "        # Beam response\n",
    "        sky_fraction, beam_response = get_beam_response(telescope)\n",
    "        \n",
    "        frb_snr = np.zeros([len(search_bands), number_of_simulated_frbs])\n",
    "        for jj, (freq_low, freq_high) in enumerate(search_bands):\n",
    "            frb_snr[jj] = get_snr(\n",
    "                frb_E_nu,\n",
    "                frb_dist_fact,\n",
    "                alpha,\n",
    "                bw_telescope,\n",
    "                frb_w, \n",
    "                frb_tau,\n",
    "                frb_w_correction,\n",
    "                frb_bw_correction,\n",
    "                beam_response, \n",
    "                telescope.sefd(), \n",
    "                rfi_band\n",
    "            )\n",
    "        #frb_snr = frb_snr.max(axis=0)\n",
    "        \n",
    "        ## Normalize by fraction of the sky and number of FRBs simulated\n",
    "        #frb_detection_rate = (\n",
    "        #    number_of_emitted_frbs * \n",
    "        #    detected_frbs / \n",
    "        #    (number_of_simulated_frbs / u.year) * \n",
    "        #    sky_fraction\n",
    "        #)\n",
    "        \n",
    "    except KeyError:\n",
    "        frb_snr = get_snr(\n",
    "            frb_E_nu,\n",
    "            frb_dist_fact,\n",
    "            alpha,\n",
    "            bw_telescope,\n",
    "            frb_w, \n",
    "            frb_tau,\n",
    "            frb_w_correction,\n",
    "            frb_bw_correction,\n",
    "            beam_response, \n",
    "            telescope.sefd(), \n",
    "            rfi_band\n",
    "        )\n",
    "        \n",
    "        ## Normalize by fraction of the sky and number of FRBs simulated\n",
    "        #frb_detection_rate = (\n",
    "        #    number_of_emitted_frbs * \n",
    "        #    detected_frbs / \n",
    "        #    (number_of_simulated_frbs / u.year) * \n",
    "        #    sky_fraction\n",
    "        #)\n",
    "    \n",
    "    # Number of detections\n",
    "    detected_frbs = frb_snr[frb_snr > SNr_min].size * observing_time / u.year\n",
    "    #print(detected_frbs)\n",
    "    \n",
    "    # Convert to all-sky rate\n",
    "    convert_to_rate()\n",
    "    \n",
    "    # Fraction of sky covered by the simulation\n",
    "    \n",
    "    # Completeness of redshift range\n",
    "    z_max_detectable = get_max_detectable_redshift(Emax, sefd)\n",
    "    print(f\"Maximum redshift detected: {z_max_detected}\")\n",
    "    print(f\"Maximum redshift simulated: {z_max}\")\n",
    "    if z_max < z_max_detectable:\n",
    "        raise RuntimeWarning(\"Galaxy sample not deep enough!\")\n",
    "    \n",
    "    \n",
    "    print(f'The detection rate is {frb_detection_rate.to(1/u.year).value:.1f} FRBs per year,')\n",
    "    print(f'or 1 FRB detected every {1/(frb_detection_rate).to(1/u.year).value:.2f} years.')\n",
    "    return frb_detection_rate\n",
    "\n",
    "frb_detection_rate = run_simulation(telescope_name='chime', simulate_lensed_frbs = False)"
   ]
  },
  {
   "cell_type": "code",
   "execution_count": 269,
   "id": "25d157a7-62f3-4646-8fc3-4a3d7d4f43bb",
   "metadata": {
    "tags": []
   },
   "outputs": [
    {
     "data": {
      "text/plain": [
       "[[<Quantity 300. MHz>, <Quantity 700. MHz>],\n",
       " [<Quantity 700. MHz>, <Quantity 1100. MHz>],\n",
       " [<Quantity 1100. MHz>, <Quantity 1500. MHz>]]"
      ]
     },
     "execution_count": 269,
     "metadata": {},
     "output_type": "execute_result"
    }
   ],
   "source": [
    "telescope = Telescope(name='chord')\n",
    "telescope.get_parameter('bands')"
   ]
  },
  {
   "cell_type": "code",
   "execution_count": 277,
   "id": "06c27240-77ac-4a4c-924e-16d409206e0e",
   "metadata": {
    "tags": []
   },
   "outputs": [],
   "source": [
    "telescope = Telescope(name='dsa2000')\n",
    "\n",
    "try:\n",
    "    bw = 0 * u.MHz\n",
    "    for band in telescope.get_parameter('bands'):\n",
    "        bw = max(bw, band[1] - band[0])\n",
    "except KeyError:\n",
    "    bw = telescope.bandwidth()"
   ]
  },
  {
   "cell_type": "code",
   "execution_count": 278,
   "id": "c4e9c873-13a1-404c-bac7-21eaa17d1483",
   "metadata": {
    "tags": []
   },
   "outputs": [
    {
     "data": {
      "text/latex": [
       "$500 \\; \\mathrm{MHz}$"
      ],
      "text/plain": [
       "<Quantity 500. MHz>"
      ]
     },
     "execution_count": 278,
     "metadata": {},
     "output_type": "execute_result"
    }
   ],
   "source": [
    "bw"
   ]
  },
  {
   "cell_type": "code",
   "execution_count": null,
   "id": "86cd9347-14ef-4eef-9e58-04e26faae99f",
   "metadata": {},
   "outputs": [],
   "source": [
    "    parameters = {\n",
    "        'dummy': {  # test parameters\n",
    "            'sefd': 15 * u.Jy,\n",
    "            'v0': 800 * u.MHz,\n",
    "            'v1': 1600 * u.MHz,\n",
    "            'D': 50 * u.m,\n",
    "            'bands': [\n",
    "                [800 * u.MHz, 1200 * u.MHz],\n",
    "                [1200 * u.MHz, 1600 * u.MHz],\n",
    "            ]\n",
    "        },\n",
    "        'chime': {  # from https://ui.adsabs.harvard.edu/abs/2022ApJS..261...29C/abstract\n",
    "            # from https://ui.adsabs.harvard.edu/abs/2017ApJ...844..140C/abstract\n",
    "            'sefd': (50 + 34 * (600/408)**-2.6) / 1.38 * u.Jy,\n",
    "            'v0': 400 * u.MHz,\n",
    "            'v1': 800 * u.MHz,            \n",
    "            'Dx': 20 * u.m,\n",
    "            'Dy': 0.87 * u.m,  # Emprirical value to have a beam of ~100 deg\n",
    "            #'D': 8.4474307*u.m"
   ]
  },
  {
   "cell_type": "code",
   "execution_count": 266,
   "id": "96230b55-d674-47b4-ad75-661e0e0d2c96",
   "metadata": {
    "tags": []
   },
   "outputs": [
    {
     "data": {
      "text/latex": [
       "$3.8652758 \\times 10^{39} \\; \\mathrm{erg}$"
      ],
      "text/plain": [
       "<Quantity 3.86527581e+39 erg>"
      ]
     },
     "execution_count": 266,
     "metadata": {},
     "output_type": "execute_result"
    }
   ],
   "source": [
    "    Dt = 1*u.ms\n",
    "    z = 1\n",
    "    bw = 400*u.MHz\n",
    "    sefd = 10 * u.Jy\n",
    "\n",
    "    Dl = cosmo.luminosity_distance(z)\n",
    "    E = (\n",
    "        4 * np.pi * Dl**2 / (1 + z)**(2 + alpha) * \n",
    "        np.sqrt(Dt / bw / 2) * SNr_min * sefd / np.sqrt(1 - rfi_band)\n",
    "    ) * u.GHz\n",
    "    \n",
    "    E.to(u.erg)"
   ]
  },
  {
   "cell_type": "markdown",
   "id": "45a17ae1-a5d1-430d-bc5e-dc2abb8b5ba4",
   "metadata": {},
   "source": [
    "TODO\n",
    "- Rivedere band search: perche' tre bande se non ho central frequency\n",
    "- Emin influenza i rate e non dovrebbe. Per esempio, se aumento la sedf di dsa2000, ho piu' FRBs detected\n",
    "- Scattering in lens: \n",
    "    - https://arxiv.org/pdf/1706.06103.pdf\n",
    "    - https://iopscience.iop.org/article/10.1088/0004-637X/776/2/125/pdf\n",
    "- Compare rates to https://arxiv.org/pdf/2206.14310.pdf\n",
    "\n",
    "\n",
    "- Rewrite distribution distance\n",
    "- Check energy distribution, and update it with Clancy models"
   ]
  },
  {
   "cell_type": "code",
   "execution_count": 3,
   "id": "aee10d60-3bb5-4b08-96fc-197cca442b7d",
   "metadata": {},
   "outputs": [],
   "source": [
    "chime = 700\n",
    "chord = 5000\n",
    "dsa2000 = 1200"
   ]
  },
  {
   "cell_type": "code",
   "execution_count": null,
   "id": "b6f6d373-3861-4262-9f8a-6ee4e746e3ea",
   "metadata": {
    "tags": []
   },
   "outputs": [],
   "source": []
  },
  {
   "cell_type": "code",
   "execution_count": null,
   "id": "e09d2a53-6ad8-463e-9fe7-b69e3ab85f9e",
   "metadata": {},
   "outputs": [],
   "source": []
  },
  {
   "cell_type": "code",
   "execution_count": 4,
   "id": "599fdf97-88ed-4f45-848a-89e15fc92f80",
   "metadata": {},
   "outputs": [
    {
     "ename": "SyntaxError",
     "evalue": "invalid syntax (2257971196.py, line 1)",
     "output_type": "error",
     "traceback": [
      "\u001b[0;36m  Cell \u001b[0;32mIn[4], line 1\u001b[0;36m\u001b[0m\n\u001b[0;31m    https://web.mit.edu/urban_or_book/www/book/chapter7/7.1.3.html\u001b[0m\n\u001b[0m          ^\u001b[0m\n\u001b[0;31mSyntaxError\u001b[0m\u001b[0;31m:\u001b[0m invalid syntax\n"
     ]
    }
   ],
   "source": [
    "https://web.mit.edu/urban_or_book/www/book/chapter7/7.1.3.html\n",
    "https://docs.scipy.org/doc/scipy/tutorial/stats/sampling.html\n",
    "https://towardsdatascience.com/rejection-sampling-with-python-d7a30cfc327b"
   ]
  },
  {
   "cell_type": "code",
   "execution_count": null,
   "id": "5c55870d-7f68-42eb-95dd-59a9d18798f9",
   "metadata": {
    "tags": []
   },
   "outputs": [],
   "source": [
    "https://iopscience.iop.org/article/10.1086/589501/pdf  # The Schechter function is equivalent to a gamma distribution with shape parameter k = alpha + 1 and scale parameter L*\n",
    "https://iopscience.iop.org/article/10.3847/2515-5172/abacb8  # one can generate samples from the BB1 distribution using a straightforward modification of a widely-used algorithm for sampling from the gamma distribution due to Ahrens & Dieter (1974). These properties make it useful for simulation studies."
   ]
  },
  {
   "cell_type": "code",
   "execution_count": null,
   "id": "7d5f5059-8719-4354-accf-9ab8461bffaf",
   "metadata": {},
   "outputs": [],
   "source": [
    "https://www.math.leidenuniv.nl/~gill/teaching/astro/stanSchechter.pdf"
   ]
  },
  {
   "cell_type": "code",
   "execution_count": null,
   "id": "c55d0fa1-2153-43bb-a0ab-d0312c7bda4b",
   "metadata": {},
   "outputs": [],
   "source": []
  },
  {
   "cell_type": "code",
   "execution_count": null,
   "id": "3d8f86c6-c2d0-4358-8faf-f9ef70b83c7e",
   "metadata": {},
   "outputs": [],
   "source": []
  },
  {
   "cell_type": "code",
   "execution_count": null,
   "id": "6cb497fb-ede0-4f92-b28c-c79b3245cf4b",
   "metadata": {},
   "outputs": [],
   "source": []
  },
  {
   "cell_type": "code",
   "execution_count": null,
   "id": "a751e223-73e9-4939-8d4d-b0867f7ffe7a",
   "metadata": {},
   "outputs": [],
   "source": [
    "def schechter_distribution(\n",
    "    gamma,\n",
    "    Echar,\n",
    "    Emin\n",
    "):\n",
    "    \"\"\"Simulated distribution of a Schechter function.\"\"\"\n",
    "    \n",
    "\n",
    "sc = (E / Echar)**gamma / Echar * np.exp(-E / Echar)"
   ]
  },
  {
   "cell_type": "code",
   "execution_count": 249,
   "id": "09210f88-5090-444f-a16c-c4154f45932e",
   "metadata": {
    "tags": []
   },
   "outputs": [
    {
     "data": {
      "text/latex": [
       "$2.38 \\times 10^{41} \\; \\mathrm{erg}$"
      ],
      "text/plain": [
       "<Quantity 2.38e+41 erg>"
      ]
     },
     "execution_count": 249,
     "metadata": {},
     "output_type": "execute_result"
    }
   ],
   "source": [
    "Echar"
   ]
  },
  {
   "cell_type": "code",
   "execution_count": 250,
   "id": "198b6137-321b-4e16-9128-d0fcfb2c081d",
   "metadata": {
    "tags": []
   },
   "outputs": [],
   "source": [
    "Emin = 1\n",
    "Emax = 10**11.84\n",
    "Echar = 2.38*10**11\n",
    "gamma = -1.16\n",
    "E = np.linspace(Emin, Emax, 100)\n",
    "\n",
    "sc = (E / Echar)**gamma / Echar * np.exp(-E / Echar)\n",
    "P_E = ((E / Emin)**gamma - (Emax / Emin)**gamma) / (1 - (Emax / Emin)**gamma)"
   ]
  },
  {
   "cell_type": "code",
   "execution_count": 251,
   "id": "95a8fbec-7ffa-48f4-a63f-28364a86057a",
   "metadata": {
    "tags": []
   },
   "outputs": [
    {
     "data": {
      "image/png": "[encoded data removed]",
      "text/plain": [
       "<Figure size 640x480 with 1 Axes>"
      ]
     },
     "metadata": {},
     "output_type": "display_data"
    }
   ],
   "source": [
    "plt.plot(E, P_E, 'k-', E, sc, 'r-')\n",
    "plt.yscale('log')"
   ]
  },
  {
   "cell_type": "code",
   "execution_count": null,
   "id": "c347d5e3-d37d-42d0-8efc-2a98ad1b929c",
   "metadata": {},
   "outputs": [],
   "source": []
  },
  {
   "cell_type": "code",
   "execution_count": null,
   "id": "b3dedd56-48ad-4437-b93b-a23f72979213",
   "metadata": {},
   "outputs": [],
   "source": []
  },
  {
   "cell_type": "code",
   "execution_count": null,
   "id": "d7f5fb5e-a233-439f-8abe-e1dc967239e7",
   "metadata": {},
   "outputs": [],
   "source": []
  },
  {
   "cell_type": "code",
   "execution_count": null,
   "id": "6c262b5a-a391-4b2d-9c4c-c3ba0e2ddbac",
   "metadata": {},
   "outputs": [],
   "source": []
  },
  {
   "cell_type": "code",
   "execution_count": null,
   "id": "5b34b3e2-6923-4360-81d2-2f9664dc532f",
   "metadata": {},
   "outputs": [],
   "source": []
  },
  {
   "cell_type": "code",
   "execution_count": null,
   "id": "c70ed2e1",
   "metadata": {},
   "outputs": [],
   "source": [
    "# Follow-up\n",
    "from astropy.coordinates import AltAz, EarthLocation, SkyCoord\n",
    "from astropy.time import Time"
   ]
  },
  {
   "cell_type": "code",
   "execution_count": 4,
   "id": "a7c6ce6f",
   "metadata": {},
   "outputs": [],
   "source": [
    "source_low_dec = SkyCoord(ra=0*u.deg, dec=-10*u.deg)\n",
    "source_mid_dec = SkyCoord(ra=0*u.deg, dec=45*u.deg)\n",
    "source_high_dec = SkyCoord(ra=0*u.deg, dec=89*u.deg)"
   ]
  },
  {
   "cell_type": "code",
   "execution_count": 5,
   "id": "4fc7c46e",
   "metadata": {},
   "outputs": [],
   "source": [
    "gbt = EarthLocation.of_site('GBT')\n",
    "gmrt = EarthLocation.of_site('GMRT')\n",
    "eff = EarthLocation.of_site('Effelsberg')"
   ]
  },
  {
   "cell_type": "code",
   "execution_count": 26,
   "id": "be5f2a98",
   "metadata": {},
   "outputs": [
    {
     "name": "stdout",
     "output_type": "stream",
     "text": [
      "90.0% of time the source can be observed\n"
     ]
    },
    {
     "data": {
      "image/png": "[encoded data removed]",
      "text/plain": [
       "<Figure size 640x480 with 1 Axes>"
      ]
     },
     "metadata": {},
     "output_type": "display_data"
    }
   ],
   "source": [
    "# Low dec\n",
    "ha = np.linspace(-12, 12, 100)\n",
    "t = ha*u.hour + Time('2012-7-13 00:00:00')\n",
    "y_t = np.zeros_like(ha) + np.nan\n",
    "\n",
    "# GBT\n",
    "alt_gbt = source_low_dec.transform_to(AltAz(obstime=t, location=gbt)).alt\n",
    "idx = alt_gbt > 0\n",
    "x = ha.copy()\n",
    "x[~idx] = np.nan\n",
    "y = alt_gbt.value.copy()\n",
    "y[~idx] = np.nan\n",
    "plt.plot(x, y, 'b-', label='GBT')\n",
    "y_t[idx] = 0\n",
    "\n",
    "# GMRT\n",
    "alt_gmrt = source_low_dec.transform_to(AltAz(obstime=t, location=gmrt)).alt\n",
    "idx = alt_gmrt > 0\n",
    "x = ha.copy()\n",
    "x[~idx] = np.nan\n",
    "y = alt_gmrt.value.copy()\n",
    "y[~idx] = np.nan\n",
    "plt.plot(x, y, 'r-', label='GMRT')\n",
    "y_t[idx] = 0\n",
    "\n",
    "# Effelsberg\n",
    "alt_eff = source_low_dec.transform_to(AltAz(obstime=t, location=eff)).alt\n",
    "idx = alt_eff > 0\n",
    "x = ha.copy()\n",
    "x[~idx] = np.nan\n",
    "y = alt_eff.value.copy()\n",
    "y[~idx] = np.nan\n",
    "plt.plot(x, y, 'g-', label='Effelsberg')\n",
    "y_t[idx] = 0\n",
    "\n",
    "plt.plot(ha, y_t, \"k-\")\n",
    "plt.legend()\n",
    "plt.title('Dec = -10 deg')\n",
    "\n",
    "print(f'{y_t[~np.isnan(y_t)].size / y_t.size * 100:.1f}% of time the source can be observed')"
   ]
  },
  {
   "cell_type": "code",
   "execution_count": 27,
   "id": "cc707d24",
   "metadata": {},
   "outputs": [
    {
     "name": "stdout",
     "output_type": "stream",
     "text": [
      "100.0% of time the source can be observed\n"
     ]
    },
    {
     "data": {
      "image/png": "[encoded data removed]",
      "text/plain": [
       "<Figure size 640x480 with 1 Axes>"
      ]
     },
     "metadata": {},
     "output_type": "display_data"
    }
   ],
   "source": [
    "# Mid dec\n",
    "ha = np.linspace(-12, 12, 100)\n",
    "t = ha*u.hour + Time('2012-7-13 00:00:00')\n",
    "y_t = np.zeros_like(ha) + np.nan\n",
    "\n",
    "# GBT\n",
    "alt_gbt = source_mid_dec.transform_to(AltAz(obstime=t, location=gbt)).alt\n",
    "idx = alt_gbt > 0\n",
    "x = ha.copy()\n",
    "x[~idx] = np.nan\n",
    "y = alt_gbt.value.copy()\n",
    "y[~idx] = np.nan\n",
    "plt.plot(x, y, 'b-', label='GBT')\n",
    "y_t[idx] = 0\n",
    "\n",
    "# GMRT\n",
    "alt_gmrt = source_mid_dec.transform_to(AltAz(obstime=t, location=gmrt)).alt\n",
    "idx = alt_gmrt > 0\n",
    "x = ha.copy()\n",
    "x[~idx] = np.nan\n",
    "y = alt_gmrt.value.copy()\n",
    "y[~idx] = np.nan\n",
    "plt.plot(x, y, 'r-', label='GMRT')\n",
    "y_t[idx] = 0\n",
    "\n",
    "# Effelsberg\n",
    "alt_eff = source_mid_dec.transform_to(AltAz(obstime=t, location=eff)).alt\n",
    "idx = alt_eff > 0\n",
    "x = ha.copy()\n",
    "x[~idx] = np.nan\n",
    "y = alt_eff.value.copy()\n",
    "y[~idx] = np.nan\n",
    "plt.plot(x, y, 'g-', label='Effelsberg')\n",
    "y_t[idx] = 0\n",
    "\n",
    "plt.plot(ha, y_t, \"k-\")\n",
    "plt.legend()\n",
    "plt.title('Dec = 45 deg')\n",
    "\n",
    "print(f'{y_t[~np.isnan(y_t)].size / y_t.size * 100:.1f}% of time the source can be observed')"
   ]
  },
  {
   "cell_type": "code",
   "execution_count": 28,
   "id": "f23544bf",
   "metadata": {},
   "outputs": [
    {
     "name": "stdout",
     "output_type": "stream",
     "text": [
      "100.0% of time the source can be observed\n"
     ]
    },
    {
     "data": {
      "image/png": "[encoded data removed]",
      "text/plain": [
       "<Figure size 640x480 with 1 Axes>"
      ]
     },
     "metadata": {},
     "output_type": "display_data"
    }
   ],
   "source": [
    "# High dec\n",
    "ha = np.linspace(-12, 12, 100)\n",
    "t = ha*u.hour + Time('2012-7-13 00:00:00')\n",
    "y_t = np.zeros_like(ha) + np.nan\n",
    "\n",
    "# GBT\n",
    "alt_gbt = source_high_dec.transform_to(AltAz(obstime=t, location=gbt)).alt\n",
    "idx = alt_gbt > 0\n",
    "x = ha.copy()\n",
    "x[~idx] = np.nan\n",
    "y = alt_gbt.value.copy()\n",
    "y[~idx] = np.nan\n",
    "plt.plot(x, y, 'b-', label='GBT')\n",
    "y_t[idx] = 0\n",
    "\n",
    "# GMRT\n",
    "alt_gmrt = source_high_dec.transform_to(AltAz(obstime=t, location=gmrt)).alt\n",
    "idx = alt_gmrt > 0\n",
    "x = ha.copy()\n",
    "x[~idx] = np.nan\n",
    "y = alt_gmrt.value.copy()\n",
    "y[~idx] = np.nan\n",
    "plt.plot(x, y, 'r-', label='GMRT')\n",
    "y_t[idx] = 0\n",
    "\n",
    "# Effelsberg\n",
    "alt_eff = source_high_dec.transform_to(AltAz(obstime=t, location=eff)).alt\n",
    "idx = alt_eff > 0\n",
    "x = ha.copy()\n",
    "x[~idx] = np.nan\n",
    "y = alt_eff.value.copy()\n",
    "y[~idx] = np.nan\n",
    "plt.plot(x, y, 'g-', label='Effelsberg')\n",
    "y_t[idx] = 0\n",
    "\n",
    "plt.plot(ha, y_t, \"k-\")\n",
    "plt.legend()\n",
    "plt.title('Dec = 89 deg')\n",
    "\n",
    "print(f'{y_t[~np.isnan(y_t)].size / y_t.size * 100:.1f}% of time the source can be observed')"
   ]
  },
  {
   "cell_type": "code",
   "execution_count": null,
   "id": "a126f7ea",
   "metadata": {},
   "outputs": [],
   "source": []
  },
  {
   "cell_type": "code",
   "execution_count": null,
   "id": "d9fc2dd7",
   "metadata": {},
   "outputs": [],
   "source": []
  },
  {
   "cell_type": "code",
   "execution_count": null,
   "id": "f5df9157",
   "metadata": {},
   "outputs": [],
   "source": []
  },
  {
   "cell_type": "code",
   "execution_count": 1125,
   "id": "e41b31b6",
   "metadata": {},
   "outputs": [
    {
     "data": {
      "text/plain": [
       "<matplotlib.legend.Legend at 0x7efc277a3cd0>"
      ]
     },
     "execution_count": 1125,
     "metadata": {},
     "output_type": "execute_result"
    },
    {
     "data": {
      "image/png": "[encoded data removed]",
      "text/plain": [
       "<Figure size 640x480 with 1 Axes>"
      ]
     },
     "metadata": {},
     "output_type": "display_data"
    }
   ],
   "source": [
    "# FRB radial distribution within host galaxies\n",
    "\n",
    "#https://arxiv.org/pdf/2009.10747.pdf\n",
    "#https://arxiv.org/pdf/2302.14782.pdf\n",
    "#https://arxiv.org/pdf/2108.01282.pdf\n",
    "#https://arxiv.org/pdf/2301.01000.pdf\n",
    "\n",
    "# i-band and r-band\n",
    "offset = np.array([0.6, 5.5, 3.4, 1.2, 2.0, 27, 6.6, 11, 3.2, 1.9, 11, 3.0, 9.87, 3.80, 10.8, 5.7, 5.9, 2.3])\n",
    "reff = np.array([0.7, 3.6, 2.7, 7.2, 4.4, 3.3, 2.8, 2.1, 2.9, 3.9, 5.5, 1.6, 2.67, 6.64, 5.80, 1.78, 7.58, 2.7])\n",
    "\n",
    "r = np.sort(offset / reff)\n",
    "F = np.arange(r.size)/r.size\n",
    "\n",
    "from scipy import stats\n",
    "y_hist, bins = np.histogram(r, bins=np.arange(10))\n",
    "x_hist = bins[:-1]\n",
    "plt.step(x_hist, y_hist/y_hist.max(), color='k')\n",
    "\n",
    "\n",
    "x = np.linspace(x_hist.min(), x_hist.max(), 100)\n",
    "y = np.exp(-x)\n",
    "#y = y / y.max() * 7\n",
    "plt.plot(x, y, 'r-', label='exp(dR)')\n",
    "plt.xlabel('dR = offset / Reff')\n",
    "plt.ylabel('N (normalized)')\n",
    "plt.legend()"
   ]
  },
  {
   "cell_type": "code",
   "execution_count": null,
   "id": "2e8b7341",
   "metadata": {},
   "outputs": [],
   "source": []
  },
  {
   "cell_type": "code",
   "execution_count": null,
   "id": "a49fa502",
   "metadata": {},
   "outputs": [],
   "source": []
  },
  {
   "cell_type": "code",
   "execution_count": null,
   "id": "056f7a6e",
   "metadata": {},
   "outputs": [],
   "source": []
  },
  {
   "cell_type": "code",
   "execution_count": 8,
   "id": "da2109a2-3c4c-4f61-8b6a-b336ee3028f3",
   "metadata": {
    "tags": []
   },
   "outputs": [],
   "source": []
  },
  {
   "cell_type": "code",
   "execution_count": null,
   "id": "3353542e-84de-4f84-a60c-2ca76cc0f768",
   "metadata": {},
   "outputs": [],
   "source": []
  },
  {
   "cell_type": "code",
   "execution_count": null,
   "id": "f81bdd69-60e1-464f-ac71-6a3ebca956e8",
   "metadata": {},
   "outputs": [],
   "source": []
  },
  {
   "cell_type": "code",
   "execution_count": null,
   "id": "ea92540b-5c21-4f54-b842-5b35d3995f4b",
   "metadata": {},
   "outputs": [],
   "source": []
  },
  {
   "cell_type": "code",
   "execution_count": 1,
   "id": "954bf913-bec5-49b8-a036-3aaafa38a376",
   "metadata": {
    "tags": []
   },
   "outputs": [],
   "source": [
    "import sys\n",
    "sys.path.insert(0, \"/arc/home/michilli/ARSpy/\")"
   ]
  },
  {
   "cell_type": "code",
   "execution_count": 1,
   "id": "764c9913-56b5-48f6-9f5b-462f6e1eb108",
   "metadata": {
    "tags": []
   },
   "outputs": [],
   "source": [
    "import sys\n",
    "sys.path.append(\"/arc/home/michilli/.local/lib/python3.8/site-packages/\")"
   ]
  },
  {
   "cell_type": "code",
   "execution_count": 2,
   "id": "25cf322c-4e91-456c-8ffd-2c932add18bc",
   "metadata": {
    "tags": []
   },
   "outputs": [
    {
     "data": {
      "text/plain": [
       "<module 'arspy' from '/arc/home/michilli/.local/lib/python3.8/site-packages/arspy/__init__.py'>"
      ]
     },
     "execution_count": 2,
     "metadata": {},
     "output_type": "execute_result"
    }
   ],
   "source": [
    "import numpy as np\n",
    "from arspy.ars import adaptive_rejection_sampling\n",
    "import arspy\n",
    "arspy"
   ]
  },
  {
   "cell_type": "code",
   "execution_count": 11,
   "id": "70b97ac5-c3d2-4c7d-86bc-de4ad40600fa",
   "metadata": {
    "tags": []
   },
   "outputs": [
    {
     "data": {
      "text/plain": [
       "[12.861100329233185,\n",
       " 9.241582899926813,\n",
       " 5.879467523159431,\n",
       " 13.771304112580912,\n",
       " 6.769463372110595,\n",
       " 28.629075515917624,\n",
       " 13.878310332472786,\n",
       " 41.59553148937909,\n",
       " 11.339655566858509,\n",
       " 6.0358931232771775]"
      ]
     },
     "execution_count": 11,
     "metadata": {},
     "output_type": "execute_result"
    }
   ],
   "source": [
    "    gamma = -1.3\n",
    "    Echar=30\n",
    "    Emin=5\n",
    "    \"\"\"Simulated distribution of a Schechter function.\"\"\"\n",
    "    schechter_logpdf = lambda E: np.log((E / Echar)**gamma / Echar * np.exp(-E / Echar))\n",
    "    adaptive_rejection_sampling(\n",
    "        logpdf = schechter_logpdf,  # Schechter function\n",
    "        a = Emin,  # Lower initial condition\n",
    "        b = Echar,  # Upper initial condition\n",
    "        domain = (Emin, float(\"inf\")),  # Domain of the Energy\n",
    "        n_samples = 10,\n",
    "        seed=2911167007\n",
    "    )"
   ]
  },
  {
   "cell_type": "code",
   "execution_count": null,
   "id": "d5b4b1ac-66df-4bf7-b4b1-2ba6e8882c56",
   "metadata": {
    "tags": []
   },
   "outputs": [],
   "source": []
  },
  {
   "cell_type": "code",
   "execution_count": null,
   "id": "5382cc09-25c3-49a4-9c47-5d5776369d60",
   "metadata": {},
   "outputs": [],
   "source": []
  },
  {
   "cell_type": "code",
   "execution_count": 36,
   "id": "b4d976d5-272b-4d69-9c7d-ab7629eaa3be",
   "metadata": {
    "tags": []
   },
   "outputs": [],
   "source": [
    "l = (0.7*u.GHz).to(u.km, equivalencies=u.spectral())\n",
    "D = 15*u.km"
   ]
  },
  {
   "cell_type": "code",
   "execution_count": 37,
   "id": "a0eecaaf-e4ca-4250-881d-019fdb9a710a",
   "metadata": {
    "tags": []
   },
   "outputs": [
    {
     "data": {
      "text/latex": [
       "$5.8892032 \\; \\mathrm{{}^{\\prime\\prime}}$"
      ],
      "text/plain": [
       "<Quantity 5.88920317 arcsec>"
      ]
     },
     "execution_count": 37,
     "metadata": {},
     "output_type": "execute_result"
    }
   ],
   "source": [
    "(l/D * u.rad).to(u.arcsec)"
   ]
  },
  {
   "cell_type": "code",
   "execution_count": 42,
   "id": "f53dc5a1-e64c-496d-b3af-6326f840e270",
   "metadata": {
    "tags": []
   },
   "outputs": [
    {
     "data": {
      "text/latex": [
       "$77.085375 \\; \\mathrm{}$"
      ],
      "text/plain": [
       "<Quantity 77.0853753>"
      ]
     },
     "execution_count": 42,
     "metadata": {},
     "output_type": "execute_result"
    }
   ],
   "source": [
    "(10.6*u.deg**2).to(u.steradian) / (4*np.pi*u.steradian) * 300000 "
   ]
  },
  {
   "cell_type": "code",
   "execution_count": null,
   "id": "c22d0a35-66c4-49f0-84da-5d65c9416897",
   "metadata": {},
   "outputs": [],
   "source": []
  }
 ],
 "metadata": {
  "kernelspec": {
   "display_name": "Python 3 (ipykernel)",
   "language": "python",
   "name": "python3"
  },
  "language_info": {
   "codemirror_mode": {
    "name": "ipython",
    "version": 3
   },
   "file_extension": ".py",
   "mimetype": "text/x-python",
   "name": "python",
   "nbconvert_exporter": "python",
   "pygments_lexer": "ipython3",
   "version": "3.8.16"
  }
 },
 "nbformat": 4,
 "nbformat_minor": 5
}
