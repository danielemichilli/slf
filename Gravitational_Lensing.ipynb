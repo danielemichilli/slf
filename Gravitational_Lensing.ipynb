{
 "cells": [
  {
   "cell_type": "markdown",
   "id": "0758a1c2-8c46-4a92-a5c3-8bce4a29cb4b",
   "metadata": {},
   "source": [
    "- Use https://arxiv.org/abs/1706.06103 for scattering\n",
    "- Use term \"optical depth\" instead of lensing fraction, check that out\n",
    "- Update parameters with https://arxiv.org/pdf/2208.00819.pdf\n",
    "\n",
    "TODO\n",
    "- Rivedere band search: perche' tre bande se non ho central frequency\n",
    "- Emin influenza i rate e non dovrebbe. Per esempio, se aumento la sedf di dsa2000, ho piu' FRBs detected\n",
    "- Scattering in lens: \n",
    "    - https://arxiv.org/pdf/1706.06103.pdf\n",
    "    - https://iopscience.iop.org/article/10.1088/0004-637X/776/2/125/pdf\n",
    "- Compare rates to https://arxiv.org/pdf/2206.14310.pdf\n",
    "\n",
    "\n",
    "- Check distribution distance\n",
    "- Calculate detection rate\n",
    "- Check energy distribution, and update it with Clancy models\n",
    "- Update parameters with Clancy model\n",
    "- Include evolution with SFR\n"
   ]
  },
  {
   "cell_type": "code",
   "execution_count": null,
   "id": "2adc92be-2ddb-4116-adfd-c05059bc912f",
   "metadata": {
    "tags": []
   },
   "outputs": [],
   "source": []
  },
  {
   "cell_type": "code",
   "execution_count": null,
   "id": "1bf23c01-3b76-45f2-85b9-31fd3ac25147",
   "metadata": {
    "tags": []
   },
   "outputs": [],
   "source": []
  },
  {
   "cell_type": "code",
   "execution_count": null,
   "id": "5d048da6-4c25-4841-a3c0-de5f34062c8a",
   "metadata": {},
   "outputs": [],
   "source": []
  },
  {
   "cell_type": "code",
   "execution_count": 199,
   "id": "f99035f9-0a01-4600-a4a1-5abf53a6836c",
   "metadata": {
    "tags": []
   },
   "outputs": [
    {
     "data": {
      "text/latex": [
       "$7.3 \\times 10^{-5} \\; \\mathrm{\\frac{1}{yr\\,Mpc^{3}}}$"
      ],
      "text/plain": [
       "<Quantity 7.3e-05 1 / (Mpc3 yr)>"
      ]
     },
     "execution_count": 199,
     "metadata": {},
     "output_type": "execute_result"
    }
   ],
   "source": [
    "frb_emission_rate_z0_Epivot"
   ]
  },
  {
   "cell_type": "code",
   "execution_count": 198,
   "id": "718c2ec6-1d3f-48ef-918a-54c27fa27d3b",
   "metadata": {
    "tags": []
   },
   "outputs": [
    {
     "data": {
      "text/latex": [
       "$70958384 \\; \\mathrm{\\frac{1}{yr}}$"
      ],
      "text/plain": [
       "<Quantity 70958383.74966705 1 / yr>"
      ]
     },
     "execution_count": 198,
     "metadata": {},
     "output_type": "execute_result"
    }
   ],
   "source": [
    "z_pdf(1)"
   ]
  },
  {
   "cell_type": "code",
   "execution_count": 204,
   "id": "c9553b24-f02b-4055-b1e7-5be263393ca1",
   "metadata": {
    "tags": []
   },
   "outputs": [],
   "source": [
    "    z_max = lensed_galaxies_z.max()\n",
    "    z_min = lensed_galaxies_z.min()\n",
    "        \n",
    "    # PDF of z distribution\n",
    "    # Calculate the integrated normalization\n",
    "    sfr = lambda z: (1 + z)**2.7 / (2.9**5.6 + (1 + z)**5.6)\n",
    "    z_pdf = lambda z: (\n",
    "        frb_emission_rate_z0_Epivot * \n",
    "        cosmo.differential_comoving_volume(z)*4*np.pi*u.sr / \n",
    "        (1 + z) * (sfr(z) / sfr(0))**n_sfr\n",
    "    ).to(1/u.yr).value\n",
    "    #z_pdf_Mpc = lambda z: z_pdf(z).to(u.Mpc**3).value\n",
    "    integral_emission_rate = integrate.quad(z_pdf, z_min, z_max)[0]\n",
    "    # Normalized distribution\n",
    "    z_pdf_norm = lambda z: z_pdf(z) / integral_emission_rate\n",
    "\n",
    "    # Find maximum of distribution with a spline and its derivative\n",
    "    # Mock data\n",
    "    z = np.linspace(z_min, z_max, 1000)\n",
    "    P_z = z_pdf_norm(z)\n",
    "    # Spline interpolation\n",
    "    cs = spline(z, P_z)\n",
    "    # Redshift of null derivatives\n",
    "    roots = cs.derivative().roots()\n",
    "    # Location of the maximum of the curve\n",
    "    curve_max = z[P_z.argmax()]\n",
    "    # Redshift of the null derivative closest to the location of the maximum\n",
    "    x_max = roots[np.argmin(np.abs(roots - curve_max))]\n",
    "    # Maximum of the distribution plus 1% to account for granularity\n",
    "    y_max = z_pdf_norm(x_max)\n",
    "    y_max = y_max + 0.01 * y_max\n",
    "\n",
    "    # Rejection sampling the distribution\n",
    "    # Initially, the distribution is filled with nan\n",
    "    z_dist = np.zeros(number_of_simulated_frbs) + np.nan\n",
    "    # Loop until no nan are present\n",
    "    while np.isnan(z_dist).any():\n",
    "        # Random values in a box around the function\n",
    "        x = rng.uniform(low=z_min, high=z_max, size=number_of_simulated_frbs)\n",
    "        y = rng.uniform(low=0, high=y_max, size=number_of_simulated_frbs)\n",
    "        # Resize the arrays to get the right number of bins\n",
    "        nan_size = z_dist[np.isnan(z_dist)].size\n",
    "        x = x[y < z_pdf_norm(x)][:nan_size]\n",
    "        first_nan = np.argmax(z_dist)\n",
    "        z_dist[first_nan:first_nan+x.size] = x"
   ]
  },
  {
   "cell_type": "code",
   "execution_count": 207,
   "id": "b4faf2e0-214e-4c8d-9864-3625c3887e62",
   "metadata": {
    "tags": []
   },
   "outputs": [
    {
     "data": {
      "text/plain": [
       "<matplotlib.lines.Line2D at 0x7f5673cea220>"
      ]
     },
     "execution_count": 207,
     "metadata": {},
     "output_type": "execute_result"
    },
    {
     "data": {
      "image/png": "[encoded data removed]",
      "text/plain": [
       "<Figure size 640x480 with 1 Axes>"
      ]
     },
     "metadata": {},
     "output_type": "display_data"
    }
   ],
   "source": [
    "plt.plot(z, P_z)\n",
    "_ = plt.hist(z_dist, bins=100, density=True)\n",
    "plt.axhline(y_max)"
   ]
  },
  {
   "cell_type": "code",
   "execution_count": null,
   "id": "912566ab-545e-4a1f-9466-555e05d3c134",
   "metadata": {},
   "outputs": [],
   "source": []
  },
  {
   "cell_type": "code",
   "execution_count": null,
   "id": "da23e355-2aa8-4ffe-b249-13bebeb7b3c1",
   "metadata": {},
   "outputs": [],
   "source": []
  },
  {
   "cell_type": "code",
   "execution_count": null,
   "id": "8673e442-dcb2-4f31-9459-74ade69367f8",
   "metadata": {},
   "outputs": [],
   "source": []
  },
  {
   "cell_type": "code",
   "execution_count": 1,
   "id": "298f16f0-20dd-4a42-bc9f-31535364c37e",
   "metadata": {
    "tags": []
   },
   "outputs": [],
   "source": [
    "import sys\n",
    "sys.path.append(\"/arc/home/michilli/.local/lib/python3.8/site-packages/\")"
   ]
  },
  {
   "cell_type": "code",
   "execution_count": 194,
   "id": "c7ff1cac",
   "metadata": {
    "tags": []
   },
   "outputs": [
    {
     "name": "stdout",
     "output_type": "stream",
     "text": [
      "Starting the simulation for chime\n",
      "100000 bursts will be simulated.\n"
     ]
    },
    {
     "ename": "UnitConversionError",
     "evalue": "Can only apply 'add' function to quantities with compatible dimensions",
     "output_type": "error",
     "traceback": [
      "\u001b[0;31m---------------------------------------------------------------------------\u001b[0m",
      "\u001b[0;31mUnitConversionError\u001b[0m                       Traceback (most recent call last)",
      "File \u001b[0;32m/opt/pysetup/.venv/lib/python3.8/site-packages/astropy/units/quantity_helper/helpers.py:70\u001b[0m, in \u001b[0;36mget_converters_and_unit\u001b[0;34m(f, unit1, unit2)\u001b[0m\n\u001b[1;32m     69\u001b[0m \u001b[38;5;28;01mtry\u001b[39;00m:\n\u001b[0;32m---> 70\u001b[0m     converters[changeable] \u001b[38;5;241m=\u001b[39m \u001b[43mget_converter\u001b[49m\u001b[43m(\u001b[49m\u001b[43munit2\u001b[49m\u001b[43m,\u001b[49m\u001b[43m \u001b[49m\u001b[43munit1\u001b[49m\u001b[43m)\u001b[49m\n\u001b[1;32m     71\u001b[0m \u001b[38;5;28;01mexcept\u001b[39;00m UnitsError:\n",
      "File \u001b[0;32m/opt/pysetup/.venv/lib/python3.8/site-packages/astropy/units/quantity_helper/helpers.py:35\u001b[0m, in \u001b[0;36mget_converter\u001b[0;34m(from_unit, to_unit)\u001b[0m\n\u001b[1;32m     33\u001b[0m \u001b[38;5;250m\u001b[39m\u001b[38;5;124;03m\"\"\"Like Unit._get_converter, except returns None if no scaling is needed,\u001b[39;00m\n\u001b[1;32m     34\u001b[0m \u001b[38;5;124;03mi.e., if the inferred scale is unity.\"\"\"\u001b[39;00m\n\u001b[0;32m---> 35\u001b[0m converter \u001b[38;5;241m=\u001b[39m \u001b[43mfrom_unit\u001b[49m\u001b[38;5;241;43m.\u001b[39;49m\u001b[43m_get_converter\u001b[49m\u001b[43m(\u001b[49m\u001b[43mto_unit\u001b[49m\u001b[43m)\u001b[49m\n\u001b[1;32m     36\u001b[0m \u001b[38;5;28;01mreturn\u001b[39;00m \u001b[38;5;28;01mNone\u001b[39;00m \u001b[38;5;28;01mif\u001b[39;00m converter \u001b[38;5;129;01mis\u001b[39;00m unit_scale_converter \u001b[38;5;28;01melse\u001b[39;00m converter\n",
      "File \u001b[0;32m/opt/pysetup/.venv/lib/python3.8/site-packages/astropy/units/core.py:1094\u001b[0m, in \u001b[0;36mUnitBase._get_converter\u001b[0;34m(self, other, equivalencies)\u001b[0m\n\u001b[1;32m   1092\u001b[0m                 \u001b[38;5;28;01mreturn\u001b[39;00m \u001b[38;5;28;01mlambda\u001b[39;00m v: b(converter(v))\n\u001b[0;32m-> 1094\u001b[0m \u001b[38;5;28;01mraise\u001b[39;00m exc\n",
      "File \u001b[0;32m/opt/pysetup/.venv/lib/python3.8/site-packages/astropy/units/core.py:1077\u001b[0m, in \u001b[0;36mUnitBase._get_converter\u001b[0;34m(self, other, equivalencies)\u001b[0m\n\u001b[1;32m   1076\u001b[0m \u001b[38;5;28;01mtry\u001b[39;00m:\n\u001b[0;32m-> 1077\u001b[0m     \u001b[38;5;28;01mreturn\u001b[39;00m \u001b[38;5;28;43mself\u001b[39;49m\u001b[38;5;241;43m.\u001b[39;49m\u001b[43m_apply_equivalencies\u001b[49m\u001b[43m(\u001b[49m\n\u001b[1;32m   1078\u001b[0m \u001b[43m        \u001b[49m\u001b[38;5;28;43mself\u001b[39;49m\u001b[43m,\u001b[49m\u001b[43m \u001b[49m\u001b[43mother\u001b[49m\u001b[43m,\u001b[49m\u001b[43m \u001b[49m\u001b[38;5;28;43mself\u001b[39;49m\u001b[38;5;241;43m.\u001b[39;49m\u001b[43m_normalize_equivalencies\u001b[49m\u001b[43m(\u001b[49m\u001b[43mequivalencies\u001b[49m\u001b[43m)\u001b[49m\n\u001b[1;32m   1079\u001b[0m \u001b[43m    \u001b[49m\u001b[43m)\u001b[49m\n\u001b[1;32m   1080\u001b[0m \u001b[38;5;28;01mexcept\u001b[39;00m UnitsError \u001b[38;5;28;01mas\u001b[39;00m exc:\n\u001b[1;32m   1081\u001b[0m     \u001b[38;5;66;03m# Last hope: maybe other knows how to do it?\u001b[39;00m\n\u001b[1;32m   1082\u001b[0m     \u001b[38;5;66;03m# We assume the equivalencies have the unit itself as first item.\u001b[39;00m\n\u001b[1;32m   1083\u001b[0m     \u001b[38;5;66;03m# TODO: maybe better for other to have a `_back_converter` method?\u001b[39;00m\n",
      "File \u001b[0;32m/opt/pysetup/.venv/lib/python3.8/site-packages/astropy/units/core.py:1054\u001b[0m, in \u001b[0;36mUnitBase._apply_equivalencies\u001b[0;34m(self, unit, other, equivalencies)\u001b[0m\n\u001b[1;32m   1052\u001b[0m other_str \u001b[38;5;241m=\u001b[39m get_err_str(other)\n\u001b[0;32m-> 1054\u001b[0m \u001b[38;5;28;01mraise\u001b[39;00m UnitConversionError(\u001b[38;5;124mf\u001b[39m\u001b[38;5;124m\"\u001b[39m\u001b[38;5;132;01m{\u001b[39;00munit_str\u001b[38;5;132;01m}\u001b[39;00m\u001b[38;5;124m and \u001b[39m\u001b[38;5;132;01m{\u001b[39;00mother_str\u001b[38;5;132;01m}\u001b[39;00m\u001b[38;5;124m are not convertible\u001b[39m\u001b[38;5;124m\"\u001b[39m)\n",
      "\u001b[0;31mUnitConversionError\u001b[0m: '1 / (Mpc3 yr)' (volumetric rate) and '1 / yr' (frequency) are not convertible",
      "\nDuring handling of the above exception, another exception occurred:\n",
      "\u001b[0;31mUnitConversionError\u001b[0m                       Traceback (most recent call last)",
      "Cell \u001b[0;32mIn[194], line 670\u001b[0m\n\u001b[1;32m    665\u001b[0m w_telescope \u001b[38;5;241m=\u001b[39m \u001b[38;5;241m1\u001b[39m \u001b[38;5;241m*\u001b[39m u\u001b[38;5;241m.\u001b[39mms\n\u001b[1;32m    669\u001b[0m \u001b[38;5;66;03m# Run the simulation\u001b[39;00m\n\u001b[0;32m--> 670\u001b[0m frb_detection_rate \u001b[38;5;241m=\u001b[39m \u001b[43mrun_simulation\u001b[49m\u001b[43m(\u001b[49m\u001b[43mtelescope_name\u001b[49m\u001b[38;5;241;43m=\u001b[39;49m\u001b[38;5;124;43m'\u001b[39;49m\u001b[38;5;124;43mchime\u001b[39;49m\u001b[38;5;124;43m'\u001b[39;49m\u001b[43m,\u001b[49m\u001b[43m \u001b[49m\u001b[43msimulate_lensed_frbs\u001b[49m\u001b[43m \u001b[49m\u001b[38;5;241;43m=\u001b[39;49m\u001b[43m \u001b[49m\u001b[38;5;28;43;01mFalse\u001b[39;49;00m\u001b[43m)\u001b[49m\n",
      "Cell \u001b[0;32mIn[194], line 625\u001b[0m, in \u001b[0;36mrun_simulation\u001b[0;34m(telescope_name, simulate_lensed_frbs)\u001b[0m\n\u001b[1;32m    622\u001b[0m frb_detection_rate \u001b[38;5;241m=\u001b[39m \u001b[38;5;241m0\u001b[39m \u001b[38;5;241m/\u001b[39m u\u001b[38;5;241m.\u001b[39myr\n\u001b[1;32m    624\u001b[0m \u001b[38;5;28;01mfor\u001b[39;00m freq_low, freq_high \u001b[38;5;129;01min\u001b[39;00m search_bands:\n\u001b[0;32m--> 625\u001b[0m     frb_detection_rate \u001b[38;5;241m+\u001b[39m\u001b[38;5;241m=\u001b[39m get_detection_rate(\n\u001b[1;32m    626\u001b[0m         telescope,\n\u001b[1;32m    627\u001b[0m         freq_low,\n\u001b[1;32m    628\u001b[0m         freq_high,\n\u001b[1;32m    629\u001b[0m         simulate_lensed_frbs \u001b[38;5;241m=\u001b[39m simulate_lensed_frbs,\n\u001b[1;32m    630\u001b[0m     )    \n\u001b[1;32m    632\u001b[0m \u001b[38;5;28mprint\u001b[39m(\u001b[38;5;124mf\u001b[39m\u001b[38;5;124m'\u001b[39m\u001b[38;5;124mThe detection rate is \u001b[39m\u001b[38;5;132;01m{\u001b[39;00mfrb_detection_rate\u001b[38;5;241m.\u001b[39mto(\u001b[38;5;241m1\u001b[39m\u001b[38;5;241m/\u001b[39mu\u001b[38;5;241m.\u001b[39myear)\u001b[38;5;241m.\u001b[39mvalue\u001b[38;5;132;01m:\u001b[39;00m\u001b[38;5;124m.1f\u001b[39m\u001b[38;5;132;01m}\u001b[39;00m\u001b[38;5;124m FRBs per year,\u001b[39m\u001b[38;5;124m'\u001b[39m)\n\u001b[1;32m    633\u001b[0m \u001b[38;5;28mprint\u001b[39m(\u001b[38;5;124mf\u001b[39m\u001b[38;5;124m'\u001b[39m\u001b[38;5;124mor 1 FRB detected every \u001b[39m\u001b[38;5;132;01m{\u001b[39;00m\u001b[38;5;241m1\u001b[39m\u001b[38;5;241m/\u001b[39m(frb_detection_rate)\u001b[38;5;241m.\u001b[39mto(\u001b[38;5;241m1\u001b[39m\u001b[38;5;241m/\u001b[39mu\u001b[38;5;241m.\u001b[39myear)\u001b[38;5;241m.\u001b[39mvalue\u001b[38;5;132;01m:\u001b[39;00m\u001b[38;5;124m.2f\u001b[39m\u001b[38;5;132;01m}\u001b[39;00m\u001b[38;5;124m years.\u001b[39m\u001b[38;5;124m'\u001b[39m)\n",
      "File \u001b[0;32m/opt/pysetup/.venv/lib/python3.8/site-packages/astropy/units/quantity.py:643\u001b[0m, in \u001b[0;36mQuantity.__array_ufunc__\u001b[0;34m(self, function, method, *inputs, **kwargs)\u001b[0m\n\u001b[1;32m    621\u001b[0m \u001b[38;5;250m\u001b[39m\u001b[38;5;124;03m\"\"\"Wrap numpy ufuncs, taking care of units.\u001b[39;00m\n\u001b[1;32m    622\u001b[0m \n\u001b[1;32m    623\u001b[0m \u001b[38;5;124;03mParameters\u001b[39;00m\n\u001b[0;32m   (...)\u001b[0m\n\u001b[1;32m    637\u001b[0m \u001b[38;5;124;03m    Results of the ufunc, with the unit set properly.\u001b[39;00m\n\u001b[1;32m    638\u001b[0m \u001b[38;5;124;03m\"\"\"\u001b[39;00m\n\u001b[1;32m    639\u001b[0m \u001b[38;5;66;03m# Determine required conversion functions -- to bring the unit of the\u001b[39;00m\n\u001b[1;32m    640\u001b[0m \u001b[38;5;66;03m# input to that expected (e.g., radian for np.sin), or to get\u001b[39;00m\n\u001b[1;32m    641\u001b[0m \u001b[38;5;66;03m# consistent units between two inputs (e.g., in np.add) --\u001b[39;00m\n\u001b[1;32m    642\u001b[0m \u001b[38;5;66;03m# and the unit of the result (or tuple of units for nout > 1).\u001b[39;00m\n\u001b[0;32m--> 643\u001b[0m converters, unit \u001b[38;5;241m=\u001b[39m \u001b[43mconverters_and_unit\u001b[49m\u001b[43m(\u001b[49m\u001b[43mfunction\u001b[49m\u001b[43m,\u001b[49m\u001b[43m \u001b[49m\u001b[43mmethod\u001b[49m\u001b[43m,\u001b[49m\u001b[43m \u001b[49m\u001b[38;5;241;43m*\u001b[39;49m\u001b[43minputs\u001b[49m\u001b[43m)\u001b[49m\n\u001b[1;32m    645\u001b[0m out \u001b[38;5;241m=\u001b[39m kwargs\u001b[38;5;241m.\u001b[39mget(\u001b[38;5;124m\"\u001b[39m\u001b[38;5;124mout\u001b[39m\u001b[38;5;124m\"\u001b[39m, \u001b[38;5;28;01mNone\u001b[39;00m)\n\u001b[1;32m    646\u001b[0m \u001b[38;5;66;03m# Avoid loop back by turning any Quantity output into array views.\u001b[39;00m\n",
      "File \u001b[0;32m/opt/pysetup/.venv/lib/python3.8/site-packages/astropy/units/quantity_helper/converters.py:182\u001b[0m, in \u001b[0;36mconverters_and_unit\u001b[0;34m(function, method, *args)\u001b[0m\n\u001b[1;32m    179\u001b[0m units \u001b[38;5;241m=\u001b[39m [\u001b[38;5;28mgetattr\u001b[39m(arg, \u001b[38;5;124m\"\u001b[39m\u001b[38;5;124munit\u001b[39m\u001b[38;5;124m\"\u001b[39m, \u001b[38;5;28;01mNone\u001b[39;00m) \u001b[38;5;28;01mfor\u001b[39;00m arg \u001b[38;5;129;01min\u001b[39;00m args]\n\u001b[1;32m    181\u001b[0m \u001b[38;5;66;03m# Determine possible conversion functions, and the result unit.\u001b[39;00m\n\u001b[0;32m--> 182\u001b[0m converters, result_unit \u001b[38;5;241m=\u001b[39m \u001b[43mufunc_helper\u001b[49m\u001b[43m(\u001b[49m\u001b[43mfunction\u001b[49m\u001b[43m,\u001b[49m\u001b[43m \u001b[49m\u001b[38;5;241;43m*\u001b[39;49m\u001b[43munits\u001b[49m\u001b[43m)\u001b[49m\n\u001b[1;32m    184\u001b[0m \u001b[38;5;28;01mif\u001b[39;00m \u001b[38;5;28many\u001b[39m(converter \u001b[38;5;129;01mis\u001b[39;00m \u001b[38;5;28;01mFalse\u001b[39;00m \u001b[38;5;28;01mfor\u001b[39;00m converter \u001b[38;5;129;01min\u001b[39;00m converters):\n\u001b[1;32m    185\u001b[0m     \u001b[38;5;66;03m# for multi-argument ufuncs with a quantity and a non-quantity,\u001b[39;00m\n\u001b[1;32m    186\u001b[0m     \u001b[38;5;66;03m# the quantity normally needs to be dimensionless, *except*\u001b[39;00m\n\u001b[0;32m   (...)\u001b[0m\n\u001b[1;32m    189\u001b[0m     \u001b[38;5;66;03m# can just have the unit of the quantity\u001b[39;00m\n\u001b[1;32m    190\u001b[0m     \u001b[38;5;66;03m# (this allows, e.g., `q > 0.` independent of unit)\u001b[39;00m\n\u001b[1;32m    191\u001b[0m     \u001b[38;5;28;01mtry\u001b[39;00m:\n\u001b[1;32m    192\u001b[0m         \u001b[38;5;66;03m# Don't fold this loop in the test above: this rare case\u001b[39;00m\n\u001b[1;32m    193\u001b[0m         \u001b[38;5;66;03m# should not make the common case slower.\u001b[39;00m\n",
      "File \u001b[0;32m/opt/pysetup/.venv/lib/python3.8/site-packages/astropy/units/quantity_helper/helpers.py:72\u001b[0m, in \u001b[0;36mget_converters_and_unit\u001b[0;34m(f, unit1, unit2)\u001b[0m\n\u001b[1;32m     70\u001b[0m     converters[changeable] \u001b[38;5;241m=\u001b[39m get_converter(unit2, unit1)\n\u001b[1;32m     71\u001b[0m \u001b[38;5;28;01mexcept\u001b[39;00m UnitsError:\n\u001b[0;32m---> 72\u001b[0m     \u001b[38;5;28;01mraise\u001b[39;00m UnitConversionError(\n\u001b[1;32m     73\u001b[0m         \u001b[38;5;124mf\u001b[39m\u001b[38;5;124m\"\u001b[39m\u001b[38;5;124mCan only apply \u001b[39m\u001b[38;5;124m'\u001b[39m\u001b[38;5;132;01m{\u001b[39;00mf\u001b[38;5;241m.\u001b[39m\u001b[38;5;18m__name__\u001b[39m\u001b[38;5;132;01m}\u001b[39;00m\u001b[38;5;124m'\u001b[39m\u001b[38;5;124m function to quantities \u001b[39m\u001b[38;5;124m\"\u001b[39m\n\u001b[1;32m     74\u001b[0m         \u001b[38;5;124m\"\u001b[39m\u001b[38;5;124mwith compatible dimensions\u001b[39m\u001b[38;5;124m\"\u001b[39m\n\u001b[1;32m     75\u001b[0m     )\n\u001b[1;32m     77\u001b[0m \u001b[38;5;28;01mreturn\u001b[39;00m converters, unit1\n",
      "\u001b[0;31mUnitConversionError\u001b[0m: Can only apply 'add' function to quantities with compatible dimensions"
     ]
    }
   ],
   "source": [
    "# Python 3.8.16\n",
    "import os\n",
    "import pickle\n",
    "import datetime\n",
    "\n",
    "# Numpy 1.24.2\n",
    "import numpy as np\n",
    "from numpy.random import default_rng\n",
    "# matplotlib 3.7.1\n",
    "import matplotlib.pyplot as plt\n",
    "# astropy 5.2.1\n",
    "from astropy import units as u\n",
    "from astropy.coordinates import Distance\n",
    "from astropy import constants as const\n",
    "from astropy.cosmology import Planck18 as cosmo\n",
    "# scipy 1.9.3\n",
    "from scipy.special import j1\n",
    "from scipy import optimize\n",
    "from scipy.stats import truncnorm\n",
    "from scipy.ndimage import gaussian_filter as gf\n",
    "from scipy.interpolate import CubicSpline as spline\n",
    "from scipy import integrate\n",
    "# mpmath 1.3.0\n",
    "from mpmath import gammainc\n",
    "# arspy 0.4\n",
    "# To be compatible with the newer numpy versions, line 102 of the installed code\n",
    "# should be changed to `assert seed is None or isinstance(seed, int)`\n",
    "from arspy.ars import adaptive_rejection_sampling\n",
    "# This may be faster but requires the derivative \n",
    "# https://codereview.stackexchange.com/questions/174814/implementation-of-adaptive-rejection-sampling-in-cython\n",
    "# It could be even faster to wrap the original C or Fortran functions with Cython\n",
    "\n",
    "\n",
    "\n",
    "# Classes and functions\n",
    "\n",
    "class Telescope:\n",
    "    \"\"\"\n",
    "    Telescope parameters\n",
    "    \"\"\"\n",
    "    parameters = {\n",
    "        'dummy': {  # test parameters\n",
    "            'Srec': 15 * u.Jy,\n",
    "            'v0': 800 * u.MHz,\n",
    "            'v1': 1600 * u.MHz,\n",
    "            'D': 50 * u.m,\n",
    "            'bands': [\n",
    "                [800 * u.MHz, 1200 * u.MHz],\n",
    "                [1200 * u.MHz, 1600 * u.MHz],\n",
    "            ]\n",
    "        },\n",
    "        'chime': {  # from https://ui.adsabs.harvard.edu/abs/2022ApJS..261...29C/abstract\n",
    "            # from https://ui.adsabs.harvard.edu/abs/2017ApJ...844..140C/abstract\n",
    "            'Srec': 50 / 1.38 * u.Jy,\n",
    "            'gain': 1.38 * u.K / u.Jy,\n",
    "            'v0': 400 * u.MHz,\n",
    "            'v1': 800 * u.MHz,            \n",
    "            'Dx': 20 * u.m,\n",
    "            'Dy': 0.87 * u.m,  # Emprirical value to have a beam of ~100 deg\n",
    "            #'D': 8.4474307*u.m\n",
    "        },\n",
    "        'chord': {  # from https://ui.adsabs.harvard.edu/abs/2019clrp.2020...28V/abstract\n",
    "            'Srec': 9 * u.Jy,\n",
    "            'gain': 30 * u.K / 9 / u.Jy,\n",
    "            'v0': 300 * u.MHz,\n",
    "            'v1': 1500 * u.MHz,\n",
    "            'D': 6 * u.m,\n",
    "            'bands': [\n",
    "                [300 * u.MHz, 700 * u.MHz],\n",
    "                [700 * u.MHz, 1100 * u.MHz],\n",
    "                [1100 * u.MHz, 1500 * u.MHz],\n",
    "            ]\n",
    "        },\n",
    "        'dsa2000': {  # from https://ui.adsabs.harvard.edu/abs/2019BAAS...51g.255H/abstract\n",
    "            'Srec': 2.5 * u.Jy,  # Jy\n",
    "            'gain': 25 * u.K / 2.5 / u.Jy,\n",
    "            'v0': 700 * u.MHz,\n",
    "            'v1': 2000 * u.MHz,\n",
    "            'D': 5 * u.m,\n",
    "            'bands': [\n",
    "                [700 * u.MHz, 1100 * u.MHz],\n",
    "                [1100 * u.MHz, 1500 * u.MHz],\n",
    "                [1500 * u.MHz, 2000 * u.MHz],\n",
    "            ]\n",
    "        },\n",
    "    }\n",
    "    \n",
    "    def __init__(self, name='chord'):\n",
    "        self.name = name\n",
    "        self.parameters = Telescope.parameters\n",
    "        \n",
    "    def get_parameters(self, name = None):\n",
    "        if name is None: name = self.name\n",
    "        return self.parameters[name]\n",
    "    \n",
    "    def bandwidth(self, name = None):\n",
    "        if name is None: name = self.name\n",
    "        return self.parameters[name]['v1'] - self.parameters[name]['v0']\n",
    "    \n",
    "    def sefd(self, name = None, freq = None):\n",
    "        if name is None: name = self.name\n",
    "        if freq is None:\n",
    "            freq = (\n",
    "                self.parameters[name]['v0'] + \n",
    "                self.parameters[name]['v1']\n",
    "            ) / 2\n",
    "        return (\n",
    "            self.parameters[name]['Srec'] + \n",
    "            34 * u.K * (freq / 408 / u.MHz)**-2.6 / \n",
    "            self.parameters[name]['gain']\n",
    "        )\n",
    "    \n",
    "    def v0(self, name = None):\n",
    "        if name is None: name = self.name\n",
    "        return self.parameters[name]['v0']\n",
    "    \n",
    "    def v1(self, name = None):\n",
    "        if name is None: name = self.name\n",
    "        return self.parameters[name]['v1']\n",
    "    \n",
    "    def frequency_bands(self, name = None):\n",
    "        if name is None: name = self.name\n",
    "        try:\n",
    "            return self.parameters[name]['bands']\n",
    "        except KeyError:\n",
    "            return [[\n",
    "                self.parameters[name]['v0'],\n",
    "                self.parameters[name]['v1']\n",
    "            ]]\n",
    "    \n",
    "    def get_parameter(self, parameter, name = None):\n",
    "        if name is None: name = self.name\n",
    "        return self.parameters[name][parameter]\n",
    "    \n",
    "    \n",
    "def get_lensed_fraction():\n",
    "    \"\"\" Fraction of lensed galaxies as a function of redshift from Collett 2015.\n",
    "    \"\"\"\n",
    "    # Ensures that there are ~1000 galaxies per step on average\n",
    "    z = np.linspace(zmin, zmax, lensed_galaxies_z.size//1000+1)\n",
    "    z_mean = (z[1:] + z[:-1]) / 2\n",
    "    # Unlensed population of galaxies used in Collett 2018 simulations\n",
    "    z_org = np.loadtxt('lsst_source_catalog.txt', usecols=2, delimiter=',')\n",
    "    \n",
    "    # Select bins containing enough galaxies\n",
    "    # Lensed population of galaxies from Collett 2018 simulations\n",
    "    Pz_sim, _ = np.histogram(lensed_galaxies_z, bins=z)\n",
    "    Pz_org, _ = np.histogram(z_org, bins=z)\n",
    "    idx = (Pz_sim > 10) & (Pz_org > 10)\n",
    "        \n",
    "    if frbs_evolve_with_luminosity:\n",
    "        # Luminosity of unlensed population of galaxies used in Collett 2018 simulations\n",
    "        M_org = np.loadtxt('lsst_source_catalog.txt', usecols=7, delimiter=',') * u.M_bol\n",
    "        L_org = M_org.to(u.L_bol) * 10 * 360**2 / np.pi  # The population covers 0.1 square deg\n",
    "        # Total luminosity of unlensed galaxy population per redshift step\n",
    "        PL_org, _ = np.histogram(\n",
    "            z_org, \n",
    "            bins=z, \n",
    "            weights=L_org\n",
    "        )\n",
    "        # Luminosity of lensed galaxies used from Collett 2018 simulations\n",
    "        L_sim = lensed_galaxies_Mv.to(u.L_sun)\n",
    "        # Total luminosity of lensed galaxy population per redshift step\n",
    "        PL_sim, _ = np.histogram(\n",
    "            lensed_galaxies_z, \n",
    "            bins=z, \n",
    "            weights=L_sim\n",
    "        )\n",
    "        # Fraction of luminosity of lensed galaxies per redshift step\n",
    "        lensed_fraction = PL_sim / PL_org\n",
    "\n",
    "    else:\n",
    "        Pz_org = Pz_org * 10 * 360**2 / np.pi  # The population covers 0.1 square deg\n",
    "        # Fraction of lensed galaxies per redshift step\n",
    "        lensed_fraction = Pz_sim / Pz_org\n",
    "        \n",
    "    lensed_fraction = lensed_fraction[idx]\n",
    "    z_mean = z_mean[idx]\n",
    "        \n",
    "    # Smooth the output\n",
    "    lensed_fraction = gf(lensed_fraction, 6)\n",
    "    # Interpolate with a spline\n",
    "    cs = spline(z_mean, lensed_fraction, extrapolate=False)\n",
    "    \n",
    "    return cs, z_mean.min(), z_mean.max()\n",
    "\n",
    "\n",
    "def get_distribution_redshift(\n",
    "    z_max = None,\n",
    "    z_min = None\n",
    "):\n",
    "    \"\"\"Redshift distribution for a population of FRBs not evolving with redshift.\n",
    "    \"\"\"\n",
    "    if z_max is None:\n",
    "        z_max = lensed_galaxies_z.max()\n",
    "    if z_min is None:\n",
    "        z_min = lensed_galaxies_z.min()\n",
    "        \n",
    "    # PDF of z distribution\n",
    "    # Calculate the integrated normalization\n",
    "    sfr = lambda z: (1 + z)**2.7 / (2.9**5.6 + (1 + z)**5.6)\n",
    "    z_pdf = lambda z: (\n",
    "        frb_emission_rate_z0_Epivot * \n",
    "        cosmo.differential_comoving_volume(z)*4*np.pi*u.sr / \n",
    "        (1 + z) * (sfr(z) / sfr(0))**n_sfr\n",
    "    ).to(1/u.yr).value\n",
    "    #z_pdf_Mpc = lambda z: z_pdf(z).to(u.Mpc**3).value\n",
    "    integral_emission_rate = integrate.quad(z_pdf, z_min, z_max)[0]\n",
    "    # Normalized distribution\n",
    "    z_pdf_norm = lambda z: z_pdf(z) / integral_emission_rate\n",
    "\n",
    "    # Find maximum of distribution with a spline and its derivative\n",
    "    # Mock data\n",
    "    z = np.linspace(z_min, z_max, 1000)\n",
    "    P_z = z_pdf_norm(z)\n",
    "    # Spline interpolation\n",
    "    cs = spline(z, P_z)\n",
    "    # Redshift of null derivatives\n",
    "    roots = cs.derivative().roots()\n",
    "    # Location of the maximum of the curve\n",
    "    curve_max = z[P_z.argmax()]\n",
    "    # Redshift of the null derivative closest to the location of the maximum\n",
    "    x_max = roots[np.argmin(np.abs(roots - curve_max))]\n",
    "    # Maximum of the distribution plus 1% to account for granularity\n",
    "    y_max = z_pdf_norm(x_max)\n",
    "    y_max = y_max + 0.01 * y_max\n",
    "\n",
    "    # Rejection sampling the distribution\n",
    "    # Initially, the distribution is filled with nan\n",
    "    z_dist = np.zeros(number_of_simulated_frbs) + np.nan\n",
    "    # Loop until no nan are present\n",
    "    while np.isnan(z_dist).any():\n",
    "        # Random values in a box around the function\n",
    "        x = rng.uniform(low=z_min, high=z_max, size=number_of_simulated_frbs)\n",
    "        y = rng.uniform(low=0, high=y_max, size=number_of_simulated_frbs)\n",
    "        # Resize the arrays to get the right number of bins\n",
    "        nan_size = z_dist[np.isnan(z_dist)].size\n",
    "        x = x[y < z_pdf_norm(x)][:nan_size]\n",
    "        first_nan = np.argmax(z_dist)\n",
    "        z_dist[first_nan:first_nan+x.size] = x\n",
    "    return z_dist, z_min, z_max, integral_emission_rate\n",
    "\n",
    "\n",
    "def get_distribution_dist(\n",
    "    simulate_lensed_frbs = True,\n",
    "    z_min = None,\n",
    "    z_max = None,\n",
    "    lensed_fraction = None,\n",
    "):\n",
    "    \"\"\"Distribution of the distance factor.\n",
    "    \"\"\"\n",
    "    # Fraction of lensed galaxies cataloged by Euclid vs redshift\n",
    "    if simulate_lensed_frbs:\n",
    "        lensed_fraction_interp, z_min, z_max = get_lensed_fraction()\n",
    "    \n",
    "    # Redshift distribution of FRBs in the Universe\n",
    "    z_dist, z_min, z_max, integral_emission_rate = get_distribution_redshift(\n",
    "        z_min = z_min,\n",
    "        z_max = z_max,\n",
    "    )\n",
    "    \n",
    "    # Only simulate lensed FRBs\n",
    "    if simulate_lensed_frbs:\n",
    "        P_z = lensed_fraction_interp(z_dist)\n",
    "        P_random = rng.uniform(size=P_z.size)\n",
    "        z_dist = z_dist[P_random <= P_z]\n",
    "    \n",
    "    # Distance factor\n",
    "    Dl = cosmo.luminosity_distance(z_dist)\n",
    "    dist_factor = (4 * np.pi * Dl**2) / (1 + z_dist)**(alpha + 2)\n",
    "    \n",
    "    return dist_factor, z_min, z_max, integral_emission_rate\n",
    "\n",
    "\n",
    "def get_bandwidth_correction(\n",
    "    bw_telescope,\n",
    "    bw_min = 50 * u.MHz,\n",
    "    loc = 400 * u.MHz,  # MHz\n",
    "    scale = 400 / 2 * u.MHz,  # MHz\n",
    "):\n",
    "    \"\"\"Assume that the bandwidth of FRBs is a normal distribution based on CHIME detections.\"\"\"\n",
    "    # Bandwidth distribution from a truncated normal distribution\n",
    "    bw_clip = (bw_min - loc) / scale\n",
    "    bw = truncnorm.rvs(\n",
    "        bw_clip, \n",
    "        np.inf, \n",
    "        loc=loc, \n",
    "        scale=scale,\n",
    "        size=number_of_simulated_frbs,\n",
    "        random_state=rng\n",
    "    ) * u.MHz\n",
    "    return bw\n",
    "\n",
    "\n",
    "def schechter_distribution(\n",
    "    gamma,\n",
    "    Echar,\n",
    "    Emin\n",
    "):\n",
    "    \"\"\"Simulated distribution of a Schechter function.\"\"\"\n",
    "    schechter_logpdf = lambda E: np.log((E / Echar)**gamma / Echar * np.exp(-E / Echar))\n",
    "    return np.array(\n",
    "        adaptive_rejection_sampling(\n",
    "            logpdf = schechter_logpdf,  # Schechter function\n",
    "            a = Emin,  # Lower initial condition\n",
    "            b = Echar,  # Upper initial condition\n",
    "            domain = (Emin, float(\"inf\")),  # Domain of the Energy\n",
    "            n_samples = number_of_simulated_frbs,\n",
    "            seed = seed\n",
    "        )\n",
    "    )\n",
    "\n",
    "\n",
    "def get_energy_minimum(\n",
    "    bw,\n",
    "    sefd,\n",
    "    frb_bw,\n",
    "    w,\n",
    "    tau,\n",
    "    dist_factor,\n",
    "    frb_w_correction,\n",
    "    frb_bw_correction,\n",
    "):\n",
    "    \"\"\"\n",
    "    Minimum FRB energy normalized to 1 GHz required to detect a burst at \n",
    "    redshift z with a signal-to-noise ratio SNr and time resolution w, \n",
    "    where rfi_band is lost due to interference.\n",
    "    \"\"\"\n",
    "    return (\n",
    "        SNr_min * np.sqrt((w + tau) / bw / 2) / frb_w_correction / frb_bw_correction * \n",
    "        sefd / np.sqrt(1 - rfi_band) * dist_factor * frb_bw\n",
    "    ).min().to(u.erg)\n",
    "\n",
    "\n",
    "def get_beam_response(\n",
    "    telescope,\n",
    "    freq_min,\n",
    "    min_frb_band = 50 * u.MHz,\n",
    "    efficiency = 0.7\n",
    "):\n",
    "    # Minimum band to detect >50 MHz of a burst\n",
    "    wavelength = (freq_min + min_frb_band).to(u.meter, equivalencies=u.spectral())\n",
    "\n",
    "    try:\n",
    "        # Circular aperture\n",
    "        diameter = telescope.get_parameter('D')\n",
    "        # Half beam width between the first nulls\n",
    "        hwfn = (2.439 * u.rad * wavelength / diameter / 2).to(u.rad)\n",
    "        # Random angles\n",
    "        angle = rng.uniform(\n",
    "            low=0,\n",
    "            high=hwfn.to(u.rad).value**2,\n",
    "            size=number_of_simulated_frbs\n",
    "        )**0.5 * u.rad\n",
    "        # Normalized power\n",
    "        x = np.pi * np.sin(angle) * diameter / wavelength * np.sqrt(efficiency)\n",
    "        power = (2 * j1(x) / x)**2\n",
    "        # Simulated sky fraction\n",
    "        sky_fraction = (hwfn**2 / 4 / u.steradian).value\n",
    "\n",
    "    except KeyError:\n",
    "        # Rectangular aperture\n",
    "        size_x = telescope.get_parameter('Dx')\n",
    "        size_y = telescope.get_parameter('Dy')\n",
    "        # Half beam width between the first nulls\n",
    "        hwfn_x = np.arcsin((wavelength / size_x).to(u.dimensionless_unscaled))\n",
    "        hwfn_y = np.arcsin((wavelength / size_y).to(u.dimensionless_unscaled))\n",
    "        # Random angles\n",
    "        angle_x = rng.uniform(\n",
    "            low=0, \n",
    "            high=hwfn_x.to(u.rad).value, \n",
    "            size=number_of_simulated_frbs\n",
    "        ) * u.rad\n",
    "        angle_y = rng.uniform(\n",
    "            low=0, \n",
    "            high=hwfn_y.to(u.rad).value,\n",
    "            size=number_of_simulated_frbs\n",
    "        ) * u.rad\n",
    "        # Normalized power\n",
    "        power = (\n",
    "            (\n",
    "                np.sinc(np.sin(angle_x) * size_x / wavelength * u.rad) * \n",
    "                np.sinc(np.sin(angle_y) * size_y / wavelength * u.rad)\n",
    "            )**2\n",
    "        )\n",
    "        # Simulated sky fraction\n",
    "        sky_fraction = (hwfn_x * hwfn_y / 4 / np.pi / u.steradian).value\n",
    "\n",
    "    return sky_fraction, power\n",
    "\n",
    "\n",
    "def get_max_detected_redshift(\n",
    "    snr,\n",
    "    E_nu,\n",
    "    bw,\n",
    "    sefd,\n",
    "    w,\n",
    "    tau,\n",
    "    w_correction,\n",
    "    bw_correction,\n",
    "):\n",
    "    \"\"\"\n",
    "    Maximum redshift at which an FRB of energy E would be detected\n",
    "    by a telescope of sensitivity sefd\n",
    "    \"\"\"\n",
    "    \n",
    "    dist_factor_Gpc2 = (\n",
    "        1e41*u.erg/u.GHz / 8 / np.sqrt((w + tau) / bw / 2) * \n",
    "        w_correction * bw_correction / sefd * np.sqrt(1 - rfi_band)\n",
    "    ).to(u.Gpc**2).max().value\n",
    "    \n",
    "    z_max_func = lambda z: (\n",
    "        4 * np.pi * cosmo.luminosity_distance(z).to(u.Gpc).value**2 / dist_factor_Gpc2 - (1 + z)**(alpha + 2)\n",
    "    )\n",
    "    z_max = optimize.root(z_max_func, 1).x[0]\n",
    "    return z_max\n",
    "    \n",
    "\n",
    "def get_snr(\n",
    "    frb_E_nu,\n",
    "    frb_dist_fact,\n",
    "    alpha,\n",
    "    bw_telescope,\n",
    "    frb_w, \n",
    "    frb_tau,\n",
    "    frb_w_correction,\n",
    "    frb_bw_correction,\n",
    "    beam_response, \n",
    "    sefd, \n",
    "    rfi_band\n",
    "):\n",
    "    return (    \n",
    "        frb_E_nu / frb_dist_fact *\n",
    "        np.sqrt((2 * bw_telescope) / (frb_w + frb_tau)) * \n",
    "        frb_w_correction * frb_bw_correction *\n",
    "        (beam_response / sefd) *\n",
    "        np.sqrt(1 - rfi_band)\n",
    "    ).to(u.dimensionless_unscaled)\n",
    "\n",
    "\n",
    "def convert_to_rate(\n",
    "    detected_frbs,\n",
    "    Emin,\n",
    "    integral_emission_rate,\n",
    "    sky_fraction\n",
    "):\n",
    "    \"\"\"Convert the number of simulated FRBs to a rate.\n",
    "    \"\"\"\n",
    "    # FRB emission rate at z=0 scaled to a minimum energy Emin\n",
    "    frb_emission_rate_z0 = (\n",
    "        frb_emission_rate_z0_Epivot * \n",
    "        float(gammainc(gamma + 1, (Emin / Echar).value)) / \n",
    "        float(gammainc(gamma + 1, (Epivot / Echar).value))\n",
    "    )\n",
    "    # FRB emission rate in the whole volume\n",
    "    frb_emission_rate = frb_emission_rate_z0 * integral_emission_rate\n",
    "    # Duration of the simulation in the real world\n",
    "    duration_sim = number_of_simulated_frbs / frb_emission_rate\n",
    "    # All-sky FRB detection rate\n",
    "    frb_detected_allsky = detected_frbs / duration_sim\n",
    "    # FRB rate detected by the telescope\n",
    "    frb_detection_rate = frb_detected_allsky * sky_fraction\n",
    "    return frb_detection_rate\n",
    "\n",
    "\n",
    "def get_detection_rate(\n",
    "    telescope,\n",
    "    freq_low,\n",
    "    freq_high,\n",
    "    simulate_lensed_frbs = True,\n",
    "):\n",
    "    \"\"\"Rate of FRB detections.\n",
    "    \"\"\"\n",
    "    freq_mean = (freq_low + freq_high) / 2\n",
    "    bw_telescope = freq_high - freq_low\n",
    "    sefd = telescope.sefd(freq=freq_mean)\n",
    "    \n",
    "    # FRB widths\n",
    "    # From https://ui.adsabs.harvard.edu/abs/2021ApJS..257...59C/abstract\n",
    "    sigma = 0.97\n",
    "    scale = 1.0 * u.ms\n",
    "    frb_w = rng.lognormal(\n",
    "        sigma = sigma, \n",
    "        size = number_of_simulated_frbs\n",
    "    ) * scale\n",
    "    \n",
    "    # FRB scattering\n",
    "    # From https://ui.adsabs.harvard.edu/abs/2021ApJS..257...59C/abstract\n",
    "    sigma = 1.72\n",
    "    scale = 2.02 * u.ms\n",
    "    frb_tau = rng.lognormal(\n",
    "        sigma = sigma, \n",
    "        size = number_of_simulated_frbs\n",
    "    ) * scale\n",
    "    # Rescale to central frequency\n",
    "    frb_tau = frb_tau * (freq_mean / 600 / u.MHz)**-4\n",
    "    # Include extragalactic scattering\n",
    "\n",
    "    # FRB time correction\n",
    "    frb_w_correction = np.sqrt(frb_w / w_telescope).clip(max=1)\n",
    "    \n",
    "    # FRB bandwidth corrections\n",
    "    frb_bw = get_bandwidth_correction(bw_telescope)\n",
    "    bw_correction = np.sqrt(frb_bw / bw_telescope).clip(max=1)\n",
    "    \n",
    "    # FRB redshifts\n",
    "    (\n",
    "        frb_dist_fact,\n",
    "        z_min,\n",
    "        z_max,\n",
    "        integral_emission_rate\n",
    "    ) = get_distribution_dist(\n",
    "        simulate_lensed_frbs = simulate_lensed_frbs,\n",
    "    )\n",
    "    \n",
    "    # FRB energies\n",
    "    # Minimum energy that can be detected from current sample\n",
    "    Emin = get_energy_minimum(\n",
    "        bw_telescope,\n",
    "        sefd,\n",
    "        frb_bw,\n",
    "        frb_w,\n",
    "        frb_tau,\n",
    "        frb_dist_fact,\n",
    "        frb_w_correction,\n",
    "        frb_bw_correction,\n",
    "    )\n",
    "    \n",
    "    # Energy distribution\n",
    "    # A factor 1e40 is scaled to avoid overflows\n",
    "    frb_E = schechter_distribution(\n",
    "        gamma, \n",
    "        Echar.value / 1e40, \n",
    "        Emin.value / 1e40, \n",
    "    ) * 1e40 * u.erg\n",
    "    # Energy spectral density distribution\n",
    "    frb_E_nu = frb_E / frb_bw #/ u.GHz\n",
    "\n",
    "    # Beam response\n",
    "    sky_fraction, beam_response = get_beam_response(\n",
    "        telescope,\n",
    "        freq_low\n",
    "    )\n",
    "    \n",
    "    # FRB S/N values\n",
    "    frb_snr = get_snr(\n",
    "        frb_E_nu,\n",
    "        frb_dist_fact,\n",
    "        alpha,\n",
    "        bw_telescope,\n",
    "        frb_w, \n",
    "        frb_tau,\n",
    "        frb_w_correction,\n",
    "        frb_bw_correction,\n",
    "        beam_response, \n",
    "        sefd, \n",
    "        rfi_band\n",
    "    )\n",
    "    \n",
    "    # Number of detections\n",
    "    idx_detected_frbs = frb_snr > SNr_min\n",
    "    detected_frbs = frb_snr[idx_detected_frbs].size * observing_time\n",
    "    \n",
    "    # Convert to a physical detection rate\n",
    "    frb_detection_rate = convert_to_rate(\n",
    "        detected_frbs,\n",
    "        Emin,\n",
    "        integral_emission_rate,\n",
    "        sky_fraction\n",
    "    )\n",
    "\n",
    "    # Completeness of redshift range\n",
    "    z_max_detected = get_max_detected_redshift(\n",
    "        frb_snr[idx_detected_frbs],\n",
    "        frb_E_nu[idx_detected_frbs],\n",
    "        bw_telescope,\n",
    "        sefd,\n",
    "        frb_w[idx_detected_frbs],\n",
    "        frb_tau[idx_detected_frbs],\n",
    "        frb_w_correction[idx_detected_frbs],\n",
    "        frb_bw_correction[idx_detected_frbs],\n",
    "    )\n",
    "    if z_max < z_max_detected:\n",
    "        print(f\"Maximum redshift detected: {z_max_detected:.1f}\")\n",
    "        print(f\"Maximum redshift simulated: {z_max:.1f}\")\n",
    "        raise RuntimeWarning(\"Galaxy sample not deep enough!\")\n",
    "\n",
    "    return frb_detection_rate\n",
    "    \n",
    "\n",
    "def run_simulation(\n",
    "    telescope_name = 'dummy',\n",
    "    simulate_lensed_frbs = True, \n",
    "):\n",
    "    \"\"\" Simulate how many strongly lensed fast radio bursts (FRBs) are detected by a facility in one year.\n",
    "\n",
    "    Parameters\n",
    "    ----------\n",
    "    telescope_name : str = 'chord'\n",
    "        Telescope to simulate. Currently, 'chime', 'chord', and 'dsa2000' are supported.\n",
    "    simulate_lensed_frbs : bool\n",
    "        Simulate only lensed FRBs or the whole population.\n",
    "\n",
    "    Returns\n",
    "    -------\n",
    "    float\n",
    "        Rate per year.\n",
    "\n",
    "    \"\"\"\n",
    "    print(f'Starting the simulation for {telescope_name}')\n",
    "    print(f'{number_of_simulated_frbs} bursts will be simulated.')\n",
    "    \n",
    "    # Telescope parameters\n",
    "    telescope = Telescope(name=telescope_name)\n",
    "    \n",
    "    # Search single frequency bands\n",
    "    # Assumes that FRBs are intrinsically narrowband\n",
    "    search_bands = telescope.frequency_bands()\n",
    "    frb_detection_rate = 0 / u.yr\n",
    "    \n",
    "    for freq_low, freq_high in search_bands:\n",
    "        frb_detection_rate += get_detection_rate(\n",
    "            telescope,\n",
    "            freq_low,\n",
    "            freq_high,\n",
    "            simulate_lensed_frbs = simulate_lensed_frbs,\n",
    "        )    \n",
    "    \n",
    "    print(f'The detection rate is {frb_detection_rate.to(1/u.year).value:.1f} FRBs per year,')\n",
    "    print(f'or 1 FRB detected every {1/(frb_detection_rate).to(1/u.year).value:.2f} years.')\n",
    "    return frb_detection_rate\n",
    "\n",
    "\n",
    "# Global values\n",
    "\n",
    "# Redshift and magnitude distributions of lensed galaxies detected by Euclid\n",
    "# From https://ui.adsabs.harvard.edu/abs/2015ApJ...811...20C/abstract\n",
    "lensed_galaxies_z = np.loadtxt('lenses_Euclid.txt', usecols=1)  # Redshift distribution\n",
    "lensed_galaxies_Mv = np.loadtxt('lenses_Euclid.txt', usecols=17) * u.M_bol # Magnitude distribution\n",
    "\n",
    "# FRB properties\n",
    "# From https://ui.adsabs.harvard.edu/abs/2022arXiv220714316S/abstract\n",
    "alpha = -1.39  # Spectral index\n",
    "Echar = 2.38e41 * u.erg  # Characteristic energy cut-of\n",
    "gamma = -1.3  # Differential power-law index\n",
    "Epivot = 1e39 * u.erg  # Pivot energy\n",
    "frb_emission_rate_z0_Epivot = (7.3e4 / u.Gpc**3 / u.year).to(1 / u.Mpc**3 / u.year)\n",
    "n_sfr = 0.96\n",
    "\n",
    "# Parameters of the simulation\n",
    "number_of_simulated_frbs = int(1e5)  # Elements in the simulation\n",
    "elements_in_distributions = int(1e4)  # 1 / resolution of continuous distributions\n",
    "seed = 2911167007  # Seed of random processes\n",
    "rng = default_rng(seed)  # Random generator; seed fixed for reproducibility\n",
    "frbs_evolve_with_luminosity = True  # FRB rate follows galaxy luminosity\n",
    "zlim = None  # Limit on maximum redshift defined as [z_min, z_max]\n",
    "\n",
    "# Assumed observational prameters\n",
    "observing_time = 0.8  # Fraction of observing time\n",
    "SNr_min = 8  # Minimum detectable S/N\n",
    "rfi_band = 0.3  # Fraction of band affected by RFI\n",
    "w_telescope = 1 * u.ms\n",
    "\n",
    "\n",
    "\n",
    "# Run the simulation\n",
    "frb_detection_rate = run_simulation(telescope_name='chime', simulate_lensed_frbs = False)"
   ]
  },
  {
   "cell_type": "code",
   "execution_count": null,
   "id": "1417b5d6-dcab-4662-a20c-66c6d8ac3bde",
   "metadata": {
    "tags": []
   },
   "outputs": [],
   "source": []
  },
  {
   "cell_type": "code",
   "execution_count": null,
   "id": "e7f8b49e-3f27-4183-9f18-054698d4d654",
   "metadata": {},
   "outputs": [],
   "source": []
  },
  {
   "cell_type": "code",
   "execution_count": null,
   "id": "fdfbd777-2005-44f5-a713-93f7f6034622",
   "metadata": {},
   "outputs": [],
   "source": []
  },
  {
   "cell_type": "code",
   "execution_count": null,
   "id": "1366d831-de88-41b9-ac84-78bb9d814b16",
   "metadata": {},
   "outputs": [],
   "source": []
  },
  {
   "cell_type": "code",
   "execution_count": null,
   "id": "04f7575b-8f4a-47ba-bd0b-53e0bc7f06e7",
   "metadata": {},
   "outputs": [],
   "source": []
  },
  {
   "cell_type": "code",
   "execution_count": null,
   "id": "dbdecbc8-072e-4699-8468-9fd8e84c8fb5",
   "metadata": {},
   "outputs": [],
   "source": []
  },
  {
   "cell_type": "code",
   "execution_count": null,
   "id": "844bf3ac-d9ba-40f4-a02b-bdaf953f2dfc",
   "metadata": {},
   "outputs": [],
   "source": []
  },
  {
   "cell_type": "code",
   "execution_count": null,
   "id": "ee9c5ad7-77a1-44fd-a819-c25fdaf54296",
   "metadata": {},
   "outputs": [],
   "source": []
  },
  {
   "cell_type": "code",
   "execution_count": null,
   "id": "d9c2c2dc-2545-4eab-b75f-da16c63e9cc0",
   "metadata": {},
   "outputs": [],
   "source": []
  },
  {
   "cell_type": "code",
   "execution_count": null,
   "id": "e09d2a53-6ad8-463e-9fe7-b69e3ab85f9e",
   "metadata": {},
   "outputs": [],
   "source": []
  },
  {
   "cell_type": "code",
   "execution_count": 4,
   "id": "599fdf97-88ed-4f45-848a-89e15fc92f80",
   "metadata": {},
   "outputs": [
    {
     "ename": "SyntaxError",
     "evalue": "invalid syntax (2257971196.py, line 1)",
     "output_type": "error",
     "traceback": [
      "\u001b[0;36m  Cell \u001b[0;32mIn[4], line 1\u001b[0;36m\u001b[0m\n\u001b[0;31m    https://web.mit.edu/urban_or_book/www/book/chapter7/7.1.3.html\u001b[0m\n\u001b[0m          ^\u001b[0m\n\u001b[0;31mSyntaxError\u001b[0m\u001b[0;31m:\u001b[0m invalid syntax\n"
     ]
    }
   ],
   "source": [
    "https://web.mit.edu/urban_or_book/www/book/chapter7/7.1.3.html\n",
    "https://docs.scipy.org/doc/scipy/tutorial/stats/sampling.html\n",
    "https://towardsdatascience.com/rejection-sampling-with-python-d7a30cfc327b"
   ]
  },
  {
   "cell_type": "code",
   "execution_count": null,
   "id": "5c55870d-7f68-42eb-95dd-59a9d18798f9",
   "metadata": {
    "tags": []
   },
   "outputs": [],
   "source": [
    "https://iopscience.iop.org/article/10.1086/589501/pdf  # The Schechter function is equivalent to a gamma distribution with shape parameter k = alpha + 1 and scale parameter L*\n",
    "https://iopscience.iop.org/article/10.3847/2515-5172/abacb8  # one can generate samples from the BB1 distribution using a straightforward modification of a widely-used algorithm for sampling from the gamma distribution due to Ahrens & Dieter (1974). These properties make it useful for simulation studies."
   ]
  },
  {
   "cell_type": "code",
   "execution_count": null,
   "id": "7d5f5059-8719-4354-accf-9ab8461bffaf",
   "metadata": {},
   "outputs": [],
   "source": [
    "https://www.math.leidenuniv.nl/~gill/teaching/astro/stanSchechter.pdf"
   ]
  },
  {
   "cell_type": "code",
   "execution_count": null,
   "id": "c55d0fa1-2153-43bb-a0ab-d0312c7bda4b",
   "metadata": {},
   "outputs": [],
   "source": []
  },
  {
   "cell_type": "code",
   "execution_count": null,
   "id": "3d8f86c6-c2d0-4358-8faf-f9ef70b83c7e",
   "metadata": {},
   "outputs": [],
   "source": []
  },
  {
   "cell_type": "code",
   "execution_count": null,
   "id": "5b34b3e2-6923-4360-81d2-2f9664dc532f",
   "metadata": {},
   "outputs": [],
   "source": []
  },
  {
   "cell_type": "code",
   "execution_count": null,
   "id": "c70ed2e1",
   "metadata": {},
   "outputs": [],
   "source": [
    "# Follow-up\n",
    "from astropy.coordinates import AltAz, EarthLocation, SkyCoord\n",
    "from astropy.time import Time"
   ]
  },
  {
   "cell_type": "code",
   "execution_count": 4,
   "id": "a7c6ce6f",
   "metadata": {},
   "outputs": [],
   "source": [
    "source_low_dec = SkyCoord(ra=0*u.deg, dec=-10*u.deg)\n",
    "source_mid_dec = SkyCoord(ra=0*u.deg, dec=45*u.deg)\n",
    "source_high_dec = SkyCoord(ra=0*u.deg, dec=89*u.deg)"
   ]
  },
  {
   "cell_type": "code",
   "execution_count": 5,
   "id": "4fc7c46e",
   "metadata": {},
   "outputs": [],
   "source": [
    "gbt = EarthLocation.of_site('GBT')\n",
    "gmrt = EarthLocation.of_site('GMRT')\n",
    "eff = EarthLocation.of_site('Effelsberg')"
   ]
  },
  {
   "cell_type": "code",
   "execution_count": 26,
   "id": "be5f2a98",
   "metadata": {},
   "outputs": [
    {
     "name": "stdout",
     "output_type": "stream",
     "text": [
      "90.0% of time the source can be observed\n"
     ]
    },
    {
     "data": {
      "image/png": "[encoded data removed]",
      "text/plain": [
       "<Figure size 640x480 with 1 Axes>"
      ]
     },
     "metadata": {},
     "output_type": "display_data"
    }
   ],
   "source": [
    "# Low dec\n",
    "ha = np.linspace(-12, 12, 100)\n",
    "t = ha*u.hour + Time('2012-7-13 00:00:00')\n",
    "y_t = np.zeros_like(ha) + np.nan\n",
    "\n",
    "# GBT\n",
    "alt_gbt = source_low_dec.transform_to(AltAz(obstime=t, location=gbt)).alt\n",
    "idx = alt_gbt > 0\n",
    "x = ha.copy()\n",
    "x[~idx] = np.nan\n",
    "y = alt_gbt.value.copy()\n",
    "y[~idx] = np.nan\n",
    "plt.plot(x, y, 'b-', label='GBT')\n",
    "y_t[idx] = 0\n",
    "\n",
    "# GMRT\n",
    "alt_gmrt = source_low_dec.transform_to(AltAz(obstime=t, location=gmrt)).alt\n",
    "idx = alt_gmrt > 0\n",
    "x = ha.copy()\n",
    "x[~idx] = np.nan\n",
    "y = alt_gmrt.value.copy()\n",
    "y[~idx] = np.nan\n",
    "plt.plot(x, y, 'r-', label='GMRT')\n",
    "y_t[idx] = 0\n",
    "\n",
    "# Effelsberg\n",
    "alt_eff = source_low_dec.transform_to(AltAz(obstime=t, location=eff)).alt\n",
    "idx = alt_eff > 0\n",
    "x = ha.copy()\n",
    "x[~idx] = np.nan\n",
    "y = alt_eff.value.copy()\n",
    "y[~idx] = np.nan\n",
    "plt.plot(x, y, 'g-', label='Effelsberg')\n",
    "y_t[idx] = 0\n",
    "\n",
    "plt.plot(ha, y_t, \"k-\")\n",
    "plt.legend()\n",
    "plt.title('Dec = -10 deg')\n",
    "\n",
    "print(f'{y_t[~np.isnan(y_t)].size / y_t.size * 100:.1f}% of time the source can be observed')"
   ]
  },
  {
   "cell_type": "code",
   "execution_count": 27,
   "id": "cc707d24",
   "metadata": {},
   "outputs": [
    {
     "name": "stdout",
     "output_type": "stream",
     "text": [
      "100.0% of time the source can be observed\n"
     ]
    },
    {
     "data": {
      "image/png": "[encoded data removed]",
      "text/plain": [
       "<Figure size 640x480 with 1 Axes>"
      ]
     },
     "metadata": {},
     "output_type": "display_data"
    }
   ],
   "source": [
    "# Mid dec\n",
    "ha = np.linspace(-12, 12, 100)\n",
    "t = ha*u.hour + Time('2012-7-13 00:00:00')\n",
    "y_t = np.zeros_like(ha) + np.nan\n",
    "\n",
    "# GBT\n",
    "alt_gbt = source_mid_dec.transform_to(AltAz(obstime=t, location=gbt)).alt\n",
    "idx = alt_gbt > 0\n",
    "x = ha.copy()\n",
    "x[~idx] = np.nan\n",
    "y = alt_gbt.value.copy()\n",
    "y[~idx] = np.nan\n",
    "plt.plot(x, y, 'b-', label='GBT')\n",
    "y_t[idx] = 0\n",
    "\n",
    "# GMRT\n",
    "alt_gmrt = source_mid_dec.transform_to(AltAz(obstime=t, location=gmrt)).alt\n",
    "idx = alt_gmrt > 0\n",
    "x = ha.copy()\n",
    "x[~idx] = np.nan\n",
    "y = alt_gmrt.value.copy()\n",
    "y[~idx] = np.nan\n",
    "plt.plot(x, y, 'r-', label='GMRT')\n",
    "y_t[idx] = 0\n",
    "\n",
    "# Effelsberg\n",
    "alt_eff = source_mid_dec.transform_to(AltAz(obstime=t, location=eff)).alt\n",
    "idx = alt_eff > 0\n",
    "x = ha.copy()\n",
    "x[~idx] = np.nan\n",
    "y = alt_eff.value.copy()\n",
    "y[~idx] = np.nan\n",
    "plt.plot(x, y, 'g-', label='Effelsberg')\n",
    "y_t[idx] = 0\n",
    "\n",
    "plt.plot(ha, y_t, \"k-\")\n",
    "plt.legend()\n",
    "plt.title('Dec = 45 deg')\n",
    "\n",
    "print(f'{y_t[~np.isnan(y_t)].size / y_t.size * 100:.1f}% of time the source can be observed')"
   ]
  },
  {
   "cell_type": "code",
   "execution_count": 28,
   "id": "f23544bf",
   "metadata": {},
   "outputs": [
    {
     "name": "stdout",
     "output_type": "stream",
     "text": [
      "100.0% of time the source can be observed\n"
     ]
    },
    {
     "data": {
      "image/png": "[encoded data removed]",
      "text/plain": [
       "<Figure size 640x480 with 1 Axes>"
      ]
     },
     "metadata": {},
     "output_type": "display_data"
    }
   ],
   "source": [
    "# High dec\n",
    "ha = np.linspace(-12, 12, 100)\n",
    "t = ha*u.hour + Time('2012-7-13 00:00:00')\n",
    "y_t = np.zeros_like(ha) + np.nan\n",
    "\n",
    "# GBT\n",
    "alt_gbt = source_high_dec.transform_to(AltAz(obstime=t, location=gbt)).alt\n",
    "idx = alt_gbt > 0\n",
    "x = ha.copy()\n",
    "x[~idx] = np.nan\n",
    "y = alt_gbt.value.copy()\n",
    "y[~idx] = np.nan\n",
    "plt.plot(x, y, 'b-', label='GBT')\n",
    "y_t[idx] = 0\n",
    "\n",
    "# GMRT\n",
    "alt_gmrt = source_high_dec.transform_to(AltAz(obstime=t, location=gmrt)).alt\n",
    "idx = alt_gmrt > 0\n",
    "x = ha.copy()\n",
    "x[~idx] = np.nan\n",
    "y = alt_gmrt.value.copy()\n",
    "y[~idx] = np.nan\n",
    "plt.plot(x, y, 'r-', label='GMRT')\n",
    "y_t[idx] = 0\n",
    "\n",
    "# Effelsberg\n",
    "alt_eff = source_high_dec.transform_to(AltAz(obstime=t, location=eff)).alt\n",
    "idx = alt_eff > 0\n",
    "x = ha.copy()\n",
    "x[~idx] = np.nan\n",
    "y = alt_eff.value.copy()\n",
    "y[~idx] = np.nan\n",
    "plt.plot(x, y, 'g-', label='Effelsberg')\n",
    "y_t[idx] = 0\n",
    "\n",
    "plt.plot(ha, y_t, \"k-\")\n",
    "plt.legend()\n",
    "plt.title('Dec = 89 deg')\n",
    "\n",
    "print(f'{y_t[~np.isnan(y_t)].size / y_t.size * 100:.1f}% of time the source can be observed')"
   ]
  },
  {
   "cell_type": "code",
   "execution_count": null,
   "id": "a126f7ea",
   "metadata": {},
   "outputs": [],
   "source": []
  },
  {
   "cell_type": "code",
   "execution_count": null,
   "id": "d9fc2dd7",
   "metadata": {},
   "outputs": [],
   "source": []
  },
  {
   "cell_type": "code",
   "execution_count": null,
   "id": "f5df9157",
   "metadata": {},
   "outputs": [],
   "source": []
  },
  {
   "cell_type": "code",
   "execution_count": 1125,
   "id": "e41b31b6",
   "metadata": {},
   "outputs": [
    {
     "data": {
      "text/plain": [
       "<matplotlib.legend.Legend at 0x7efc277a3cd0>"
      ]
     },
     "execution_count": 1125,
     "metadata": {},
     "output_type": "execute_result"
    },
    {
     "data": {
      "image/png": "[encoded data removed]",
      "text/plain": [
       "<Figure size 640x480 with 1 Axes>"
      ]
     },
     "metadata": {},
     "output_type": "display_data"
    }
   ],
   "source": [
    "# FRB radial distribution within host galaxies\n",
    "\n",
    "#https://arxiv.org/pdf/2009.10747.pdf\n",
    "#https://arxiv.org/pdf/2302.14782.pdf\n",
    "#https://arxiv.org/pdf/2108.01282.pdf\n",
    "#https://arxiv.org/pdf/2301.01000.pdf\n",
    "\n",
    "# i-band and r-band\n",
    "offset = np.array([0.6, 5.5, 3.4, 1.2, 2.0, 27, 6.6, 11, 3.2, 1.9, 11, 3.0, 9.87, 3.80, 10.8, 5.7, 5.9, 2.3])\n",
    "reff = np.array([0.7, 3.6, 2.7, 7.2, 4.4, 3.3, 2.8, 2.1, 2.9, 3.9, 5.5, 1.6, 2.67, 6.64, 5.80, 1.78, 7.58, 2.7])\n",
    "\n",
    "r = np.sort(offset / reff)\n",
    "F = np.arange(r.size)/r.size\n",
    "\n",
    "from scipy import stats\n",
    "y_hist, bins = np.histogram(r, bins=np.arange(10))\n",
    "x_hist = bins[:-1]\n",
    "plt.step(x_hist, y_hist/y_hist.max(), color='k')\n",
    "\n",
    "\n",
    "x = np.linspace(x_hist.min(), x_hist.max(), 100)\n",
    "y = np.exp(-x)\n",
    "#y = y / y.max() * 7\n",
    "plt.plot(x, y, 'r-', label='exp(dR)')\n",
    "plt.xlabel('dR = offset / Reff')\n",
    "plt.ylabel('N (normalized)')\n",
    "plt.legend()"
   ]
  },
  {
   "cell_type": "code",
   "execution_count": null,
   "id": "2e8b7341",
   "metadata": {},
   "outputs": [],
   "source": []
  },
  {
   "cell_type": "code",
   "execution_count": null,
   "id": "a49fa502",
   "metadata": {},
   "outputs": [],
   "source": []
  },
  {
   "cell_type": "code",
   "execution_count": null,
   "id": "056f7a6e",
   "metadata": {},
   "outputs": [],
   "source": []
  },
  {
   "cell_type": "code",
   "execution_count": 8,
   "id": "da2109a2-3c4c-4f61-8b6a-b336ee3028f3",
   "metadata": {
    "tags": []
   },
   "outputs": [],
   "source": []
  },
  {
   "cell_type": "code",
   "execution_count": null,
   "id": "3353542e-84de-4f84-a60c-2ca76cc0f768",
   "metadata": {},
   "outputs": [],
   "source": []
  },
  {
   "cell_type": "code",
   "execution_count": null,
   "id": "f81bdd69-60e1-464f-ac71-6a3ebca956e8",
   "metadata": {},
   "outputs": [],
   "source": []
  },
  {
   "cell_type": "code",
   "execution_count": null,
   "id": "ea92540b-5c21-4f54-b842-5b35d3995f4b",
   "metadata": {},
   "outputs": [],
   "source": []
  },
  {
   "cell_type": "code",
   "execution_count": 1,
   "id": "954bf913-bec5-49b8-a036-3aaafa38a376",
   "metadata": {
    "tags": []
   },
   "outputs": [],
   "source": [
    "import sys\n",
    "sys.path.insert(0, \"/arc/home/michilli/ARSpy/\")"
   ]
  },
  {
   "cell_type": "code",
   "execution_count": 1,
   "id": "764c9913-56b5-48f6-9f5b-462f6e1eb108",
   "metadata": {
    "tags": []
   },
   "outputs": [],
   "source": [
    "import sys\n",
    "sys.path.append(\"/arc/home/michilli/.local/lib/python3.8/site-packages/\")"
   ]
  },
  {
   "cell_type": "code",
   "execution_count": 2,
   "id": "25cf322c-4e91-456c-8ffd-2c932add18bc",
   "metadata": {
    "tags": []
   },
   "outputs": [
    {
     "data": {
      "text/plain": [
       "<module 'arspy' from '/arc/home/michilli/.local/lib/python3.8/site-packages/arspy/__init__.py'>"
      ]
     },
     "execution_count": 2,
     "metadata": {},
     "output_type": "execute_result"
    }
   ],
   "source": [
    "import numpy as np\n",
    "from arspy.ars import adaptive_rejection_sampling\n",
    "import arspy\n",
    "arspy"
   ]
  },
  {
   "cell_type": "code",
   "execution_count": 11,
   "id": "70b97ac5-c3d2-4c7d-86bc-de4ad40600fa",
   "metadata": {
    "tags": []
   },
   "outputs": [
    {
     "data": {
      "text/plain": [
       "[12.861100329233185,\n",
       " 9.241582899926813,\n",
       " 5.879467523159431,\n",
       " 13.771304112580912,\n",
       " 6.769463372110595,\n",
       " 28.629075515917624,\n",
       " 13.878310332472786,\n",
       " 41.59553148937909,\n",
       " 11.339655566858509,\n",
       " 6.0358931232771775]"
      ]
     },
     "execution_count": 11,
     "metadata": {},
     "output_type": "execute_result"
    }
   ],
   "source": [
    "    gamma = -1.3\n",
    "    Echar=30\n",
    "    Emin=5\n",
    "    \"\"\"Simulated distribution of a Schechter function.\"\"\"\n",
    "    schechter_logpdf = lambda E: np.log((E / Echar)**gamma / Echar * np.exp(-E / Echar))\n",
    "    adaptive_rejection_sampling(\n",
    "        logpdf = schechter_logpdf,  # Schechter function\n",
    "        a = Emin,  # Lower initial condition\n",
    "        b = Echar,  # Upper initial condition\n",
    "        domain = (Emin, float(\"inf\")),  # Domain of the Energy\n",
    "        n_samples = 10,\n",
    "        seed=2911167007\n",
    "    )"
   ]
  },
  {
   "cell_type": "code",
   "execution_count": null,
   "id": "d5b4b1ac-66df-4bf7-b4b1-2ba6e8882c56",
   "metadata": {
    "tags": []
   },
   "outputs": [],
   "source": []
  },
  {
   "cell_type": "code",
   "execution_count": null,
   "id": "5382cc09-25c3-49a4-9c47-5d5776369d60",
   "metadata": {},
   "outputs": [],
   "source": []
  },
  {
   "cell_type": "code",
   "execution_count": null,
   "id": "c22d0a35-66c4-49f0-84da-5d65c9416897",
   "metadata": {},
   "outputs": [],
   "source": []
  },
  {
   "cell_type": "code",
   "execution_count": 333,
   "id": "d0fc188b-545b-43ee-b0e4-c75f662dfde7",
   "metadata": {
    "tags": []
   },
   "outputs": [],
   "source": []
  },
  {
   "cell_type": "code",
   "execution_count": 334,
   "id": "117355aa-744c-4f7a-a06a-f8d313c9b686",
   "metadata": {
    "tags": []
   },
   "outputs": [],
   "source": []
  },
  {
   "cell_type": "code",
   "execution_count": null,
   "id": "a42d977b-5225-41c9-98aa-e29f886bbcfc",
   "metadata": {},
   "outputs": [],
   "source": []
  },
  {
   "cell_type": "code",
   "execution_count": null,
   "id": "13b8553a-072d-443d-a720-d98cefbdd7e2",
   "metadata": {
    "tags": []
   },
   "outputs": [],
   "source": []
  },
  {
   "cell_type": "code",
   "execution_count": 335,
   "id": "bc1aab6f-a1d2-4676-87e5-8f829e0c0b3f",
   "metadata": {
    "tags": []
   },
   "outputs": [],
   "source": [
    "z_min = 0.3\n",
    "z_max = 3."
   ]
  },
  {
   "cell_type": "code",
   "execution_count": 340,
   "id": "f9ed90b0-e21a-4560-820b-f98d0b550fd0",
   "metadata": {
    "tags": []
   },
   "outputs": [],
   "source": []
  },
  {
   "cell_type": "code",
   "execution_count": 342,
   "id": "45a08afc-49ac-4e82-90ea-0cbe054c12e8",
   "metadata": {
    "tags": []
   },
   "outputs": [],
   "source": []
  },
  {
   "cell_type": "code",
   "execution_count": 343,
   "id": "cbe26dcc-690b-44c0-8120-5d3ba4ebff7c",
   "metadata": {
    "tags": []
   },
   "outputs": [
    {
     "data": {
      "text/plain": [
       "[<matplotlib.lines.Line2D at 0x7f776f61caf0>]"
      ]
     },
     "execution_count": 343,
     "metadata": {},
     "output_type": "execute_result"
    },
    {
     "data": {
      "image/png": "[encoded data removed]",
      "text/plain": [
       "<Figure size 640x480 with 1 Axes>"
      ]
     },
     "metadata": {},
     "output_type": "display_data"
    }
   ],
   "source": []
  },
  {
   "cell_type": "code",
   "execution_count": null,
   "id": "43d8cbc1-c0f9-4a33-b830-474f8f3fe37e",
   "metadata": {},
   "outputs": [],
   "source": []
  },
  {
   "cell_type": "code",
   "execution_count": null,
   "id": "1ccdbc04-cb2a-4016-8fd1-b284d029a72c",
   "metadata": {},
   "outputs": [],
   "source": []
  },
  {
   "cell_type": "code",
   "execution_count": null,
   "id": "25cf4c41-aad0-45f4-8ac1-50490fc05a58",
   "metadata": {
    "tags": []
   },
   "outputs": [],
   "source": []
  },
  {
   "cell_type": "code",
   "execution_count": 329,
   "id": "300ecfc1-1558-4e54-b0c9-5e61af776605",
   "metadata": {
    "tags": []
   },
   "outputs": [],
   "source": [
    "x = np.linspace(0.1, 1, 100000)\n",
    "y = z_pdf(x)"
   ]
  },
  {
   "cell_type": "code",
   "execution_count": 330,
   "id": "85422224-c34d-4b72-b253-204ffb15ca35",
   "metadata": {
    "tags": []
   },
   "outputs": [
    {
     "data": {
      "text/plain": [
       "97657377192.34785"
      ]
     },
     "execution_count": 330,
     "metadata": {},
     "output_type": "execute_result"
    }
   ],
   "source": [
    "integrate.simpson(y, x=x)"
   ]
  },
  {
   "cell_type": "code",
   "execution_count": 331,
   "id": "60ca9d00-d03f-4c33-b79a-a8f23ee69662",
   "metadata": {
    "tags": []
   },
   "outputs": [
    {
     "data": {
      "text/latex": [
       "$1.6338643 \\times 10^{11} \\; \\mathrm{Mpc^{3}}$"
      ],
      "text/plain": [
       "<Quantity 1.63386428e+11 Mpc3>"
      ]
     },
     "execution_count": 331,
     "metadata": {},
     "output_type": "execute_result"
    }
   ],
   "source": [
    "2 * ((cosmo.comoving_volume(1) / (1+1)) - (cosmo.comoving_volume(0.1) / (1+0.1)) )"
   ]
  },
  {
   "cell_type": "code",
   "execution_count": null,
   "id": "cd2a75cd-d7bc-426e-99af-78d0f06f4cad",
   "metadata": {},
   "outputs": [],
   "source": []
  },
  {
   "cell_type": "code",
   "execution_count": null,
   "id": "c8401b55-3ff4-4ff6-80cd-960c0d5eb331",
   "metadata": {},
   "outputs": [],
   "source": []
  },
  {
   "cell_type": "code",
   "execution_count": null,
   "id": "769fafaf-64cc-48b9-a31e-582e53883b71",
   "metadata": {},
   "outputs": [],
   "source": []
  },
  {
   "cell_type": "code",
   "execution_count": 349,
   "id": "d47af3c9-d3f4-43bb-b5db-c73c88ee5b91",
   "metadata": {
    "tags": []
   },
   "outputs": [],
   "source": [
    "    z_max = lensed_galaxies_z.max()\n",
    "    z_min = lensed_galaxies_z.min()\n",
    "        \n",
    "    # Define z distribution PDF\n",
    "    # Calculate the integrated normalization\n",
    "    V = integrate.quad(z_pdf_Mpc, z_min, z_max)[0] * u.Mpc**3\n",
    "    # Normalized distribution\n",
    "    z_pdf_norm = lambda z: (cosmo.differential_comoving_volume(z)*4*np.pi*u.sr / (1 + z)).value\n",
    "\n",
    "    # Find maximum of distribution with a spline and its derivative\n",
    "    # Mock data\n",
    "    z = np.linspace(z_min, z_max, 1000)\n",
    "    P_z = z_pdf_norm(z)\n",
    "    # Spline interpolation\n",
    "    cs = spline(z, P_z)\n",
    "    # Redshift of null derivatives\n",
    "    roots = cs.derivative().roots()\n",
    "    # Location of the maximum of the curve\n",
    "    curve_max = z[P_z.argmax()]\n",
    "    # Redshift of the null derivative closest to the location of the maximum\n",
    "    x_max = roots[np.argmin(np.abs(roots - curve_max))]\n",
    "    # Maximum of the distribution plus 1% to account for granularity\n",
    "    y_max = z_pdf_norm(x_max)\n",
    "    y_max = y_max + 0.01 * y_max\n",
    "\n",
    "    # Rejection sampling the distribution\n",
    "    # Initially, the distribution is filled with nan\n",
    "    z_dist = np.zeros(number_of_simulated_frbs) + np.nan\n",
    "    # Loop until no nan are present\n",
    "    while np.isnan(z_dist).any():\n",
    "        # Random values in a box around the function\n",
    "        x = rng.uniform(low=z_min, high=z_max, size=number_of_simulated_frbs)\n",
    "        y = rng.uniform(low=0, high=y_max, size=number_of_simulated_frbs)\n",
    "        # Resize the arrays to get the right number of bins\n",
    "        nan_size = z_dist[np.isnan(z_dist)].size\n",
    "        x = x[y < z_pdf_norm(x)][:nan_size]\n",
    "        first_nan = np.argmax(z_dist)\n",
    "        z_dist[first_nan:first_nan+x.size] = x"
   ]
  },
  {
   "cell_type": "code",
   "execution_count": 362,
   "id": "de1ef85a-2d4c-49f3-bbcb-95dc2a350945",
   "metadata": {
    "tags": []
   },
   "outputs": [
    {
     "data": {
      "text/plain": [
       "[<matplotlib.lines.Line2D at 0x7f776b3cec40>]"
      ]
     },
     "execution_count": 362,
     "metadata": {},
     "output_type": "execute_result"
    },
    {
     "data": {
      "image/png": "[encoded data removed]",
      "text/plain": [
       "<Figure size 640x480 with 1 Axes>"
      ]
     },
     "metadata": {},
     "output_type": "display_data"
    }
   ],
   "source": [
    "p, bins, _ = plt.hist(z_dist, bins=100, density=False)\n",
    "\n",
    "x = np.linspace(z_min, z_max, 1000)\n",
    "y = z_pdf_norm(x)\n",
    "y = y / y.max() * p.max()\n",
    "plt.plot(x, y, 'k-')"
   ]
  },
  {
   "cell_type": "code",
   "execution_count": 361,
   "id": "ba3c0211-09f3-44e6-86c6-a5b635d7b72b",
   "metadata": {
    "tags": []
   },
   "outputs": [
    {
     "data": {
      "text/plain": [
       "3"
      ]
     },
     "execution_count": 361,
     "metadata": {},
     "output_type": "execute_result"
    }
   ],
   "source": [
    "len(a)"
   ]
  }
 ],
 "metadata": {
  "kernelspec": {
   "display_name": "Python 3 (ipykernel)",
   "language": "python",
   "name": "python3"
  },
  "language_info": {
   "codemirror_mode": {
    "name": "ipython",
    "version": 3
   },
   "file_extension": ".py",
   "mimetype": "text/x-python",
   "name": "python",
   "nbconvert_exporter": "python",
   "pygments_lexer": "ipython3",
   "version": "3.8.16"
  }
 },
 "nbformat": 4,
 "nbformat_minor": 5
}
