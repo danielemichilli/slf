{
 "cells": [
  {
   "cell_type": "markdown",
   "id": "0758a1c2-8c46-4a92-a5c3-8bce4a29cb4b",
   "metadata": {},
   "source": [
    "For the paper:\n",
    "- Use https://arxiv.org/abs/1706.06103 for scattering\n",
    "- Use term \"optical depth\" instead of lensing fraction, check that out\n",
    "- Update parameters with https://arxiv.org/pdf/2208.00819.pdf\n",
    "- Scattering in lens: \n",
    "    - https://arxiv.org/pdf/1706.06103.pdf\n",
    "    - https://iopscience.iop.org/article/10.1088/0004-637X/776/2/125/pdf\n",
    "- Compare rates to https://arxiv.org/pdf/2206.14310.pdf\n",
    "\n",
    "\n",
    "TODO\n",
    "- Update parameters with Clancy model\n",
    "- Use \"rate interpretation\" of alpha (https://arxiv.org/pdf/2101.08005.pdfhttps://arxiv.org/pdf/2101.08005.pdf)\n",
    "- Add other telescopes\n",
    "- Add uncertainties\n",
    "- Add magnification factor\n",
    "- Add scattering horizon\n",
    "- Same number of FRBs for lensed simulations"
   ]
  },
  {
   "cell_type": "code",
   "execution_count": 1,
   "id": "5d048da6-4c25-4841-a3c0-de5f34062c8a",
   "metadata": {
    "tags": []
   },
   "outputs": [],
   "source": [
    "import warnings\n",
    "warnings.filterwarnings(\"error\")"
   ]
  },
  {
   "cell_type": "code",
   "execution_count": 2,
   "id": "298f16f0-20dd-4a42-bc9f-31535364c37e",
   "metadata": {
    "tags": []
   },
   "outputs": [],
   "source": [
    "import sys\n",
    "sys.path.append(\"/arc/home/michilli/.local/lib/python3.8/site-packages/\")"
   ]
  },
  {
   "cell_type": "code",
   "execution_count": null,
   "id": "9cb3521d-26ce-4f80-a2ad-5d0864a222cf",
   "metadata": {},
   "outputs": [],
   "source": []
  },
  {
   "cell_type": "code",
   "execution_count": 19,
   "id": "b5fcd59e-066d-4d18-9f12-3775d5878111",
   "metadata": {
    "tags": []
   },
   "outputs": [],
   "source": [
    "freq = 600 * u.MHz\n",
    "sefd = (\n",
    "    100 * u.Jy + \n",
    "    34 * u.K * (freq / 408 / u.MHz)**-2.6 / \n",
    "    (1.38 * u.K / u.Jy)\n",
    ")"
   ]
  },
  {
   "cell_type": "code",
   "execution_count": 20,
   "id": "9be3fc9c-8f8f-4d31-be69-8eeedbccfce7",
   "metadata": {
    "tags": []
   },
   "outputs": [
    {
     "data": {
      "text/latex": [
       "$109.03905 \\; \\mathrm{Jy}$"
      ],
      "text/plain": [
       "<Quantity 109.03905447 Jy>"
      ]
     },
     "execution_count": 20,
     "metadata": {},
     "output_type": "execute_result"
    }
   ],
   "source": [
    "sefd"
   ]
  },
  {
   "cell_type": "code",
   "execution_count": 25,
   "id": "3a65101b-073e-4829-824a-fab5627c88dc",
   "metadata": {
    "tags": []
   },
   "outputs": [],
   "source": [
    "a = rng.normal(size=100000, loc=sefd.value, scale=sefd.value * 0.2)"
   ]
  },
  {
   "cell_type": "code",
   "execution_count": 28,
   "id": "c84bc6ee-6a41-453d-b7d4-cd2fbaca93ba",
   "metadata": {
    "tags": []
   },
   "outputs": [
    {
     "data": {
      "text/plain": [
       "<matplotlib.lines.Line2D at 0x7f1321ad4610>"
      ]
     },
     "execution_count": 28,
     "metadata": {},
     "output_type": "execute_result"
    },
    {
     "data": {
      "image/png": "[encoded data removed]",
      "text/plain": [
       "<Figure size 640x480 with 1 Axes>"
      ]
     },
     "metadata": {},
     "output_type": "display_data"
    }
   ],
   "source": [
    "_=plt.hist(a, bins=100)\n",
    "plt.axvline(sefd.value, color='r')"
   ]
  },
  {
   "cell_type": "code",
   "execution_count": null,
   "id": "0aa99498-f694-4dbe-9cb5-4c051dd3c5d5",
   "metadata": {
    "tags": []
   },
   "outputs": [],
   "source": []
  },
  {
   "cell_type": "code",
   "execution_count": 32,
   "id": "c7ff1cac",
   "metadata": {
    "tags": []
   },
   "outputs": [
    {
     "name": "stdout",
     "output_type": "stream",
     "text": [
      "Using the FRB population model \"shin\"\n",
      "Starting the simulation for chime\n",
      "10000 bursts will be simulated.\n",
      "2.8134857922525514e+37 erg 1e+39 erg\n",
      "The detection rate is 851.2 FRBs per year,\n",
      "or 1 FRB detected every 0.00 years.\n"
     ]
    }
   ],
   "source": [
    "# Python 3.8.16\n",
    "import os\n",
    "import pickle\n",
    "import datetime\n",
    "\n",
    "# Numpy 1.24.2\n",
    "import numpy as np\n",
    "from numpy.random import default_rng\n",
    "# matplotlib 3.7.1\n",
    "import matplotlib.pyplot as plt\n",
    "# astropy 5.2.1\n",
    "from astropy import units as u\n",
    "from astropy.coordinates import Distance\n",
    "from astropy import constants as const\n",
    "from astropy.cosmology import Planck18 as cosmo\n",
    "# scipy 1.9.3\n",
    "from scipy.special import j1\n",
    "from scipy import optimize\n",
    "from scipy.stats import truncnorm\n",
    "from scipy.ndimage import gaussian_filter as gf\n",
    "from scipy.interpolate import CubicSpline as spline\n",
    "from scipy import integrate\n",
    "# mpmath 1.3.0\n",
    "from mpmath import gammainc\n",
    "\n",
    "\n",
    "\n",
    "# Classes and functions\n",
    "\n",
    "class Telescope:\n",
    "    \"\"\"\n",
    "    Telescope parameters\n",
    "    \"\"\"\n",
    "    parameters = {\n",
    "        'dummy': {  # test parameters\n",
    "            'Srec': 15 * u.Jy,\n",
    "            'v0': 800 * u.MHz,\n",
    "            'v1': 1600 * u.MHz,\n",
    "            'D': 50 * u.m,\n",
    "            'bands': [\n",
    "                [800 * u.MHz, 1200 * u.MHz],\n",
    "                [1200 * u.MHz, 1600 * u.MHz],\n",
    "            ]\n",
    "        },\n",
    "        'chime': {  # from https://ui.adsabs.harvard.edu/abs/2022ApJS..261...29C/abstract\n",
    "            # from https://ui.adsabs.harvard.edu/abs/2017ApJ...844..140C/abstract\n",
    "            'Srec': 50 / 1.38 * u.Jy,\n",
    "            'gain': 1.38 * u.K / u.Jy,\n",
    "            'v0': 400 * u.MHz,\n",
    "            'v1': 800 * u.MHz,            \n",
    "            'Dx': 20 * u.m,\n",
    "            'Dy': 0.87 * u.m,  # Emprirical value to have a beam of ~100 deg\n",
    "        },\n",
    "        'chord': {  # from https://ui.adsabs.harvard.edu/abs/2019clrp.2020...28V/abstract\n",
    "            'Srec': 9 * u.Jy,\n",
    "            'gain': 30 * u.K / 9 / u.Jy,\n",
    "            'v0': 300 * u.MHz,\n",
    "            'v1': 1500 * u.MHz,\n",
    "            'D': 6 * u.m,\n",
    "            'bands': [\n",
    "                [300 * u.MHz, 700 * u.MHz],\n",
    "                [700 * u.MHz, 1100 * u.MHz],\n",
    "                [1100 * u.MHz, 1500 * u.MHz],\n",
    "            ]\n",
    "        },\n",
    "        'dsa2000': {  # from https://ui.adsabs.harvard.edu/abs/2019BAAS...51g.255H/abstract\n",
    "            'Srec': 2.5 * u.Jy,  # Jy\n",
    "            'gain': 25 * u.K / 2.5 / u.Jy,\n",
    "            'v0': 700 * u.MHz,\n",
    "            'v1': 2000 * u.MHz,\n",
    "            'D': 5 * u.m,\n",
    "            'bands': [\n",
    "                [700 * u.MHz, 1100 * u.MHz],\n",
    "                [1100 * u.MHz, 1500 * u.MHz],\n",
    "                [1500 * u.MHz, 2000 * u.MHz],\n",
    "            ]\n",
    "        },\n",
    "        'aperitif': {  # from \n",
    "            'Srec': 75 * u.Jy,\n",
    "            'gain': 1.38 * u.K / u.Jy,\n",
    "            'v0': 1000 * u.MHz,\n",
    "            'v1': 1500 * u.MHz,            \n",
    "            'D': 300 * u.m,\n",
    "        },\n",
    "        'fast': {  # from https://ui.adsabs.harvard.edu/abs/2016RaSc...51.1060L/abstract\n",
    "            'Srec': 20 * u.K / (18 * u.K / u.Jy),\n",
    "            'gain': 18 * u.K / u.Jy,\n",
    "            'v0': 1220 * u.MHz,\n",
    "            'v1': 1520 * u.MHz,            \n",
    "            'D': 300 * u.m,\n",
    "        },\n",
    "        'askap': {  # from https://ui.adsabs.harvard.edu/abs/2016PASA...33...42M/abstract\n",
    "            'Srec': 2000 * u.Jy,\n",
    "            'gain': 115 * u.K / 4000 / u.Jy,\n",
    "            'v0': (1320 - 336/2) * u.MHz,\n",
    "            'v1': (1320 + 336/2) * u.MHz,            \n",
    "            'D': 12 * u.m,\n",
    "        },\n",
    "    }\n",
    "    \n",
    "    def __init__(self, name='chord'):\n",
    "        self.name = name\n",
    "        self.parameters = Telescope.parameters\n",
    "        try:\n",
    "            _ = self.parameters[name]\n",
    "        except KeyError:\n",
    "            raise NotImplemented(\"Telescope unknown.\")\n",
    "        \n",
    "    def get_parameters(self, name = None):\n",
    "        if name is None: name = self.name\n",
    "        return self.parameters[name]\n",
    "    \n",
    "    def bandwidth(self, name = None):\n",
    "        if name is None: name = self.name\n",
    "        return self.parameters[name]['v1'] - self.parameters[name]['v0']\n",
    "    \n",
    "    def sefd(self, name = None, freq = None, uncertain = False):\n",
    "        if name is None: name = self.name\n",
    "        if freq is None:\n",
    "            freq = (\n",
    "                self.parameters[name]['v0'] + \n",
    "                self.parameters[name]['v1']\n",
    "            ) / 2\n",
    "        sefd = (\n",
    "            self.parameters[name]['Srec'] + \n",
    "            34 * u.K * (freq / 408 / u.MHz)**-2.6 / \n",
    "            self.parameters[name]['gain']\n",
    "        )\n",
    "        if uncertain:\n",
    "            # Add an error of 20%\n",
    "            sefd = rng.normal(\n",
    "                loc=sefd.to(u.Jy).value,\n",
    "                scale=sefd.to(u.Jy).value * 0.2\n",
    "            ) * u.Jy\n",
    "        return sefd\n",
    "    \n",
    "    def v0(self, name = None):\n",
    "        if name is None: name = self.name\n",
    "        return self.parameters[name]['v0']\n",
    "    \n",
    "    def v1(self, name = None):\n",
    "        if name is None: name = self.name\n",
    "        return self.parameters[name]['v1']\n",
    "    \n",
    "    def frequency_bands(self, name = None):\n",
    "        if name is None: name = self.name\n",
    "        try:\n",
    "            return self.parameters[name]['bands']\n",
    "        except KeyError:\n",
    "            return [[\n",
    "                self.parameters[name]['v0'],\n",
    "                self.parameters[name]['v1']\n",
    "            ]]\n",
    "    \n",
    "    def get_parameter(self, parameter, name = None):\n",
    "        if name is None: name = self.name\n",
    "        return self.parameters[name][parameter]\n",
    "\n",
    "    \n",
    "class FRB_Population:\n",
    "    \"\"\"\n",
    "    Parameters of the FRB population.\n",
    "    \"\"\"\n",
    "    parameters = {\n",
    "        'shin': {  # From https://ui.adsabs.harvard.edu/abs/2022arXiv220714316S/abstract\n",
    "            'Echar': 2.38e41 * u.erg,  # Characteristic energy cut-of\n",
    "            'alpha_spect': -1.39,  # Spectral index\n",
    "            'alpha_rate': 0,  # Rate index\n",
    "            'gamma': -1.3,  # Differential power-law index\n",
    "            'Epivot': 1e39 * u.erg,  # Pivot energy\n",
    "            'frb_emission_rate_z0_Epivot': 7.3e4 / u.Gpc**3 / u.year,  # FRB rate at z=0 above Epivot\n",
    "            'n_sfr': 0.96,  # Index of star-formation rate\n",
    "        },\n",
    "        'shin_rate_interpretation': {  # From https://ui.adsabs.harvard.edu/abs/2022arXiv220714316S/abstract\n",
    "            'Echar': 1.95e41 * u.erg,  # Characteristic energy cut-of\n",
    "            'alpha_spect': 0,  # Spectral index\n",
    "            'alpha_rate': -1.10,  # Spectral index\n",
    "            'gamma': -1.3,  # Differential power-law index\n",
    "            'Epivot': 1e39 * u.erg,  # Pivot energy\n",
    "            'frb_emission_rate_z0_Epivot': 6.8e4 / u.Gpc**3 / u.year,  # FRB rate at z=0 above Epivot\n",
    "            'n_sfr': 1.72,  # Index of star-formation rate\n",
    "        },\n",
    "        'james2023': {  # From https://arxiv.org/pdf/2208.00819.pdf\n",
    "            'Echar': 10**41.26 * u.erg,  # Characteristic energy cut-of\n",
    "            'alpha_spect': 0,  # Spectral index\n",
    "            'alpha_rate': -0.99,  # Spectral index\n",
    "            'gamma': -0.95,  # Differential power-law index\n",
    "            'n_sfr': 1.13,  # Index of star-formation rate\n",
    "            'Epivot': 1e30 * u.erg,  # Pivot energy\n",
    "            'frb_emission_rate_z0_Epivot': (10**1.96/u.Mpc**3/u.yr).to(1/u.Gpc**3/u.yr)\n",
    "        },\n",
    "    }\n",
    "    \n",
    "    def __init__(self, name='shin'):\n",
    "        self.model = name\n",
    "        self.parameters = FRB_Population.parameters\n",
    "        try:\n",
    "            _ = self.parameters[self.model]\n",
    "        except KeyError:\n",
    "            raise NotImplemented(\"Telescope unknown.\")\n",
    "        \n",
    "    def get_parameters(self, model = None):\n",
    "        if model is None: model = self.model\n",
    "        return self.parameters[model]\n",
    "    \n",
    "    \n",
    "    \n",
    "def get_lensed_fraction(\n",
    "    zmin,\n",
    "    zmax\n",
    "):\n",
    "    \"\"\" Fraction of lensed galaxies as a function of redshift from Collett 2015.\n",
    "    \"\"\"\n",
    "    # Ensures that there are ~1000 galaxies per step on average\n",
    "    z = np.linspace(zmin, zmax, lensed_galaxies_z.size//1000+1)\n",
    "    z_mean = (z[1:] + z[:-1]) / 2\n",
    "    # Unlensed population of galaxies used in Collett 2018 simulations\n",
    "    z_org = np.loadtxt('lsst_source_catalog.txt', usecols=2, delimiter=',')\n",
    "    \n",
    "    # Lensed and total galaxies per redshift bin\n",
    "    Pz_sim, _ = np.histogram(lensed_galaxies_z, bins=z)\n",
    "    Pz_org, _ = np.histogram(z_org, bins=z)\n",
    "\n",
    "    # Select bins containing enough galaxies\n",
    "    idx = (Pz_sim > 10) & (Pz_org > 10)\n",
    "    Pz_sim = Pz_sim[idx]\n",
    "    Pz_org = Pz_org[idx]\n",
    "    z_mean = z_mean[idx]\n",
    "        \n",
    "    if frbs_evolve_with_luminosity:\n",
    "        # Luminosity of unlensed population of galaxies used in Collett 2018 simulations\n",
    "        M_org = np.loadtxt('lsst_source_catalog.txt', usecols=7, delimiter=',') * u.M_bol\n",
    "        L_org = M_org.to(u.L_bol) * 10 * 360**2 / np.pi  # The population covers 0.1 square deg\n",
    "        # Total luminosity of unlensed galaxy population per redshift step\n",
    "        PL_org, _ = np.histogram(\n",
    "            z_org, \n",
    "            bins=z, \n",
    "            weights=L_org\n",
    "        )\n",
    "        PL_org = PL_org[idx]\n",
    "        # Luminosity of lensed galaxies used from Collett 2018 simulations\n",
    "        L_sim = lensed_galaxies_Mv.to(u.L_sun)\n",
    "        # Total luminosity of lensed galaxy population per redshift step\n",
    "        PL_sim, _ = np.histogram(\n",
    "            lensed_galaxies_z, \n",
    "            bins=z, \n",
    "            weights=L_sim\n",
    "        )\n",
    "        PL_sim = PL_sim[idx]\n",
    "        # Fraction of luminosity of lensed galaxies per redshift step\n",
    "        lensed_fraction = PL_sim / PL_org\n",
    "\n",
    "    else:\n",
    "        Pz_org = Pz_org * 10 * 360**2 / np.pi  # The population covers 0.1 square deg\n",
    "        # Fraction of lensed galaxies per redshift step\n",
    "        lensed_fraction = Pz_sim / Pz_org\n",
    "        \n",
    "    # Smooth the output\n",
    "    lensed_fraction = gf(lensed_fraction, 6)\n",
    "    # Interpolate with a spline\n",
    "    cs = spline(z_mean, lensed_fraction, extrapolate=False)\n",
    "    \n",
    "    return cs, z_mean.min(), z_mean.max()\n",
    "\n",
    "\n",
    "def get_distribution_redshift(\n",
    "    z_min,\n",
    "    z_max,\n",
    "    alpha_rate,\n",
    "    frb_emission_rate_z0_Epivot,\n",
    "    n_sfr\n",
    "):\n",
    "    \"\"\"Redshift distribution for a population of FRBs not evolving with redshift.\n",
    "    \"\"\"\n",
    "    # PDF of z distribution\n",
    "    # Calculate the integrated normalization\n",
    "    sfr = lambda z: (1 + z)**2.7 / (2.9**5.6 + (1 + z)**5.6)\n",
    "    z_pdf = lambda z: (\n",
    "        frb_emission_rate_z0_Epivot * \n",
    "        cosmo.differential_comoving_volume(z)*u.sr / \n",
    "        (1 + z)**(1-alpha_rate) * (sfr(z) / sfr(0))**n_sfr\n",
    "    ).to(1/u.yr).value\n",
    "    frb_emission_rate = integrate.quad(z_pdf, z_min, z_max)[0]\n",
    "    # Normalized distribution\n",
    "    z_pdf_norm = lambda z: z_pdf(z) / frb_emission_rate\n",
    "\n",
    "    # Find maximum of distribution with a spline and its derivative\n",
    "    # Mock data\n",
    "    z = np.linspace(z_min, z_max, 1000)\n",
    "    P_z = z_pdf_norm(z)\n",
    "    # Spline interpolation\n",
    "    cs = spline(z, P_z)\n",
    "    # Redshift of null derivatives\n",
    "    roots = cs.derivative().roots()\n",
    "    # Location of the maximum of the curve\n",
    "    curve_max = z[P_z.argmax()]\n",
    "    # Redshift of the null derivative closest to the location of the maximum\n",
    "    x_max = roots[np.argmin(np.abs(roots - curve_max))]\n",
    "    # Maximum of the distribution plus 1% to account for granularity\n",
    "    y_max = z_pdf_norm(x_max)\n",
    "    y_max = y_max + 0.01 * y_max\n",
    "\n",
    "    # Rejection sampling the distribution\n",
    "    z_dist = np.zeros(number_of_simulated_frbs) + np.nan\n",
    "    # Loop until no nan are present\n",
    "    while np.isnan(z_dist).any():\n",
    "        # Random values in a box around the function\n",
    "        x = rng.uniform(low=z_min, high=z_max, size=number_of_simulated_frbs)\n",
    "        y = rng.uniform(low=0, high=y_max, size=number_of_simulated_frbs)\n",
    "        # Resize the arrays to get the right number of bins\n",
    "        nan_size = z_dist[np.isnan(z_dist)].size\n",
    "        x = x[y < z_pdf_norm(x)][:nan_size]\n",
    "        first_nan = np.argmax(z_dist)\n",
    "        z_dist[first_nan:first_nan+x.size] = x\n",
    "    return z_dist, z_min, z_max, frb_emission_rate / u.yr\n",
    "\n",
    "\n",
    "def get_distribution_dist(\n",
    "    alpha_spect,\n",
    "    alpha_rate,\n",
    "    frb_emission_rate_z0_Epivot,\n",
    "    n_sfr,\n",
    "    simulate_lensed_frbs = True,\n",
    "    z_min = None,\n",
    "    z_max = None,\n",
    "    lensed_fraction = None,\n",
    "):\n",
    "    \"\"\"Distribution of the distance factor.\n",
    "    \"\"\"\n",
    "    if z_max is None:\n",
    "        z_max = lensed_galaxies_z.max()\n",
    "    if z_min is None:\n",
    "        z_min = lensed_galaxies_z.min()\n",
    "        \n",
    "    # Fraction of lensed galaxies cataloged by Euclid vs redshift\n",
    "    if simulate_lensed_frbs:\n",
    "        lensed_fraction_interp, z_min, z_max = get_lensed_fraction(\n",
    "            z_min,\n",
    "            z_max\n",
    "        )\n",
    "    \n",
    "    # Redshift distribution of FRBs in the Universe\n",
    "    z_dist, z_min, z_max, frb_emission_rate = get_distribution_redshift(\n",
    "        z_min,\n",
    "        z_max,\n",
    "        alpha_rate,\n",
    "        frb_emission_rate_z0_Epivot,\n",
    "        n_sfr\n",
    "    )\n",
    "    \n",
    "    # Only simulate lensed FRBs\n",
    "    if simulate_lensed_frbs:\n",
    "        P_z = lensed_fraction_interp(z_dist)\n",
    "        P_random = rng.uniform(size=P_z.size)\n",
    "        z_dist = z_dist[P_random <= P_z]\n",
    "    \n",
    "    # Distance factor\n",
    "    Dl = cosmo.luminosity_distance(z_dist)\n",
    "    dist_factor = (4 * np.pi * Dl**2) / (1 + z_dist)**(2+alpha_spect)\n",
    "    \n",
    "    return dist_factor, z_min, z_max, frb_emission_rate, z_dist\n",
    "\n",
    "\n",
    "def get_bandwidth(\n",
    "    bw_telescope,\n",
    "    bw_min = 50 * u.MHz,\n",
    "    loc = 400 * u.MHz,  # MHz\n",
    "    scale = 400 / 2 * u.MHz,  # MHz\n",
    "):\n",
    "    \"\"\"Assume that the bandwidth of FRBs is a normal distribution based on CHIME detections.\"\"\"\n",
    "    # Bandwidth distribution from a truncated normal distribution\n",
    "    bw_clip = (bw_min - loc) / scale\n",
    "    bw = truncnorm.rvs(\n",
    "        bw_clip, \n",
    "        np.inf, \n",
    "        loc=loc, \n",
    "        scale=scale,\n",
    "        size=number_of_simulated_frbs,\n",
    "        random_state=rng\n",
    "    ) * u.MHz\n",
    "    return bw\n",
    "\n",
    "def get_energy_minimum(\n",
    "    bw,\n",
    "    sefd,\n",
    "    frb_bw,\n",
    "    w,\n",
    "    tau,\n",
    "    dist_factor,\n",
    "    frb_w_correction,\n",
    "    frb_bw_correction,\n",
    "):\n",
    "    \"\"\"\n",
    "    Minimum FRB energy normalized to 1 GHz required to detect a burst at \n",
    "    redshift z with a signal-to-noise ratio SNr and time resolution w, \n",
    "    where rfi_band is lost due to interference.\n",
    "    \"\"\"\n",
    "    return (\n",
    "        SNr_min * np.sqrt((w + tau) / bw / 2) / frb_w_correction / frb_bw_correction * \n",
    "        sefd / np.sqrt(1 - rfi_band) * dist_factor * frb_bw\n",
    "    ).min().to(u.erg)\n",
    "\n",
    "\n",
    "def get_distribution_E(\n",
    "    Emin,\n",
    "    Echar,\n",
    "    gamma,\n",
    "):\n",
    "    \"\"\"Rejection sample a Schechter function describing the FRB energy distribution.\"\"\"\n",
    "    # Normalized Schechter distribution\n",
    "    schechter_pdf = lambda E: (E / Echar)**gamma * np.exp(-E / Echar)\n",
    "    norm = float(gammainc(gamma+1, (Emin/Echar).to(u.dimensionless_unscaled).value)) * Echar\n",
    "    schechter_pdf_norm = lambda E: schechter_pdf(E) / norm\n",
    "    # Rejection sampling the target Schechter distribution\n",
    "    dist = np.zeros(number_of_simulated_frbs) * u.erg + np.nan\n",
    "    # Loop until no nan are present\n",
    "    while np.isnan(dist).any():\n",
    "        nan_size = dist[np.isnan(dist)].size\n",
    "        # Random variable from a proposal Pareto distribution\n",
    "        if gamma <= -1:\n",
    "            # The Pareto distribution is defined for the parameter a >= 0\n",
    "            a = -gamma-1\n",
    "            x = (rng.pareto(a, size=number_of_simulated_frbs) + 1) * Emin\n",
    "        else:\n",
    "            # Otherwise, use powerlaw distribution = 1 / (1 + Pareto)\n",
    "            a = gamma+1\n",
    "            x = Emin / rng.power(a, size=number_of_simulated_frbs)\n",
    "        # PDF of proposal distribution at the random variable's values\n",
    "        y_prop = a*(x/Emin)**gamma / Emin\n",
    "        # Random sampling of the proposal distribution's PDF\n",
    "        y_samp = rng.uniform(low=0, high=y_prop, size=number_of_simulated_frbs) / u.erg\n",
    "        # Reject random variable's values where target distribution is larger than the sampling values\n",
    "        x = x[y_samp < schechter_pdf_norm(x)][:nan_size]\n",
    "        # Resize the arrays to get the right number of bins\n",
    "        first_nan = np.argmax(dist)\n",
    "        dist[first_nan:first_nan+x.size] = x\n",
    "    return dist\n",
    "\n",
    "\n",
    "def get_beam_response(\n",
    "    telescope,\n",
    "    freq_min,\n",
    "    min_frb_band = 50 * u.MHz,\n",
    "    efficiency = 0.7\n",
    "):\n",
    "    # Minimum band to detect >50 MHz of a burst\n",
    "    wavelength = (freq_min + min_frb_band).to(u.meter, equivalencies=u.spectral())\n",
    "\n",
    "    try:\n",
    "        # Circular aperture\n",
    "        diameter = telescope.get_parameter('D')\n",
    "        # Half beam width between the first nulls\n",
    "        hwfn = (2.439 * u.rad * wavelength / diameter / 2).to(u.rad)\n",
    "        # Random angles\n",
    "        angle = rng.uniform(\n",
    "            low=0,\n",
    "            high=hwfn.to(u.rad).value**2,\n",
    "            size=number_of_simulated_frbs\n",
    "        )**0.5 * u.rad\n",
    "        # Normalized power\n",
    "        x = np.pi * np.sin(angle) * diameter / wavelength * np.sqrt(efficiency)\n",
    "        power = (2 * j1(x) / x)**2\n",
    "        # Simulated sky fraction\n",
    "        sky_fraction = (hwfn**2 / 4 / u.steradian).value\n",
    "\n",
    "    except KeyError:\n",
    "        # Rectangular aperture\n",
    "        size_x = telescope.get_parameter('Dx')\n",
    "        size_y = telescope.get_parameter('Dy')\n",
    "        # Half beam width between the first nulls\n",
    "        hwfn_x = np.arcsin((wavelength / size_x).to(u.dimensionless_unscaled))\n",
    "        hwfn_y = np.arcsin((wavelength / size_y).to(u.dimensionless_unscaled))\n",
    "        # Random angles\n",
    "        angle_x = rng.uniform(\n",
    "            low=0, \n",
    "            high=hwfn_x.to(u.rad).value, \n",
    "            size=number_of_simulated_frbs\n",
    "        ) * u.rad\n",
    "        angle_y = rng.uniform(\n",
    "            low=0, \n",
    "            high=hwfn_y.to(u.rad).value,\n",
    "            size=number_of_simulated_frbs\n",
    "        ) * u.rad\n",
    "        # Normalized power\n",
    "        power = (\n",
    "            (\n",
    "                np.sinc(np.sin(angle_x) * size_x / wavelength * u.rad) * \n",
    "                np.sinc(np.sin(angle_y) * size_y / wavelength * u.rad)\n",
    "            )**2\n",
    "        )\n",
    "        # Simulated sky fraction\n",
    "        sky_fraction = (hwfn_x * hwfn_y / 4 / np.pi / u.steradian).value\n",
    "\n",
    "    return sky_fraction, power\n",
    "\n",
    "\n",
    "def get_max_detected_redshift(\n",
    "    snr,\n",
    "    E_nu,\n",
    "    bw,\n",
    "    sefd,\n",
    "    w,\n",
    "    tau,\n",
    "    w_correction,\n",
    "    bw_correction,\n",
    "    alpha_spect,\n",
    "):\n",
    "    \"\"\"\n",
    "    Maximum redshift at which an FRB of energy E would be detected\n",
    "    by a telescope of sensitivity sefd\n",
    "    \"\"\"\n",
    "    # CHECK THIS EQ\n",
    "    dist_factor_Gpc2 = (\n",
    "        E_nu / np.sqrt((w + tau) / bw / 2) * \n",
    "        w_correction * bw_correction / sefd * np.sqrt(1 - rfi_band)\n",
    "    ).to(u.Gpc**2).max().value\n",
    "    \n",
    "    z_max_func = lambda z: (\n",
    "        4 * np.pi * cosmo.luminosity_distance(z).to(u.Gpc).value**2 / dist_factor_Gpc2 - (1 + z)**(2+alpha_spect)\n",
    "    )\n",
    "    z_max = optimize.root(z_max_func, 1).x[0]\n",
    "    return z_max\n",
    "    \n",
    "\n",
    "def get_snr(\n",
    "    frb_E_nu,\n",
    "    frb_dist_fact,\n",
    "    bw_telescope,\n",
    "    frb_w, \n",
    "    frb_tau,\n",
    "    frb_w_correction,\n",
    "    frb_bw_correction,\n",
    "    beam_response, \n",
    "    sefd, \n",
    "    rfi_band\n",
    "):\n",
    "    return (    \n",
    "        frb_E_nu / frb_dist_fact *\n",
    "        np.sqrt((2 * bw_telescope) / (frb_w + frb_tau)) * \n",
    "        frb_w_correction * frb_bw_correction *\n",
    "        beam_response / sefd *\n",
    "        np.sqrt(1 - rfi_band)\n",
    "    ).to(u.dimensionless_unscaled)\n",
    "\n",
    "\n",
    "def convert_to_rate(\n",
    "    detected_frbs,\n",
    "    Emin,\n",
    "    frb_emission_rate_Epivot,\n",
    "    sky_fraction,\n",
    "    Echar,\n",
    "    gamma,\n",
    "    Epivot\n",
    "):\n",
    "    \"\"\"Convert the number of simulated FRBs to a rate.\n",
    "    \"\"\"\n",
    "    # FRB emission rate at z=0 scaled to a minimum energy Emin\n",
    "    frb_emission_rate = (\n",
    "        frb_emission_rate_Epivot * \n",
    "        float(gammainc(gamma + 1, (Emin / Echar).value)) / \n",
    "        float(gammainc(gamma + 1, (Epivot / Echar).value))\n",
    "    )\n",
    "    # Duration of the simulation in the real world\n",
    "    duration_sim = number_of_simulated_frbs / frb_emission_rate\n",
    "    # All-sky FRB detection rate\n",
    "    frb_detected_allsky = detected_frbs / duration_sim\n",
    "    # FRB rate detected by the telescope\n",
    "    frb_detection_rate = frb_detected_allsky * sky_fraction\n",
    "    return frb_detection_rate\n",
    "\n",
    "\n",
    "def get_detection_rate(\n",
    "    frb_population,\n",
    "    telescope,\n",
    "    freq_low,\n",
    "    freq_high,\n",
    "    simulate_lensed_frbs = True,\n",
    "    uncertain=False\n",
    "):\n",
    "    \"\"\"Rate of FRB detections.\n",
    "    \"\"\"\n",
    "    # Properties of the FRB population\n",
    "    frb_properties = frb_population.get_parameters()\n",
    "    # Properties of the telescope\n",
    "    freq_mean = (freq_low + freq_high) / 2\n",
    "    bw_telescope = freq_high - freq_low\n",
    "    sefd = telescope.sefd(freq=freq_low, uncertain=uncertain)\n",
    "    \n",
    "    # FRB widths\n",
    "    # From https://ui.adsabs.harvard.edu/abs/2021ApJS..257...59C/abstract\n",
    "    sigma = 0.97\n",
    "    scale = 1.0 * u.ms\n",
    "    frb_w = rng.lognormal(\n",
    "        sigma = sigma, \n",
    "        size = number_of_simulated_frbs\n",
    "    ) * scale\n",
    "    \n",
    "    # FRB scattering\n",
    "    # From https://ui.adsabs.harvard.edu/abs/2021ApJS..257...59C/abstract\n",
    "    sigma = 1.72\n",
    "    scale = 2.02 * u.ms\n",
    "    frb_tau = rng.lognormal(\n",
    "        sigma = sigma, \n",
    "        size = number_of_simulated_frbs\n",
    "    ) * scale\n",
    "    # Rescale to central frequency\n",
    "    frb_tau = frb_tau * (freq_mean / 600 / u.MHz)**-4\n",
    "    # Include extragalactic scattering\n",
    "\n",
    "    # FRB time correction\n",
    "    frb_w_correction = np.sqrt(frb_w / w_telescope).clip(max=1)\n",
    "    \n",
    "    # FRB bandwidth corrections\n",
    "    frb_bw = get_bandwidth(bw_telescope)\n",
    "    frb_bw_correction = np.sqrt(frb_bw / bw_telescope).clip(max=1)\n",
    "    \n",
    "    # FRB redshifts\n",
    "    if simulate_lensed_frbs:\n",
    "        z_min = None\n",
    "        z_max = None\n",
    "    else:\n",
    "        z_min = 0\n",
    "        z_max = 10\n",
    "    (\n",
    "        frb_dist_fact,\n",
    "        z_min,\n",
    "        z_max,\n",
    "        frb_emission_rate,\n",
    "        frb_z_dist\n",
    "    ) = get_distribution_dist(\n",
    "        frb_properties['alpha_spect'],\n",
    "        frb_properties['alpha_rate'],\n",
    "        frb_properties['frb_emission_rate_z0_Epivot'],\n",
    "        frb_properties['n_sfr'],\n",
    "        z_min = z_min,\n",
    "        z_max = z_max,\n",
    "        simulate_lensed_frbs = simulate_lensed_frbs,\n",
    "    )\n",
    "    \n",
    "    # FRB energies\n",
    "    # Minimum energy that can be detected from current sample\n",
    "    Emin = get_energy_minimum(\n",
    "        bw_telescope,\n",
    "        sefd,\n",
    "        frb_bw,\n",
    "        frb_w,\n",
    "        frb_tau,\n",
    "        frb_dist_fact,\n",
    "        frb_w_correction,\n",
    "        frb_bw_correction,\n",
    "    )\n",
    "    #Emin = frb_properties['Epivot']\n",
    "    print(Emin, frb_properties['Epivot'])\n",
    "    \n",
    "    # Energy distribution\n",
    "    frb_E = get_distribution_E(\n",
    "        Emin,\n",
    "        frb_properties['Echar'],\n",
    "        frb_properties['gamma'],\n",
    "    )\n",
    "    # Energy spectral density distribution\n",
    "    frb_E_nu = frb_E / frb_bw #/ u.GHz\n",
    "\n",
    "    # Beam response\n",
    "    sky_fraction, beam_response = get_beam_response(\n",
    "        telescope,\n",
    "        freq_low\n",
    "    )\n",
    "    \n",
    "    # FRB S/N values\n",
    "    frb_snr = get_snr(\n",
    "        frb_E_nu,\n",
    "        frb_dist_fact,\n",
    "        bw_telescope,\n",
    "        frb_w, \n",
    "        frb_tau,\n",
    "        frb_w_correction,\n",
    "        frb_bw_correction,\n",
    "        beam_response, \n",
    "        sefd, \n",
    "        rfi_band\n",
    "    )\n",
    "    \n",
    "    # Number of detections\n",
    "    idx_detected_frbs = frb_snr > SNr_min\n",
    "    detected_frbs = frb_snr[idx_detected_frbs].size * observing_time\n",
    "    \n",
    "    # Convert to a physical detection rate\n",
    "    frb_detection_rate = convert_to_rate(\n",
    "        detected_frbs,\n",
    "        Emin,\n",
    "        frb_emission_rate,\n",
    "        sky_fraction,\n",
    "        frb_properties['Echar'],\n",
    "        frb_properties['gamma'],\n",
    "        frb_properties['Epivot'],\n",
    "    )\n",
    "\n",
    "    # Completeness of redshift range\n",
    "    #z_max_detected = get_max_detected_redshift(\n",
    "    #    frb_snr[idx_detected_frbs],\n",
    "    #    frb_E_nu[idx_detected_frbs],\n",
    "    #    bw_telescope,\n",
    "    #    sefd,\n",
    "    #    frb_w[idx_detected_frbs],\n",
    "    #    frb_tau[idx_detected_frbs],\n",
    "    #    frb_w_correction[idx_detected_frbs],\n",
    "    #    frb_bw_correction[idx_detected_frbs],\n",
    "    #    frb_properties['alpha_spect']\n",
    "    #)\n",
    "    #if z_max < z_max_detected:\n",
    "    #    print(f\"Maximum redshift detected: {z_max_detected:.1f}\")\n",
    "    #    print(f\"Maximum redshift simulated: {z_max:.1f}\")\n",
    "    #    raise RuntimeWarning(\"Galaxy sample not deep enough!\")\n",
    "    \n",
    "    return frb_detection_rate\n",
    "    \n",
    "\n",
    "def run_simulation(\n",
    "    telescope_name = 'dummy',\n",
    "    simulate_lensed_frbs = True,\n",
    "    verbose = True,\n",
    "    model = 'shin',\n",
    "    uncertain = False\n",
    "):\n",
    "    \"\"\" Simulate how many strongly lensed fast radio bursts (FRBs) are detected by a facility in one year.\n",
    "\n",
    "    Parameters\n",
    "    ----------\n",
    "    telescope_name : str = 'chord'\n",
    "        Telescope to simulate. Currently, 'chime', 'chord', and 'dsa2000' are supported.\n",
    "    simulate_lensed_frbs : bool\n",
    "        Simulate only lensed FRBs or the whole population.\n",
    "\n",
    "    Returns\n",
    "    -------\n",
    "    float\n",
    "        Rate per year.\n",
    "\n",
    "    \"\"\"\n",
    "    if verbose:\n",
    "        print(f'Using the FRB population model \"{model}\"')\n",
    "        print(f'Starting the simulation for {telescope_name}')\n",
    "        print(f'{number_of_simulated_frbs} bursts will be simulated.')\n",
    "    \n",
    "    # Telescope parameters\n",
    "    telescope = Telescope(name=telescope_name)\n",
    "    # FRB properties\n",
    "    frb_population = FRB_Population(name=model)\n",
    "    \n",
    "    # Search single frequency bands\n",
    "    # Assumes that FRBs are intrinsically narrowband\n",
    "    search_bands = telescope.frequency_bands()\n",
    "    frb_detection_rate = 0 / u.yr\n",
    "    for freq_low, freq_high in search_bands:\n",
    "        frb_detection_rate += get_detection_rate(\n",
    "            frb_population,\n",
    "            telescope,\n",
    "            freq_low,\n",
    "            freq_high,\n",
    "            simulate_lensed_frbs = simulate_lensed_frbs,\n",
    "            uncertain = uncertain\n",
    "        )    \n",
    "    \n",
    "    if verbose:\n",
    "        print(f'The detection rate is {frb_detection_rate.to(1/u.year).value:.1f} FRBs per year,')\n",
    "        print(f'or 1 FRB detected every {1/(frb_detection_rate).to(1/u.year).value:.2f} years.')\n",
    "    return frb_detection_rate\n",
    "\n",
    "\n",
    "# Global values\n",
    "\n",
    "# Redshift and magnitude distributions of lensed galaxies detected by Euclid\n",
    "# From https://ui.adsabs.harvard.edu/abs/2015ApJ...811...20C/abstract\n",
    "lensed_galaxies_z = np.loadtxt('lenses_Euclid.txt', usecols=1)  # Redshift distribution\n",
    "lensed_galaxies_Mv = np.loadtxt('lenses_Euclid.txt', usecols=17) * u.M_bol # Magnitude distribution\n",
    "\n",
    "# Parameters of the simulation\n",
    "number_of_simulated_frbs = int(1e5)  # Elements in the simulation\n",
    "elements_in_distributions = int(1e4)  # 1 / resolution of continuous distributions\n",
    "seed = 2911167007  # Seed of random processes\n",
    "rng = default_rng(seed)  # Random generator; seed fixed for reproducibility\n",
    "frbs_evolve_with_luminosity = True  # FRB rate follows galaxy luminosity\n",
    "zlim = None  # Limit on maximum redshift defined as [z_min, z_max]\n",
    "\n",
    "# Assumed observational prameters\n",
    "observing_time = 0.8  # Fraction of observing time\n",
    "SNr_min = 8  # Minimum detectable S/N\n",
    "rfi_band = 0.3  # Fraction of band affected by RFI\n",
    "w_telescope = 1 * u.ms\n",
    "\n",
    "\n",
    "# Run the simulation\n",
    "observing_time = 1  # Fraction of observing time\n",
    "number_of_simulated_frbs = int(1e4)  # Elements in the simulation\n",
    "frb_detection_rate = run_simulation(\n",
    "    telescope_name='chime',\n",
    "    simulate_lensed_frbs = False,\n",
    "    model = 'shin',\n",
    "    uncertain = False\n",
    ")"
   ]
  },
  {
   "cell_type": "code",
   "execution_count": null,
   "id": "f8d40930-f5cf-4dc2-8faa-4b873aa828ec",
   "metadata": {},
   "outputs": [],
   "source": [
    "222731951.2 \n",
    "932367734.8 \n",
    "851.2 "
   ]
  },
  {
   "cell_type": "code",
   "execution_count": null,
   "id": "608ace31-b6ca-4529-9afe-f3fdf5f74c29",
   "metadata": {},
   "outputs": [],
   "source": [
    "z = \n",
    "4*np.pi*"
   ]
  },
  {
   "cell_type": "code",
   "execution_count": 84,
   "id": "724d619b-5195-415f-b099-13dacc67639c",
   "metadata": {
    "tags": []
   },
   "outputs": [
    {
     "data": {
      "text/latex": [
       "$2.81 \\times 10^{37} \\; \\mathrm{\\frac{erg}{GHz}}$"
      ],
      "text/plain": [
       "<Quantity 2.81e+37 erg / GHz>"
      ]
     },
     "execution_count": 84,
     "metadata": {},
     "output_type": "execute_result"
    }
   ],
   "source": [
    "2.81e+37 * u.erg / u.GHz"
   ]
  },
  {
   "cell_type": "code",
   "execution_count": 85,
   "id": "75aaddc7-138d-44d6-8fdd-965bc2b154c0",
   "metadata": {
    "tags": []
   },
   "outputs": [
    {
     "data": {
      "text/latex": [
       "$5 \\times 10^{36} \\; \\mathrm{\\frac{erg}{GHz}}$"
      ],
      "text/plain": [
       "<Quantity 5.e+36 erg / GHz>"
      ]
     },
     "execution_count": 85,
     "metadata": {},
     "output_type": "execute_result"
    }
   ],
   "source": [
    "(5e27*u.erg/u.Hz).to(u.erg / u.GHz)"
   ]
  },
  {
   "cell_type": "code",
   "execution_count": 86,
   "id": "f2ea1d7e-847f-419e-b9c8-84d8380c4ed2",
   "metadata": {
    "tags": []
   },
   "outputs": [],
   "source": [
    "Emin = 1e37 * u.erg\n",
    "Echar = 2.38e41 * u.erg"
   ]
  },
  {
   "cell_type": "code",
   "execution_count": 98,
   "id": "6cf86f47-9103-483e-93ea-bcd5e1729dfb",
   "metadata": {
    "tags": []
   },
   "outputs": [
    {
     "data": {
      "text/plain": [
       "0.06876152248804407"
      ]
     },
     "execution_count": 98,
     "metadata": {},
     "output_type": "execute_result"
    }
   ],
   "source": [
    "Epivot = 1e30*u.erg\n",
    "\n",
    "(\n",
    "    float(gammainc(gamma + 1, (Emin / Echar).value)) / \n",
    "    float(gammainc(gamma + 1, (Epivot / Echar).value))\n",
    ")"
   ]
  },
  {
   "cell_type": "code",
   "execution_count": 100,
   "id": "3300a2a2-890a-4700-9603-e19985bfdc81",
   "metadata": {
    "tags": []
   },
   "outputs": [
    {
     "data": {
      "text/plain": [
       "2.9455720310961495"
      ]
     },
     "execution_count": 100,
     "metadata": {},
     "output_type": "execute_result"
    }
   ],
   "source": [
    "Epivot = 1e39*u.erg\n",
    "\n",
    "(\n",
    "    float(gammainc(gamma + 1, (Emin / Echar).value)) / \n",
    "    float(gammainc(gamma + 1, (Epivot / Echar).value))\n",
    ")"
   ]
  },
  {
   "cell_type": "code",
   "execution_count": 101,
   "id": "d4fc7572-3bae-4b37-b489-4290a8a19efc",
   "metadata": {
    "tags": []
   },
   "outputs": [
    {
     "data": {
      "text/plain": [
       "42.83750453036161"
      ]
     },
     "execution_count": 101,
     "metadata": {},
     "output_type": "execute_result"
    }
   ],
   "source": [
    "(\n",
    "    float(gammainc(gamma + 1, (1e30*u.erg / Echar).value)) / \n",
    "    float(gammainc(gamma + 1, (1e39*u.erg / Echar).value))\n",
    ")"
   ]
  },
  {
   "cell_type": "code",
   "execution_count": 119,
   "id": "b0bb908a-4a38-4a2d-823c-453e20cc5065",
   "metadata": {
    "tags": []
   },
   "outputs": [
    {
     "data": {
      "text/latex": [
       "$2.1289756 \\times 10^{9} \\; \\mathrm{\\frac{1}{yr\\,Gpc^{3}}}$"
      ],
      "text/plain": [
       "<Quantity 2.12897556e+09 1 / (Gpc3 yr)>"
      ]
     },
     "execution_count": 119,
     "metadata": {},
     "output_type": "execute_result"
    }
   ],
   "source": [
    "\n",
    "(\n",
    "    9.12e10/u.Gpc**3/u.yr*\n",
    "    float(gammainc(gamma + 1, (1e39*u.erg / Echar).value)) / \n",
    "    float(gammainc(gamma + 1, (1e30*u.erg / Echar).value))\n",
    ")"
   ]
  },
  {
   "cell_type": "code",
   "execution_count": 114,
   "id": "dca5418c-fea9-4900-878c-7d09f8c5106a",
   "metadata": {
    "tags": []
   },
   "outputs": [
    {
     "data": {
      "text/plain": [
       "331.7361461761386"
      ]
     },
     "execution_count": 114,
     "metadata": {},
     "output_type": "execute_result"
    }
   ],
   "source": [
    "float(gammainc(gamma + 1, (1e30*u.erg / Echar).value))"
   ]
  },
  {
   "cell_type": "code",
   "execution_count": 118,
   "id": "da1c77b7-8d1d-42f5-97d5-356985fbcbcb",
   "metadata": {
    "tags": []
   },
   "outputs": [
    {
     "data": {
      "text/plain": [
       "331.7361461761386"
      ]
     },
     "execution_count": 118,
     "metadata": {},
     "output_type": "execute_result"
    }
   ],
   "source": [
    "float(gammainc(gamma + 1, (1e30*u.erg / Echar).value, (1e39*u.erg / Echar).value)) + float(gammainc(gamma + 1, (1e39*u.erg / Echar).value))"
   ]
  },
  {
   "cell_type": "code",
   "execution_count": null,
   "id": "7a366e8d-745a-4c11-acee-ebf692b85169",
   "metadata": {},
   "outputs": [],
   "source": []
  },
  {
   "cell_type": "code",
   "execution_count": null,
   "id": "5110d294-651e-44be-901c-2a5d24bf78bf",
   "metadata": {},
   "outputs": [],
   "source": []
  },
  {
   "cell_type": "code",
   "execution_count": null,
   "id": "afdbc4c2-d35d-4636-b22e-053c8165f9f3",
   "metadata": {},
   "outputs": [],
   "source": [
    "        'shin': {  # From https://ui.adsabs.harvard.edu/abs/2022arXiv220714316S/abstract\n",
    "            'Echar': 2.38e41 * u.erg,  # Characteristic energy cut-of\n",
    "            'alpha_spect': -1.39,  # Spectral index\n",
    "            'alpha_rate': 0,  # Rate index\n",
    "            'gamma': -1.3,  # Differential power-law index\n",
    "            'Epivot': 1e39 * u.erg,  # Pivot energy\n",
    "            'frb_emission_rate_z0_Epivot': 7.3e4 / u.Gpc**3 / u.year,  # FRB rate at z=0 above Epivot\n",
    "            'n_sfr': 0.96,  # Index of star-formation rate\n",
    "        },\n",
    "        'james2023': {  # From https://arxiv.org/pdf/2208.00819.pdf\n",
    "            'Echar': 10**41.26 * u.erg,  # Characteristic energy cut-of\n",
    "            'alpha_spect': 0,  # Spectral index\n",
    "            'alpha_rate': -0.99,  # Spectral index\n",
    "            'gamma': -0.95,  # Differential power-law index\n",
    "            'n_sfr': 1.13,  # Index of star-formation rate\n",
    "            'Epivot': 1e30 * u.erg,  # Pivot energy\n",
    "            'frb_emission_rate_z0_Epivot': 9.1e10/u.Gpc**3/u.yr\n",
    "        },"
   ]
  },
  {
   "cell_type": "code",
   "execution_count": null,
   "id": "1775cfc3-166b-49fb-a226-fbc317fb1700",
   "metadata": {},
   "outputs": [],
   "source": []
  },
  {
   "cell_type": "code",
   "execution_count": null,
   "id": "69359113-ac92-487d-bfd7-f295acb50175",
   "metadata": {},
   "outputs": [],
   "source": []
  },
  {
   "cell_type": "code",
   "execution_count": null,
   "id": "645df41a-02ac-4bf6-8b72-89e4b330b882",
   "metadata": {},
   "outputs": [],
   "source": []
  },
  {
   "cell_type": "code",
   "execution_count": 11,
   "id": "585bc829-ca84-4772-ada8-23fefa818128",
   "metadata": {
    "tags": []
   },
   "outputs": [],
   "source": [
    "gamma = -1.3\n",
    "Echar = 10**41.26 * u.erg"
   ]
  },
  {
   "cell_type": "code",
   "execution_count": 6,
   "id": "1b88e79f-a637-487e-a33c-a1231ec302c6",
   "metadata": {
    "tags": []
   },
   "outputs": [
    {
     "data": {
      "text/latex": [
       "$9.1201084 \\times 10^{10} \\; \\mathrm{\\frac{1}{yr\\,Gpc^{3}}}$"
      ],
      "text/plain": [
       "<Quantity 9.12010839e+10 1 / (Gpc3 yr)>"
      ]
     },
     "execution_count": 6,
     "metadata": {},
     "output_type": "execute_result"
    }
   ],
   "source": [
    "(10**1.96/u.Mpc**3/u.yr).to(1/u.Gpc**3/u.yr)"
   ]
  },
  {
   "cell_type": "code",
   "execution_count": 16,
   "id": "d49f4f8a-295c-4735-9a87-7b93546d8fcc",
   "metadata": {
    "tags": []
   },
   "outputs": [
    {
     "data": {
      "text/latex": [
       "$1.3289194 \\times 10^{8} \\; \\mathrm{\\frac{1}{yr\\,Gpc^{3}}}$"
      ],
      "text/plain": [
       "<Quantity 1.32891936e+08 1 / (Gpc3 yr)>"
      ]
     },
     "execution_count": 16,
     "metadata": {},
     "output_type": "execute_result"
    }
   ],
   "source": [
    "(10**1.96/u.Mpc**3/u.yr).to(1/u.Gpc**3/u.yr) * (\n",
    "    float(gammainc(gamma+1, (1e39*u.erg / Echar).value)) / \n",
    "    float(gammainc(gamma+1, (1e30*u.erg / Echar).value))\n",
    ")"
   ]
  },
  {
   "cell_type": "code",
   "execution_count": 8,
   "id": "f075f1cc-4e02-4578-9b12-69907ab3892e",
   "metadata": {
    "tags": []
   },
   "outputs": [
    {
     "data": {
      "text/plain": [
       "0.2897268536490609"
      ]
     },
     "execution_count": 8,
     "metadata": {},
     "output_type": "execute_result"
    }
   ],
   "source": [
    "(\n",
    "    float(gammainc(gamma + 1, (1e39*u.erg / Echar).value)) / \n",
    "    float(gammainc(gamma + 1, (1e30*u.erg / Echar).value))\n",
    ")"
   ]
  },
  {
   "cell_type": "code",
   "execution_count": 3,
   "id": "f69ae9d5-8f98-4d21-85fa-6eee799fdfec",
   "metadata": {
    "tags": []
   },
   "outputs": [
    {
     "data": {
      "text/plain": [
       "91201083935.59097"
      ]
     },
     "execution_count": 3,
     "metadata": {},
     "output_type": "execute_result"
    }
   ],
   "source": []
  },
  {
   "cell_type": "code",
   "execution_count": 2,
   "id": "d675b46e-cb32-4dcc-9b9d-2637331a6075",
   "metadata": {
    "tags": []
   },
   "outputs": [
    {
     "data": {
      "text/plain": [
       "6.9183097091894194e+41"
      ]
     },
     "execution_count": 2,
     "metadata": {},
     "output_type": "execute_result"
    }
   ],
   "source": [
    "10**41.84"
   ]
  },
  {
   "cell_type": "code",
   "execution_count": 77,
   "id": "3913de39-409c-417b-b750-73fac09271ac",
   "metadata": {
    "tags": []
   },
   "outputs": [
    {
     "name": "stdout",
     "output_type": "stream",
     "text": [
      "Using the FRB population model \"test\"\n",
      "Starting the simulation for chime\n",
      "10000 bursts will be simulated.\n",
      "The detection rate is 701013875.9 FRBs per year,\n",
      "or 1 FRB detected every 0.00 years.\n"
     ]
    }
   ],
   "source": [
    "class FRB_Population:\n",
    "    \"\"\"\n",
    "    Parameters of the FRB population.\n",
    "    \"\"\"\n",
    "    parameters = {\n",
    "        'test': {  # From https://ui.adsabs.harvard.edu/abs/2022arXiv220714316S/abstract\n",
    "            'Echar': 10**41.26 * u.erg,  # Characteristic energy cut-of\n",
    "            'alpha_spect': 0,  # Spectral index\n",
    "            'alpha_rate': -0.99,  # Rate index\n",
    "            'gamma': -0.95,  # Differential power-law index\n",
    "            'n_sfr': 0.96,  # Index of star-formation rate\n",
    "            'Epivot': 1e39 * u.erg,  # Pivot energy\n",
    "            'frb_emission_rate_z0_Epivot': 7.3e4 / u.Gpc**3 / u.year,  # FRB rate at z=0 above Epivot\n",
    "        },\n",
    "        'james2023': {  # From https://arxiv.org/pdf/2208.00819.pdf\n",
    "            'Echar': 10**41.26 * u.erg,  # Characteristic energy cut-of\n",
    "            'alpha_spect': 0,  # Spectral index\n",
    "            'alpha_rate': -0.99,  # Spectral index\n",
    "            'gamma': -0.95,  # Differential power-law index\n",
    "            'n_sfr': 0.96,  # Index of star-formation rate\n",
    "            'Epivot': 1e30 * u.erg,  # Pivot energy\n",
    "            'frb_emission_rate_z0_Epivot': (10**1.96/u.Mpc**3/u.yr).to(1/u.Gpc**3/u.yr)\n",
    "        },\n",
    "    }\n",
    "    \n",
    "    def __init__(self, name='shin'):\n",
    "        self.model = name\n",
    "        self.parameters = FRB_Population.parameters\n",
    "        try:\n",
    "            _ = self.parameters[self.model]\n",
    "        except KeyError:\n",
    "            raise NotImplemented(\"Telescope unknown.\")\n",
    "        \n",
    "    def get_parameters(self, model = None):\n",
    "        if model is None: model = self.model\n",
    "        return self.parameters[model]\n",
    "    \n",
    "frb_detection_rate = run_simulation(\n",
    "    telescope_name='chime',\n",
    "    simulate_lensed_frbs = False,\n",
    "    model = 'test',\n",
    ")"
   ]
  },
  {
   "cell_type": "code",
   "execution_count": null,
   "id": "b35a30d9-b592-4b7f-bf1a-460b06d1ea21",
   "metadata": {
    "tags": []
   },
   "outputs": [],
   "source": []
  },
  {
   "cell_type": "code",
   "execution_count": null,
   "id": "536d792b-b56c-44f8-bab1-48de90968db0",
   "metadata": {},
   "outputs": [],
   "source": []
  },
  {
   "cell_type": "code",
   "execution_count": null,
   "id": "b6faed1e-55ab-4326-9477-b0e1174c8046",
   "metadata": {},
   "outputs": [],
   "source": []
  },
  {
   "cell_type": "code",
   "execution_count": null,
   "id": "904e5c41-dcba-49ea-b4cb-66fa347d6327",
   "metadata": {},
   "outputs": [],
   "source": []
  },
  {
   "cell_type": "code",
   "execution_count": 62,
   "id": "5b602781-4ad5-4157-87c5-e12d1989f230",
   "metadata": {
    "tags": []
   },
   "outputs": [],
   "source": [
    "def get_distribution_E(\n",
    "    Emin,\n",
    "    Echar,\n",
    "    gamma,\n",
    "):\n",
    "    \"\"\"Rejection sample a Schechter function describing the FRB energy distribution.\"\"\"\n",
    "    # Normalized Schechter distribution\n",
    "    schechter_pdf = lambda E: (E / Echar)**gamma * np.exp(-E / Echar)\n",
    "    norm = float(gammainc(gamma+1, (Emin/Echar).to(u.dimensionless_unscaled).value)) * Echar\n",
    "    schechter_pdf_norm = lambda E: schechter_pdf(E) / norm\n",
    "    # Rejection sampling the target Schechter distribution\n",
    "    dist = np.zeros(number_of_simulated_frbs) * u.erg + np.nan\n",
    "    # Loop until no nan are present\n",
    "    while np.isnan(dist).any():\n",
    "        nan_size = dist[np.isnan(dist)].size\n",
    "        # Random variable from a proposal Pareto distribution\n",
    "        if gamma <= -1:\n",
    "            # The Pareto distribution is defined for the parameter a >= 0\n",
    "            a = -gamma-1\n",
    "            x = (rng.pareto(a, number_of_simulated_frbs) + 1) * Emin\n",
    "        else:\n",
    "            # Otherwise, use powerlaw distribution = 1 / (1 + Pareto)\n",
    "            a = gamma+1\n",
    "            x = Emin / rng.power(a, size=100_000)\n",
    "        # PDF of proposal distribution at the random variable's values\n",
    "        y_prop = a*(x/Emin)**gamma / Emin\n",
    "        # Random sampling of the proposal distribution's PDF\n",
    "        y_samp = rng.uniform(low=0, high=y_prop, size=number_of_simulated_frbs) / u.erg\n",
    "        # Reject random variable's values where target distribution is larger than the sampling values\n",
    "        x = x[y_samp < schechter_pdf_norm(x)][:nan_size]\n",
    "        # Resize the arrays to get the right number of bins\n",
    "        first_nan = np.argmax(dist)\n",
    "        dist[first_nan:first_nan+x.size] = x\n",
    "    return dist"
   ]
  },
  {
   "cell_type": "code",
   "execution_count": null,
   "id": "b2bee908-ab6b-4451-8fb6-c1fc26c535de",
   "metadata": {},
   "outputs": [],
   "source": []
  },
  {
   "cell_type": "code",
   "execution_count": 58,
   "id": "6711a545-9526-4393-a5bf-a5f02b297aaf",
   "metadata": {
    "tags": []
   },
   "outputs": [],
   "source": []
  },
  {
   "cell_type": "code",
   "execution_count": 64,
   "id": "f467c4d1-7324-4974-9e58-a4bc07012896",
   "metadata": {
    "tags": []
   },
   "outputs": [
    {
     "data": {
      "image/png": "[encoded data removed]",
      "text/plain": [
       "<Figure size 640x480 with 1 Axes>"
      ]
     },
     "metadata": {},
     "output_type": "display_data"
    }
   ],
   "source": [
    "gamma = -1.15\n",
    "#gamma = -0.95\n",
    "\n",
    "Emin = 1e37 * u.erg\n",
    "Echar = 2.38e41 * u.erg\n",
    "\n",
    "# Normalized Schechter distribution\n",
    "schechter_pdf = lambda E: (E / Echar)**gamma * np.exp(-E / Echar)\n",
    "norm = float(gammainc(gamma+1, (Emin/Echar).to(u.dimensionless_unscaled).value)) * Echar\n",
    "schechter_pdf_norm = lambda E: schechter_pdf(E) / norm\n",
    "\n",
    "dist = get_distribution_E(\n",
    "    Emin,\n",
    "    Echar,\n",
    "    gamma,\n",
    ")\n",
    "\n",
    "x = np.linspace(Emin/2, Emin*100, 1000)\n",
    "plt.plot(x, schechter_pdf_norm(x), 'r-')\n",
    "_ = plt.hist(dist, density=True, bins=x)\n",
    "\n",
    "plt.yscale('log')"
   ]
  },
  {
   "cell_type": "code",
   "execution_count": null,
   "id": "8f45dc64-a01b-4615-bb1b-7f90e36d6541",
   "metadata": {},
   "outputs": [],
   "source": []
  },
  {
   "cell_type": "code",
   "execution_count": null,
   "id": "172cb175-0187-4da6-a326-86367c1e9216",
   "metadata": {},
   "outputs": [],
   "source": []
  },
  {
   "cell_type": "code",
   "execution_count": null,
   "id": "857d34d1-ba89-496e-8b61-cdfbfb49dc86",
   "metadata": {},
   "outputs": [],
   "source": []
  },
  {
   "cell_type": "code",
   "execution_count": null,
   "id": "6eaf58c6-b40b-4b06-9e6a-beb66d00f1f8",
   "metadata": {},
   "outputs": [],
   "source": []
  },
  {
   "cell_type": "code",
   "execution_count": null,
   "id": "cf507a5b-3a36-4032-a669-c8153bd17680",
   "metadata": {},
   "outputs": [],
   "source": [
    "Emin / rng.power(a, size=100_000)"
   ]
  },
  {
   "cell_type": "code",
   "execution_count": 5,
   "id": "6876f9dd-f3eb-4bf1-8af7-ea8e6a3f9cca",
   "metadata": {
    "tags": []
   },
   "outputs": [],
   "source": [
    "from scipy.stats import pareto, powerlaw"
   ]
  },
  {
   "cell_type": "code",
   "execution_count": null,
   "id": "4b76727f-1c7c-4c92-8760-8bdb2aed7e66",
   "metadata": {},
   "outputs": [],
   "source": [
    "        x = (rng.pareto(-gamma-1, number_of_simulated_frbs) + 1) * Emin"
   ]
  },
  {
   "cell_type": "code",
   "execution_count": 55,
   "id": "3bc2b210-aa0c-4d9a-aa29-17d3bd21a999",
   "metadata": {
    "tags": []
   },
   "outputs": [
    {
     "data": {
      "image/png": "[encoded data removed]",
      "text/plain": [
       "<Figure size 640x480 with 1 Axes>"
      ]
     },
     "metadata": {},
     "output_type": "display_data"
    }
   ],
   "source": [
    "# Pareto\n",
    "\n",
    "gamma = -1.15\n",
    "#gamma = -0.95\n",
    "\n",
    "Emin = 26\n",
    "plt.axvline(Emin)\n",
    "\n",
    "a = -gamma - 1\n",
    "x = np.linspace(0.1, 1000, 100)\n",
    "y = a / x**(a+1)\n",
    "plt.plot(x, y, 'r-')\n",
    "\n",
    "_ = plt.hist(\n",
    "    (rng.pareto(a, size=100_000) + 1) * Emin,\n",
    "    bins=x,\n",
    "    alpha=0.3,\n",
    "    density=True\n",
    ")\n",
    "\n",
    "\n",
    "plt.yscale('log')"
   ]
  },
  {
   "cell_type": "code",
   "execution_count": 56,
   "id": "522c3650-564b-4706-9b68-296e55dab55e",
   "metadata": {
    "tags": []
   },
   "outputs": [
    {
     "data": {
      "image/png": "[encoded data removed]",
      "text/plain": [
       "<Figure size 640x480 with 1 Axes>"
      ]
     },
     "metadata": {},
     "output_type": "display_data"
    }
   ],
   "source": [
    "#gamma = -1.15\n",
    "gamma = -0.95\n",
    "\n",
    "a = gamma + 1\n",
    "y = a / x**(a+1)\n",
    "plt.plot(x, y, 'r-')\n",
    "\n",
    "_ = plt.hist(\n",
    "    Emin / rng.power(a, size=100_000),\n",
    "    bins=x,\n",
    "    alpha=0.3,\n",
    "    density=True\n",
    ")\n",
    "plt.axvline(Emin)\n",
    "\n",
    "plt.yscale('log')"
   ]
  },
  {
   "cell_type": "code",
   "execution_count": 26,
   "id": "6ebb174b-b604-4e6d-9bbc-3fa94586ae0f",
   "metadata": {
    "tags": []
   },
   "outputs": [
    {
     "data": {
      "image/png": "[encoded data removed]",
      "text/plain": [
       "<Figure size 640x480 with 1 Axes>"
      ]
     },
     "metadata": {},
     "output_type": "display_data"
    }
   ],
   "source": [
    "# Power\n",
    "\n",
    "#gamma = -1.15\n",
    "gamma = -0.95\n",
    "\n",
    "a = gamma + 1\n",
    "x = np.linspace(0.01, 1, 100)\n",
    "y = a * x**(a-1)\n",
    "plt.plot(x, y, 'r-')\n",
    "\n",
    "_ = plt.hist(\n",
    "    rng.power(a, size=100_000),\n",
    "    bins=x,\n",
    "    alpha=0.3,\n",
    "    density=True\n",
    ")\n",
    "\n",
    "rv = powerlaw(a)\n",
    "_ = plt.hist(\n",
    "    rv.rvs(size=100_000),\n",
    "    bins=x,\n",
    "    alpha=0.3,\n",
    "    density=True\n",
    ")\n",
    "\n",
    "plt.yscale('log')"
   ]
  },
  {
   "cell_type": "code",
   "execution_count": 24,
   "id": "eb0d8d22-7dca-4b51-9dad-890fd7c06791",
   "metadata": {
    "tags": []
   },
   "outputs": [
    {
     "data": {
      "text/plain": [
       "array([4.45625469e-01, 5.50553897e-03, 2.86318077e-03, 1.95092287e-03,\n",
       "       1.48555157e-03, 1.20233922e-03, 1.01144145e-03, 8.73853056e-04,\n",
       "       7.69872681e-04, 6.88463122e-04, 6.22954614e-04, 5.69076244e-04,\n",
       "       5.23964959e-04, 4.85628770e-04, 4.52638391e-04, 4.23941335e-04,\n",
       "       3.98745216e-04, 3.76441940e-04, 3.56556978e-04, 3.38714538e-04,\n",
       "       3.22613106e-04, 3.08007927e-04, 2.94698221e-04, 2.82517716e-04,\n",
       "       2.71327522e-04, 2.61010708e-04, 2.51468120e-04, 2.42615116e-04,\n",
       "       2.34379004e-04, 2.26696996e-04, 2.19514577e-04, 2.12784181e-04,\n",
       "       2.06464118e-04, 2.00517688e-04, 1.94912459e-04, 1.89619659e-04,\n",
       "       1.84613675e-04, 1.79871631e-04, 1.75373027e-04, 1.71099442e-04,\n",
       "       1.67034275e-04, 1.63162524e-04, 1.59470599e-04, 1.55946158e-04,\n",
       "       1.52577968e-04, 1.49355784e-04, 1.46270237e-04, 1.43312750e-04,\n",
       "       1.40475449e-04, 1.37751097e-04, 1.35133027e-04, 1.32615089e-04,\n",
       "       1.30191603e-04, 1.27857308e-04, 1.25607331e-04, 1.23437148e-04,\n",
       "       1.21342555e-04, 1.19319638e-04, 1.17364751e-04, 1.15474491e-04,\n",
       "       1.13645681e-04, 1.11875347e-04, 1.10160707e-04, 1.08499152e-04,\n",
       "       1.06888234e-04, 1.05325655e-04, 1.03809254e-04, 1.02336998e-04,\n",
       "       1.00906970e-04, 9.95173643e-05, 9.81664778e-05, 9.68527012e-05,\n",
       "       9.55745135e-05, 9.43304764e-05, 9.31192281e-05, 9.19394786e-05,\n",
       "       9.07900052e-05, 8.96696475e-05, 8.85773042e-05, 8.75119291e-05,\n",
       "       8.64725275e-05, 8.54581531e-05, 8.44679056e-05, 8.35009272e-05,\n",
       "       8.25564006e-05, 8.16335465e-05, 8.07316212e-05, 7.98499151e-05,\n",
       "       7.89877501e-05, 7.81444785e-05, 7.73194809e-05, 7.65121647e-05,\n",
       "       7.57219630e-05, 7.49483328e-05, 7.41907538e-05, 7.34487277e-05,\n",
       "       7.27217763e-05, 7.20094412e-05, 7.13112824e-05, 7.06268772e-05])"
      ]
     },
     "execution_count": 24,
     "metadata": {},
     "output_type": "execute_result"
    }
   ],
   "source": [
    "y"
   ]
  },
  {
   "cell_type": "code",
   "execution_count": null,
   "id": "2cc03676-4408-4da5-a5f8-4f55eaf4e477",
   "metadata": {},
   "outputs": [],
   "source": []
  },
  {
   "cell_type": "code",
   "execution_count": null,
   "id": "4e3cb8ce-bef9-4571-b032-6f31afc8338a",
   "metadata": {},
   "outputs": [],
   "source": []
  },
  {
   "cell_type": "code",
   "execution_count": null,
   "id": "bf11a2ba-4ab6-4b61-ba36-46e6a1307988",
   "metadata": {},
   "outputs": [],
   "source": []
  },
  {
   "cell_type": "code",
   "execution_count": null,
   "id": "dc8a0cec-7d54-4e7f-9911-84d53360b991",
   "metadata": {},
   "outputs": [],
   "source": []
  },
  {
   "cell_type": "code",
   "execution_count": 26,
   "id": "d9c2c2dc-2545-4eab-b75f-da16c63e9cc0",
   "metadata": {
    "tags": []
   },
   "outputs": [],
   "source": [
    "number_of_simulated_frbs = int(1e5)\n",
    "number_of_simualtions = 10\n",
    "\n",
    "rate_list = np.array([\n",
    "    run_simulation(\n",
    "        telescope_name='chime',\n",
    "        simulate_lensed_frbs = False,\n",
    "        verbose=False\n",
    "    ).to(1/u.yr).value for jj in range(number_of_simualtions)\n",
    "]) / u.yr"
   ]
  },
  {
   "cell_type": "code",
   "execution_count": 27,
   "id": "e09d2a53-6ad8-463e-9fe7-b69e3ab85f9e",
   "metadata": {
    "tags": []
   },
   "outputs": [
    {
     "data": {
      "text/plain": [
       "(<Quantity 747.95786262 1 / yr>, <Quantity 29.89234245 1 / yr>)"
      ]
     },
     "execution_count": 27,
     "metadata": {},
     "output_type": "execute_result"
    }
   ],
   "source": [
    "rate_list.mean(), rate_list.std()"
   ]
  },
  {
   "cell_type": "code",
   "execution_count": 31,
   "id": "c55d0fa1-2153-43bb-a0ab-d0312c7bda4b",
   "metadata": {
    "tags": []
   },
   "outputs": [
    {
     "data": {
      "text/latex": [
       "$3.9965276 \\; \\mathrm{}$"
      ],
      "text/plain": [
       "<Quantity 3.9965276>"
      ]
     },
     "execution_count": 31,
     "metadata": {},
     "output_type": "execute_result"
    }
   ],
   "source": [
    "rate_list.std() / rate_list.mean() * 100"
   ]
  },
  {
   "cell_type": "code",
   "execution_count": null,
   "id": "3d8f86c6-c2d0-4358-8faf-f9ef70b83c7e",
   "metadata": {},
   "outputs": [],
   "source": []
  },
  {
   "cell_type": "code",
   "execution_count": null,
   "id": "be44fe40-899a-4eb8-882a-540f0e8ef406",
   "metadata": {},
   "outputs": [],
   "source": []
  },
  {
   "cell_type": "code",
   "execution_count": null,
   "id": "ecc590e6-2923-419d-b988-438d5de648dc",
   "metadata": {},
   "outputs": [],
   "source": []
  },
  {
   "cell_type": "code",
   "execution_count": null,
   "id": "2461e0f7-f55e-4fba-b744-a0c9ed3951c3",
   "metadata": {},
   "outputs": [],
   "source": []
  },
  {
   "cell_type": "code",
   "execution_count": null,
   "id": "c7ff45dc-f9d3-4cc4-9ee6-99052e88b0c0",
   "metadata": {},
   "outputs": [],
   "source": [
    "# Detection rate"
   ]
  },
  {
   "cell_type": "code",
   "execution_count": 87,
   "id": "83a56f90-19a4-4023-baf8-de8308002c91",
   "metadata": {
    "tags": []
   },
   "outputs": [
    {
     "data": {
      "text/plain": [
       "(<Quantity 2.32458234 1 / yr>, <Quantity 10.46062053 1 / yr>)"
      ]
     },
     "execution_count": 87,
     "metadata": {},
     "output_type": "execute_result"
    }
   ],
   "source": [
    "#FAST (https://iopscience.iop.org/article/10.3847/2041-8213/abe7f0)\n",
    "n_frbs = 4\n",
    "obs_time = (1667+9) * u.hour\n",
    "rate = (n_frbs / obs_time).to(1/u.yr)\n",
    "err = (np.sqrt(n_frbs) / obs_time).to(1/u.yr)\n",
    "\n",
    "rate/9, err\n",
    "\n",
    "#correct for multibeam"
   ]
  },
  {
   "cell_type": "code",
   "execution_count": 90,
   "id": "fa056eb5-7642-469f-aed1-3e6d8155e579",
   "metadata": {
    "tags": []
   },
   "outputs": [
    {
     "data": {
      "text/plain": [
       "(<Quantity 0.88976857 1 / yr>, <Quantity 1.19374981 1 / yr>)"
      ]
     },
     "execution_count": 90,
     "metadata": {},
     "output_type": "execute_result"
    }
   ],
   "source": [
    "# ASKAP (https://www.nature.com/articles/s41586-018-0588-y)\n",
    "n_frbs = 20\n",
    "obs_time = (32_840) * u.hour\n",
    "rate = (n_frbs / obs_time).to(1/u.yr)\n",
    "err = (np.sqrt(n_frbs) / obs_time).to(1/u.yr)\n",
    "\n",
    "rate/6, err\n",
    "\n",
    "#correct for fly-eyes mode\n",
    "# see also https://www.cambridge.org/core/journals/publications-of-the-astronomical-society-of-australia/article/performance-and-calibration-of-the-craft-flys-eye-fast-radio-burst-survey/6E37666300C2CBC3E208BBFA632E73ED"
   ]
  },
  {
   "cell_type": "code",
   "execution_count": null,
   "id": "676cb9e3-0806-4276-bd1d-5ac9a2990a7c",
   "metadata": {},
   "outputs": [],
   "source": [
    "# add Aperitif, see Connor\n",
    "# add UTMOST and others from the catalog"
   ]
  },
  {
   "cell_type": "code",
   "execution_count": null,
   "id": "3173ed2a-2ab4-434a-b4d6-81c641a6eb79",
   "metadata": {},
   "outputs": [],
   "source": []
  },
  {
   "cell_type": "code",
   "execution_count": null,
   "id": "5b34b3e2-6923-4360-81d2-2f9664dc532f",
   "metadata": {},
   "outputs": [],
   "source": []
  },
  {
   "cell_type": "code",
   "execution_count": null,
   "id": "c70ed2e1",
   "metadata": {},
   "outputs": [],
   "source": [
    "# Follow-up\n",
    "from astropy.coordinates import AltAz, EarthLocation, SkyCoord\n",
    "from astropy.time import Time"
   ]
  },
  {
   "cell_type": "code",
   "execution_count": 4,
   "id": "a7c6ce6f",
   "metadata": {},
   "outputs": [],
   "source": [
    "source_low_dec = SkyCoord(ra=0*u.deg, dec=-10*u.deg)\n",
    "source_mid_dec = SkyCoord(ra=0*u.deg, dec=45*u.deg)\n",
    "source_high_dec = SkyCoord(ra=0*u.deg, dec=89*u.deg)"
   ]
  },
  {
   "cell_type": "code",
   "execution_count": 5,
   "id": "4fc7c46e",
   "metadata": {},
   "outputs": [],
   "source": [
    "gbt = EarthLocation.of_site('GBT')\n",
    "gmrt = EarthLocation.of_site('GMRT')\n",
    "eff = EarthLocation.of_site('Effelsberg')"
   ]
  },
  {
   "cell_type": "code",
   "execution_count": 26,
   "id": "be5f2a98",
   "metadata": {},
   "outputs": [
    {
     "name": "stdout",
     "output_type": "stream",
     "text": [
      "90.0% of time the source can be observed\n"
     ]
    },
    {
     "data": {
      "image/png": "[encoded data removed]",
      "text/plain": [
       "<Figure size 640x480 with 1 Axes>"
      ]
     },
     "metadata": {},
     "output_type": "display_data"
    }
   ],
   "source": [
    "# Low dec\n",
    "ha = np.linspace(-12, 12, 100)\n",
    "t = ha*u.hour + Time('2012-7-13 00:00:00')\n",
    "y_t = np.zeros_like(ha) + np.nan\n",
    "\n",
    "# GBT\n",
    "alt_gbt = source_low_dec.transform_to(AltAz(obstime=t, location=gbt)).alt\n",
    "idx = alt_gbt > 0\n",
    "x = ha.copy()\n",
    "x[~idx] = np.nan\n",
    "y = alt_gbt.value.copy()\n",
    "y[~idx] = np.nan\n",
    "plt.plot(x, y, 'b-', label='GBT')\n",
    "y_t[idx] = 0\n",
    "\n",
    "# GMRT\n",
    "alt_gmrt = source_low_dec.transform_to(AltAz(obstime=t, location=gmrt)).alt\n",
    "idx = alt_gmrt > 0\n",
    "x = ha.copy()\n",
    "x[~idx] = np.nan\n",
    "y = alt_gmrt.value.copy()\n",
    "y[~idx] = np.nan\n",
    "plt.plot(x, y, 'r-', label='GMRT')\n",
    "y_t[idx] = 0\n",
    "\n",
    "# Effelsberg\n",
    "alt_eff = source_low_dec.transform_to(AltAz(obstime=t, location=eff)).alt\n",
    "idx = alt_eff > 0\n",
    "x = ha.copy()\n",
    "x[~idx] = np.nan\n",
    "y = alt_eff.value.copy()\n",
    "y[~idx] = np.nan\n",
    "plt.plot(x, y, 'g-', label='Effelsberg')\n",
    "y_t[idx] = 0\n",
    "\n",
    "plt.plot(ha, y_t, \"k-\")\n",
    "plt.legend()\n",
    "plt.title('Dec = -10 deg')\n",
    "\n",
    "print(f'{y_t[~np.isnan(y_t)].size / y_t.size * 100:.1f}% of time the source can be observed')"
   ]
  },
  {
   "cell_type": "code",
   "execution_count": 27,
   "id": "cc707d24",
   "metadata": {},
   "outputs": [
    {
     "name": "stdout",
     "output_type": "stream",
     "text": [
      "100.0% of time the source can be observed\n"
     ]
    },
    {
     "data": {
      "image/png": "[encoded data removed]",
      "text/plain": [
       "<Figure size 640x480 with 1 Axes>"
      ]
     },
     "metadata": {},
     "output_type": "display_data"
    }
   ],
   "source": [
    "# Mid dec\n",
    "ha = np.linspace(-12, 12, 100)\n",
    "t = ha*u.hour + Time('2012-7-13 00:00:00')\n",
    "y_t = np.zeros_like(ha) + np.nan\n",
    "\n",
    "# GBT\n",
    "alt_gbt = source_mid_dec.transform_to(AltAz(obstime=t, location=gbt)).alt\n",
    "idx = alt_gbt > 0\n",
    "x = ha.copy()\n",
    "x[~idx] = np.nan\n",
    "y = alt_gbt.value.copy()\n",
    "y[~idx] = np.nan\n",
    "plt.plot(x, y, 'b-', label='GBT')\n",
    "y_t[idx] = 0\n",
    "\n",
    "# GMRT\n",
    "alt_gmrt = source_mid_dec.transform_to(AltAz(obstime=t, location=gmrt)).alt\n",
    "idx = alt_gmrt > 0\n",
    "x = ha.copy()\n",
    "x[~idx] = np.nan\n",
    "y = alt_gmrt.value.copy()\n",
    "y[~idx] = np.nan\n",
    "plt.plot(x, y, 'r-', label='GMRT')\n",
    "y_t[idx] = 0\n",
    "\n",
    "# Effelsberg\n",
    "alt_eff = source_mid_dec.transform_to(AltAz(obstime=t, location=eff)).alt\n",
    "idx = alt_eff > 0\n",
    "x = ha.copy()\n",
    "x[~idx] = np.nan\n",
    "y = alt_eff.value.copy()\n",
    "y[~idx] = np.nan\n",
    "plt.plot(x, y, 'g-', label='Effelsberg')\n",
    "y_t[idx] = 0\n",
    "\n",
    "plt.plot(ha, y_t, \"k-\")\n",
    "plt.legend()\n",
    "plt.title('Dec = 45 deg')\n",
    "\n",
    "print(f'{y_t[~np.isnan(y_t)].size / y_t.size * 100:.1f}% of time the source can be observed')"
   ]
  },
  {
   "cell_type": "code",
   "execution_count": 28,
   "id": "f23544bf",
   "metadata": {},
   "outputs": [
    {
     "name": "stdout",
     "output_type": "stream",
     "text": [
      "100.0% of time the source can be observed\n"
     ]
    },
    {
     "data": {
      "image/png": "[encoded data removed]",
      "text/plain": [
       "<Figure size 640x480 with 1 Axes>"
      ]
     },
     "metadata": {},
     "output_type": "display_data"
    }
   ],
   "source": [
    "# High dec\n",
    "ha = np.linspace(-12, 12, 100)\n",
    "t = ha*u.hour + Time('2012-7-13 00:00:00')\n",
    "y_t = np.zeros_like(ha) + np.nan\n",
    "\n",
    "# GBT\n",
    "alt_gbt = source_high_dec.transform_to(AltAz(obstime=t, location=gbt)).alt\n",
    "idx = alt_gbt > 0\n",
    "x = ha.copy()\n",
    "x[~idx] = np.nan\n",
    "y = alt_gbt.value.copy()\n",
    "y[~idx] = np.nan\n",
    "plt.plot(x, y, 'b-', label='GBT')\n",
    "y_t[idx] = 0\n",
    "\n",
    "# GMRT\n",
    "alt_gmrt = source_high_dec.transform_to(AltAz(obstime=t, location=gmrt)).alt\n",
    "idx = alt_gmrt > 0\n",
    "x = ha.copy()\n",
    "x[~idx] = np.nan\n",
    "y = alt_gmrt.value.copy()\n",
    "y[~idx] = np.nan\n",
    "plt.plot(x, y, 'r-', label='GMRT')\n",
    "y_t[idx] = 0\n",
    "\n",
    "# Effelsberg\n",
    "alt_eff = source_high_dec.transform_to(AltAz(obstime=t, location=eff)).alt\n",
    "idx = alt_eff > 0\n",
    "x = ha.copy()\n",
    "x[~idx] = np.nan\n",
    "y = alt_eff.value.copy()\n",
    "y[~idx] = np.nan\n",
    "plt.plot(x, y, 'g-', label='Effelsberg')\n",
    "y_t[idx] = 0\n",
    "\n",
    "plt.plot(ha, y_t, \"k-\")\n",
    "plt.legend()\n",
    "plt.title('Dec = 89 deg')\n",
    "\n",
    "print(f'{y_t[~np.isnan(y_t)].size / y_t.size * 100:.1f}% of time the source can be observed')"
   ]
  },
  {
   "cell_type": "code",
   "execution_count": null,
   "id": "a126f7ea",
   "metadata": {},
   "outputs": [],
   "source": []
  },
  {
   "cell_type": "code",
   "execution_count": null,
   "id": "d9fc2dd7",
   "metadata": {},
   "outputs": [],
   "source": []
  },
  {
   "cell_type": "code",
   "execution_count": null,
   "id": "f5df9157",
   "metadata": {},
   "outputs": [],
   "source": []
  },
  {
   "cell_type": "code",
   "execution_count": 1125,
   "id": "e41b31b6",
   "metadata": {},
   "outputs": [
    {
     "data": {
      "text/plain": [
       "<matplotlib.legend.Legend at 0x7efc277a3cd0>"
      ]
     },
     "execution_count": 1125,
     "metadata": {},
     "output_type": "execute_result"
    },
    {
     "data": {
      "image/png": "[encoded data removed]",
      "text/plain": [
       "<Figure size 640x480 with 1 Axes>"
      ]
     },
     "metadata": {},
     "output_type": "display_data"
    }
   ],
   "source": [
    "# FRB radial distribution within host galaxies\n",
    "\n",
    "#https://arxiv.org/pdf/2009.10747.pdf\n",
    "#https://arxiv.org/pdf/2302.14782.pdf\n",
    "#https://arxiv.org/pdf/2108.01282.pdf\n",
    "#https://arxiv.org/pdf/2301.01000.pdf\n",
    "\n",
    "# i-band and r-band\n",
    "offset = np.array([0.6, 5.5, 3.4, 1.2, 2.0, 27, 6.6, 11, 3.2, 1.9, 11, 3.0, 9.87, 3.80, 10.8, 5.7, 5.9, 2.3])\n",
    "reff = np.array([0.7, 3.6, 2.7, 7.2, 4.4, 3.3, 2.8, 2.1, 2.9, 3.9, 5.5, 1.6, 2.67, 6.64, 5.80, 1.78, 7.58, 2.7])\n",
    "\n",
    "r = np.sort(offset / reff)\n",
    "F = np.arange(r.size)/r.size\n",
    "\n",
    "from scipy import stats\n",
    "y_hist, bins = np.histogram(r, bins=np.arange(10))\n",
    "x_hist = bins[:-1]\n",
    "plt.step(x_hist, y_hist/y_hist.max(), color='k')\n",
    "\n",
    "\n",
    "x = np.linspace(x_hist.min(), x_hist.max(), 100)\n",
    "y = np.exp(-x)\n",
    "#y = y / y.max() * 7\n",
    "plt.plot(x, y, 'r-', label='exp(dR)')\n",
    "plt.xlabel('dR = offset / Reff')\n",
    "plt.ylabel('N (normalized)')\n",
    "plt.legend()"
   ]
  },
  {
   "cell_type": "code",
   "execution_count": null,
   "id": "2e8b7341",
   "metadata": {},
   "outputs": [],
   "source": []
  },
  {
   "cell_type": "code",
   "execution_count": null,
   "id": "a49fa502",
   "metadata": {},
   "outputs": [],
   "source": []
  },
  {
   "cell_type": "code",
   "execution_count": null,
   "id": "056f7a6e",
   "metadata": {},
   "outputs": [],
   "source": []
  },
  {
   "cell_type": "code",
   "execution_count": 8,
   "id": "da2109a2-3c4c-4f61-8b6a-b336ee3028f3",
   "metadata": {
    "tags": []
   },
   "outputs": [],
   "source": []
  },
  {
   "cell_type": "code",
   "execution_count": null,
   "id": "3353542e-84de-4f84-a60c-2ca76cc0f768",
   "metadata": {},
   "outputs": [],
   "source": []
  },
  {
   "cell_type": "code",
   "execution_count": null,
   "id": "f81bdd69-60e1-464f-ac71-6a3ebca956e8",
   "metadata": {},
   "outputs": [],
   "source": []
  },
  {
   "cell_type": "code",
   "execution_count": null,
   "id": "ea92540b-5c21-4f54-b842-5b35d3995f4b",
   "metadata": {},
   "outputs": [],
   "source": []
  },
  {
   "cell_type": "code",
   "execution_count": 1,
   "id": "954bf913-bec5-49b8-a036-3aaafa38a376",
   "metadata": {
    "tags": []
   },
   "outputs": [],
   "source": [
    "import sys\n",
    "sys.path.insert(0, \"/arc/home/michilli/ARSpy/\")"
   ]
  },
  {
   "cell_type": "code",
   "execution_count": 1,
   "id": "764c9913-56b5-48f6-9f5b-462f6e1eb108",
   "metadata": {
    "tags": []
   },
   "outputs": [],
   "source": [
    "import sys\n",
    "sys.path.append(\"/arc/home/michilli/.local/lib/python3.8/site-packages/\")"
   ]
  },
  {
   "cell_type": "code",
   "execution_count": 2,
   "id": "25cf322c-4e91-456c-8ffd-2c932add18bc",
   "metadata": {
    "tags": []
   },
   "outputs": [
    {
     "data": {
      "text/plain": [
       "<module 'arspy' from '/arc/home/michilli/.local/lib/python3.8/site-packages/arspy/__init__.py'>"
      ]
     },
     "execution_count": 2,
     "metadata": {},
     "output_type": "execute_result"
    }
   ],
   "source": [
    "import numpy as np\n",
    "from arspy.ars import adaptive_rejection_sampling\n",
    "import arspy\n",
    "arspy"
   ]
  },
  {
   "cell_type": "code",
   "execution_count": 11,
   "id": "70b97ac5-c3d2-4c7d-86bc-de4ad40600fa",
   "metadata": {
    "tags": []
   },
   "outputs": [
    {
     "data": {
      "text/plain": [
       "[12.861100329233185,\n",
       " 9.241582899926813,\n",
       " 5.879467523159431,\n",
       " 13.771304112580912,\n",
       " 6.769463372110595,\n",
       " 28.629075515917624,\n",
       " 13.878310332472786,\n",
       " 41.59553148937909,\n",
       " 11.339655566858509,\n",
       " 6.0358931232771775]"
      ]
     },
     "execution_count": 11,
     "metadata": {},
     "output_type": "execute_result"
    }
   ],
   "source": [
    "    gamma = -1.3\n",
    "    Echar=30\n",
    "    Emin=5\n",
    "    \"\"\"Simulated distribution of a Schechter function.\"\"\"\n",
    "    schechter_logpdf = lambda E: np.log((E / Echar)**gamma / Echar * np.exp(-E / Echar))\n",
    "    adaptive_rejection_sampling(\n",
    "        logpdf = schechter_logpdf,  # Schechter function\n",
    "        a = Emin,  # Lower initial condition\n",
    "        b = Echar,  # Upper initial condition\n",
    "        domain = (Emin, float(\"inf\")),  # Domain of the Energy\n",
    "        n_samples = 10,\n",
    "        seed=2911167007\n",
    "    )"
   ]
  },
  {
   "cell_type": "code",
   "execution_count": null,
   "id": "d5b4b1ac-66df-4bf7-b4b1-2ba6e8882c56",
   "metadata": {
    "tags": []
   },
   "outputs": [],
   "source": []
  },
  {
   "cell_type": "code",
   "execution_count": null,
   "id": "5382cc09-25c3-49a4-9c47-5d5776369d60",
   "metadata": {},
   "outputs": [],
   "source": []
  },
  {
   "cell_type": "code",
   "execution_count": null,
   "id": "c22d0a35-66c4-49f0-84da-5d65c9416897",
   "metadata": {},
   "outputs": [],
   "source": []
  },
  {
   "cell_type": "code",
   "execution_count": 333,
   "id": "d0fc188b-545b-43ee-b0e4-c75f662dfde7",
   "metadata": {
    "tags": []
   },
   "outputs": [],
   "source": []
  },
  {
   "cell_type": "code",
   "execution_count": 334,
   "id": "117355aa-744c-4f7a-a06a-f8d313c9b686",
   "metadata": {
    "tags": []
   },
   "outputs": [],
   "source": []
  },
  {
   "cell_type": "code",
   "execution_count": null,
   "id": "a42d977b-5225-41c9-98aa-e29f886bbcfc",
   "metadata": {},
   "outputs": [],
   "source": []
  },
  {
   "cell_type": "code",
   "execution_count": null,
   "id": "13b8553a-072d-443d-a720-d98cefbdd7e2",
   "metadata": {
    "tags": []
   },
   "outputs": [],
   "source": []
  },
  {
   "cell_type": "code",
   "execution_count": 335,
   "id": "bc1aab6f-a1d2-4676-87e5-8f829e0c0b3f",
   "metadata": {
    "tags": []
   },
   "outputs": [],
   "source": [
    "z_min = 0.3\n",
    "z_max = 3."
   ]
  },
  {
   "cell_type": "code",
   "execution_count": 340,
   "id": "f9ed90b0-e21a-4560-820b-f98d0b550fd0",
   "metadata": {
    "tags": []
   },
   "outputs": [],
   "source": []
  },
  {
   "cell_type": "code",
   "execution_count": 342,
   "id": "45a08afc-49ac-4e82-90ea-0cbe054c12e8",
   "metadata": {
    "tags": []
   },
   "outputs": [],
   "source": []
  },
  {
   "cell_type": "code",
   "execution_count": 343,
   "id": "cbe26dcc-690b-44c0-8120-5d3ba4ebff7c",
   "metadata": {
    "tags": []
   },
   "outputs": [
    {
     "data": {
      "text/plain": [
       "[<matplotlib.lines.Line2D at 0x7f776f61caf0>]"
      ]
     },
     "execution_count": 343,
     "metadata": {},
     "output_type": "execute_result"
    },
    {
     "data": {
      "image/png": "[encoded data removed]",
      "text/plain": [
       "<Figure size 640x480 with 1 Axes>"
      ]
     },
     "metadata": {},
     "output_type": "display_data"
    }
   ],
   "source": []
  },
  {
   "cell_type": "code",
   "execution_count": null,
   "id": "43d8cbc1-c0f9-4a33-b830-474f8f3fe37e",
   "metadata": {},
   "outputs": [],
   "source": []
  },
  {
   "cell_type": "code",
   "execution_count": null,
   "id": "1ccdbc04-cb2a-4016-8fd1-b284d029a72c",
   "metadata": {},
   "outputs": [],
   "source": []
  },
  {
   "cell_type": "code",
   "execution_count": null,
   "id": "487c4573-bcc0-4856-83c0-6251f3416e5a",
   "metadata": {},
   "outputs": [],
   "source": []
  }
 ],
 "metadata": {
  "kernelspec": {
   "display_name": "Python 3 (ipykernel)",
   "language": "python",
   "name": "python3"
  },
  "language_info": {
   "codemirror_mode": {
    "name": "ipython",
    "version": 3
   },
   "file_extension": ".py",
   "mimetype": "text/x-python",
   "name": "python",
   "nbconvert_exporter": "python",
   "pygments_lexer": "ipython3",
   "version": "3.8.16"
  }
 },
 "nbformat": 4,
 "nbformat_minor": 5
}
